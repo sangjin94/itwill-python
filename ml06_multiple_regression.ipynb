{
  "nbformat": 4,
  "nbformat_minor": 0,
  "metadata": {
    "colab": {
      "name": "ml06_multiple_regression.ipynb",
      "provenance": [],
      "collapsed_sections": [],
      "authorship_tag": "ABX9TyN3Lac6sagyW+MEDh8YlVEb",
      "include_colab_link": true
    },
    "kernelspec": {
      "name": "python3",
      "display_name": "Python 3"
    },
    "language_info": {
      "name": "python"
    }
  },
  "cells": [
    {
      "cell_type": "markdown",
      "metadata": {
        "id": "view-in-github",
        "colab_type": "text"
      },
      "source": [
        "<a href=\"https://colab.research.google.com/github/sangjin94/itwill-python/blob/main/ml06_multiple_regression.ipynb\" target=\"_parent\"><img src=\"https://colab.research.google.com/assets/colab-badge.svg\" alt=\"Open In Colab\"/></a>"
      ]
    },
    {
      "cell_type": "markdown",
      "metadata": {
        "id": "EHAIedEp7o_C"
      },
      "source": [
        "# 다중 선형 회귀\n",
        "\n",
        "특성(독립변수)이 여러개 인 선형 회귀 모델 \n",
        "  * 1차항만 고려한 선형 회귀\n",
        "  * 고차항들을 포함하는 선형 회귀\n",
        "  * 규제(Regularization): overfitting(과대적합)을 줄이기 위한 기법"
      ]
    },
    {
      "cell_type": "markdown",
      "metadata": {
        "id": "AQW_WdbR8VdW"
      },
      "source": [
        "# Imports"
      ]
    },
    {
      "cell_type": "code",
      "metadata": {
        "id": "lvfgMTC38XCe"
      },
      "source": [
        "import numpy as np\n",
        "import pandas as pd\n",
        "import matplotlib.pyplot as plt\n",
        "import seaborn as sns\n",
        "\n",
        "from sklearn.model_selection import train_test_split\n",
        "from sklearn.linear_model import LinearRegression\n",
        "from sklearn.preprocessing import PolynomialFeatures, StandardScaler\n",
        "from sklearn.pipeline import Pipeline\n",
        "from sklearn.metrics import r2_score,mean_squared_error"
      ],
      "execution_count": 1,
      "outputs": []
    },
    {
      "cell_type": "markdown",
      "metadata": {
        "id": "AGI2spSC9lpV"
      },
      "source": [
        "# 데이터 준비"
      ]
    },
    {
      "cell_type": "code",
      "metadata": {
        "id": "KK69h5l79Lae"
      },
      "source": [
        "# 데이터 셋 github URL\n",
        "fish_csv = 'https://github.com/rickiepark/hg-mldl/raw/master/fish.csv'"
      ],
      "execution_count": 4,
      "outputs": []
    },
    {
      "cell_type": "code",
      "metadata": {
        "id": "YZBIeK7K7kG5"
      },
      "source": [
        "# DataFrame 생성\n",
        "fish= pd.read_csv(fish_csv)"
      ],
      "execution_count": 5,
      "outputs": []
    },
    {
      "cell_type": "code",
      "metadata": {
        "colab": {
          "base_uri": "https://localhost:8080/"
        },
        "id": "elLUmZWl9vJH",
        "outputId": "eb86a340-854c-459c-ac3e-4459f6b1d4a5"
      },
      "source": [
        "fish.info()"
      ],
      "execution_count": 7,
      "outputs": [
        {
          "output_type": "stream",
          "name": "stdout",
          "text": [
            "<class 'pandas.core.frame.DataFrame'>\n",
            "RangeIndex: 159 entries, 0 to 158\n",
            "Data columns (total 6 columns):\n",
            " #   Column    Non-Null Count  Dtype  \n",
            "---  ------    --------------  -----  \n",
            " 0   Species   159 non-null    object \n",
            " 1   Weight    159 non-null    float64\n",
            " 2   Length    159 non-null    float64\n",
            " 3   Diagonal  159 non-null    float64\n",
            " 4   Height    159 non-null    float64\n",
            " 5   Width     159 non-null    float64\n",
            "dtypes: float64(5), object(1)\n",
            "memory usage: 7.6+ KB\n"
          ]
        }
      ]
    },
    {
      "cell_type": "markdown",
      "metadata": {
        "id": "KNQ9cLLE-AxS"
      },
      "source": [
        "선형 회귀 목적: 농어(Perch)의 무게(Weight)를 농어의 다른 특성들(Length, Diagonal, Height,Width) 로 예측\n",
        "\n",
        "Weight ~ Length + Diagonal + Height + Width"
      ]
    },
    {
      "cell_type": "code",
      "metadata": {
        "colab": {
          "base_uri": "https://localhost:8080/",
          "height": 204
        },
        "id": "MJ-hcAz1-AL1",
        "outputId": "98c8169f-5032-4fc0-ade3-b73a2db13efe"
      },
      "source": [
        "perch= fish[fish.Species=='Perch'] # 농어(Perch)만 선택\n",
        "perch.head()"
      ],
      "execution_count": 8,
      "outputs": [
        {
          "output_type": "execute_result",
          "data": {
            "text/html": [
              "<div>\n",
              "<style scoped>\n",
              "    .dataframe tbody tr th:only-of-type {\n",
              "        vertical-align: middle;\n",
              "    }\n",
              "\n",
              "    .dataframe tbody tr th {\n",
              "        vertical-align: top;\n",
              "    }\n",
              "\n",
              "    .dataframe thead th {\n",
              "        text-align: right;\n",
              "    }\n",
              "</style>\n",
              "<table border=\"1\" class=\"dataframe\">\n",
              "  <thead>\n",
              "    <tr style=\"text-align: right;\">\n",
              "      <th></th>\n",
              "      <th>Species</th>\n",
              "      <th>Weight</th>\n",
              "      <th>Length</th>\n",
              "      <th>Diagonal</th>\n",
              "      <th>Height</th>\n",
              "      <th>Width</th>\n",
              "    </tr>\n",
              "  </thead>\n",
              "  <tbody>\n",
              "    <tr>\n",
              "      <th>72</th>\n",
              "      <td>Perch</td>\n",
              "      <td>5.9</td>\n",
              "      <td>8.4</td>\n",
              "      <td>8.8</td>\n",
              "      <td>2.1120</td>\n",
              "      <td>1.4080</td>\n",
              "    </tr>\n",
              "    <tr>\n",
              "      <th>73</th>\n",
              "      <td>Perch</td>\n",
              "      <td>32.0</td>\n",
              "      <td>13.7</td>\n",
              "      <td>14.7</td>\n",
              "      <td>3.5280</td>\n",
              "      <td>1.9992</td>\n",
              "    </tr>\n",
              "    <tr>\n",
              "      <th>74</th>\n",
              "      <td>Perch</td>\n",
              "      <td>40.0</td>\n",
              "      <td>15.0</td>\n",
              "      <td>16.0</td>\n",
              "      <td>3.8240</td>\n",
              "      <td>2.4320</td>\n",
              "    </tr>\n",
              "    <tr>\n",
              "      <th>75</th>\n",
              "      <td>Perch</td>\n",
              "      <td>51.5</td>\n",
              "      <td>16.2</td>\n",
              "      <td>17.2</td>\n",
              "      <td>4.5924</td>\n",
              "      <td>2.6316</td>\n",
              "    </tr>\n",
              "    <tr>\n",
              "      <th>76</th>\n",
              "      <td>Perch</td>\n",
              "      <td>70.0</td>\n",
              "      <td>17.4</td>\n",
              "      <td>18.5</td>\n",
              "      <td>4.5880</td>\n",
              "      <td>2.9415</td>\n",
              "    </tr>\n",
              "  </tbody>\n",
              "</table>\n",
              "</div>"
            ],
            "text/plain": [
              "   Species  Weight  Length  Diagonal  Height   Width\n",
              "72   Perch     5.9     8.4       8.8  2.1120  1.4080\n",
              "73   Perch    32.0    13.7      14.7  3.5280  1.9992\n",
              "74   Perch    40.0    15.0      16.0  3.8240  2.4320\n",
              "75   Perch    51.5    16.2      17.2  4.5924  2.6316\n",
              "76   Perch    70.0    17.4      18.5  4.5880  2.9415"
            ]
          },
          "metadata": {},
          "execution_count": 8
        }
      ]
    },
    {
      "cell_type": "code",
      "metadata": {
        "id": "vSzb6vnA-_Oj"
      },
      "source": [
        "# 특성(features), 독립 변수\n",
        "X =perch[['Length','Diagonal','Height','Width']].values"
      ],
      "execution_count": 11,
      "outputs": []
    },
    {
      "cell_type": "code",
      "metadata": {
        "colab": {
          "base_uri": "https://localhost:8080/"
        },
        "id": "Ar1QW920_Zoi",
        "outputId": "74dc4100-038c-43b7-8554-e41375b926dc"
      },
      "source": [
        "X.shape"
      ],
      "execution_count": 13,
      "outputs": [
        {
          "output_type": "execute_result",
          "data": {
            "text/plain": [
              "(56, 4)"
            ]
          },
          "metadata": {},
          "execution_count": 13
        }
      ]
    },
    {
      "cell_type": "code",
      "metadata": {
        "id": "liUFCp4x_PWh"
      },
      "source": [
        "# label, target, 종속 변수\n",
        "y= perch['Weight'].values"
      ],
      "execution_count": 15,
      "outputs": []
    },
    {
      "cell_type": "markdown",
      "metadata": {
        "id": "93bvaOeBAVLL"
      },
      "source": [
        "# train/test split"
      ]
    },
    {
      "cell_type": "code",
      "metadata": {
        "id": "d8kol3rIAX91"
      },
      "source": [
        "X_train,X_test,y_train,y_test=train_test_split(X,y,\n",
        "                                               test_size=0.25,\n",
        "                                               random_state=42)"
      ],
      "execution_count": 16,
      "outputs": []
    },
    {
      "cell_type": "code",
      "metadata": {
        "colab": {
          "base_uri": "https://localhost:8080/"
        },
        "id": "hgcX5SrNAmTy",
        "outputId": "8aa7d544-141d-43cf-96ee-2ac473ca2898"
      },
      "source": [
        "X_train.shape,X_test.shape"
      ],
      "execution_count": 18,
      "outputs": [
        {
          "output_type": "execute_result",
          "data": {
            "text/plain": [
              "((42, 4), (14, 4))"
            ]
          },
          "metadata": {},
          "execution_count": 18
        }
      ]
    },
    {
      "cell_type": "code",
      "metadata": {
        "colab": {
          "base_uri": "https://localhost:8080/"
        },
        "id": "3Ybrk5tKAqzu",
        "outputId": "1db1d774-d15b-455e-f5d4-7d24211d192a"
      },
      "source": [
        "y_train.shape,y_test.shape"
      ],
      "execution_count": 19,
      "outputs": [
        {
          "output_type": "execute_result",
          "data": {
            "text/plain": [
              "((42,), (14,))"
            ]
          },
          "metadata": {},
          "execution_count": 19
        }
      ]
    },
    {
      "cell_type": "markdown",
      "metadata": {
        "id": "QFGtTGdPA7tW"
      },
      "source": [
        "# 1차항만 고려하는 선형 회귀 \n",
        "\n",
        "$\n",
        "\\hat{y}= w_0 + w_1 \\times x_1 + w_2 \\times x_2 + w_3 \\times x_3 + w_4 \\times x_4\n",
        "$"
      ]
    },
    {
      "cell_type": "code",
      "metadata": {
        "id": "l5zlSKu9BtEL"
      },
      "source": [
        "lin_reg= LinearRegression() # 선형 회귀 알고리즘 생성"
      ],
      "execution_count": 20,
      "outputs": []
    },
    {
      "cell_type": "code",
      "metadata": {
        "colab": {
          "base_uri": "https://localhost:8080/"
        },
        "id": "IKQ6Xf7lB83G",
        "outputId": "496cfc1b-6300-411e-e4f6-9ac86ca11b66"
      },
      "source": [
        "lin_reg.fit(X_train,y_train) # ML알고리즘을 데이터에 fitting.데이터를 학습시킴"
      ],
      "execution_count": 21,
      "outputs": [
        {
          "output_type": "execute_result",
          "data": {
            "text/plain": [
              "LinearRegression(copy_X=True, fit_intercept=True, n_jobs=None, normalize=False)"
            ]
          },
          "metadata": {},
          "execution_count": 21
        }
      ]
    },
    {
      "cell_type": "code",
      "metadata": {
        "colab": {
          "base_uri": "https://localhost:8080/"
        },
        "id": "SCFdRUMJCSpX",
        "outputId": "1e23436a-4ea8-4b03-eec4-ba35bf3acbca"
      },
      "source": [
        "lin_reg.intercept_ # w0 : 절편, 편향"
      ],
      "execution_count": 24,
      "outputs": [
        {
          "output_type": "execute_result",
          "data": {
            "text/plain": [
              "-610.0275364260526"
            ]
          },
          "metadata": {},
          "execution_count": 24
        }
      ]
    },
    {
      "cell_type": "code",
      "metadata": {
        "colab": {
          "base_uri": "https://localhost:8080/"
        },
        "id": "Dz3blLZsCUsq",
        "outputId": "4ea58f34-7b73-4ca8-ed93-5fa7756ce1e8"
      },
      "source": [
        "lin_reg.coef_ # [w1 w2 w3 w4] 계수들의 배열\n",
        "# w1 * length + w2* diagonal + w3* height + w4* width"
      ],
      "execution_count": 26,
      "outputs": [
        {
          "output_type": "execute_result",
          "data": {
            "text/plain": [
              "array([-40.18338554,  47.80681727,  67.34086612,  35.34904264])"
            ]
          },
          "metadata": {},
          "execution_count": 26
        }
      ]
    },
    {
      "cell_type": "code",
      "metadata": {
        "id": "lMnxDQRYDY0Q"
      },
      "source": [
        "train_pred= lin_reg.predict(X_train) # 훈련 셋 예측값"
      ],
      "execution_count": 27,
      "outputs": []
    },
    {
      "cell_type": "code",
      "metadata": {
        "colab": {
          "base_uri": "https://localhost:8080/"
        },
        "id": "4EQHYCVdEHIb",
        "outputId": "9483d732-d121-4130-907d-2654fb6f8327"
      },
      "source": [
        "train_pred[:5]"
      ],
      "execution_count": 28,
      "outputs": [
        {
          "output_type": "execute_result",
          "data": {
            "text/plain": [
              "array([ 50.07831254, 149.63115115,  26.52323981, -11.85322276,\n",
              "       727.07849472])"
            ]
          },
          "metadata": {},
          "execution_count": 28
        }
      ]
    },
    {
      "cell_type": "code",
      "metadata": {
        "colab": {
          "base_uri": "https://localhost:8080/"
        },
        "id": "EB5yAP_PEIvl",
        "outputId": "fda148c4-46a7-4677-c4f3-a51112f15523"
      },
      "source": [
        "y_train[:5] # 실젯값"
      ],
      "execution_count": 32,
      "outputs": [
        {
          "output_type": "execute_result",
          "data": {
            "text/plain": [
              "array([ 85., 135.,  78.,  70., 700.])"
            ]
          },
          "metadata": {},
          "execution_count": 32
        }
      ]
    },
    {
      "cell_type": "code",
      "metadata": {
        "colab": {
          "base_uri": "https://localhost:8080/"
        },
        "id": "139DZjC5DRLM",
        "outputId": "da951c75-50ab-48b6-80a0-1d4061b533de"
      },
      "source": [
        "# RMSE \n",
        "np.sqrt(mean_squared_error(y_true=y_train,y_pred=train_pred))"
      ],
      "execution_count": 34,
      "outputs": [
        {
          "output_type": "execute_result",
          "data": {
            "text/plain": [
              "73.07651173088374"
            ]
          },
          "metadata": {},
          "execution_count": 34
        }
      ]
    },
    {
      "cell_type": "code",
      "metadata": {
        "colab": {
          "base_uri": "https://localhost:8080/"
        },
        "id": "wh2hMK9xEmJo",
        "outputId": "4f7a94af-690d-4ad0-87f3-ee75d959a08d"
      },
      "source": [
        "# 결정 계수\n",
        "r2_score(y_train,train_pred)"
      ],
      "execution_count": 35,
      "outputs": [
        {
          "output_type": "execute_result",
          "data": {
            "text/plain": [
              "0.9567246116638569"
            ]
          },
          "metadata": {},
          "execution_count": 35
        }
      ]
    },
    {
      "cell_type": "code",
      "metadata": {
        "id": "JjM9p0YxE1vL"
      },
      "source": [
        "test_pred= lin_reg.predict(X_test) # 테스트 셋 예측값"
      ],
      "execution_count": 36,
      "outputs": []
    },
    {
      "cell_type": "code",
      "metadata": {
        "colab": {
          "base_uri": "https://localhost:8080/"
        },
        "id": "3jWX-Z1rE_iQ",
        "outputId": "aec06b7e-6e6a-4533-901f-d0b3881bfe28"
      },
      "source": [
        "test_pred[:5]"
      ],
      "execution_count": 37,
      "outputs": [
        {
          "output_type": "execute_result",
          "data": {
            "text/plain": [
              "array([-334.87262176,   53.65873458,  318.38723843,  178.88939119,\n",
              "        155.66294578])"
            ]
          },
          "metadata": {},
          "execution_count": 37
        }
      ]
    },
    {
      "cell_type": "code",
      "metadata": {
        "colab": {
          "base_uri": "https://localhost:8080/"
        },
        "id": "3NQkzTkPFCiN",
        "outputId": "bc0b9c77-1b52-464c-be69-87c1d0e8f19d"
      },
      "source": [
        "y_test[:5] # 테스트 셋 실젯값"
      ],
      "execution_count": 40,
      "outputs": [
        {
          "output_type": "execute_result",
          "data": {
            "text/plain": [
              "array([  5.9, 100. , 250. , 130. , 130. ])"
            ]
          },
          "metadata": {},
          "execution_count": 40
        }
      ]
    },
    {
      "cell_type": "code",
      "metadata": {
        "colab": {
          "base_uri": "https://localhost:8080/"
        },
        "id": "dkK4CbSVFNrc",
        "outputId": "b980c9d3-781b-4c68-9b7d-556597d23cdd"
      },
      "source": [
        "np.sqrt(mean_squared_error(y_test,test_pred)) # RMSE"
      ],
      "execution_count": 42,
      "outputs": [
        {
          "output_type": "execute_result",
          "data": {
            "text/plain": [
              "110.1835310901991"
            ]
          },
          "metadata": {},
          "execution_count": 42
        }
      ]
    },
    {
      "cell_type": "code",
      "metadata": {
        "colab": {
          "base_uri": "https://localhost:8080/"
        },
        "id": "KkgQOYlfFUad",
        "outputId": "3fb9c788-ff27-4995-c73b-3ad8cb120d55"
      },
      "source": [
        "r2_score(y_test,test_pred) #결정계수"
      ],
      "execution_count": 43,
      "outputs": [
        {
          "output_type": "execute_result",
          "data": {
            "text/plain": [
              "0.879046561599027"
            ]
          },
          "metadata": {},
          "execution_count": 43
        }
      ]
    },
    {
      "cell_type": "markdown",
      "metadata": {
        "id": "xJ3Qjqi4F4Jm"
      },
      "source": [
        "1차항만 고려한 선형 회귀 모델은 overfitting이 약간 있음."
      ]
    },
    {
      "cell_type": "markdown",
      "metadata": {
        "id": "f2-pcIrhJWZt"
      },
      "source": [
        "# 2차항 까지 추가한 선형 회귀\n",
        "\n",
        "$\n",
        "\\hat{y}=w_0+ w_1\\times x_1 + \\cdots + w_4 \\times x_4 + w_5 \\times x_1^2 + \\cdots\n",
        "$"
      ]
    },
    {
      "cell_type": "code",
      "metadata": {
        "id": "qhqfb4guKINt"
      },
      "source": [
        "poly= PolynomialFeatures(degree=2,include_bias=False) # 다차항을 추가하는 변환기 \n",
        "# degree=2 (default): 2차항 까지 고려\n",
        "# interaction_only=False (default): x1^2,X2^2,x1*x2,... 등을 모두 추가"
      ],
      "execution_count": 47,
      "outputs": []
    },
    {
      "cell_type": "code",
      "metadata": {
        "id": "PmqlHtXZLRC1"
      },
      "source": [
        "scaler= StandardScaler() # 표준화 변환기 생성"
      ],
      "execution_count": 44,
      "outputs": []
    },
    {
      "cell_type": "code",
      "metadata": {
        "id": "R3QiTNIdLa7g"
      },
      "source": [
        "lin_reg=LinearRegression() # ML 알고리즘 생성"
      ],
      "execution_count": 45,
      "outputs": []
    },
    {
      "cell_type": "code",
      "metadata": {
        "id": "YpJwSW-MLqxG"
      },
      "source": [
        "# Pipeline 객체 생성\n",
        "model = Pipeline(steps=[('poly',poly),\n",
        "                        ('scaler',scaler),\n",
        "                        ('lin_reg',lin_reg)])"
      ],
      "execution_count": 48,
      "outputs": []
    },
    {
      "cell_type": "code",
      "metadata": {
        "colab": {
          "base_uri": "https://localhost:8080/"
        },
        "id": "eCWYoaQRMbbf",
        "outputId": "a5b03b27-1550-4dd0-ef34-584f8ab33198"
      },
      "source": [
        "# ML 모델을 데이터에 fitting. 학습 셋을 훈련시킴.\n",
        "model.fit(X_train,y_train)"
      ],
      "execution_count": 49,
      "outputs": [
        {
          "output_type": "execute_result",
          "data": {
            "text/plain": [
              "Pipeline(memory=None,\n",
              "         steps=[('poly',\n",
              "                 PolynomialFeatures(degree=2, include_bias=False,\n",
              "                                    interaction_only=False, order='C')),\n",
              "                ('scaler',\n",
              "                 StandardScaler(copy=True, with_mean=True, with_std=True)),\n",
              "                ('lin_reg',\n",
              "                 LinearRegression(copy_X=True, fit_intercept=True, n_jobs=None,\n",
              "                                  normalize=False))],\n",
              "         verbose=False)"
            ]
          },
          "metadata": {},
          "execution_count": 49
        }
      ]
    },
    {
      "cell_type": "code",
      "metadata": {
        "colab": {
          "base_uri": "https://localhost:8080/"
        },
        "id": "i5d9ZthdMnuM",
        "outputId": "28e624e0-e5d3-4d6a-9668-33188cdb3de5"
      },
      "source": [
        "model['lin_reg'].intercept_ # 학습이 끝난 후 선형 회귀 모델이 찾은 절편"
      ],
      "execution_count": 51,
      "outputs": [
        {
          "output_type": "execute_result",
          "data": {
            "text/plain": [
              "400.83333333332587"
            ]
          },
          "metadata": {},
          "execution_count": 51
        }
      ]
    },
    {
      "cell_type": "code",
      "metadata": {
        "colab": {
          "base_uri": "https://localhost:8080/"
        },
        "id": "45e6MM0bM88t",
        "outputId": "0468b524-ae5e-4255-9393-6aeae3d09335"
      },
      "source": [
        "model['lin_reg'].coef_ # 학습이 끝난 후 선형 회귀 모델이 찾은 계수들(coefficients)"
      ],
      "execution_count": 53,
      "outputs": [
        {
          "output_type": "execute_result",
          "data": {
            "text/plain": [
              "array([   -443.26816039,    1150.91134799,    -650.22360319,\n",
              "          -368.62831244,  115424.97558536, -210083.78541706,\n",
              "        -49872.08633924,   29100.85132271,   91656.18352525,\n",
              "         53699.90248992,  -27521.03052328,    1226.11352267,\n",
              "         -5243.73927458,    2288.55011685])"
            ]
          },
          "metadata": {},
          "execution_count": 53
        }
      ]
    },
    {
      "cell_type": "code",
      "metadata": {
        "colab": {
          "base_uri": "https://localhost:8080/"
        },
        "id": "XI4wzzsbNPd-",
        "outputId": "53e73b75-92cf-4ece-c23a-59e8e844e009"
      },
      "source": [
        "model['poly'].get_feature_names() # PolynomialFeatures 객체가 만들어낸 다차항들 리스트"
      ],
      "execution_count": 54,
      "outputs": [
        {
          "output_type": "execute_result",
          "data": {
            "text/plain": [
              "['x0',\n",
              " 'x1',\n",
              " 'x2',\n",
              " 'x3',\n",
              " 'x0^2',\n",
              " 'x0 x1',\n",
              " 'x0 x2',\n",
              " 'x0 x3',\n",
              " 'x1^2',\n",
              " 'x1 x2',\n",
              " 'x1 x3',\n",
              " 'x2^2',\n",
              " 'x2 x3',\n",
              " 'x3^2']"
            ]
          },
          "metadata": {},
          "execution_count": 54
        }
      ]
    },
    {
      "cell_type": "code",
      "metadata": {
        "id": "lkR6MeS0OR6h"
      },
      "source": [
        "train_pred=model.predict(X_train)"
      ],
      "execution_count": 56,
      "outputs": []
    },
    {
      "cell_type": "code",
      "metadata": {
        "colab": {
          "base_uri": "https://localhost:8080/"
        },
        "id": "0LrFR6iZOkhx",
        "outputId": "0320ce49-e6bd-450c-cfe2-4b438afad047"
      },
      "source": [
        "train_pred[:5]"
      ],
      "execution_count": 59,
      "outputs": [
        {
          "output_type": "execute_result",
          "data": {
            "text/plain": [
              "array([ 86.22462498, 117.8371985 ,  65.36623277,  51.32036181,\n",
              "       688.61814191])"
            ]
          },
          "metadata": {},
          "execution_count": 59
        }
      ]
    },
    {
      "cell_type": "code",
      "metadata": {
        "colab": {
          "base_uri": "https://localhost:8080/"
        },
        "id": "S2s0_-YEOidV",
        "outputId": "35daf7b7-09c4-4acf-d566-f313d352e0e6"
      },
      "source": [
        "y_train[:5]"
      ],
      "execution_count": 58,
      "outputs": [
        {
          "output_type": "execute_result",
          "data": {
            "text/plain": [
              "array([ 85., 135.,  78.,  70., 700.])"
            ]
          },
          "metadata": {},
          "execution_count": 58
        }
      ]
    },
    {
      "cell_type": "code",
      "metadata": {
        "colab": {
          "base_uri": "https://localhost:8080/"
        },
        "id": "SVpcPFqXOnCh",
        "outputId": "de16eafc-076c-4b9f-dffe-bd6e2db1f210"
      },
      "source": [
        "np.sqrt(mean_squared_error(y_train,train_pred)) # 훈련셋 RMSE"
      ],
      "execution_count": 60,
      "outputs": [
        {
          "output_type": "execute_result",
          "data": {
            "text/plain": [
              "31.408812188346158"
            ]
          },
          "metadata": {},
          "execution_count": 60
        }
      ]
    },
    {
      "cell_type": "code",
      "metadata": {
        "colab": {
          "base_uri": "https://localhost:8080/"
        },
        "id": "S9vF27nXOsSt",
        "outputId": "0b15a9a2-c8f6-4fdc-98eb-a6f7172d6e51"
      },
      "source": [
        "r2_score(y_train,train_pred) # 훈련 셋 결정 계수"
      ],
      "execution_count": 61,
      "outputs": [
        {
          "output_type": "execute_result",
          "data": {
            "text/plain": [
              "0.9920055538341124"
            ]
          },
          "metadata": {},
          "execution_count": 61
        }
      ]
    },
    {
      "cell_type": "code",
      "metadata": {
        "id": "BWOGRVz7OxI4"
      },
      "source": [
        "test_pred=model.predict(X_test)"
      ],
      "execution_count": 62,
      "outputs": []
    },
    {
      "cell_type": "code",
      "metadata": {
        "colab": {
          "base_uri": "https://localhost:8080/"
        },
        "id": "1E9MGLsuOxEC",
        "outputId": "b603042b-e182-49eb-e65d-f4aa261e453c"
      },
      "source": [
        "test_pred[:5]"
      ],
      "execution_count": 63,
      "outputs": [
        {
          "output_type": "execute_result",
          "data": {
            "text/plain": [
              "array([ 23.11093892,  16.86703258, 283.14558245, 126.83444969,\n",
              "       121.43654058])"
            ]
          },
          "metadata": {},
          "execution_count": 63
        }
      ]
    },
    {
      "cell_type": "code",
      "metadata": {
        "colab": {
          "base_uri": "https://localhost:8080/"
        },
        "id": "G2IlzqRDPDxG",
        "outputId": "50c60382-f7b0-4a43-d759-a8562cb6b662"
      },
      "source": [
        "y_test[:5]"
      ],
      "execution_count": 65,
      "outputs": [
        {
          "output_type": "execute_result",
          "data": {
            "text/plain": [
              "array([  5.9, 100. , 250. , 130. , 130. ])"
            ]
          },
          "metadata": {},
          "execution_count": 65
        }
      ]
    },
    {
      "cell_type": "code",
      "metadata": {
        "colab": {
          "base_uri": "https://localhost:8080/"
        },
        "id": "U8kzX0K9PQZs",
        "outputId": "d0662a1a-ff16-402d-8529-f237fdb1399c"
      },
      "source": [
        "np.sqrt(mean_squared_error(y_test,test_pred)) # 테스트셋 RMSE"
      ],
      "execution_count": 66,
      "outputs": [
        {
          "output_type": "execute_result",
          "data": {
            "text/plain": [
              "71.36392024375351"
            ]
          },
          "metadata": {},
          "execution_count": 66
        }
      ]
    },
    {
      "cell_type": "code",
      "metadata": {
        "colab": {
          "base_uri": "https://localhost:8080/"
        },
        "id": "HBafXRCsPWbO",
        "outputId": "f40af9dd-4782-4548-ff96-9bfc9602e83d"
      },
      "source": [
        "r2_score(y_test,test_pred) # 테스트 셋 결정 계수"
      ],
      "execution_count": 67,
      "outputs": [
        {
          "output_type": "execute_result",
          "data": {
            "text/plain": [
              "0.949260960155265"
            ]
          },
          "metadata": {},
          "execution_count": 67
        }
      ]
    }
  ]
}