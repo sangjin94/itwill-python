{
  "nbformat": 4,
  "nbformat_minor": 0,
  "metadata": {
    "colab": {
      "name": "ml06_multiple_regression.ipynb",
      "provenance": [],
      "collapsed_sections": [],
      "authorship_tag": "ABX9TyPCieF1EGnKay5EZ4v9THB0",
      "include_colab_link": true
    },
    "kernelspec": {
      "name": "python3",
      "display_name": "Python 3"
    },
    "language_info": {
      "name": "python"
    }
  },
  "cells": [
    {
      "cell_type": "markdown",
      "metadata": {
        "id": "view-in-github",
        "colab_type": "text"
      },
      "source": [
        "<a href=\"https://colab.research.google.com/github/sangjin94/itwill-python/blob/main/ml06_multiple_regression.ipynb\" target=\"_parent\"><img src=\"https://colab.research.google.com/assets/colab-badge.svg\" alt=\"Open In Colab\"/></a>"
      ]
    },
    {
      "cell_type": "markdown",
      "metadata": {
        "id": "EHAIedEp7o_C"
      },
      "source": [
        "# 다중 선형 회귀\n",
        "\n",
        "특성(독립변수)이 여러개 인 선형 회귀 모델 \n",
        "  * 1차항만 고려한 선형 회귀\n",
        "  * 고차항들을 포함하는 선형 회귀\n",
        "  * 규제(Regularization): overfitting(과대적합)을 줄이기 위한 기법"
      ]
    },
    {
      "cell_type": "markdown",
      "metadata": {
        "id": "AQW_WdbR8VdW"
      },
      "source": [
        "# Imports"
      ]
    },
    {
      "cell_type": "code",
      "metadata": {
        "id": "lvfgMTC38XCe"
      },
      "source": [
        "import numpy as np\n",
        "import pandas as pd\n",
        "import matplotlib.pyplot as plt\n",
        "import seaborn as sns\n",
        "\n",
        "from sklearn.model_selection import train_test_split\n",
        "from sklearn.linear_model import LinearRegression,Ridge,Lasso,ElasticNet\n",
        "from sklearn.preprocessing import PolynomialFeatures, StandardScaler\n",
        "from sklearn.pipeline import Pipeline\n",
        "from sklearn.metrics import r2_score,mean_squared_error"
      ],
      "execution_count": 112,
      "outputs": []
    },
    {
      "cell_type": "markdown",
      "metadata": {
        "id": "AGI2spSC9lpV"
      },
      "source": [
        "# 데이터 준비"
      ]
    },
    {
      "cell_type": "code",
      "metadata": {
        "id": "KK69h5l79Lae"
      },
      "source": [
        "# 데이터 셋 github URL\n",
        "fish_csv = 'https://github.com/rickiepark/hg-mldl/raw/master/fish.csv'"
      ],
      "execution_count": 113,
      "outputs": []
    },
    {
      "cell_type": "code",
      "metadata": {
        "id": "YZBIeK7K7kG5"
      },
      "source": [
        "# DataFrame 생성\n",
        "fish= pd.read_csv(fish_csv)"
      ],
      "execution_count": 114,
      "outputs": []
    },
    {
      "cell_type": "code",
      "metadata": {
        "colab": {
          "base_uri": "https://localhost:8080/"
        },
        "id": "elLUmZWl9vJH",
        "outputId": "1ffc0b00-47c0-47da-862d-b6e1efcff570"
      },
      "source": [
        "fish.info()"
      ],
      "execution_count": 115,
      "outputs": [
        {
          "output_type": "stream",
          "name": "stdout",
          "text": [
            "<class 'pandas.core.frame.DataFrame'>\n",
            "RangeIndex: 159 entries, 0 to 158\n",
            "Data columns (total 6 columns):\n",
            " #   Column    Non-Null Count  Dtype  \n",
            "---  ------    --------------  -----  \n",
            " 0   Species   159 non-null    object \n",
            " 1   Weight    159 non-null    float64\n",
            " 2   Length    159 non-null    float64\n",
            " 3   Diagonal  159 non-null    float64\n",
            " 4   Height    159 non-null    float64\n",
            " 5   Width     159 non-null    float64\n",
            "dtypes: float64(5), object(1)\n",
            "memory usage: 7.6+ KB\n"
          ]
        }
      ]
    },
    {
      "cell_type": "markdown",
      "metadata": {
        "id": "KNQ9cLLE-AxS"
      },
      "source": [
        "선형 회귀 목적: 농어(Perch)의 무게(Weight)를 농어의 다른 특성들(Length, Diagonal, Height,Width) 로 예측\n",
        "\n",
        "Weight ~ Length + Diagonal + Height + Width"
      ]
    },
    {
      "cell_type": "code",
      "metadata": {
        "colab": {
          "base_uri": "https://localhost:8080/",
          "height": 204
        },
        "id": "MJ-hcAz1-AL1",
        "outputId": "6fe0b3fe-84d7-4f78-bbe1-163c13989827"
      },
      "source": [
        "perch= fish[fish.Species=='Perch'] # 농어(Perch)만 선택\n",
        "perch.head()"
      ],
      "execution_count": 116,
      "outputs": [
        {
          "output_type": "execute_result",
          "data": {
            "text/html": [
              "<div>\n",
              "<style scoped>\n",
              "    .dataframe tbody tr th:only-of-type {\n",
              "        vertical-align: middle;\n",
              "    }\n",
              "\n",
              "    .dataframe tbody tr th {\n",
              "        vertical-align: top;\n",
              "    }\n",
              "\n",
              "    .dataframe thead th {\n",
              "        text-align: right;\n",
              "    }\n",
              "</style>\n",
              "<table border=\"1\" class=\"dataframe\">\n",
              "  <thead>\n",
              "    <tr style=\"text-align: right;\">\n",
              "      <th></th>\n",
              "      <th>Species</th>\n",
              "      <th>Weight</th>\n",
              "      <th>Length</th>\n",
              "      <th>Diagonal</th>\n",
              "      <th>Height</th>\n",
              "      <th>Width</th>\n",
              "    </tr>\n",
              "  </thead>\n",
              "  <tbody>\n",
              "    <tr>\n",
              "      <th>72</th>\n",
              "      <td>Perch</td>\n",
              "      <td>5.9</td>\n",
              "      <td>8.4</td>\n",
              "      <td>8.8</td>\n",
              "      <td>2.1120</td>\n",
              "      <td>1.4080</td>\n",
              "    </tr>\n",
              "    <tr>\n",
              "      <th>73</th>\n",
              "      <td>Perch</td>\n",
              "      <td>32.0</td>\n",
              "      <td>13.7</td>\n",
              "      <td>14.7</td>\n",
              "      <td>3.5280</td>\n",
              "      <td>1.9992</td>\n",
              "    </tr>\n",
              "    <tr>\n",
              "      <th>74</th>\n",
              "      <td>Perch</td>\n",
              "      <td>40.0</td>\n",
              "      <td>15.0</td>\n",
              "      <td>16.0</td>\n",
              "      <td>3.8240</td>\n",
              "      <td>2.4320</td>\n",
              "    </tr>\n",
              "    <tr>\n",
              "      <th>75</th>\n",
              "      <td>Perch</td>\n",
              "      <td>51.5</td>\n",
              "      <td>16.2</td>\n",
              "      <td>17.2</td>\n",
              "      <td>4.5924</td>\n",
              "      <td>2.6316</td>\n",
              "    </tr>\n",
              "    <tr>\n",
              "      <th>76</th>\n",
              "      <td>Perch</td>\n",
              "      <td>70.0</td>\n",
              "      <td>17.4</td>\n",
              "      <td>18.5</td>\n",
              "      <td>4.5880</td>\n",
              "      <td>2.9415</td>\n",
              "    </tr>\n",
              "  </tbody>\n",
              "</table>\n",
              "</div>"
            ],
            "text/plain": [
              "   Species  Weight  Length  Diagonal  Height   Width\n",
              "72   Perch     5.9     8.4       8.8  2.1120  1.4080\n",
              "73   Perch    32.0    13.7      14.7  3.5280  1.9992\n",
              "74   Perch    40.0    15.0      16.0  3.8240  2.4320\n",
              "75   Perch    51.5    16.2      17.2  4.5924  2.6316\n",
              "76   Perch    70.0    17.4      18.5  4.5880  2.9415"
            ]
          },
          "metadata": {},
          "execution_count": 116
        }
      ]
    },
    {
      "cell_type": "code",
      "metadata": {
        "id": "vSzb6vnA-_Oj"
      },
      "source": [
        "# 특성(features), 독립 변수\n",
        "X =perch[['Length','Diagonal','Height','Width']].values"
      ],
      "execution_count": 117,
      "outputs": []
    },
    {
      "cell_type": "code",
      "metadata": {
        "colab": {
          "base_uri": "https://localhost:8080/"
        },
        "id": "Ar1QW920_Zoi",
        "outputId": "01153309-7494-4952-b8cf-489b009d6faa"
      },
      "source": [
        "X.shape"
      ],
      "execution_count": 118,
      "outputs": [
        {
          "output_type": "execute_result",
          "data": {
            "text/plain": [
              "(56, 4)"
            ]
          },
          "metadata": {},
          "execution_count": 118
        }
      ]
    },
    {
      "cell_type": "code",
      "metadata": {
        "id": "liUFCp4x_PWh"
      },
      "source": [
        "# label, target, 종속 변수\n",
        "y= perch['Weight'].values"
      ],
      "execution_count": 119,
      "outputs": []
    },
    {
      "cell_type": "markdown",
      "metadata": {
        "id": "93bvaOeBAVLL"
      },
      "source": [
        "# train/test split"
      ]
    },
    {
      "cell_type": "code",
      "metadata": {
        "id": "d8kol3rIAX91"
      },
      "source": [
        "X_train,X_test,y_train,y_test=train_test_split(X,y,\n",
        "                                               test_size=0.25,\n",
        "                                               random_state=42)"
      ],
      "execution_count": 120,
      "outputs": []
    },
    {
      "cell_type": "code",
      "metadata": {
        "colab": {
          "base_uri": "https://localhost:8080/"
        },
        "id": "hgcX5SrNAmTy",
        "outputId": "b1d8a053-0978-4ca3-d972-e39b3d93c912"
      },
      "source": [
        "X_train.shape,X_test.shape"
      ],
      "execution_count": 121,
      "outputs": [
        {
          "output_type": "execute_result",
          "data": {
            "text/plain": [
              "((42, 4), (14, 4))"
            ]
          },
          "metadata": {},
          "execution_count": 121
        }
      ]
    },
    {
      "cell_type": "code",
      "metadata": {
        "colab": {
          "base_uri": "https://localhost:8080/"
        },
        "id": "3Ybrk5tKAqzu",
        "outputId": "5a4cea83-e3ac-466b-a674-f70fef0d8e2a"
      },
      "source": [
        "y_train.shape,y_test.shape"
      ],
      "execution_count": 122,
      "outputs": [
        {
          "output_type": "execute_result",
          "data": {
            "text/plain": [
              "((42,), (14,))"
            ]
          },
          "metadata": {},
          "execution_count": 122
        }
      ]
    },
    {
      "cell_type": "markdown",
      "metadata": {
        "id": "QFGtTGdPA7tW"
      },
      "source": [
        "# 1차항만 고려하는 선형 회귀 \n",
        "\n",
        "$\n",
        "\\hat{y}= w_0 + w_1 \\times x_1 + w_2 \\times x_2 + w_3 \\times x_3 + w_4 \\times x_4\n",
        "$"
      ]
    },
    {
      "cell_type": "code",
      "metadata": {
        "id": "l5zlSKu9BtEL"
      },
      "source": [
        "lin_reg= LinearRegression() # 선형 회귀 알고리즘 생성"
      ],
      "execution_count": 123,
      "outputs": []
    },
    {
      "cell_type": "code",
      "metadata": {
        "colab": {
          "base_uri": "https://localhost:8080/"
        },
        "id": "IKQ6Xf7lB83G",
        "outputId": "9221f357-ede6-416a-8963-a470a8fa52eb"
      },
      "source": [
        "lin_reg.fit(X_train,y_train) # ML알고리즘을 데이터에 fitting.데이터를 학습시킴"
      ],
      "execution_count": 124,
      "outputs": [
        {
          "output_type": "execute_result",
          "data": {
            "text/plain": [
              "LinearRegression(copy_X=True, fit_intercept=True, n_jobs=None, normalize=False)"
            ]
          },
          "metadata": {},
          "execution_count": 124
        }
      ]
    },
    {
      "cell_type": "code",
      "metadata": {
        "colab": {
          "base_uri": "https://localhost:8080/"
        },
        "id": "SCFdRUMJCSpX",
        "outputId": "d6dcebf3-10ae-456b-fdfe-d09ec695e4b6"
      },
      "source": [
        "lin_reg.intercept_ # w0 : 절편, 편향"
      ],
      "execution_count": 125,
      "outputs": [
        {
          "output_type": "execute_result",
          "data": {
            "text/plain": [
              "-610.0275364260526"
            ]
          },
          "metadata": {},
          "execution_count": 125
        }
      ]
    },
    {
      "cell_type": "code",
      "metadata": {
        "colab": {
          "base_uri": "https://localhost:8080/"
        },
        "id": "Dz3blLZsCUsq",
        "outputId": "d019cf71-c117-4cd5-8ac9-fde58d280db4"
      },
      "source": [
        "lin_reg.coef_ # [w1 w2 w3 w4] 계수들의 배열\n",
        "# w1 * length + w2* diagonal + w3* height + w4* width"
      ],
      "execution_count": 126,
      "outputs": [
        {
          "output_type": "execute_result",
          "data": {
            "text/plain": [
              "array([-40.18338554,  47.80681727,  67.34086612,  35.34904264])"
            ]
          },
          "metadata": {},
          "execution_count": 126
        }
      ]
    },
    {
      "cell_type": "code",
      "metadata": {
        "id": "lMnxDQRYDY0Q"
      },
      "source": [
        "train_pred= lin_reg.predict(X_train) # 훈련 셋 예측값"
      ],
      "execution_count": 127,
      "outputs": []
    },
    {
      "cell_type": "code",
      "metadata": {
        "colab": {
          "base_uri": "https://localhost:8080/"
        },
        "id": "4EQHYCVdEHIb",
        "outputId": "5240e902-7afa-4f7a-aab4-bd058a7dc438"
      },
      "source": [
        "train_pred[:5]"
      ],
      "execution_count": 128,
      "outputs": [
        {
          "output_type": "execute_result",
          "data": {
            "text/plain": [
              "array([ 50.07831254, 149.63115115,  26.52323981, -11.85322276,\n",
              "       727.07849472])"
            ]
          },
          "metadata": {},
          "execution_count": 128
        }
      ]
    },
    {
      "cell_type": "code",
      "metadata": {
        "colab": {
          "base_uri": "https://localhost:8080/"
        },
        "id": "EB5yAP_PEIvl",
        "outputId": "e42b2a96-d2c0-42e9-a425-0261b11481a0"
      },
      "source": [
        "y_train[:5] # 실젯값"
      ],
      "execution_count": 129,
      "outputs": [
        {
          "output_type": "execute_result",
          "data": {
            "text/plain": [
              "array([ 85., 135.,  78.,  70., 700.])"
            ]
          },
          "metadata": {},
          "execution_count": 129
        }
      ]
    },
    {
      "cell_type": "code",
      "metadata": {
        "colab": {
          "base_uri": "https://localhost:8080/"
        },
        "id": "139DZjC5DRLM",
        "outputId": "4b450c57-1b7d-488d-aaaf-ff307f069e3d"
      },
      "source": [
        "# RMSE \n",
        "np.sqrt(mean_squared_error(y_true=y_train,y_pred=train_pred))"
      ],
      "execution_count": 130,
      "outputs": [
        {
          "output_type": "execute_result",
          "data": {
            "text/plain": [
              "73.07651173088374"
            ]
          },
          "metadata": {},
          "execution_count": 130
        }
      ]
    },
    {
      "cell_type": "code",
      "metadata": {
        "colab": {
          "base_uri": "https://localhost:8080/"
        },
        "id": "wh2hMK9xEmJo",
        "outputId": "7a609a52-efd6-483d-cfe3-8b2bfd1fd102"
      },
      "source": [
        "# 결정 계수\n",
        "r2_score(y_train,train_pred)"
      ],
      "execution_count": 131,
      "outputs": [
        {
          "output_type": "execute_result",
          "data": {
            "text/plain": [
              "0.9567246116638569"
            ]
          },
          "metadata": {},
          "execution_count": 131
        }
      ]
    },
    {
      "cell_type": "code",
      "metadata": {
        "id": "JjM9p0YxE1vL"
      },
      "source": [
        "test_pred= lin_reg.predict(X_test) # 테스트 셋 예측값"
      ],
      "execution_count": 132,
      "outputs": []
    },
    {
      "cell_type": "code",
      "metadata": {
        "colab": {
          "base_uri": "https://localhost:8080/"
        },
        "id": "3jWX-Z1rE_iQ",
        "outputId": "5439c4ea-b6f7-45d0-f7bc-73ad092289a1"
      },
      "source": [
        "test_pred[:5]"
      ],
      "execution_count": 133,
      "outputs": [
        {
          "output_type": "execute_result",
          "data": {
            "text/plain": [
              "array([-334.87262176,   53.65873458,  318.38723843,  178.88939119,\n",
              "        155.66294578])"
            ]
          },
          "metadata": {},
          "execution_count": 133
        }
      ]
    },
    {
      "cell_type": "code",
      "metadata": {
        "colab": {
          "base_uri": "https://localhost:8080/"
        },
        "id": "3NQkzTkPFCiN",
        "outputId": "0ff16d3f-4f6b-4f1b-8706-54f9d5689942"
      },
      "source": [
        "y_test[:5] # 테스트 셋 실젯값"
      ],
      "execution_count": 134,
      "outputs": [
        {
          "output_type": "execute_result",
          "data": {
            "text/plain": [
              "array([  5.9, 100. , 250. , 130. , 130. ])"
            ]
          },
          "metadata": {},
          "execution_count": 134
        }
      ]
    },
    {
      "cell_type": "code",
      "metadata": {
        "colab": {
          "base_uri": "https://localhost:8080/"
        },
        "id": "dkK4CbSVFNrc",
        "outputId": "bb4a8e02-e7b0-44a0-e6ff-c15b91d6495e"
      },
      "source": [
        "np.sqrt(mean_squared_error(y_test,test_pred)) # RMSE"
      ],
      "execution_count": 135,
      "outputs": [
        {
          "output_type": "execute_result",
          "data": {
            "text/plain": [
              "110.1835310901991"
            ]
          },
          "metadata": {},
          "execution_count": 135
        }
      ]
    },
    {
      "cell_type": "code",
      "metadata": {
        "colab": {
          "base_uri": "https://localhost:8080/"
        },
        "id": "KkgQOYlfFUad",
        "outputId": "135ab888-7405-472f-95e8-197884d6ebba"
      },
      "source": [
        "r2_score(y_test,test_pred) #결정계수"
      ],
      "execution_count": 136,
      "outputs": [
        {
          "output_type": "execute_result",
          "data": {
            "text/plain": [
              "0.879046561599027"
            ]
          },
          "metadata": {},
          "execution_count": 136
        }
      ]
    },
    {
      "cell_type": "markdown",
      "metadata": {
        "id": "xJ3Qjqi4F4Jm"
      },
      "source": [
        "1차항만 고려한 선형 회귀 모델은 overfitting이 약간 있음."
      ]
    },
    {
      "cell_type": "markdown",
      "metadata": {
        "id": "f2-pcIrhJWZt"
      },
      "source": [
        "# 2차항 까지 추가한 선형 회귀\n",
        "\n",
        "$\n",
        "\\hat{y}=w_0+ w_1\\times x_1 + \\cdots + w_4 \\times x_4 + w_5 \\times x_1^2 + \\cdots+ w_{14} \\times x^2_4\n",
        "$"
      ]
    },
    {
      "cell_type": "code",
      "metadata": {
        "id": "qhqfb4guKINt"
      },
      "source": [
        "poly= PolynomialFeatures(degree=2,include_bias=False) # 다차항을 추가하는 변환기 \n",
        "# degree=2 (default): 2차항 까지 고려\n",
        "# interaction_only=False (default): x1^2,X2^2,x1*x2,... 등을 모두 추가"
      ],
      "execution_count": 137,
      "outputs": []
    },
    {
      "cell_type": "code",
      "metadata": {
        "id": "PmqlHtXZLRC1"
      },
      "source": [
        "scaler= StandardScaler() # 표준화 변환기 생성"
      ],
      "execution_count": 138,
      "outputs": []
    },
    {
      "cell_type": "code",
      "metadata": {
        "id": "R3QiTNIdLa7g"
      },
      "source": [
        "lin_reg=LinearRegression() # ML 알고리즘 생성"
      ],
      "execution_count": 139,
      "outputs": []
    },
    {
      "cell_type": "code",
      "metadata": {
        "id": "YpJwSW-MLqxG"
      },
      "source": [
        "# Pipeline 객체 생성\n",
        "model = Pipeline(steps=[('poly',poly),\n",
        "                        ('scaler',scaler),\n",
        "                        ('lin_reg',lin_reg)])"
      ],
      "execution_count": 140,
      "outputs": []
    },
    {
      "cell_type": "code",
      "metadata": {
        "colab": {
          "base_uri": "https://localhost:8080/"
        },
        "id": "eCWYoaQRMbbf",
        "outputId": "93db1d9b-3f34-4b9e-9ee2-af62707740a9"
      },
      "source": [
        "# ML 모델을 데이터에 fitting. 학습 셋을 훈련시킴.\n",
        "model.fit(X_train,y_train)"
      ],
      "execution_count": 141,
      "outputs": [
        {
          "output_type": "execute_result",
          "data": {
            "text/plain": [
              "Pipeline(memory=None,\n",
              "         steps=[('poly',\n",
              "                 PolynomialFeatures(degree=2, include_bias=False,\n",
              "                                    interaction_only=False, order='C')),\n",
              "                ('scaler',\n",
              "                 StandardScaler(copy=True, with_mean=True, with_std=True)),\n",
              "                ('lin_reg',\n",
              "                 LinearRegression(copy_X=True, fit_intercept=True, n_jobs=None,\n",
              "                                  normalize=False))],\n",
              "         verbose=False)"
            ]
          },
          "metadata": {},
          "execution_count": 141
        }
      ]
    },
    {
      "cell_type": "code",
      "metadata": {
        "colab": {
          "base_uri": "https://localhost:8080/"
        },
        "id": "i5d9ZthdMnuM",
        "outputId": "4f102703-3fe9-48a2-afe7-dcd403b496da"
      },
      "source": [
        "model['lin_reg'].intercept_ # 학습이 끝난 후 선형 회귀 모델이 찾은 절편"
      ],
      "execution_count": 142,
      "outputs": [
        {
          "output_type": "execute_result",
          "data": {
            "text/plain": [
              "400.83333333332587"
            ]
          },
          "metadata": {},
          "execution_count": 142
        }
      ]
    },
    {
      "cell_type": "code",
      "metadata": {
        "colab": {
          "base_uri": "https://localhost:8080/"
        },
        "id": "45e6MM0bM88t",
        "outputId": "b1da05d3-b6ed-4a7b-d7e1-fe1760ca8c33"
      },
      "source": [
        "model['lin_reg'].coef_ # 학습이 끝난 후 선형 회귀 모델이 찾은 계수들(coefficients)"
      ],
      "execution_count": 143,
      "outputs": [
        {
          "output_type": "execute_result",
          "data": {
            "text/plain": [
              "array([   -443.26816039,    1150.91134799,    -650.22360319,\n",
              "          -368.62831244,  115424.97558536, -210083.78541706,\n",
              "        -49872.08633924,   29100.85132271,   91656.18352525,\n",
              "         53699.90248992,  -27521.03052328,    1226.11352267,\n",
              "         -5243.73927458,    2288.55011685])"
            ]
          },
          "metadata": {},
          "execution_count": 143
        }
      ]
    },
    {
      "cell_type": "code",
      "metadata": {
        "colab": {
          "base_uri": "https://localhost:8080/"
        },
        "id": "XI4wzzsbNPd-",
        "outputId": "6b646704-9255-45dd-f057-ef92a143c608"
      },
      "source": [
        "model['poly'].get_feature_names() # PolynomialFeatures 객체가 만들어낸 다차항들 리스트"
      ],
      "execution_count": 144,
      "outputs": [
        {
          "output_type": "execute_result",
          "data": {
            "text/plain": [
              "['x0',\n",
              " 'x1',\n",
              " 'x2',\n",
              " 'x3',\n",
              " 'x0^2',\n",
              " 'x0 x1',\n",
              " 'x0 x2',\n",
              " 'x0 x3',\n",
              " 'x1^2',\n",
              " 'x1 x2',\n",
              " 'x1 x3',\n",
              " 'x2^2',\n",
              " 'x2 x3',\n",
              " 'x3^2']"
            ]
          },
          "metadata": {},
          "execution_count": 144
        }
      ]
    },
    {
      "cell_type": "code",
      "metadata": {
        "id": "lkR6MeS0OR6h"
      },
      "source": [
        "train_pred=model.predict(X_train)"
      ],
      "execution_count": 145,
      "outputs": []
    },
    {
      "cell_type": "code",
      "metadata": {
        "colab": {
          "base_uri": "https://localhost:8080/"
        },
        "id": "0LrFR6iZOkhx",
        "outputId": "2f7be2e1-69d4-4661-d18d-805d93b90ca4"
      },
      "source": [
        "train_pred[:5]"
      ],
      "execution_count": 146,
      "outputs": [
        {
          "output_type": "execute_result",
          "data": {
            "text/plain": [
              "array([ 86.22462498, 117.8371985 ,  65.36623277,  51.32036181,\n",
              "       688.61814191])"
            ]
          },
          "metadata": {},
          "execution_count": 146
        }
      ]
    },
    {
      "cell_type": "code",
      "metadata": {
        "colab": {
          "base_uri": "https://localhost:8080/"
        },
        "id": "S2s0_-YEOidV",
        "outputId": "dd8107bd-a481-475f-eda5-66c8de33b20e"
      },
      "source": [
        "y_train[:5]"
      ],
      "execution_count": 147,
      "outputs": [
        {
          "output_type": "execute_result",
          "data": {
            "text/plain": [
              "array([ 85., 135.,  78.,  70., 700.])"
            ]
          },
          "metadata": {},
          "execution_count": 147
        }
      ]
    },
    {
      "cell_type": "code",
      "metadata": {
        "colab": {
          "base_uri": "https://localhost:8080/"
        },
        "id": "SVpcPFqXOnCh",
        "outputId": "0de375f6-70c0-4083-bc56-5d7866bbf555"
      },
      "source": [
        "np.sqrt(mean_squared_error(y_train,train_pred)) # 훈련셋 RMSE"
      ],
      "execution_count": 148,
      "outputs": [
        {
          "output_type": "execute_result",
          "data": {
            "text/plain": [
              "31.408812188346158"
            ]
          },
          "metadata": {},
          "execution_count": 148
        }
      ]
    },
    {
      "cell_type": "code",
      "metadata": {
        "colab": {
          "base_uri": "https://localhost:8080/"
        },
        "id": "S9vF27nXOsSt",
        "outputId": "1dd8a13c-7f2c-4748-d3b6-99d7151b2625"
      },
      "source": [
        "r2_score(y_train,train_pred) # 훈련 셋 결정 계수"
      ],
      "execution_count": 149,
      "outputs": [
        {
          "output_type": "execute_result",
          "data": {
            "text/plain": [
              "0.9920055538341124"
            ]
          },
          "metadata": {},
          "execution_count": 149
        }
      ]
    },
    {
      "cell_type": "code",
      "metadata": {
        "id": "BWOGRVz7OxI4"
      },
      "source": [
        "test_pred=model.predict(X_test)"
      ],
      "execution_count": 150,
      "outputs": []
    },
    {
      "cell_type": "code",
      "metadata": {
        "colab": {
          "base_uri": "https://localhost:8080/"
        },
        "id": "1E9MGLsuOxEC",
        "outputId": "2b05a620-03fe-4b29-8aa4-cfd329e6be1e"
      },
      "source": [
        "test_pred[:5]"
      ],
      "execution_count": 151,
      "outputs": [
        {
          "output_type": "execute_result",
          "data": {
            "text/plain": [
              "array([ 23.11093892,  16.86703258, 283.14558245, 126.83444969,\n",
              "       121.43654058])"
            ]
          },
          "metadata": {},
          "execution_count": 151
        }
      ]
    },
    {
      "cell_type": "code",
      "metadata": {
        "colab": {
          "base_uri": "https://localhost:8080/"
        },
        "id": "G2IlzqRDPDxG",
        "outputId": "67d33d85-8278-4cbc-ab4a-4c9411ca03ae"
      },
      "source": [
        "y_test[:5]"
      ],
      "execution_count": 152,
      "outputs": [
        {
          "output_type": "execute_result",
          "data": {
            "text/plain": [
              "array([  5.9, 100. , 250. , 130. , 130. ])"
            ]
          },
          "metadata": {},
          "execution_count": 152
        }
      ]
    },
    {
      "cell_type": "code",
      "metadata": {
        "colab": {
          "base_uri": "https://localhost:8080/"
        },
        "id": "U8kzX0K9PQZs",
        "outputId": "94a0b9e2-d3f9-4654-8d87-715984609f4a"
      },
      "source": [
        "np.sqrt(mean_squared_error(y_test,test_pred)) # 테스트셋 RMSE"
      ],
      "execution_count": 153,
      "outputs": [
        {
          "output_type": "execute_result",
          "data": {
            "text/plain": [
              "71.36392024375351"
            ]
          },
          "metadata": {},
          "execution_count": 153
        }
      ]
    },
    {
      "cell_type": "code",
      "metadata": {
        "colab": {
          "base_uri": "https://localhost:8080/"
        },
        "id": "HBafXRCsPWbO",
        "outputId": "e35b4956-6a67-40ba-805f-d83afa719bd0"
      },
      "source": [
        "r2_score(y_test,test_pred) # 테스트 셋 결정 계수"
      ],
      "execution_count": 154,
      "outputs": [
        {
          "output_type": "execute_result",
          "data": {
            "text/plain": [
              "0.949260960155265"
            ]
          },
          "metadata": {},
          "execution_count": 154
        }
      ]
    },
    {
      "cell_type": "markdown",
      "metadata": {
        "id": "mL-rjaHx7Bw-"
      },
      "source": [
        "#  5차항까지 고려한 선형 회귀"
      ]
    },
    {
      "cell_type": "code",
      "metadata": {
        "id": "gpmEoPXH7Gf7"
      },
      "source": [
        "poly=PolynomialFeatures(degree=5,include_bias=False)\n",
        "scaler=StandardScaler() # Transformer\n",
        "lin_reg=LinearRegression() # Estimator\n",
        "model=Pipeline(steps=[('poly',poly),\n",
        "                      ('scaler',scaler),\n",
        "                      ('lin_reg',lin_reg)]) # Pipeline ---> ML 모델(알고리즘)"
      ],
      "execution_count": 155,
      "outputs": []
    },
    {
      "cell_type": "code",
      "metadata": {
        "colab": {
          "base_uri": "https://localhost:8080/"
        },
        "id": "ie2IRoBd7UJ_",
        "outputId": "536c0ef8-c088-400b-e14c-c8559c133169"
      },
      "source": [
        "model.fit(X_train,y_train) # 모델 학습"
      ],
      "execution_count": 156,
      "outputs": [
        {
          "output_type": "execute_result",
          "data": {
            "text/plain": [
              "Pipeline(memory=None,\n",
              "         steps=[('poly',\n",
              "                 PolynomialFeatures(degree=5, include_bias=False,\n",
              "                                    interaction_only=False, order='C')),\n",
              "                ('scaler',\n",
              "                 StandardScaler(copy=True, with_mean=True, with_std=True)),\n",
              "                ('lin_reg',\n",
              "                 LinearRegression(copy_X=True, fit_intercept=True, n_jobs=None,\n",
              "                                  normalize=False))],\n",
              "         verbose=False)"
            ]
          },
          "metadata": {},
          "execution_count": 156
        }
      ]
    },
    {
      "cell_type": "code",
      "metadata": {
        "colab": {
          "base_uri": "https://localhost:8080/"
        },
        "id": "jKH3YJqu7FQY",
        "outputId": "aeca8109-7450-4870-aa87-e140469dd98d"
      },
      "source": [
        "train_pred=model.predict(X_train)\n",
        "train_pred[:5]"
      ],
      "execution_count": 157,
      "outputs": [
        {
          "output_type": "execute_result",
          "data": {
            "text/plain": [
              "array([ 85.00000001, 135.00000001,  78.00000001,  70.00000001,\n",
              "       699.99999999])"
            ]
          },
          "metadata": {},
          "execution_count": 157
        }
      ]
    },
    {
      "cell_type": "code",
      "metadata": {
        "colab": {
          "base_uri": "https://localhost:8080/"
        },
        "id": "tPshxxvR8G9J",
        "outputId": "9259a98d-cf95-41a0-f584-f032dccba165"
      },
      "source": [
        "y_train[:5]"
      ],
      "execution_count": 158,
      "outputs": [
        {
          "output_type": "execute_result",
          "data": {
            "text/plain": [
              "array([ 85., 135.,  78.,  70., 700.])"
            ]
          },
          "metadata": {},
          "execution_count": 158
        }
      ]
    },
    {
      "cell_type": "code",
      "metadata": {
        "colab": {
          "base_uri": "https://localhost:8080/"
        },
        "id": "INxPMWSl8Ord",
        "outputId": "d6038c68-8e69-46df-a64b-e155afde83cd"
      },
      "source": [
        "np.sqrt(mean_squared_error(y_train,train_pred)) # RMSE"
      ],
      "execution_count": 159,
      "outputs": [
        {
          "output_type": "execute_result",
          "data": {
            "text/plain": [
              "6.451254436565875e-09"
            ]
          },
          "metadata": {},
          "execution_count": 159
        }
      ]
    },
    {
      "cell_type": "code",
      "metadata": {
        "colab": {
          "base_uri": "https://localhost:8080/"
        },
        "id": "j1hSTPzf8zkc",
        "outputId": "28afce13-84b4-4d79-de56-0987f025e36e"
      },
      "source": [
        "r2_score(y_train,train_pred) # 결정 계수"
      ],
      "execution_count": 160,
      "outputs": [
        {
          "output_type": "execute_result",
          "data": {
            "text/plain": [
              "1.0"
            ]
          },
          "metadata": {},
          "execution_count": 160
        }
      ]
    },
    {
      "cell_type": "code",
      "metadata": {
        "id": "-zJA2ZoW86lh"
      },
      "source": [
        "test_pred=model.predict(X_test)"
      ],
      "execution_count": 161,
      "outputs": []
    },
    {
      "cell_type": "code",
      "metadata": {
        "colab": {
          "base_uri": "https://localhost:8080/"
        },
        "id": "t-NrabDV9Ha9",
        "outputId": "115b7fce-79d2-4e10-e83b-f70ae4780896"
      },
      "source": [
        "test_pred[:5]"
      ],
      "execution_count": 162,
      "outputs": [
        {
          "output_type": "execute_result",
          "data": {
            "text/plain": [
              "array([11371.40140121,  2337.27796403,   202.4010845 ,   407.75145864,\n",
              "         108.73923664])"
            ]
          },
          "metadata": {},
          "execution_count": 162
        }
      ]
    },
    {
      "cell_type": "code",
      "metadata": {
        "colab": {
          "base_uri": "https://localhost:8080/"
        },
        "id": "djkr-JUC9K6p",
        "outputId": "96a1e944-9444-4db5-ad0e-9d9da809fcf8"
      },
      "source": [
        "y_test[:5]"
      ],
      "execution_count": 163,
      "outputs": [
        {
          "output_type": "execute_result",
          "data": {
            "text/plain": [
              "array([  5.9, 100. , 250. , 130. , 130. ])"
            ]
          },
          "metadata": {},
          "execution_count": 163
        }
      ]
    },
    {
      "cell_type": "code",
      "metadata": {
        "colab": {
          "base_uri": "https://localhost:8080/"
        },
        "id": "5k4yZlnk9y1n",
        "outputId": "f4d3177e-7c57-47c8-b6d2-e7b463cdc32d"
      },
      "source": [
        "np.sqrt(mean_squared_error(y_test,test_pred))"
      ],
      "execution_count": 164,
      "outputs": [
        {
          "output_type": "execute_result",
          "data": {
            "text/plain": [
              "3768.2193148209044"
            ]
          },
          "metadata": {},
          "execution_count": 164
        }
      ]
    },
    {
      "cell_type": "code",
      "metadata": {
        "colab": {
          "base_uri": "https://localhost:8080/"
        },
        "id": "ydspJ3ml94Vd",
        "outputId": "159fd2d0-5c2f-49bb-8828-5900494412c8"
      },
      "source": [
        "r2_score(y_test,test_pred)"
      ],
      "execution_count": 165,
      "outputs": [
        {
          "output_type": "execute_result",
          "data": {
            "text/plain": [
              "-140.4676661620923"
            ]
          },
          "metadata": {},
          "execution_count": 165
        }
      ]
    },
    {
      "cell_type": "markdown",
      "metadata": {
        "id": "yifWzbVR-KRN"
      },
      "source": [
        "고차항이 많아질수록 overfitting (과대적합)이 더 심해지는 경향이 있다."
      ]
    },
    {
      "cell_type": "markdown",
      "metadata": {
        "id": "g9Nx0dA0B3_s"
      },
      "source": [
        "# 규제(Regularization)\n",
        "\n",
        "* `l2`규제(Ridge)\n",
        "* `l1` 규제 (Lasso)\n",
        "* ElasticNet 규제"
      ]
    },
    {
      "cell_type": "markdown",
      "metadata": {
        "id": "1kQPd0SGCxSL"
      },
      "source": [
        "문제를 간단히 하기 위해서 농어의 Weight ~ Length 선형 회귀 문제."
      ]
    },
    {
      "cell_type": "code",
      "metadata": {
        "id": "L96V3WMGC8E6"
      },
      "source": [
        "y= perch['Weight'].values # target"
      ],
      "execution_count": 166,
      "outputs": []
    },
    {
      "cell_type": "code",
      "metadata": {
        "id": "LgRM6Nj4DNvj"
      },
      "source": [
        "X= perch[['Length']].values # feature"
      ],
      "execution_count": 167,
      "outputs": []
    },
    {
      "cell_type": "code",
      "metadata": {
        "id": "0BGKnhljDhtP"
      },
      "source": [
        "# train/test split\n",
        "X_train,X_test,y_train,y_test=train_test_split(X,y,\n",
        "                                               test_size=0.25,\n",
        "                                               random_state=42)"
      ],
      "execution_count": 168,
      "outputs": []
    },
    {
      "cell_type": "markdown",
      "metadata": {
        "id": "rMBGDjbaCXUB"
      },
      "source": [
        "## 규제가 없는 선형 회귀"
      ]
    },
    {
      "cell_type": "code",
      "metadata": {
        "id": "wGoVr-BQB-e2"
      },
      "source": [
        "# 함수 정의(선언)\n",
        "def visuallize_regression(estimator,X_train,y_train):\n",
        "  degrees=(1,2,5,100)\n",
        "  for d in degrees:\n",
        "    poly=PolynomialFeatures(degree=d,include_bias=False)\n",
        "    scaler= StandardScaler()\n",
        "    # ML 모델 생성 \n",
        "    model=Pipeline(steps=[('poly',poly),\n",
        "                          ('scaler',scaler),\n",
        "                          ('reg',estimator)])\n",
        "    model.fit(X_train,y_train) # 모델 학습\n",
        "    print(f'degree={d},W={model[\"reg\"].coef_}')\n",
        "\n",
        "    # 선형 회귀 곡선 시각화 (1차 함수, 2차함수, ...)\n",
        "    # 곡선을 그리기 위한 x 좌표들\n",
        "    X_values=np.arange(14,45,0.001).reshape((-1,1)) # (n_samples,1) shape의 2d array\n",
        "    # 곡선을 그리기 위한 y좌표들\n",
        "    y_values= model.predict(X_values)\n",
        "    plt.plot(X_values,y_values,label=f'degree={d}')\n",
        "\n",
        "  # 훈련 데이터 시각화 (Weight~ Length)\n",
        "  plt.scatter(X_train,y_train,color='darkgray')\n",
        "\n",
        "  # 그래프 cutomizing\n",
        "  plt.xlabel('Length(cm)')\n",
        "  plt.ylabel('Weight(g)')\n",
        "  plt.ylim((-200,1400))\n",
        "  plt.legend()\n",
        "  plt.show()"
      ],
      "execution_count": 169,
      "outputs": []
    },
    {
      "cell_type": "code",
      "metadata": {
        "colab": {
          "base_uri": "https://localhost:8080/",
          "height": 841
        },
        "id": "FYyaIn_8Q-j6",
        "outputId": "fc6ceb8a-2d9a-43c2-ac83-cb5b3297236c"
      },
      "source": [
        "# LinearRegression 객체 생성\n",
        "reg=LinearRegression()\n",
        "# 함수 호출 \n",
        "visuallize_regression(reg,X_train,y_train)"
      ],
      "execution_count": 170,
      "outputs": [
        {
          "output_type": "stream",
          "name": "stdout",
          "text": [
            "degree=1,W=[340.55381311]\n",
            "degree=2,W=[-188.16429447  532.30423546]\n",
            "degree=5,W=[ 1090.51349849 -4377.12096334  5960.80924384 -2038.47216236\n",
            "  -298.04297802]\n",
            "degree=100,W=[ 2.00557630e+10 -2.58408022e+11  1.49532847e+12 -4.90418675e+12\n",
            "  9.34291430e+12 -8.67392996e+12 -7.82611682e+11  7.69668003e+12\n",
            " -5.58109456e+09 -6.79558407e+12 -2.46010065e+12  4.99817517e+12\n",
            "  5.20423172e+12 -1.63569143e+11 -5.04386991e+12 -4.58103039e+12\n",
            " -2.92727936e+11  3.58006339e+12  4.82124023e+12  2.56502444e+12\n",
            " -1.02653972e+12 -3.84050839e+12 -4.08225740e+12 -2.38407359e+12\n",
            "  1.98148411e+11  2.61238310e+12  3.62406355e+12  3.27104682e+12\n",
            "  1.54929950e+12 -4.44063972e+11 -2.07165132e+12 -3.00069992e+12\n",
            " -3.00183843e+12 -2.13789600e+12 -6.78418491e+11  7.14760716e+11\n",
            "  2.02103482e+12  2.55576738e+12  2.52470076e+12  1.91395216e+12\n",
            "  1.04869405e+12  8.39890755e+10 -9.16363136e+11 -1.73570552e+12\n",
            " -2.04897502e+12 -2.09658188e+12 -1.65299115e+12 -1.16987146e+12\n",
            " -4.25185309e+11  2.76530253e+11  9.12030793e+11  1.36269923e+12\n",
            "  1.62030446e+12  1.62185850e+12  1.35146135e+12  1.18636212e+12\n",
            "  6.37891497e+11  9.30442761e+10 -3.07087213e+11 -7.97525808e+11\n",
            " -1.09119222e+12 -1.25596811e+12 -1.20076999e+12 -1.27951426e+12\n",
            " -1.01833445e+12 -5.97085554e+11 -3.60526253e+11  1.73064071e+11\n",
            "  4.90102798e+11  7.60390219e+11  8.76080358e+11  1.08675824e+12\n",
            "  8.93363876e+11  8.47995801e+11  7.48071791e+11  3.58460868e+11\n",
            "  1.88892254e+11 -2.12754968e+11 -5.09387572e+11 -4.66983886e+11\n",
            " -7.17846515e+11 -8.15320173e+11 -8.04217164e+11 -6.39844011e+11\n",
            " -4.69151884e+11 -4.69548440e+10  3.62721502e+11  4.90415492e+11\n",
            "  7.22326490e+11  8.93030174e+11  5.34427578e+11 -4.26221271e+10\n",
            " -1.02153095e+12  0.00000000e+00  0.00000000e+00  0.00000000e+00\n",
            "  0.00000000e+00  0.00000000e+00  0.00000000e+00  0.00000000e+00]\n"
          ]
        },
        {
          "output_type": "stream",
          "name": "stderr",
          "text": [
            "/usr/local/lib/python3.7/dist-packages/numpy/lib/nanfunctions.py:1544: RuntimeWarning: overflow encountered in multiply\n",
            "  sqr = np.multiply(arr, arr, out=arr)\n"
          ]
        },
        {
          "output_type": "display_data",
          "data": {
            "image/png": "[encoded data removed]",
            "text/plain": [
              "<Figure size 432x288 with 1 Axes>"
            ]
          },
          "metadata": {
            "needs_background": "light"
          }
        }
      ]
    },
    {
      "cell_type": "markdown",
      "metadata": {
        "id": "Xqni0RMOR1jy"
      },
      "source": [
        "## `l2` 규제(RIdge regularization)"
      ]
    },
    {
      "cell_type": "code",
      "metadata": {
        "colab": {
          "base_uri": "https://localhost:8080/",
          "height": 823
        },
        "id": "WjRTZekTR7NA",
        "outputId": "476e86bf-fae2-4f66-ec66-69bd8ab8d239"
      },
      "source": [
        "reg=Ridge()\n",
        "visuallize_regression(reg,X_train,y_train)"
      ],
      "execution_count": 171,
      "outputs": [
        {
          "output_type": "stream",
          "name": "stdout",
          "text": [
            "degree=1,W=[332.63395699]\n",
            "degree=2,W=[ 90.58971122 249.48800198]\n",
            "degree=5,W=[71.46390274 95.36902828 90.24481144 64.15690222 24.69095831]\n",
            "degree=100,W=[ 5.68458773e+01  7.11425789e+01  7.19548031e+01  6.42812775e+01\n",
            "  5.23489678e+01  3.91902142e+01  2.67131342e+01  1.59431315e+01\n",
            "  7.28932355e+00  7.73385834e-01 -3.79884638e+00 -6.72086082e+00\n",
            " -8.31296552e+00 -8.88121060e+00 -8.69698510e+00 -7.98930587e+00\n",
            " -6.94436388e+00 -5.70885132e+00 -4.39495875e+00 -3.08582633e+00\n",
            " -1.84079404e+00 -7.00133384e-01  3.10859884e-01  1.17842459e+00\n",
            "  1.89750069e+00  2.46943497e+00  2.90014981e+00  3.19870069e+00\n",
            "  3.37615470e+00  3.44473059e+00  3.41714966e+00  3.30615492e+00\n",
            "  3.12416328e+00  2.88302224e+00  2.59384748e+00  2.26692283e+00\n",
            "  1.91164759e+00  1.53651914e+00  1.14914171e+00  7.56253695e-01\n",
            "  3.63767984e-01 -2.31792990e-02 -4.00174914e-01 -7.63472115e-01\n",
            " -1.10993364e+00 -1.43697553e+00 -1.74251269e+00 -2.02490700e+00\n",
            " -2.28291835e+00 -2.51565892e+00 -2.72255076e+00 -2.90328676e+00\n",
            " -3.05779501e+00 -3.18620626e+00 -3.28882457e+00 -3.36610077e+00\n",
            " -3.41860873e+00 -3.44702409e+00 -3.45210537e+00 -3.43467726e+00\n",
            " -3.39561579e+00 -3.33583541e+00 -3.25627759e+00 -3.15790099e+00\n",
            " -3.04167284e+00 -2.90856165e+00 -2.75953086e+00 -2.59553350e+00\n",
            " -2.41750771e+00 -2.22637298e+00 -2.02302706e+00 -1.80834346e+00\n",
            " -1.58316945e+00 -1.34832457e+00 -1.10459943e+00 -8.52754959e-01\n",
            " -5.93521859e-01 -3.27600388e-01 -5.56603146e-02  2.21658924e-01\n",
            "  5.03747911e-01  7.90026804e-01  1.07994478e+00  1.37297941e+00\n",
            "  1.66863589e+00  1.96644634e+00  2.26596893e+00  2.56678705e+00\n",
            "  2.86850844e+00  3.17076429e+00  3.47320836e+00  3.77551605e+00\n",
            "  4.07738357e+00  0.00000000e+00  0.00000000e+00  0.00000000e+00\n",
            "  0.00000000e+00  0.00000000e+00  0.00000000e+00  0.00000000e+00]\n"
          ]
        },
        {
          "output_type": "stream",
          "name": "stderr",
          "text": [
            "/usr/local/lib/python3.7/dist-packages/numpy/lib/nanfunctions.py:1544: RuntimeWarning: overflow encountered in multiply\n",
            "  sqr = np.multiply(arr, arr, out=arr)\n"
          ]
        },
        {
          "output_type": "display_data",
          "data": {
            "image/png": "[encoded data removed]",
            "text/plain": [
              "<Figure size 432x288 with 1 Axes>"
            ]
          },
          "metadata": {
            "needs_background": "light"
          }
        }
      ]
    },
    {
      "cell_type": "markdown",
      "metadata": {
        "id": "-_g8SM-ITt3z"
      },
      "source": [
        "Ridge 규제의 효과는 고차항들의 계수(coefficients, 기울기)를 작게 만들어서 곡선의 기울기를 완만하게 만들어 주게 됨.  "
      ]
    },
    {
      "cell_type": "markdown",
      "metadata": {
        "id": "M0I-PGNdUbln"
      },
      "source": [
        "## `l1` 규제(Lasso Regularization)"
      ]
    },
    {
      "cell_type": "code",
      "metadata": {
        "colab": {
          "base_uri": "https://localhost:8080/",
          "height": 789
        },
        "id": "k5j-aMTmUj-t",
        "outputId": "82ade762-f117-497a-dd67-5ddf3dba41fe"
      },
      "source": [
        "reg=Lasso()\n",
        "visuallize_regression(reg,X_train,y_train)"
      ],
      "execution_count": 172,
      "outputs": [
        {
          "output_type": "stream",
          "name": "stdout",
          "text": [
            "degree=1,W=[339.55381311]\n",
            "degree=2,W=[-37.56688954 381.72140363]\n",
            "degree=5,W=[  0.         169.86798493 175.39652371   0.          -0.        ]\n",
            "degree=100,W=[  0.          63.2765925  268.72581206  29.02636369   0.\n",
            "   0.           0.           0.          -0.          -0.\n",
            "  -0.          -0.          -0.          -0.          -0.\n",
            "  -0.          -0.          -0.          -0.          -0.\n",
            "  -0.          -0.          -0.          -0.          -0.\n",
            "  -0.          -0.          -0.          -0.          -0.\n",
            "  -0.          -0.          -0.          -0.          -0.\n",
            "  -0.          -0.          -0.          -0.          -0.\n",
            "  -0.          -0.          -0.          -0.          -0.\n",
            "  -0.          -0.          -0.          -0.          -0.\n",
            "  -0.          -0.          -0.          -0.          -6.77634564\n",
            "  -6.07574687  -5.17017489  -4.29993019  -3.4658082   -2.66828008\n",
            "  -1.90753532  -1.18352019  -0.49597256  -0.          -0.\n",
            "  -0.          -0.          -0.          -0.          -0.\n",
            "  -0.          -0.          -0.          -0.          -0.\n",
            "  -0.          -0.          -0.          -0.          -0.\n",
            "  -0.          -0.          -0.          -0.          -0.\n",
            "  -0.          -0.          -0.          -0.          -0.\n",
            "  -0.          -0.          -0.           0.           0.\n",
            "   0.           0.           0.           0.           0.        ]\n"
          ]
        },
        {
          "output_type": "stream",
          "name": "stderr",
          "text": [
            "/usr/local/lib/python3.7/dist-packages/numpy/lib/nanfunctions.py:1544: RuntimeWarning: overflow encountered in multiply\n",
            "  sqr = np.multiply(arr, arr, out=arr)\n",
            "/usr/local/lib/python3.7/dist-packages/sklearn/linear_model/_coordinate_descent.py:476: ConvergenceWarning: Objective did not converge. You might want to increase the number of iterations. Duality gap: 761.342244306521, tolerance: 518.2793833333334\n",
            "  positive)\n"
          ]
        },
        {
          "output_type": "display_data",
          "data": {
            "image/png": "[encoded data removed]",
            "text/plain": [
              "<Figure size 432x288 with 1 Axes>"
            ]
          },
          "metadata": {
            "needs_background": "light"
          }
        }
      ]
    },
    {
      "cell_type": "markdown",
      "metadata": {
        "id": "JRDUe4TrW8-Z"
      },
      "source": [
        "Lasso 규제는 중요하지 않은 고차항들의 계수를 0으로 만들어 줌으로써, 곡선을 완만하게 만들어 주는 효과가 생김. 과대적합을 줄여주는 효과. "
      ]
    },
    {
      "cell_type": "markdown",
      "metadata": {
        "id": "cXY6hmF8zO2u"
      },
      "source": [
        "## ElasticNet"
      ]
    },
    {
      "cell_type": "code",
      "metadata": {
        "colab": {
          "base_uri": "https://localhost:8080/",
          "height": 823
        },
        "id": "KlwhDiRHXQ6H",
        "outputId": "f3dbbb7e-a640-4ba0-f848-98b662cc54e5"
      },
      "source": [
        "visuallize_regression(ElasticNet(),X_train,y_train)"
      ],
      "execution_count": 173,
      "outputs": [
        {
          "output_type": "stream",
          "name": "stdout",
          "text": [
            "degree=1,W=[226.70254207]\n",
            "degree=2,W=[132.58403091 142.14452539]\n",
            "degree=5,W=[65.81871932 66.12553502 64.44511229 61.45264451 57.66069996]\n",
            "degree=100,W=[ 5.37266781e+01  5.02547097e+01  4.56276297e+01  4.04950707e+01\n",
            "  3.52929284e+01  3.02982404e+01  2.56736771e+01  2.15003478e+01\n",
            "  1.78033024e+01  1.45715607e+01  1.17731829e+01  9.36589058e+00\n",
            "  7.30403328e+00  5.54281382e+00  4.04060776e+00  2.76004271e+00\n",
            "  1.66831789e+00  7.37088409e-01  0.00000000e+00  0.00000000e+00\n",
            " -0.00000000e+00 -0.00000000e+00 -2.27791529e-01 -5.90474953e-01\n",
            " -9.00842714e-01 -1.16612354e+00 -1.39237937e+00 -1.58470077e+00\n",
            " -1.74737049e+00 -1.88399987e+00 -1.99764224e+00 -2.09088710e+00\n",
            " -2.16593838e+00 -2.22467956e+00 -2.26872791e+00 -2.29947991e+00\n",
            " -2.31814926e+00 -2.32579877e+00 -2.32336730e+00 -2.31169228e+00\n",
            " -2.29152875e+00 -2.26356518e+00 -2.22843668e+00 -2.18673587e+00\n",
            " -2.13902157e+00 -2.08582576e+00 -2.02765877e+00 -1.96501303e+00\n",
            " -1.89836548e+00 -1.82817884e+00 -1.75490190e+00 -1.67896900e+00\n",
            " -1.60079893e+00 -1.52079329e+00 -1.43933470e+00 -1.35678479e+00\n",
            " -1.27348228e+00 -1.18974115e+00 -1.10584901e+00 -1.02206592e+00\n",
            " -9.38623352e-01 -8.55723712e-01 -7.73540144e-01 -6.92216761e-01\n",
            " -6.11869231e-01 -5.32585704e-01 -4.54428042e-01 -3.77433330e-01\n",
            " -3.01615619e-01 -2.26967876e-01 -1.53464107e-01 -8.10616212e-02\n",
            " -9.70341472e-03 -0.00000000e+00 -0.00000000e+00 -0.00000000e+00\n",
            " -0.00000000e+00 -0.00000000e+00 -0.00000000e+00 -0.00000000e+00\n",
            " -0.00000000e+00 -0.00000000e+00 -0.00000000e+00 -0.00000000e+00\n",
            " -0.00000000e+00 -0.00000000e+00 -0.00000000e+00  0.00000000e+00\n",
            "  0.00000000e+00  0.00000000e+00  0.00000000e+00  0.00000000e+00\n",
            "  0.00000000e+00  0.00000000e+00  0.00000000e+00  0.00000000e+00\n",
            "  0.00000000e+00  0.00000000e+00  0.00000000e+00  0.00000000e+00]\n"
          ]
        },
        {
          "output_type": "stream",
          "name": "stderr",
          "text": [
            "/usr/local/lib/python3.7/dist-packages/numpy/lib/nanfunctions.py:1544: RuntimeWarning: overflow encountered in multiply\n",
            "  sqr = np.multiply(arr, arr, out=arr)\n"
          ]
        },
        {
          "output_type": "display_data",
          "data": {
            "image/png": "[encoded data removed]",
            "text/plain": [
              "<Figure size 432x288 with 1 Axes>"
            ]
          },
          "metadata": {
            "needs_background": "light"
          }
        }
      ]
    },
    {
      "cell_type": "markdown",
      "metadata": {
        "id": "TMCV6MYZXzUX"
      },
      "source": [
        "ElasticNet은 Ridge 규제와 Lasso 규제의 효과를 모두 가지고있음."
      ]
    },
    {
      "cell_type": "markdown",
      "metadata": {
        "id": "SHTLoqnzqgdw"
      },
      "source": [
        "* 머신 러닝의 목적은 목적 함수(objective function)/비용 함수(cost function)/손실 함수(loss function)을 최소화하는 것.\n",
        "* 선형 회귀(linear regression)의 목적은 MSE(mean_squared_error)를 최소로 만드는 계수들($w_0, ..., w_m$)을 찾는 것. 즉, 선형 회귀의 목적 함수는 MSE(w).$$\n",
        "J(w) = MSE(w) \n",
        "   = \\dfrac{1}{N} \\sum_{i=1}^{N} (y_i - \\hat{y_i})^2 \n",
        "   = \\dfrac{1}{N} \\sum_{i=1}^{N} (y_i - (w_0 + \\sum_{j=1}^{m} w_{j} \\cdot x_{ij}))^2\n",
        "$$\n",
        "\n",
        "  * N: 샘플의 개수(DataFrame의 row의 개수)\n",
        "  * m: 특성의 개수(DataFrame의 column의 개수)\n",
        "  * $y_i$: i번째 샘플의 실젯값\n",
        "  * $\\hat{y_i}$: i번째 샘플의 예측값\n",
        "  * $x_{ij}$: i번째 샘플의 j번째 특성 값\n",
        "  * $w_j$: j번째 특성에 곱해주는 계수(기울기)\n",
        "* Ridge(l2) 규제의 목적은 아래의 비용 함수를 최소로 만드는 계수들($w_0, ..., w_m$)을 찾는 것.\n",
        "\n",
        "$$\n",
        "J(w) = MSE(w) + \\dfrac{\\alpha}{2} \\mid\\mid w \\mid\\mid ^2\n",
        "$$\n",
        "* Lasso(l1) 규제의 목적은 아래의 비용 함수를 최소로 만드는 계수들($w_0, ..., w_m$)을 찾는 것.\n",
        "$$\n",
        "J(w) = MSE(w) + \\alpha \\mid\\mid w \\mid\\mid\n",
        "$$\n",
        "* ElasticNet 규제의 목적은 아래의 비용 함수를 최소로 만드는 계수들($w_0, ..., w_m$)을 찾는 것.\n",
        "$$\n",
        "J(w) = MSE(w) + r \\alpha \\mid\\mid w \\mid\\mid \n",
        "              + \\dfrac{1 - r}{2} \\alpha \\mid\\mid w \\mid\\mid ^2\n",
        "$$\n",
        "* Ridge, Lasso에서 $\\alpha$ 값이 크면 규제가 강해지고, $\\alpha$ 값이 작으면 규제가 약해짐.\n",
        "ElasticNet에서 $\\alpha$는 규제의 크기를 의미하고, $r$은 l1 규제의 비율($0 \\le r \\lt 1$)을 의미함."
      ]
    },
    {
      "cell_type": "markdown",
      "metadata": {
        "id": "G7Tqu72wzqxw"
      },
      "source": [
        "# 규제 크기($ \\alpha $) 에 따른 선형 회귀 점수(결정 계수)"
      ]
    },
    {
      "cell_type": "code",
      "metadata": {
        "id": "iEWjsZUaqyYn"
      },
      "source": [
        "def visualize_r2_score(estimator,X_train,y_train,X_test,y_test):\n",
        "  train_scores=[] # alpha 값을 변화시키면서 계산한 훈련 셋의 결정 계수를 저장할 리스트 \n",
        "  test_scores=[] # alpha 값을 변화시키면서 계산한 테스트 셋의 결정 계수를 저장할 리스트\n",
        "  alphas= [10**x for x in range(-3,3)]  # alphas=[0.001,0.01,0.1,1,10] \n",
        "\n",
        "  for a in alphas:  # 서로 다른 alpha들을 반복하면서 \n",
        "      # 머신 러닝 모델 생성\n",
        "      poly=PolynomialFeatures(degree=5,include_bias=False)\n",
        "      scaler=StandardScaler()\n",
        "      if estimator == 'ridge':\n",
        "        reg=Ridge(alpha=a)\n",
        "      elif estimator== 'lasso':\n",
        "        reg=Lasso(alpha=a)\n",
        "      elif estimator=='elastic':\n",
        "        reg=ElasticNet(alpha=a)\n",
        "      else:\n",
        "        raise ValueError('estimator는 \"ridge\",\"lasso\",\"elastic\"이어야함!')\n",
        "\n",
        "      model= Pipeline(steps=[('poly',poly),\n",
        "                             ('scaler',scaler),\n",
        "                             ('reg',reg)])\n",
        "      \n",
        "      # 머신 러닝 모델 학습시킴. \n",
        "      model.fit(X_train,y_train)\n",
        "      # 훈련 셋 평가 점수(결정 계수) 계산하고 리스트에 추가\n",
        "      train_pred=model.predict(X_train)\n",
        "      train_r2=r2_score(y_train,train_pred)\n",
        "      train_scores.append(train_r2)\n",
        "      # 테스트 셋 평가 점수 (결정 계수)를 계산하고 리스트에 추가\n",
        "      test_pred=model.predict(X_test)\n",
        "      test_r2=r2_score(y_test,test_pred)\n",
        "      test_scores.append(test_r2)\n",
        "\n",
        "  print('train scores',train_scores)\n",
        "  print('test scores',test_scores)\n",
        "    # 시각화\n",
        "  plt.plot(np.log10(alphas),train_scores,'bo-',label='Train score')\n",
        "  plt.plot(np.log10(alphas),test_scores,'ro:',label='Test score')\n",
        "  plt.legend()\n",
        "  plt.show()"
      ],
      "execution_count": 194,
      "outputs": []
    },
    {
      "cell_type": "code",
      "metadata": {
        "colab": {
          "base_uri": "https://localhost:8080/",
          "height": 320
        },
        "id": "sfUeWqWz89j-",
        "outputId": "c43a460b-3d9d-453a-bb85-ac79247b8b26"
      },
      "source": [
        "visualize_r2_score('ridge',X_train,y_train,X_test,y_test)"
      ],
      "execution_count": 191,
      "outputs": [
        {
          "output_type": "stream",
          "name": "stdout",
          "text": [
            "train scores [0.9736543234476451, 0.9733770960543661, 0.9708464608091912, 0.9675257933461249, 0.9641329386626264, 0.8627487881080745]\n",
            "test scores [0.9798046964920933, 0.9789530910605557, 0.9764445172290546, 0.9665833996552662, 0.973317754557548, 0.8976726580323618]\n"
          ]
        },
        {
          "output_type": "display_data",
          "data": {
            "image/png": "[encoded data removed]",
            "text/plain": [
              "<Figure size 432x288 with 1 Axes>"
            ]
          },
          "metadata": {
            "needs_background": "light"
          }
        }
      ]
    },
    {
      "cell_type": "code",
      "metadata": {
        "colab": {
          "base_uri": "https://localhost:8080/",
          "height": 426
        },
        "id": "tKjRuJPHAVZS",
        "outputId": "d2f77246-8172-4000-e567-f30a15851764"
      },
      "source": [
        "visualize_r2_score('lasso',X_train,y_train,X_test,y_test)"
      ],
      "execution_count": 195,
      "outputs": [
        {
          "output_type": "stream",
          "name": "stderr",
          "text": [
            "/usr/local/lib/python3.7/dist-packages/sklearn/linear_model/_coordinate_descent.py:476: ConvergenceWarning: Objective did not converge. You might want to increase the number of iterations. Duality gap: 68371.36027450048, tolerance: 518.2793833333334\n",
            "  positive)\n",
            "/usr/local/lib/python3.7/dist-packages/sklearn/linear_model/_coordinate_descent.py:476: ConvergenceWarning: Objective did not converge. You might want to increase the number of iterations. Duality gap: 60897.25696900669, tolerance: 518.2793833333334\n",
            "  positive)\n",
            "/usr/local/lib/python3.7/dist-packages/sklearn/linear_model/_coordinate_descent.py:476: ConvergenceWarning: Objective did not converge. You might want to increase the number of iterations. Duality gap: 19450.81478042998, tolerance: 518.2793833333334\n",
            "  positive)\n"
          ]
        },
        {
          "output_type": "stream",
          "name": "stdout",
          "text": [
            "train scores [0.9732647559337357, 0.9732456220772678, 0.9728858940077052, 0.9692636157789123, 0.9684606645363231, 0.8880500221451817]\n",
            "test scores [0.9756595783526614, 0.9759957561350032, 0.9787105890743735, 0.9718691066691287, 0.97500542785893, 0.917866091243881]\n"
          ]
        },
        {
          "output_type": "display_data",
          "data": {
            "image/png": "[encoded data removed]",
            "text/plain": [
              "<Figure size 432x288 with 1 Axes>"
            ]
          },
          "metadata": {
            "needs_background": "light"
          }
        }
      ]
    },
    {
      "cell_type": "code",
      "metadata": {
        "colab": {
          "base_uri": "https://localhost:8080/",
          "height": 390
        },
        "id": "XBuJGn9rA0Pr",
        "outputId": "91504662-661c-43c5-f276-a1a52595eaac"
      },
      "source": [
        "visualize_r2_score('elastic',X_train,y_train,X_test,y_test)"
      ],
      "execution_count": 198,
      "outputs": [
        {
          "output_type": "stream",
          "name": "stderr",
          "text": [
            "/usr/local/lib/python3.7/dist-packages/sklearn/linear_model/_coordinate_descent.py:476: ConvergenceWarning: Objective did not converge. You might want to increase the number of iterations. Duality gap: 73193.66132866153, tolerance: 518.2793833333334\n",
            "  positive)\n",
            "/usr/local/lib/python3.7/dist-packages/sklearn/linear_model/_coordinate_descent.py:476: ConvergenceWarning: Objective did not converge. You might want to increase the number of iterations. Duality gap: 868.8427452529431, tolerance: 518.2793833333334\n",
            "  positive)\n"
          ]
        },
        {
          "output_type": "stream",
          "name": "stdout",
          "text": [
            "train scores [0.9729318909719307, 0.9694267645740603, 0.9669667595405638, 0.9574099753809557, 0.7128959260018337, 0.1419437414816156]\n",
            "test scores [0.9792791927855977, 0.9717021238527076, 0.9675102498277163, 0.9741613969257316, 0.7439362036454651, 0.10755935075190703]\n"
          ]
        },
        {
          "output_type": "display_data",
          "data": {
            "image/png": "[encoded data removed]",
            "text/plain": [
              "<Figure size 432x288 with 1 Axes>"
            ]
          },
          "metadata": {
            "needs_background": "light"
          }
        }
      ]
    },
    {
      "cell_type": "markdown",
      "metadata": {
        "id": "ON9I80Oi-jhC"
      },
      "source": [
        "## 농어(Perch)의 모든 특성(Length,Diagonal,Height,Width)을 사용하고,$\\alpha$값을 변화 시키면서 Ridge,Lasso,ElasticNet 을 비교"
      ]
    },
    {
      "cell_type": "code",
      "metadata": {
        "id": "ZyxuhsRTCVui"
      },
      "source": [
        ""
      ],
      "execution_count": null,
      "outputs": []
    }
  ]
}