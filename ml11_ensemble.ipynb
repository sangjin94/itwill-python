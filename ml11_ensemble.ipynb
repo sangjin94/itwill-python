{
  "nbformat": 4,
  "nbformat_minor": 0,
  "metadata": {
    "colab": {
      "name": "ml11_ensemble.ipynb",
      "provenance": [],
      "collapsed_sections": [],
      "authorship_tag": "ABX9TyN+gjj97PgIVBcaTdCRvflS",
      "include_colab_link": true
    },
    "kernelspec": {
      "name": "python3",
      "display_name": "Python 3"
    },
    "language_info": {
      "name": "python"
    }
  },
  "cells": [
    {
      "cell_type": "markdown",
      "metadata": {
        "id": "view-in-github",
        "colab_type": "text"
      },
      "source": [
        "<a href=\"https://colab.research.google.com/github/sangjin94/itwill-python/blob/main/ml11_ensemble.ipynb\" target=\"_parent\"><img src=\"https://colab.research.google.com/assets/colab-badge.svg\" alt=\"Open In Colab\"/></a>"
      ]
    },
    {
      "cell_type": "markdown",
      "metadata": {
        "id": "RNhWvGoQBaR1"
      },
      "source": [
        "# Ensemble Learning(앙상블 학습 방법)\n",
        "\n",
        "* 앙상블(ensemble) : 머신 러닝에서 사용되는 일련의 모델(알고리즘) 들.\n",
        "  * 서로 다른 모델 여러 개를 학습시키는 방법.\n",
        "  * 한 가지 모델을 서로 다른 훈련 셋에서 학습시키는 방법. \n",
        "* 앙상블 학습 방법: 앙상블을 사용한 머신 러닝 방법\n",
        "  * 투표(voting) 방식: 여러 모델을 학습 시켜서 각각의 예측값을 투표(다수결) 또는 평균값으로 예측하는 방법. \n",
        "  * **Bagging(Bootstrap Aggregaging)**: 중복을 허용해서 샘플링한 훈련 셋의 부분집합들을 하나의 알고리즘에 학습시켜서 예측\n",
        "  * pasting: 중복을 허용하지 않고 샘플링한 훈련 셋의 부분집합들을 하나의 알고리즘에 학습시켜서 예측하는 방법.\n",
        "  * **Random Forest**: **Bagging**을 사용한 **Decision Tree**들의 **Ensemble** 학습 방법."
      ]
    },
    {
      "cell_type": "markdown",
      "metadata": {
        "id": "gn8y5MqOD6UT"
      },
      "source": [
        "#Imports"
      ]
    },
    {
      "cell_type": "code",
      "metadata": {
        "id": "lAUecyPsD8KX"
      },
      "source": [
        "import numpy as np\n",
        "import pandas as pd\n",
        "import matplotlib.pyplot as plt\n",
        "\n",
        "from sklearn import datasets\n",
        "from sklearn.model_selection import train_test_split,cross_validate,cross_val_score\n",
        "from sklearn.neighbors import KNeighborsClassifier\n",
        "from sklearn.linear_model import LogisticRegression,SGDClassifier\n",
        "from sklearn.tree import DecisionTreeClassifier\n",
        "from sklearn.svm import SVC,SVR # Support Vector Machine을 사용한 분류 알고리즘\n",
        "from sklearn.ensemble import VotingClassifier,BaggingClassifier, RandomForestClassifier\n",
        "from sklearn.ensemble import ExtraTreesClassifier,GradientBoostingClassifier\n",
        "\n",
        "from xgboost import XGBClassifier # Extreme Gradient Boosting\n",
        "from lightgbm import LGBMClassifier "
      ],
      "execution_count": 79,
      "outputs": []
    },
    {
      "cell_type": "markdown",
      "metadata": {
        "id": "dyQ3Aq6oGGCm"
      },
      "source": [
        "# Dataset 준비\n",
        "\n",
        "2개의 특성(x1,x2)과, 2개의 클래스(0,1)를 갖는 가상의 데이터 셋"
      ]
    },
    {
      "cell_type": "code",
      "metadata": {
        "id": "MbEp5HcSGXT5"
      },
      "source": [
        "X,y= datasets.make_moons(n_samples=500,noise=0.3,random_state=42)"
      ],
      "execution_count": 58,
      "outputs": []
    },
    {
      "cell_type": "code",
      "metadata": {
        "colab": {
          "base_uri": "https://localhost:8080/"
        },
        "id": "eUBs3al5Gjby",
        "outputId": "bcbcc3b7-4d42-41e3-807c-5ca37346be40"
      },
      "source": [
        "X.shape,y.shape"
      ],
      "execution_count": 59,
      "outputs": [
        {
          "output_type": "execute_result",
          "data": {
            "text/plain": [
              "((500, 2), (500,))"
            ]
          },
          "metadata": {},
          "execution_count": 59
        }
      ]
    },
    {
      "cell_type": "code",
      "metadata": {
        "colab": {
          "base_uri": "https://localhost:8080/"
        },
        "id": "HPwVuOyNBNc1",
        "outputId": "989029df-a303-49be-d8c8-32bd9ea86e65"
      },
      "source": [
        " np.unique(y)"
      ],
      "execution_count": 60,
      "outputs": [
        {
          "output_type": "execute_result",
          "data": {
            "text/plain": [
              "array([0, 1])"
            ]
          },
          "metadata": {},
          "execution_count": 60
        }
      ]
    },
    {
      "cell_type": "code",
      "metadata": {
        "colab": {
          "base_uri": "https://localhost:8080/",
          "height": 279
        },
        "id": "bnmuWn_IG_LO",
        "outputId": "12808f37-e946-4b10-ac61-649fd35f3ebc"
      },
      "source": [
        "plt.scatter(X[y==0,0],X[y==0,1],label='class_0')\n",
        "plt.scatter(X[y==1,0],X[y==1,1],label='class_1')\n",
        "plt.legend()\n",
        "plt.grid()\n",
        "plt.xlabel('x1')\n",
        "plt.ylabel('x2')\n",
        "plt.show()"
      ],
      "execution_count": 61,
      "outputs": [
        {
          "output_type": "display_data",
          "data": {
            "image/png": "[encoded data removed]",
            "text/plain": [
              "<Figure size 432x288 with 1 Axes>"
            ]
          },
          "metadata": {
            "needs_background": "light"
          }
        }
      ]
    },
    {
      "cell_type": "code",
      "metadata": {
        "id": "1ph12dxZalPP"
      },
      "source": [
        "# train/test set 분리\n",
        "X_train, X_test, y_train, y_test = train_test_split(X, y,\n",
        "                                                    test_size=0.2,\n",
        "                                                    stratify=y,\n",
        "                                                    random_state=42)"
      ],
      "execution_count": 62,
      "outputs": []
    },
    {
      "cell_type": "markdown",
      "metadata": {
        "id": "YP_qobTVa5c0"
      },
      "source": [
        "# 머신 러닝 모델 비교\n",
        "\n",
        "* 여러 개의 머신 러닝 모델들을 훈련셋(X_train,X_test)로 훈련\n",
        "  * KNN, Logistic Regression, SGD, Decision Tree, SVM\n",
        "* 훈련 된 각 모델에서 테스트 셋의 점수(정확도)를 계산, 평가 "
      ]
    },
    {
      "cell_type": "code",
      "metadata": {
        "id": "IzIDN0TQa1Du"
      },
      "source": [
        "# 5개의 머신 러닝 학습기 객체 생성\n",
        "knn_clf= KNeighborsClassifier(n_jobs=-1)\n",
        "log_clf=LogisticRegression(random_state=42,n_jobs=-1)\n",
        "sgd_clf=SGDClassifier(loss='log',n_jobs=-1,random_state=42)\n",
        "tree_clf=DecisionTreeClassifier(random_state=42)\n",
        "svm_clf=SVC(probability=True,random_state=42)"
      ],
      "execution_count": 63,
      "outputs": []
    },
    {
      "cell_type": "code",
      "metadata": {
        "colab": {
          "base_uri": "https://localhost:8080/"
        },
        "id": "bPTqWqyMd1D9",
        "outputId": "37cf6205-7d2b-48b3-90d2-86af1b785100"
      },
      "source": [
        "knn_clf.__class__"
      ],
      "execution_count": 64,
      "outputs": [
        {
          "output_type": "execute_result",
          "data": {
            "text/plain": [
              "sklearn.neighbors._classification.KNeighborsClassifier"
            ]
          },
          "metadata": {},
          "execution_count": 64
        }
      ]
    },
    {
      "cell_type": "code",
      "metadata": {
        "colab": {
          "base_uri": "https://localhost:8080/"
        },
        "id": "jCVvrj-JdO-M",
        "outputId": "5c5af674-d700-487f-a6b3-656c2a29060f"
      },
      "source": [
        "classifiers=[knn_clf,log_clf,sgd_clf,tree_clf,svm_clf]\n",
        "for clf in classifiers:\n",
        "  clf.fit(X_train,y_train) # 모델 훈련\n",
        "  acc= clf.score(X_test,y_test) # 테스트 셋 평가 점수(정확도) 계산\n",
        "  print(clf.__class__.__name__,'accuracy:',acc)"
      ],
      "execution_count": 65,
      "outputs": [
        {
          "output_type": "stream",
          "name": "stdout",
          "text": [
            "KNeighborsClassifier accuracy:  0.93\n",
            "LogisticRegression accuracy:  0.81\n",
            "SGDClassifier accuracy:  0.81\n",
            "DecisionTreeClassifier accuracy:  0.84\n",
            "SVC accuracy:  0.93\n"
          ]
        }
      ]
    },
    {
      "cell_type": "markdown",
      "metadata": {
        "id": "72qB6g9jexzm"
      },
      "source": [
        "# Voting Ensemble"
      ]
    },
    {
      "cell_type": "code",
      "metadata": {
        "id": "PuQVT_u4e1C5"
      },
      "source": [
        "# VotingEnsemble 학습기 객체 생성\n",
        "vote_clf=VotingClassifier(estimators=[('knn',knn_clf),\n",
        "                                      ('log',log_clf),\n",
        "                                      ('sgd',sgd_clf),\n",
        "                                      ('tree',tree_clf),\n",
        "                                      ('svm',svm_clf)],\n",
        "                          voting='soft',n_jobs=-1)\n",
        "# estimators:VotingEnsemble을 만들기 위한 ML모델 ('모델이름', 모델 객체) 튜플들의 리스트\n",
        "# voting: 투표방식\n",
        "#> voting='hard': 모든 ML모델들이 동일하게 1표씩 행사.\n",
        "#> voting='soft': 각 모델에 예측값에 각 모델에서 예측된 예측 확률을 가중치로 곱합 값을 사용해서 결과를 예측\n",
        "#> 일반적으로 soft voting 방식이 hard voting 방식보다 성능이 더 좋다고 알려져 있음.  "
      ],
      "execution_count": 66,
      "outputs": []
    },
    {
      "cell_type": "code",
      "metadata": {
        "colab": {
          "base_uri": "https://localhost:8080/"
        },
        "id": "TN266F9LiUqH",
        "outputId": "5f0cb1aa-2c27-40b8-ea78-a34021f77787"
      },
      "source": [
        "# 모델 학습\n",
        "vote_clf.fit(X_train, y_train)"
      ],
      "execution_count": 69,
      "outputs": [
        {
          "output_type": "execute_result",
          "data": {
            "text/plain": [
              "VotingClassifier(estimators=[('knn',\n",
              "                              KNeighborsClassifier(algorithm='auto',\n",
              "                                                   leaf_size=30,\n",
              "                                                   metric='minkowski',\n",
              "                                                   metric_params=None,\n",
              "                                                   n_jobs=-1, n_neighbors=5,\n",
              "                                                   p=2, weights='uniform')),\n",
              "                             ('log',\n",
              "                              LogisticRegression(C=1.0, class_weight=None,\n",
              "                                                 dual=False, fit_intercept=True,\n",
              "                                                 intercept_scaling=1,\n",
              "                                                 l1_ratio=None, max_iter=100,\n",
              "                                                 multi_class='auto', n_jobs=-1,\n",
              "                                                 penalty='l2', random_s...\n",
              "                                                     min_weight_fraction_leaf=0.0,\n",
              "                                                     presort='deprecated',\n",
              "                                                     random_state=42,\n",
              "                                                     splitter='best')),\n",
              "                             ('svm',\n",
              "                              SVC(C=1.0, break_ties=False, cache_size=200,\n",
              "                                  class_weight=None, coef0=0.0,\n",
              "                                  decision_function_shape='ovr', degree=3,\n",
              "                                  gamma='scale', kernel='rbf', max_iter=-1,\n",
              "                                  probability=True, random_state=42,\n",
              "                                  shrinking=True, tol=0.001, verbose=False))],\n",
              "                 flatten_transform=True, n_jobs=-1, voting='soft',\n",
              "                 weights=None)"
            ]
          },
          "metadata": {},
          "execution_count": 69
        }
      ]
    },
    {
      "cell_type": "code",
      "metadata": {
        "id": "-A0mqYAGlgVP"
      },
      "source": [
        "# 모델 평가\n",
        "vote_clf.score(X_test, y_test)"
      ],
      "execution_count": null,
      "outputs": []
    },
    {
      "cell_type": "markdown",
      "metadata": {
        "id": "qKe0XNxuid6m"
      },
      "source": [
        "# Bagging(Bootstrap Aggregating) Ensemble"
      ]
    },
    {
      "cell_type": "code",
      "metadata": {
        "id": "YQdT4CNFjRgu"
      },
      "source": [
        "# bagging ensemble 객체 생성 \n",
        "bagging_clf=BaggingClassifier(base_estimator=DecisionTreeClassifier(random_state=42),\n",
        "                              n_estimators=50,\n",
        "                              max_samples=100,\n",
        "                              bootstrap=True,\n",
        "                              oob_score=True,\n",
        "                              n_jobs=-1,\n",
        "                              random_state=42)"
      ],
      "execution_count": 70,
      "outputs": []
    },
    {
      "cell_type": "markdown",
      "metadata": {
        "id": "phjbURAuqBsh"
      },
      "source": [
        "BaggingClassifier의 파라미터: \n",
        "\n",
        "* base_estimator: 기본 추정기(예측기). 머신 러닝 모델 객체.\n",
        "* n_estimators: 추정기(예측기)의 개수. 기본값 10.\n",
        "* max_samples: 훈련 셋의 부분 집합이 가질 수 있는 최대 샘플 개수(정수) 또는 비율(0~1.0). 기본값은 1.0.\n",
        "* bootstrap: True(중복 허용 샘플링). False(중복 불허 샘플링,pasting). 기본값은 True. \n",
        "* oob_score: True(OOB 샘플로 평가 점수 계산). False(OOB 샘플로 평가 점수를 계산 하지않음). 기본값은 False.\n",
        "  * OOB(Out of Bagging) 샘플: 중복 허용 샘플링을 하는 동안 한 번도 샘플링 되지못하고 남아 있는 훈련 셋의 샘플.\n",
        "  * OOB sample은 validation set 역할을 할 수 있음."
      ]
    },
    {
      "cell_type": "code",
      "metadata": {
        "colab": {
          "base_uri": "https://localhost:8080/"
        },
        "id": "ef89wonoj_cL",
        "outputId": "405ae899-6177-4798-b138-29d58695cfae"
      },
      "source": [
        "# 모델 훈련\n",
        "bagging_clf.fit(X_train,y_train)"
      ],
      "execution_count": 71,
      "outputs": [
        {
          "output_type": "execute_result",
          "data": {
            "text/plain": [
              "BaggingClassifier(base_estimator=DecisionTreeClassifier(ccp_alpha=0.0,\n",
              "                                                        class_weight=None,\n",
              "                                                        criterion='gini',\n",
              "                                                        max_depth=None,\n",
              "                                                        max_features=None,\n",
              "                                                        max_leaf_nodes=None,\n",
              "                                                        min_impurity_decrease=0.0,\n",
              "                                                        min_impurity_split=None,\n",
              "                                                        min_samples_leaf=1,\n",
              "                                                        min_samples_split=2,\n",
              "                                                        min_weight_fraction_leaf=0.0,\n",
              "                                                        presort='deprecated',\n",
              "                                                        random_state=42,\n",
              "                                                        splitter='best'),\n",
              "                  bootstrap=True, bootstrap_features=False, max_features=1.0,\n",
              "                  max_samples=100, n_estimators=50, n_jobs=-1, oob_score=True,\n",
              "                  random_state=42, verbose=0, warm_start=False)"
            ]
          },
          "metadata": {},
          "execution_count": 71
        }
      ]
    },
    {
      "cell_type": "code",
      "metadata": {
        "colab": {
          "base_uri": "https://localhost:8080/"
        },
        "id": "NQOEKN6EkRgO",
        "outputId": "11124935-4954-46ff-dcc7-40fe4b3e9eb1"
      },
      "source": [
        "bagging_clf.oob_score_ # OOB(Out-of-Bagging) 샘플에서의 점수(정확도) --> 보통 테스트 셋의 점수와 비슷함."
      ],
      "execution_count": 72,
      "outputs": [
        {
          "output_type": "execute_result",
          "data": {
            "text/plain": [
              "0.905"
            ]
          },
          "metadata": {},
          "execution_count": 72
        }
      ]
    },
    {
      "cell_type": "code",
      "metadata": {
        "colab": {
          "base_uri": "https://localhost:8080/"
        },
        "id": "s990DNgEk7Y3",
        "outputId": "070f236a-09a4-4e61-ea10-6572c6c8e909"
      },
      "source": [
        "bagging_clf.score(X_test, y_test)"
      ],
      "execution_count": 73,
      "outputs": [
        {
          "output_type": "execute_result",
          "data": {
            "text/plain": [
              "0.91"
            ]
          },
          "metadata": {},
          "execution_count": 73
        }
      ]
    },
    {
      "cell_type": "markdown",
      "metadata": {
        "id": "9psaGmEasonR"
      },
      "source": [
        "# RandomForest \n",
        "\n",
        "Decision Tree를 사용하는 Bagging Ensemble 학습 방법.\n",
        "\n",
        "* DecisionTree의 파라미터와 Bagging의 파라미터들을 갖음. \n",
        "* GridSearchCV,RandomizedSearchCV을 이용해서 tree와 bagging의 하이퍼파라미터들을 튜닝할 수 있음.\n"
      ]
    },
    {
      "cell_type": "code",
      "metadata": {
        "id": "6jkVyZV8pGfq"
      },
      "source": [
        "# Random Forest 분류기 객체 생성\n",
        "forest_clf=RandomForestClassifier(n_estimators=50,max_samples=100,oob_score=True,n_jobs=-1,random_state=42)"
      ],
      "execution_count": 80,
      "outputs": []
    },
    {
      "cell_type": "code",
      "metadata": {
        "colab": {
          "base_uri": "https://localhost:8080/"
        },
        "id": "4vrSvDqgunkQ",
        "outputId": "35c0fbc6-c19f-40d1-d961-40c940dbbcf2"
      },
      "source": [
        "# 모델 훈련\n",
        "forest_clf.fit(X_train,y_train)"
      ],
      "execution_count": 81,
      "outputs": [
        {
          "output_type": "execute_result",
          "data": {
            "text/plain": [
              "RandomForestClassifier(bootstrap=True, ccp_alpha=0.0, class_weight=None,\n",
              "                       criterion='gini', max_depth=None, max_features='auto',\n",
              "                       max_leaf_nodes=None, max_samples=100,\n",
              "                       min_impurity_decrease=0.0, min_impurity_split=None,\n",
              "                       min_samples_leaf=1, min_samples_split=2,\n",
              "                       min_weight_fraction_leaf=0.0, n_estimators=50, n_jobs=-1,\n",
              "                       oob_score=True, random_state=42, verbose=0,\n",
              "                       warm_start=False)"
            ]
          },
          "metadata": {},
          "execution_count": 81
        }
      ]
    },
    {
      "cell_type": "code",
      "metadata": {
        "colab": {
          "base_uri": "https://localhost:8080/"
        },
        "id": "yrWlOg74usTv",
        "outputId": "6f260f50-cffd-4ba6-d082-e1428a34cdc9"
      },
      "source": [
        "#OOB 샘플의 점수\n",
        "forest_clf.oob_score_"
      ],
      "execution_count": 83,
      "outputs": [
        {
          "output_type": "execute_result",
          "data": {
            "text/plain": [
              "0.9125"
            ]
          },
          "metadata": {},
          "execution_count": 83
        }
      ]
    },
    {
      "cell_type": "code",
      "metadata": {
        "colab": {
          "base_uri": "https://localhost:8080/"
        },
        "id": "MZ_eVdWbvSL6",
        "outputId": "5cb3b8eb-c88b-41c7-a69a-eb82ea6c2258"
      },
      "source": [
        "# 테스트 셋의 정확도\n",
        "forest_clf.score(X_test,y_test)"
      ],
      "execution_count": 84,
      "outputs": [
        {
          "output_type": "execute_result",
          "data": {
            "text/plain": [
              "0.91"
            ]
          },
          "metadata": {},
          "execution_count": 84
        }
      ]
    },
    {
      "cell_type": "markdown",
      "metadata": {
        "id": "1iOFaHwrvpva"
      },
      "source": [
        "# Wine datasets\n",
        "\n",
        "red/white wine 분류"
      ]
    },
    {
      "cell_type": "code",
      "metadata": {
        "id": "76hbPOXsvu2r"
      },
      "source": [
        "wine=pd.read_csv('https://bit.ly/wine-date')"
      ],
      "execution_count": 86,
      "outputs": []
    },
    {
      "cell_type": "code",
      "metadata": {
        "colab": {
          "base_uri": "https://localhost:8080/",
          "height": 204
        },
        "id": "GVFDksqov9lh",
        "outputId": "a4f1341a-744f-43b1-daa6-65a289e86601"
      },
      "source": [
        "wine.head()"
      ],
      "execution_count": 87,
      "outputs": [
        {
          "output_type": "execute_result",
          "data": {
            "text/html": [
              "<div>\n",
              "<style scoped>\n",
              "    .dataframe tbody tr th:only-of-type {\n",
              "        vertical-align: middle;\n",
              "    }\n",
              "\n",
              "    .dataframe tbody tr th {\n",
              "        vertical-align: top;\n",
              "    }\n",
              "\n",
              "    .dataframe thead th {\n",
              "        text-align: right;\n",
              "    }\n",
              "</style>\n",
              "<table border=\"1\" class=\"dataframe\">\n",
              "  <thead>\n",
              "    <tr style=\"text-align: right;\">\n",
              "      <th></th>\n",
              "      <th>alcohol</th>\n",
              "      <th>sugar</th>\n",
              "      <th>pH</th>\n",
              "      <th>class</th>\n",
              "    </tr>\n",
              "  </thead>\n",
              "  <tbody>\n",
              "    <tr>\n",
              "      <th>0</th>\n",
              "      <td>9.4</td>\n",
              "      <td>1.9</td>\n",
              "      <td>3.51</td>\n",
              "      <td>0.0</td>\n",
              "    </tr>\n",
              "    <tr>\n",
              "      <th>1</th>\n",
              "      <td>9.8</td>\n",
              "      <td>2.6</td>\n",
              "      <td>3.20</td>\n",
              "      <td>0.0</td>\n",
              "    </tr>\n",
              "    <tr>\n",
              "      <th>2</th>\n",
              "      <td>9.8</td>\n",
              "      <td>2.3</td>\n",
              "      <td>3.26</td>\n",
              "      <td>0.0</td>\n",
              "    </tr>\n",
              "    <tr>\n",
              "      <th>3</th>\n",
              "      <td>9.8</td>\n",
              "      <td>1.9</td>\n",
              "      <td>3.16</td>\n",
              "      <td>0.0</td>\n",
              "    </tr>\n",
              "    <tr>\n",
              "      <th>4</th>\n",
              "      <td>9.4</td>\n",
              "      <td>1.9</td>\n",
              "      <td>3.51</td>\n",
              "      <td>0.0</td>\n",
              "    </tr>\n",
              "  </tbody>\n",
              "</table>\n",
              "</div>"
            ],
            "text/plain": [
              "   alcohol  sugar    pH  class\n",
              "0      9.4    1.9  3.51    0.0\n",
              "1      9.8    2.6  3.20    0.0\n",
              "2      9.8    2.3  3.26    0.0\n",
              "3      9.8    1.9  3.16    0.0\n",
              "4      9.4    1.9  3.51    0.0"
            ]
          },
          "metadata": {},
          "execution_count": 87
        }
      ]
    },
    {
      "cell_type": "code",
      "metadata": {
        "colab": {
          "base_uri": "https://localhost:8080/"
        },
        "id": "Et0_TPNRwDHw",
        "outputId": "f7cdd4f6-5106-4a2f-986f-6c99670a4a07"
      },
      "source": [
        "# feature matrix, target vector\n",
        "X=wine.drop(columns='class').values\n",
        "y=wine['class'].values\n",
        "X.shape,y.shape"
      ],
      "execution_count": 90,
      "outputs": [
        {
          "output_type": "execute_result",
          "data": {
            "text/plain": [
              "((6497, 3), (6497,))"
            ]
          },
          "metadata": {},
          "execution_count": 90
        }
      ]
    },
    {
      "cell_type": "code",
      "metadata": {
        "id": "MMVY6imdwZTG"
      },
      "source": [
        "# train/test split\n",
        "X_train,X_test,y_train,y_test=train_test_split(X,y,test_size=0.2,\n",
        "                                               stratify=y,\n",
        "                                               random_state=42)"
      ],
      "execution_count": 92,
      "outputs": []
    },
    {
      "cell_type": "code",
      "metadata": {
        "id": "uvcPjyqpwnoT"
      },
      "source": [
        "# Random Forest 모델 생성\n",
        "forest_clf=RandomForestClassifier(oob_score=True,n_jobs=-1,random_state=42)"
      ],
      "execution_count": 93,
      "outputs": []
    },
    {
      "cell_type": "code",
      "metadata": {
        "colab": {
          "base_uri": "https://localhost:8080/"
        },
        "id": "JyQKlJSjwyl7",
        "outputId": "bf4820bb-6cc8-4162-ee41-e676f34226fd"
      },
      "source": [
        "# 모델 훈련\n",
        "forest_clf.fit(X_train,y_train)"
      ],
      "execution_count": 94,
      "outputs": [
        {
          "output_type": "execute_result",
          "data": {
            "text/plain": [
              "RandomForestClassifier(bootstrap=True, ccp_alpha=0.0, class_weight=None,\n",
              "                       criterion='gini', max_depth=None, max_features='auto',\n",
              "                       max_leaf_nodes=None, max_samples=None,\n",
              "                       min_impurity_decrease=0.0, min_impurity_split=None,\n",
              "                       min_samples_leaf=1, min_samples_split=2,\n",
              "                       min_weight_fraction_leaf=0.0, n_estimators=100,\n",
              "                       n_jobs=-1, oob_score=True, random_state=42, verbose=0,\n",
              "                       warm_start=False)"
            ]
          },
          "metadata": {},
          "execution_count": 94
        }
      ]
    },
    {
      "cell_type": "code",
      "metadata": {
        "colab": {
          "base_uri": "https://localhost:8080/"
        },
        "id": "ayuqMPNaxbPQ",
        "outputId": "1e5b0b6e-789c-489c-f374-e3ea7937f6c4"
      },
      "source": [
        "# 훈련 셋에서의 정확도 - Overfitting 여부를 확인하기 위해서\n",
        "forest_clf.score(X_train,y_train)"
      ],
      "execution_count": 95,
      "outputs": [
        {
          "output_type": "execute_result",
          "data": {
            "text/plain": [
              "0.9978833942659227"
            ]
          },
          "metadata": {},
          "execution_count": 95
        }
      ]
    },
    {
      "cell_type": "code",
      "metadata": {
        "colab": {
          "base_uri": "https://localhost:8080/"
        },
        "id": "SY20eqTPwmDc",
        "outputId": "d6cbcf69-4c04-4ab9-ed07-5111ee1dfbd5"
      },
      "source": [
        "# OOB 샘플 점수\n",
        "forest_clf.oob_score_"
      ],
      "execution_count": 97,
      "outputs": [
        {
          "output_type": "execute_result",
          "data": {
            "text/plain": [
              "0.8964787377333077"
            ]
          },
          "metadata": {},
          "execution_count": 97
        }
      ]
    },
    {
      "cell_type": "code",
      "metadata": {
        "colab": {
          "base_uri": "https://localhost:8080/"
        },
        "id": "MKJ3nURKx4kG",
        "outputId": "0ad3e288-426f-45e1-9765-1c75dc127c9e"
      },
      "source": [
        "# 테스트 셋에서의 정확도\n",
        "forest_clf.score(X_test,y_test)"
      ],
      "execution_count": 98,
      "outputs": [
        {
          "output_type": "execute_result",
          "data": {
            "text/plain": [
              "0.8892307692307693"
            ]
          },
          "metadata": {},
          "execution_count": 98
        }
      ]
    },
    {
      "cell_type": "code",
      "metadata": {
        "colab": {
          "base_uri": "https://localhost:8080/"
        },
        "id": "axc_LHGK2F2O",
        "outputId": "5aecfaf8-9b39-4ed2-dbec-fe8927b5739e"
      },
      "source": [
        "cross_validate(estimator=forest_clf,X=X_train,y=y_train,n_jobs=-1,return_train_score=True)"
      ],
      "execution_count": 99,
      "outputs": [
        {
          "output_type": "execute_result",
          "data": {
            "text/plain": [
              "{'fit_time': array([0.80554056, 0.80799937, 0.68955112, 0.67567086, 0.55514336]),\n",
              " 'score_time': array([0.10267138, 0.10267854, 0.10712361, 0.10246253, 0.10220051]),\n",
              " 'test_score': array([0.90480769, 0.89903846, 0.88546679, 0.89412897, 0.88546679]),\n",
              " 'train_score': array([0.99807554, 0.99807554, 0.9983165 , 0.998076  , 0.9983165 ])}"
            ]
          },
          "metadata": {},
          "execution_count": 99
        }
      ]
    },
    {
      "cell_type": "markdown",
      "metadata": {
        "id": "zeVx1blh21zT"
      },
      "source": [
        "# Extra Tree\n",
        "\n",
        "* Random Forest 와 비슷한 점:\n",
        "  * 여러 개(기본값은 100개)의 decision tree 들을 훈련 \n",
        "  * decision tree의 파라미터들을 튜닝할 수 있음. \n",
        "* Random Forest와 다른 점: \n",
        "  * Bootstrap 샘플을 사용하지 않음. 여러 개의 dcision tree들을 전체 훈련 셋을 사용해서 훈련. \n",
        "  * 노드를 분할할 때 가장 좋은 분할을 찾는 게 아니라, 무작위 분할을 사용. \n",
        "    * Random Forest는 최적의 분할을 찾기 위해서 많은 훈련 시간이 필요. \n",
        "    * Extra Tree는 무작위 분할을 하기 때문에 훈련 시간이 빠름."
      ]
    },
    {
      "cell_type": "code",
      "metadata": {
        "colab": {
          "base_uri": "https://localhost:8080/"
        },
        "id": "o3xhaly24p3w",
        "outputId": "d76d6778-f34f-4219-db1f-6f1290b63ad0"
      },
      "source": [
        "extra_tree=ExtraTreesClassifier(n_jobs=-1,random_state=42)\n",
        "cv=cross_validate(estimator=extra_tree,X=X_train,y=y_train,n_jobs=-1,return_train_score=True)\n",
        "cv"
      ],
      "execution_count": 100,
      "outputs": [
        {
          "output_type": "execute_result",
          "data": {
            "text/plain": [
              "{'fit_time': array([0.57440805, 0.57387137, 0.47079134, 0.47296309, 0.36563921]),\n",
              " 'score_time': array([0.10237813, 0.10396051, 0.10266042, 0.10587215, 0.1028142 ]),\n",
              " 'test_score': array([0.89519231, 0.90480769, 0.88450433, 0.89509143, 0.8825794 ]),\n",
              " 'train_score': array([0.99807554, 0.99807554, 0.9983165 , 0.998076  , 0.9983165 ])}"
            ]
          },
          "metadata": {},
          "execution_count": 100
        }
      ]
    },
    {
      "cell_type": "code",
      "metadata": {
        "colab": {
          "base_uri": "https://localhost:8080/"
        },
        "id": "HfaZ-a6T5NPK",
        "outputId": "bc6f609f-4252-4a56-b500-106bfbae0e84"
      },
      "source": [
        "np.mean(cv['train_score'])"
      ],
      "execution_count": 101,
      "outputs": [
        {
          "output_type": "execute_result",
          "data": {
            "text/plain": [
              "0.9981720130385032"
            ]
          },
          "metadata": {},
          "execution_count": 101
        }
      ]
    },
    {
      "cell_type": "code",
      "metadata": {
        "colab": {
          "base_uri": "https://localhost:8080/"
        },
        "id": "AmtwveQM5PyK",
        "outputId": "a174aba1-5d36-45fb-e421-4e344667d3d0"
      },
      "source": [
        "np.mean(cv['test_score'])\n",
        "#> overfitting이 큼. "
      ],
      "execution_count": 102,
      "outputs": [
        {
          "output_type": "execute_result",
          "data": {
            "text/plain": [
              "0.8924350336862368"
            ]
          },
          "metadata": {},
          "execution_count": 102
        }
      ]
    },
    {
      "cell_type": "code",
      "metadata": {
        "colab": {
          "base_uri": "https://localhost:8080/"
        },
        "id": "uB_DQ7zy2fns",
        "outputId": "a4c0d39a-b3a3-4b51-81d9-eae8914e5a61"
      },
      "source": [
        "# 검증 셋(validation set)에서의 평가 점수만 리턴 - overfitting 여부는 확인 할 수 없음.\n",
        "cross_val_score(estimator=extra_tree,X=X_train,y=y_train,n_jobs=-1)"
      ],
      "execution_count": 103,
      "outputs": [
        {
          "output_type": "execute_result",
          "data": {
            "text/plain": [
              "array([0.89519231, 0.90480769, 0.88450433, 0.89509143, 0.8825794 ])"
            ]
          },
          "metadata": {},
          "execution_count": 103
        }
      ]
    },
    {
      "cell_type": "markdown",
      "metadata": {
        "id": "yO1Ddj-C8Mil"
      },
      "source": [
        "# Gradient Boosting \n",
        "\n",
        "* 깊이(depth)가 얕은 decision tree들을 직렬(순차적으로) 연결해서 훈련.\n",
        "* 훈련시킬 때, 이전 훈련 단계에서 발생한 오차들을 그 다음 훈련에서 가중치를 주고 훈련시킴. \n",
        "* 장점: 깊이가 얕은 tree를 사용하기 때문에. 과대적합이 작아지고, 높은 일반화 성능을 기대할 수 있음. \n",
        "* 이미지에 강함.\n",
        "* 단점: Random Forest 처럼 병렬로 훈련시킬 수 없음(n_jobs 파라미터가 없음). 훈련속도가 느려짐 .\n",
        "* Gradient Descent(경사 하강법) + Decision Tree + Ensemble 파라미터들을 튜닝할 수 있음. "
      ]
    },
    {
      "cell_type": "code",
      "metadata": {
        "id": "i5EooAOt-MHG"
      },
      "source": [
        "# 모델 생성\n",
        "grad_boost= GradientBoostingClassifier(random_state=42)"
      ],
      "execution_count": 104,
      "outputs": []
    },
    {
      "cell_type": "code",
      "metadata": {
        "colab": {
          "base_uri": "https://localhost:8080/"
        },
        "id": "u1pNL2kI-lK2",
        "outputId": "e6a971f9-92fd-4a47-a1d4-4bd983ad68d8"
      },
      "source": [
        "cv=cross_validate(estimator=grad_boost,X=X_train,y=y_train,n_jobs=-1,return_train_score=True)\n",
        "cv"
      ],
      "execution_count": 107,
      "outputs": [
        {
          "output_type": "execute_result",
          "data": {
            "text/plain": [
              "{'fit_time': array([0.49342275, 0.4775393 , 0.49726462, 0.49328804, 0.32196021]),\n",
              " 'score_time': array([0.00488544, 0.00377417, 0.00384474, 0.0036056 , 0.00288272]),\n",
              " 'test_score': array([0.87692308, 0.87692308, 0.86717998, 0.87680462, 0.85948027]),\n",
              " 'train_score': array([0.88501323, 0.88645658, 0.89009139, 0.88287638, 0.88624339])}"
            ]
          },
          "metadata": {},
          "execution_count": 107
        }
      ]
    },
    {
      "cell_type": "code",
      "metadata": {
        "colab": {
          "base_uri": "https://localhost:8080/"
        },
        "id": "N8ur5YPm_ZNy",
        "outputId": "e1aeb5fb-dcfb-435c-c6d6-fbaef689ea2d"
      },
      "source": [
        "np.mean(cv['train_score'])"
      ],
      "execution_count": 108,
      "outputs": [
        {
          "output_type": "execute_result",
          "data": {
            "text/plain": [
              "0.886136193834053"
            ]
          },
          "metadata": {},
          "execution_count": 108
        }
      ]
    },
    {
      "cell_type": "code",
      "metadata": {
        "colab": {
          "base_uri": "https://localhost:8080/"
        },
        "id": "vwuyFxKd_cB0",
        "outputId": "d87284a7-d417-4a0b-c447-3a1fb75c5a23"
      },
      "source": [
        "np.mean(cv['test_score'])\n",
        "#> overfitting이 거의 없음."
      ],
      "execution_count": 109,
      "outputs": [
        {
          "output_type": "execute_result",
          "data": {
            "text/plain": [
              "0.8714622047827053"
            ]
          },
          "metadata": {},
          "execution_count": 109
        }
      ]
    }
  ]
}