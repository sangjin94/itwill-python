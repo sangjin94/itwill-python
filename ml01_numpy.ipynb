{
  "nbformat": 4,
  "nbformat_minor": 0,
  "metadata": {
    "colab": {
      "name": "ml01_numpy.ipynb",
      "provenance": [],
      "collapsed_sections": [],
      "authorship_tag": "ABX9TyN6YFNSEBNNXGfq1o8PxPR4",
      "include_colab_link": true
    },
    "kernelspec": {
      "name": "python3",
      "display_name": "Python 3"
    },
    "language_info": {
      "name": "python"
    }
  },
  "cells": [
    {
      "cell_type": "markdown",
      "metadata": {
        "id": "view-in-github",
        "colab_type": "text"
      },
      "source": [
        "<a href=\"https://colab.research.google.com/github/sangjin94/itwill-python/blob/main/ml01_numpy.ipynb\" target=\"_parent\"><img src=\"https://colab.research.google.com/assets/colab-badge.svg\" alt=\"Open In Colab\"/></a>"
      ]
    },
    {
      "cell_type": "code",
      "metadata": {
        "id": "LQm7z_Ncd1ad"
      },
      "source": [
        "import matplotlib.pyplot as plt\n",
        "import pandas as pd\n",
        "import numpy as np\n",
        "import seaborn as sns"
      ],
      "execution_count": 306,
      "outputs": []
    },
    {
      "cell_type": "code",
      "metadata": {
        "colab": {
          "base_uri": "https://localhost:8080/"
        },
        "id": "8_Hn21f_foXi",
        "outputId": "fa13e11e-8c1b-4bd5-e6fa-c8a361595858"
      },
      "source": [
        "# 모든 원소가 1.0인 2차원 배열 생성\n",
        "arr=np.ones((3,4)) # 파라미터 dtype의 기본값은 np.float64(64bits에 저장되는 실수) 타입.\n",
        "print(arr)"
      ],
      "execution_count": 307,
      "outputs": [
        {
          "output_type": "stream",
          "text": [
            "[[1. 1. 1. 1.]\n",
            " [1. 1. 1. 1.]\n",
            " [1. 1. 1. 1.]]\n"
          ],
          "name": "stdout"
        }
      ]
    },
    {
      "cell_type": "markdown",
      "metadata": {
        "id": "apCe4jNrhA_T"
      },
      "source": [
        "# `ndarray` 클래스의 속성들(attributes)"
      ]
    },
    {
      "cell_type": "code",
      "metadata": {
        "colab": {
          "base_uri": "https://localhost:8080/"
        },
        "id": "Aqb6kJVYhHyJ",
        "outputId": "215efbb8-c209-4a23-c7a0-f72b32473011"
      },
      "source": [
        "arr.dtype # 배열 원소의 데이터 타입"
      ],
      "execution_count": 308,
      "outputs": [
        {
          "output_type": "execute_result",
          "data": {
            "text/plain": [
              "dtype('float64')"
            ]
          },
          "metadata": {},
          "execution_count": 308
        }
      ]
    },
    {
      "cell_type": "code",
      "metadata": {
        "colab": {
          "base_uri": "https://localhost:8080/"
        },
        "id": "q6GQnFuEiXWh",
        "outputId": "a96302f3-b941-469c-dd4e-5b681f1beca4"
      },
      "source": [
        "arr.shape # 배열의 각 축(axis)을 따라서 있는 원소들의 개수들의 tuple "
      ],
      "execution_count": 309,
      "outputs": [
        {
          "output_type": "execute_result",
          "data": {
            "text/plain": [
              "(3, 4)"
            ]
          },
          "metadata": {},
          "execution_count": 309
        }
      ]
    },
    {
      "cell_type": "code",
      "metadata": {
        "colab": {
          "base_uri": "https://localhost:8080/"
        },
        "id": "6tGg8lPLj01v",
        "outputId": "6be0ccff-f576-4cf5-c152-b40eef0973cc"
      },
      "source": [
        "arr.size # 배열의 전체 원소 개수"
      ],
      "execution_count": 310,
      "outputs": [
        {
          "output_type": "execute_result",
          "data": {
            "text/plain": [
              "12"
            ]
          },
          "metadata": {},
          "execution_count": 310
        }
      ]
    },
    {
      "cell_type": "code",
      "metadata": {
        "colab": {
          "base_uri": "https://localhost:8080/"
        },
        "id": "PlwkXxwvkJRw",
        "outputId": "7619f19c-6bd2-43e4-8067-3428e08aee0d"
      },
      "source": [
        "arr.ndim # 배열의 차원의 개수. 배열의 축(axis)의 개수"
      ],
      "execution_count": 311,
      "outputs": [
        {
          "output_type": "execute_result",
          "data": {
            "text/plain": [
              "2"
            ]
          },
          "metadata": {},
          "execution_count": 311
        }
      ]
    },
    {
      "cell_type": "code",
      "metadata": {
        "colab": {
          "base_uri": "https://localhost:8080/"
        },
        "id": "--_K0194kluA",
        "outputId": "773a4f08-8400-457f-a75e-a2b6a3f711be"
      },
      "source": [
        "# [1,6) => 1이상 6미만 범위의 정수들로 이루어진 1차원 배열\n",
        "arr=np.arange(1,6)\n",
        "print(arr)"
      ],
      "execution_count": 312,
      "outputs": [
        {
          "output_type": "stream",
          "text": [
            "[1 2 3 4 5]\n"
          ],
          "name": "stdout"
        }
      ]
    },
    {
      "cell_type": "code",
      "metadata": {
        "colab": {
          "base_uri": "https://localhost:8080/"
        },
        "id": "hwFwhDQgk2of",
        "outputId": "be02b245-0fc5-4e4e-ed5d-15abda847a22"
      },
      "source": [
        "print('dtype:',arr.dtype)\n",
        "print('shape:',arr.shape)\n",
        "print('size:',arr.size)\n",
        "print('ndim:',arr.ndim)"
      ],
      "execution_count": 313,
      "outputs": [
        {
          "output_type": "stream",
          "text": [
            "dtype: int64\n",
            "shape: (5,)\n",
            "size: 5\n",
            "ndim: 1\n"
          ],
          "name": "stdout"
        }
      ]
    },
    {
      "cell_type": "code",
      "metadata": {
        "colab": {
          "base_uri": "https://localhost:8080/"
        },
        "id": "2ejYViwVsmxm",
        "outputId": "c2d64455-80b2-4ee3-fbb6-8e4334f80dc9"
      },
      "source": [
        "# 3차원 배열 \n",
        "arr=np.arange(1,25).reshape((2,3,4))\n",
        "print(arr)"
      ],
      "execution_count": 314,
      "outputs": [
        {
          "output_type": "stream",
          "text": [
            "[[[ 1  2  3  4]\n",
            "  [ 5  6  7  8]\n",
            "  [ 9 10 11 12]]\n",
            "\n",
            " [[13 14 15 16]\n",
            "  [17 18 19 20]\n",
            "  [21 22 23 24]]]\n"
          ],
          "name": "stdout"
        }
      ]
    },
    {
      "cell_type": "code",
      "metadata": {
        "colab": {
          "base_uri": "https://localhost:8080/"
        },
        "id": "5WhoHYuNvBHb",
        "outputId": "3811394f-c0c9-47bf-d922-767f6560383a"
      },
      "source": [
        "print('dtype:',arr.dtype)\n",
        "print('shape:',arr.shape)\n",
        "print('size:',arr.size)\n",
        "print('ndim:',arr.ndim)"
      ],
      "execution_count": 315,
      "outputs": [
        {
          "output_type": "stream",
          "text": [
            "dtype: int64\n",
            "shape: (2, 3, 4)\n",
            "size: 24\n",
            "ndim: 3\n"
          ],
          "name": "stdout"
        }
      ]
    },
    {
      "cell_type": "code",
      "metadata": {
        "colab": {
          "base_uri": "https://localhost:8080/"
        },
        "id": "G-BGJCZk5G4l",
        "outputId": "ea7c1c2d-d129-4c63-985a-8727a3398902"
      },
      "source": [
        "print(arr[0])"
      ],
      "execution_count": 316,
      "outputs": [
        {
          "output_type": "stream",
          "text": [
            "[[ 1  2  3  4]\n",
            " [ 5  6  7  8]\n",
            " [ 9 10 11 12]]\n"
          ],
          "name": "stdout"
        }
      ]
    },
    {
      "cell_type": "code",
      "metadata": {
        "colab": {
          "base_uri": "https://localhost:8080/"
        },
        "id": "SCXRr0Di5IVW",
        "outputId": "1dfcbb22-2043-412b-d053-1fdef6964bca"
      },
      "source": [
        "print(arr[0, 0])"
      ],
      "execution_count": 317,
      "outputs": [
        {
          "output_type": "stream",
          "text": [
            "[1 2 3 4]\n"
          ],
          "name": "stdout"
        }
      ]
    },
    {
      "cell_type": "code",
      "metadata": {
        "colab": {
          "base_uri": "https://localhost:8080/"
        },
        "id": "lb5XTs2r5JFn",
        "outputId": "4232c86c-ef4b-4dfa-a172-85ee7c37befd"
      },
      "source": [
        "print(arr[0, 0, 0])"
      ],
      "execution_count": 318,
      "outputs": [
        {
          "output_type": "stream",
          "text": [
            "1\n"
          ],
          "name": "stdout"
        }
      ]
    },
    {
      "cell_type": "markdown",
      "metadata": {
        "id": "WjCehaHSwZ-0"
      },
      "source": [
        "# * Python list의 인덱스 사용방법: `list[a][b][c]...`\n",
        "# * numpy ndarray의 인덱스 사용방법: \n",
        "  * `array[a][b][c]...`\n",
        "  * `array[a,b,c...]`"
      ]
    },
    {
      "cell_type": "code",
      "metadata": {
        "colab": {
          "base_uri": "https://localhost:8080/"
        },
        "id": "AI7Qf2_E4yDV",
        "outputId": "fa07c1c6-e2dd-4de2-dfa6-d6f3090c84f7"
      },
      "source": [
        "# 1차원 배열\n",
        "np.random.seed(1)\n",
        "arr = np.random.rand(10)\n",
        "print(arr)"
      ],
      "execution_count": 319,
      "outputs": [
        {
          "output_type": "stream",
          "text": [
            "[4.17022005e-01 7.20324493e-01 1.14374817e-04 3.02332573e-01\n",
            " 1.46755891e-01 9.23385948e-02 1.86260211e-01 3.45560727e-01\n",
            " 3.96767474e-01 5.38816734e-01]\n"
          ],
          "name": "stdout"
        }
      ]
    },
    {
      "cell_type": "code",
      "metadata": {
        "colab": {
          "base_uri": "https://localhost:8080/"
        },
        "id": "c1Gx9_q_4zcw",
        "outputId": "527e145b-5764-4406-ef83-4546248da980"
      },
      "source": [
        "arr[1:5]  # [1, 5) 범위의 원소들로 이루어진 부분집합(1차원 array)"
      ],
      "execution_count": 320,
      "outputs": [
        {
          "output_type": "execute_result",
          "data": {
            "text/plain": [
              "array([7.20324493e-01, 1.14374817e-04, 3.02332573e-01, 1.46755891e-01])"
            ]
          },
          "metadata": {},
          "execution_count": 320
        }
      ]
    },
    {
      "cell_type": "code",
      "metadata": {
        "colab": {
          "base_uri": "https://localhost:8080/"
        },
        "id": "pdnOebws40Yu",
        "outputId": "18b7526e-0565-4acc-b10e-7dd01048adc4"
      },
      "source": [
        "# 2차원 배열\n",
        "arr = np.arange(1, 21).reshape((4, 5))\n",
        "print(arr)"
      ],
      "execution_count": 321,
      "outputs": [
        {
          "output_type": "stream",
          "text": [
            "[[ 1  2  3  4  5]\n",
            " [ 6  7  8  9 10]\n",
            " [11 12 13 14 15]\n",
            " [16 17 18 19 20]]\n"
          ],
          "name": "stdout"
        }
      ]
    },
    {
      "cell_type": "code",
      "metadata": {
        "colab": {
          "base_uri": "https://localhost:8080/"
        },
        "id": "_8QOtMjC41bG",
        "outputId": "ae59c728-1f30-4d30-da06-17e31fd5c5b0"
      },
      "source": [
        "# row는 전체 선택, column은 처음 2개 선택\n",
        "print(arr[:, 0:2])"
      ],
      "execution_count": 322,
      "outputs": [
        {
          "output_type": "stream",
          "text": [
            "[[ 1  2]\n",
            " [ 6  7]\n",
            " [11 12]\n",
            " [16 17]]\n"
          ],
          "name": "stdout"
        }
      ]
    },
    {
      "cell_type": "code",
      "metadata": {
        "colab": {
          "base_uri": "https://localhost:8080/"
        },
        "id": "-NwOVG9V43cu",
        "outputId": "d25a1c4c-cefc-442a-f738-b4fcd05a514a"
      },
      "source": [
        "# 첫 2개 row를 선택, 모든 column 선택\n",
        "print(arr[0:2, :])"
      ],
      "execution_count": 323,
      "outputs": [
        {
          "output_type": "stream",
          "text": [
            "[[ 1  2  3  4  5]\n",
            " [ 6  7  8  9 10]]\n"
          ],
          "name": "stdout"
        }
      ]
    },
    {
      "cell_type": "code",
      "metadata": {
        "colab": {
          "base_uri": "https://localhost:8080/"
        },
        "id": "csQiJ21Z44qR",
        "outputId": "d271d525-f3d1-4a36-bd62-f810aaa16ce0"
      },
      "source": [
        "print(arr[:2, :3])"
      ],
      "execution_count": 324,
      "outputs": [
        {
          "output_type": "stream",
          "text": [
            "[[1 2 3]\n",
            " [6 7 8]]\n"
          ],
          "name": "stdout"
        }
      ]
    },
    {
      "cell_type": "code",
      "metadata": {
        "colab": {
          "base_uri": "https://localhost:8080/"
        },
        "id": "lSa84LCW1Amg",
        "outputId": "c674a18a-96ad-49b4-efb9-da1bf098b741"
      },
      "source": [
        "# 3차원 배열\n",
        "arr=np.arange(1,61).reshape((3,4,5))\n",
        "print(arr)"
      ],
      "execution_count": 325,
      "outputs": [
        {
          "output_type": "stream",
          "text": [
            "[[[ 1  2  3  4  5]\n",
            "  [ 6  7  8  9 10]\n",
            "  [11 12 13 14 15]\n",
            "  [16 17 18 19 20]]\n",
            "\n",
            " [[21 22 23 24 25]\n",
            "  [26 27 28 29 30]\n",
            "  [31 32 33 34 35]\n",
            "  [36 37 38 39 40]]\n",
            "\n",
            " [[41 42 43 44 45]\n",
            "  [46 47 48 49 50]\n",
            "  [51 52 53 54 55]\n",
            "  [56 57 58 59 60]]]\n"
          ],
          "name": "stdout"
        }
      ]
    },
    {
      "cell_type": "code",
      "metadata": {
        "colab": {
          "base_uri": "https://localhost:8080/"
        },
        "id": "bYp_YYl21LRz",
        "outputId": "2bbdbe61-2931-4a81-d130-e60b89a94f87"
      },
      "source": [
        "print(arr[:2,:,:])"
      ],
      "execution_count": 326,
      "outputs": [
        {
          "output_type": "stream",
          "text": [
            "[[[ 1  2  3  4  5]\n",
            "  [ 6  7  8  9 10]\n",
            "  [11 12 13 14 15]\n",
            "  [16 17 18 19 20]]\n",
            "\n",
            " [[21 22 23 24 25]\n",
            "  [26 27 28 29 30]\n",
            "  [31 32 33 34 35]\n",
            "  [36 37 38 39 40]]]\n"
          ],
          "name": "stdout"
        }
      ]
    },
    {
      "cell_type": "code",
      "metadata": {
        "colab": {
          "base_uri": "https://localhost:8080/"
        },
        "id": "zGBz3PSj1Tnt",
        "outputId": "7c456c80-6734-41b4-8818-dc71a4f6a761"
      },
      "source": [
        "print(arr[:1,:,:]) # slicing -> 3차원 배열"
      ],
      "execution_count": 327,
      "outputs": [
        {
          "output_type": "stream",
          "text": [
            "[[[ 1  2  3  4  5]\n",
            "  [ 6  7  8  9 10]\n",
            "  [11 12 13 14 15]\n",
            "  [16 17 18 19 20]]]\n"
          ],
          "name": "stdout"
        }
      ]
    },
    {
      "cell_type": "code",
      "metadata": {
        "colab": {
          "base_uri": "https://localhost:8080/"
        },
        "id": "W3RXDXNx1ZA6",
        "outputId": "c8fbbdfc-250d-4111-dc56-a9f185c1554e"
      },
      "source": [
        "print(arr[0]) # 원소참조 -> 2차원 배열"
      ],
      "execution_count": 328,
      "outputs": [
        {
          "output_type": "stream",
          "text": [
            "[[ 1  2  3  4  5]\n",
            " [ 6  7  8  9 10]\n",
            " [11 12 13 14 15]\n",
            " [16 17 18 19 20]]\n"
          ],
          "name": "stdout"
        }
      ]
    },
    {
      "cell_type": "markdown",
      "metadata": {
        "id": "K71o8Ol45LpB"
      },
      "source": [
        "# `np.ndarray` 모양(shape) 변경\n",
        "\n",
        "* `np.ndarray.reshape(shape)`\n",
        "* `np.ndarray.ravel()`\n",
        "* `np.ndarray.faltten()`\n",
        "* `np.newaxis` 이용"
      ]
    },
    {
      "cell_type": "code",
      "metadata": {
        "colab": {
          "base_uri": "https://localhost:8080/"
        },
        "id": "t6nP_TZP5rem",
        "outputId": "8b6f5fe9-dbf5-4135-bc2c-3514a9e7c615"
      },
      "source": [
        "# 1차원 배열 생성\n",
        "arr_1d= np.arange(1,13)\n",
        "print(arr_1d)"
      ],
      "execution_count": 329,
      "outputs": [
        {
          "output_type": "stream",
          "text": [
            "[ 1  2  3  4  5  6  7  8  9 10 11 12]\n"
          ],
          "name": "stdout"
        }
      ]
    },
    {
      "cell_type": "code",
      "metadata": {
        "colab": {
          "base_uri": "https://localhost:8080/"
        },
        "id": "q0W0SctS535Z",
        "outputId": "1a9afcb6-1005-430b-8bf7-43e59d2977d3"
      },
      "source": [
        "# 1차원 배열 arr_1d를 (3,4) shape 을 갖는 2D 배열로 변환 \n",
        "arr_2d=arr_1d.reshape((3,4))\n",
        "print(arr_2d)"
      ],
      "execution_count": 330,
      "outputs": [
        {
          "output_type": "stream",
          "text": [
            "[[ 1  2  3  4]\n",
            " [ 5  6  7  8]\n",
            " [ 9 10 11 12]]\n"
          ],
          "name": "stdout"
        }
      ]
    },
    {
      "cell_type": "code",
      "metadata": {
        "colab": {
          "base_uri": "https://localhost:8080/"
        },
        "id": "Tt1PoIcT6-BY",
        "outputId": "8a00a399-8cce-4c26-8303-8d77395c3510"
      },
      "source": [
        "# 1차원 배열 arr_1d를 row가 2개인 2D 배열로 변환\n",
        "# shape을 argument로 전달할 때, 자동 계산할 수 있는 1개 차원의 수는 -1개로 대체가능함. \n",
        "arr_2d=arr_1d.reshape((2,-1))\n",
        "print(arr_2d)"
      ],
      "execution_count": 331,
      "outputs": [
        {
          "output_type": "stream",
          "text": [
            "[[ 1  2  3  4  5  6]\n",
            " [ 7  8  9 10 11 12]]\n"
          ],
          "name": "stdout"
        }
      ]
    },
    {
      "cell_type": "code",
      "metadata": {
        "colab": {
          "base_uri": "https://localhost:8080/"
        },
        "id": "W6WNhD7e7kLa",
        "outputId": "5431eb3d-0c06-4940-864b-86eb84de51a1"
      },
      "source": [
        "# 1차원 배열 arr_1d를 column이 3개인 2D 배열로 변환\n",
        "arr_2d.reshape((-1,3))\n",
        "arr_2d"
      ],
      "execution_count": 332,
      "outputs": [
        {
          "output_type": "execute_result",
          "data": {
            "text/plain": [
              "array([[ 1,  2,  3,  4,  5,  6],\n",
              "       [ 7,  8,  9, 10, 11, 12]])"
            ]
          },
          "metadata": {},
          "execution_count": 332
        }
      ]
    },
    {
      "cell_type": "code",
      "metadata": {
        "colab": {
          "base_uri": "https://localhost:8080/"
        },
        "id": "L3V7qFA38r6-",
        "outputId": "6f462f40-239f-48c7-c52a-cbb065e72143"
      },
      "source": [
        "# 2차원 배열 arr_2d를 1차열 배열로 변환\n",
        "result=arr_2d.reshape((-1,)) # result=arr_2d.reshape(4*3)\n",
        "result"
      ],
      "execution_count": 333,
      "outputs": [
        {
          "output_type": "execute_result",
          "data": {
            "text/plain": [
              "array([ 1,  2,  3,  4,  5,  6,  7,  8,  9, 10, 11, 12])"
            ]
          },
          "metadata": {},
          "execution_count": 333
        }
      ]
    },
    {
      "cell_type": "code",
      "metadata": {
        "colab": {
          "base_uri": "https://localhost:8080/"
        },
        "id": "dhw0Puac-lAG",
        "outputId": "8990e4ae-ee5d-4b2e-f811-e816f34552bf"
      },
      "source": [
        "arr_1d=np.arange(1,49)\n",
        "arr_1d"
      ],
      "execution_count": 334,
      "outputs": [
        {
          "output_type": "execute_result",
          "data": {
            "text/plain": [
              "array([ 1,  2,  3,  4,  5,  6,  7,  8,  9, 10, 11, 12, 13, 14, 15, 16, 17,\n",
              "       18, 19, 20, 21, 22, 23, 24, 25, 26, 27, 28, 29, 30, 31, 32, 33, 34,\n",
              "       35, 36, 37, 38, 39, 40, 41, 42, 43, 44, 45, 46, 47, 48])"
            ]
          },
          "metadata": {},
          "execution_count": 334
        }
      ]
    },
    {
      "cell_type": "code",
      "metadata": {
        "colab": {
          "base_uri": "https://localhost:8080/"
        },
        "id": "PFE-WKrP-a-v",
        "outputId": "69be49ac-3448-45f5-de5a-546e88b9eda6"
      },
      "source": [
        "# 1차원 배열 arr_1d를 (4,4,3) shape을 갖는 3차원 배열로 변환\n",
        "arr_3d=arr_1d.reshape((4,4,3))\n",
        "arr_3d"
      ],
      "execution_count": 335,
      "outputs": [
        {
          "output_type": "execute_result",
          "data": {
            "text/plain": [
              "array([[[ 1,  2,  3],\n",
              "        [ 4,  5,  6],\n",
              "        [ 7,  8,  9],\n",
              "        [10, 11, 12]],\n",
              "\n",
              "       [[13, 14, 15],\n",
              "        [16, 17, 18],\n",
              "        [19, 20, 21],\n",
              "        [22, 23, 24]],\n",
              "\n",
              "       [[25, 26, 27],\n",
              "        [28, 29, 30],\n",
              "        [31, 32, 33],\n",
              "        [34, 35, 36]],\n",
              "\n",
              "       [[37, 38, 39],\n",
              "        [40, 41, 42],\n",
              "        [43, 44, 45],\n",
              "        [46, 47, 48]]])"
            ]
          },
          "metadata": {},
          "execution_count": 335
        }
      ]
    },
    {
      "cell_type": "code",
      "metadata": {
        "colab": {
          "base_uri": "https://localhost:8080/"
        },
        "id": "9X2g3UdW-8Yu",
        "outputId": "c775d5f6-b862-4999-ca1d-4e31209ef1d7"
      },
      "source": [
        "# 3차원 배열 arr_3d를 1차원 배열로 변환\n",
        "result=arr_3d.reshape(4*4*3)\n",
        "result"
      ],
      "execution_count": 336,
      "outputs": [
        {
          "output_type": "execute_result",
          "data": {
            "text/plain": [
              "array([ 1,  2,  3,  4,  5,  6,  7,  8,  9, 10, 11, 12, 13, 14, 15, 16, 17,\n",
              "       18, 19, 20, 21, 22, 23, 24, 25, 26, 27, 28, 29, 30, 31, 32, 33, 34,\n",
              "       35, 36, 37, 38, 39, 40, 41, 42, 43, 44, 45, 46, 47, 48])"
            ]
          },
          "metadata": {},
          "execution_count": 336
        }
      ]
    },
    {
      "cell_type": "code",
      "metadata": {
        "colab": {
          "base_uri": "https://localhost:8080/"
        },
        "id": "6H8uqQM9_J9j",
        "outputId": "4daf34b2-d77c-4acb-ed30-65b26f4d0b94"
      },
      "source": [
        "arr_3d.reshape((48,))"
      ],
      "execution_count": 337,
      "outputs": [
        {
          "output_type": "execute_result",
          "data": {
            "text/plain": [
              "array([ 1,  2,  3,  4,  5,  6,  7,  8,  9, 10, 11, 12, 13, 14, 15, 16, 17,\n",
              "       18, 19, 20, 21, 22, 23, 24, 25, 26, 27, 28, 29, 30, 31, 32, 33, 34,\n",
              "       35, 36, 37, 38, 39, 40, 41, 42, 43, 44, 45, 46, 47, 48])"
            ]
          },
          "metadata": {},
          "execution_count": 337
        }
      ]
    },
    {
      "cell_type": "code",
      "metadata": {
        "colab": {
          "base_uri": "https://localhost:8080/"
        },
        "id": "L8BsN1s3_Mwu",
        "outputId": "dfb0c508-5b9f-49d4-bd04-ac085bd53347"
      },
      "source": [
        "arr_3d.reshape((-1,))"
      ],
      "execution_count": 338,
      "outputs": [
        {
          "output_type": "execute_result",
          "data": {
            "text/plain": [
              "array([ 1,  2,  3,  4,  5,  6,  7,  8,  9, 10, 11, 12, 13, 14, 15, 16, 17,\n",
              "       18, 19, 20, 21, 22, 23, 24, 25, 26, 27, 28, 29, 30, 31, 32, 33, 34,\n",
              "       35, 36, 37, 38, 39, 40, 41, 42, 43, 44, 45, 46, 47, 48])"
            ]
          },
          "metadata": {},
          "execution_count": 338
        }
      ]
    },
    {
      "cell_type": "code",
      "metadata": {
        "colab": {
          "base_uri": "https://localhost:8080/"
        },
        "id": "yzk0CrPj_iyM",
        "outputId": "228d4fa0-513c-4e54-ba5b-650a8f0cb8ef"
      },
      "source": [
        "# 2D 배열을 1D 배열로 변환\n",
        "raveled=arr_2d.ravel() # 1차원으로 변환된 view를 리턴.\n",
        "raveled"
      ],
      "execution_count": 339,
      "outputs": [
        {
          "output_type": "execute_result",
          "data": {
            "text/plain": [
              "array([ 1,  2,  3,  4,  5,  6,  7,  8,  9, 10, 11, 12])"
            ]
          },
          "metadata": {},
          "execution_count": 339
        }
      ]
    },
    {
      "cell_type": "code",
      "metadata": {
        "colab": {
          "base_uri": "https://localhost:8080/"
        },
        "id": "H-krWPTf_v3E",
        "outputId": "be61c8bf-c2ae-4779-d638-7eb2d618453a"
      },
      "source": [
        "flattened=arr_2d.flatten() # 1차원으로 변환된 복사본을 리턴\n",
        "\n",
        "flattened"
      ],
      "execution_count": 340,
      "outputs": [
        {
          "output_type": "execute_result",
          "data": {
            "text/plain": [
              "array([ 1,  2,  3,  4,  5,  6,  7,  8,  9, 10, 11, 12])"
            ]
          },
          "metadata": {},
          "execution_count": 340
        }
      ]
    },
    {
      "cell_type": "code",
      "metadata": {
        "colab": {
          "base_uri": "https://localhost:8080/"
        },
        "id": "K8uZIS4lCXFd",
        "outputId": "cba63df1-9657-42ee-9d5f-66df87a2bdab"
      },
      "source": [
        "flattened[0]= 100 # flatten()함수의 결과에서 원소를 변꼉 \n",
        "print(flattened)\n",
        "print(arr_2d) # 원본 2D 배열에는 영향을 미치지 않음."
      ],
      "execution_count": 341,
      "outputs": [
        {
          "output_type": "stream",
          "text": [
            "[100   2   3   4   5   6   7   8   9  10  11  12]\n",
            "[[ 1  2  3  4  5  6]\n",
            " [ 7  8  9 10 11 12]]\n"
          ],
          "name": "stdout"
        }
      ]
    },
    {
      "cell_type": "code",
      "metadata": {
        "colab": {
          "base_uri": "https://localhost:8080/"
        },
        "id": "wc6EBs3NCm1d",
        "outputId": "efd52aed-edac-442a-d390-e5891b480c55"
      },
      "source": [
        "raveled[0]= 100 # ravel()함수의 결과에서 원소를 변꼉\n",
        "print(raveled)\n",
        "print(arr_2d) # 원본 2D 배열에는 영향을 미침."
      ],
      "execution_count": 342,
      "outputs": [
        {
          "output_type": "stream",
          "text": [
            "[100   2   3   4   5   6   7   8   9  10  11  12]\n",
            "[[100   2   3   4   5   6]\n",
            " [  7   8   9  10  11  12]]\n"
          ],
          "name": "stdout"
        }
      ]
    },
    {
      "cell_type": "code",
      "metadata": {
        "colab": {
          "base_uri": "https://localhost:8080/"
        },
        "id": "pU4Hk6d9ASeX",
        "outputId": "ca65ee66-9267-4733-e197-dd4781d906d4"
      },
      "source": [
        "# 3D 배열을 1D 배열로 변환\n",
        "arr_3d.ravel()"
      ],
      "execution_count": 343,
      "outputs": [
        {
          "output_type": "execute_result",
          "data": {
            "text/plain": [
              "array([ 1,  2,  3,  4,  5,  6,  7,  8,  9, 10, 11, 12, 13, 14, 15, 16, 17,\n",
              "       18, 19, 20, 21, 22, 23, 24, 25, 26, 27, 28, 29, 30, 31, 32, 33, 34,\n",
              "       35, 36, 37, 38, 39, 40, 41, 42, 43, 44, 45, 46, 47, 48])"
            ]
          },
          "metadata": {},
          "execution_count": 343
        }
      ]
    },
    {
      "cell_type": "code",
      "metadata": {
        "colab": {
          "base_uri": "https://localhost:8080/"
        },
        "id": "uHIpVhM8AZ-2",
        "outputId": "5cbdc08c-6fbb-4753-c1fb-1c934d072737"
      },
      "source": [
        "arr_3d.flatten()"
      ],
      "execution_count": 344,
      "outputs": [
        {
          "output_type": "execute_result",
          "data": {
            "text/plain": [
              "array([ 1,  2,  3,  4,  5,  6,  7,  8,  9, 10, 11, 12, 13, 14, 15, 16, 17,\n",
              "       18, 19, 20, 21, 22, 23, 24, 25, 26, 27, 28, 29, 30, 31, 32, 33, 34,\n",
              "       35, 36, 37, 38, 39, 40, 41, 42, 43, 44, 45, 46, 47, 48])"
            ]
          },
          "metadata": {},
          "execution_count": 344
        }
      ]
    },
    {
      "cell_type": "markdown",
      "metadata": {
        "id": "fnUWd0SaAnbg"
      },
      "source": [
        "## np.newaxis 속성을 사용한 차원 늘리기 "
      ]
    },
    {
      "cell_type": "code",
      "metadata": {
        "colab": {
          "base_uri": "https://localhost:8080/"
        },
        "id": "2-Z2_AH7AVvW",
        "outputId": "3164afe8-b1eb-4167-fee0-350b88ba46cd"
      },
      "source": [
        "a= np.arange(1,6) # (5,) shape을 갖는 1D 배열 \n",
        "print(a)\n",
        "print('ndim:',a.ndim)\n",
        "print('shape:',a.shape)"
      ],
      "execution_count": 345,
      "outputs": [
        {
          "output_type": "stream",
          "text": [
            "[1 2 3 4 5]\n",
            "ndim: 1\n",
            "shape: (5,)\n"
          ],
          "name": "stdout"
        }
      ]
    },
    {
      "cell_type": "code",
      "metadata": {
        "colab": {
          "base_uri": "https://localhost:8080/"
        },
        "id": "3siHLq_1YrE2",
        "outputId": "fbd3c1eb-d368-4c31-937c-5e417089d116"
      },
      "source": [
        "col_vector=a[:,np.newaxis]\n",
        "print(col_vector)\n",
        "print('ndim:',col_vector.ndim)\n",
        "print('shape',col_vector.shape)"
      ],
      "execution_count": 346,
      "outputs": [
        {
          "output_type": "stream",
          "text": [
            "[[1]\n",
            " [2]\n",
            " [3]\n",
            " [4]\n",
            " [5]]\n",
            "ndim: 2\n",
            "shape (5, 1)\n"
          ],
          "name": "stdout"
        }
      ]
    },
    {
      "cell_type": "code",
      "metadata": {
        "colab": {
          "base_uri": "https://localhost:8080/"
        },
        "id": "qQmqZ6ULZceA",
        "outputId": "e73c8f26-2640-4dc3-c46e-6eba425bc543"
      },
      "source": [
        "a.reshape((5,1))"
      ],
      "execution_count": 347,
      "outputs": [
        {
          "output_type": "execute_result",
          "data": {
            "text/plain": [
              "array([[1],\n",
              "       [2],\n",
              "       [3],\n",
              "       [4],\n",
              "       [5]])"
            ]
          },
          "metadata": {},
          "execution_count": 347
        }
      ]
    },
    {
      "cell_type": "code",
      "metadata": {
        "colab": {
          "base_uri": "https://localhost:8080/"
        },
        "id": "aVblljPiZ_9c",
        "outputId": "f64e4723-d9ce-4f6e-ee24-44b753e07131"
      },
      "source": [
        "a.reshape((-1,1))"
      ],
      "execution_count": 348,
      "outputs": [
        {
          "output_type": "execute_result",
          "data": {
            "text/plain": [
              "array([[1],\n",
              "       [2],\n",
              "       [3],\n",
              "       [4],\n",
              "       [5]])"
            ]
          },
          "metadata": {},
          "execution_count": 348
        }
      ]
    },
    {
      "cell_type": "code",
      "metadata": {
        "colab": {
          "base_uri": "https://localhost:8080/"
        },
        "id": "5_YVfPswacpP",
        "outputId": "2d115c36-9b02-44a5-f2ca-b23b53138aa4"
      },
      "source": [
        "row_vector=a[np.newaxis,:]\n",
        "print(row_vector)\n",
        "print('ndim:',row_vector.ndim)\n",
        "print('shape:',row_vector.shape)"
      ],
      "execution_count": 349,
      "outputs": [
        {
          "output_type": "stream",
          "text": [
            "[[1 2 3 4 5]]\n",
            "ndim: 2\n",
            "shape: (1, 5)\n"
          ],
          "name": "stdout"
        }
      ]
    },
    {
      "cell_type": "code",
      "metadata": {
        "colab": {
          "base_uri": "https://localhost:8080/"
        },
        "id": "ZBS7EVqHbyS_",
        "outputId": "800fb379-a174-4ee1-efe9-c888250b873d"
      },
      "source": [
        "a.reshape((1,5))"
      ],
      "execution_count": 350,
      "outputs": [
        {
          "output_type": "execute_result",
          "data": {
            "text/plain": [
              "array([[1, 2, 3, 4, 5]])"
            ]
          },
          "metadata": {},
          "execution_count": 350
        }
      ]
    },
    {
      "cell_type": "code",
      "metadata": {
        "colab": {
          "base_uri": "https://localhost:8080/"
        },
        "id": "mmPRVdHSb3zG",
        "outputId": "0008b1e4-f352-4d8f-ea93-b3e724f82d28"
      },
      "source": [
        "a.reshape((1,-1))"
      ],
      "execution_count": 351,
      "outputs": [
        {
          "output_type": "execute_result",
          "data": {
            "text/plain": [
              "array([[1, 2, 3, 4, 5]])"
            ]
          },
          "metadata": {},
          "execution_count": 351
        }
      ]
    },
    {
      "cell_type": "code",
      "metadata": {
        "colab": {
          "base_uri": "https://localhost:8080/"
        },
        "id": "zE2GIqA-cS9-",
        "outputId": "43649a56-d6dd-4770-9a8b-d392cbefa661"
      },
      "source": [
        "a= np.arange(1,17).reshape((4,4))\n",
        "a"
      ],
      "execution_count": 352,
      "outputs": [
        {
          "output_type": "execute_result",
          "data": {
            "text/plain": [
              "array([[ 1,  2,  3,  4],\n",
              "       [ 5,  6,  7,  8],\n",
              "       [ 9, 10, 11, 12],\n",
              "       [13, 14, 15, 16]])"
            ]
          },
          "metadata": {},
          "execution_count": 352
        }
      ]
    },
    {
      "cell_type": "code",
      "metadata": {
        "colab": {
          "base_uri": "https://localhost:8080/"
        },
        "id": "M5e850rZdKiu",
        "outputId": "65b175d3-16b5-4cdc-cb36-6fcff48c5cdb"
      },
      "source": [
        "a[:,:,np.newaxis]"
      ],
      "execution_count": 353,
      "outputs": [
        {
          "output_type": "execute_result",
          "data": {
            "text/plain": [
              "array([[[ 1],\n",
              "        [ 2],\n",
              "        [ 3],\n",
              "        [ 4]],\n",
              "\n",
              "       [[ 5],\n",
              "        [ 6],\n",
              "        [ 7],\n",
              "        [ 8]],\n",
              "\n",
              "       [[ 9],\n",
              "        [10],\n",
              "        [11],\n",
              "        [12]],\n",
              "\n",
              "       [[13],\n",
              "        [14],\n",
              "        [15],\n",
              "        [16]]])"
            ]
          },
          "metadata": {},
          "execution_count": 353
        }
      ]
    },
    {
      "cell_type": "code",
      "metadata": {
        "colab": {
          "base_uri": "https://localhost:8080/"
        },
        "id": "PB2eA_NZdocF",
        "outputId": "35d3e83a-d7bd-44ac-dbeb-28084cb182e5"
      },
      "source": [
        "a.reshape((4,-1,1))"
      ],
      "execution_count": 354,
      "outputs": [
        {
          "output_type": "execute_result",
          "data": {
            "text/plain": [
              "array([[[ 1],\n",
              "        [ 2],\n",
              "        [ 3],\n",
              "        [ 4]],\n",
              "\n",
              "       [[ 5],\n",
              "        [ 6],\n",
              "        [ 7],\n",
              "        [ 8]],\n",
              "\n",
              "       [[ 9],\n",
              "        [10],\n",
              "        [11],\n",
              "        [12]],\n",
              "\n",
              "       [[13],\n",
              "        [14],\n",
              "        [15],\n",
              "        [16]]])"
            ]
          },
          "metadata": {},
          "execution_count": 354
        }
      ]
    },
    {
      "cell_type": "code",
      "metadata": {
        "colab": {
          "base_uri": "https://localhost:8080/"
        },
        "id": "ejcWh5QPeND7",
        "outputId": "3e1bca9e-df43-4fdb-ef2a-3ef9e8e053ac"
      },
      "source": [
        "a[np.newaxis,:,:]"
      ],
      "execution_count": 355,
      "outputs": [
        {
          "output_type": "execute_result",
          "data": {
            "text/plain": [
              "array([[[ 1,  2,  3,  4],\n",
              "        [ 5,  6,  7,  8],\n",
              "        [ 9, 10, 11, 12],\n",
              "        [13, 14, 15, 16]]])"
            ]
          },
          "metadata": {},
          "execution_count": 355
        }
      ]
    },
    {
      "cell_type": "code",
      "metadata": {
        "colab": {
          "base_uri": "https://localhost:8080/"
        },
        "id": "2_sumoZleRH4",
        "outputId": "a342db67-c2e9-4956-99c5-4fcc5f90bac8"
      },
      "source": [
        "a.reshape((1,4,4))"
      ],
      "execution_count": 356,
      "outputs": [
        {
          "output_type": "execute_result",
          "data": {
            "text/plain": [
              "array([[[ 1,  2,  3,  4],\n",
              "        [ 5,  6,  7,  8],\n",
              "        [ 9, 10, 11, 12],\n",
              "        [13, 14, 15, 16]]])"
            ]
          },
          "metadata": {},
          "execution_count": 356
        }
      ]
    },
    {
      "cell_type": "markdown",
      "metadata": {
        "id": "-CVyZrTaj6s_"
      },
      "source": [
        "# concatenate\n",
        "\n",
        "* `np.concatenate([a1,a2,...],axis=0)`: 행 또는 열 방향으로 이어 붙이기 \n",
        "* `np.r_[a1,a2]`: 행 이어 붙이기( row concatenation)\n",
        "* ` np.c_[a1,a2]`: 열 이어 붙이기( column concatenation)"
      ]
    },
    {
      "cell_type": "code",
      "metadata": {
        "colab": {
          "base_uri": "https://localhost:8080/"
        },
        "id": "9ClBLsOLeMd5",
        "outputId": "e79cc0eb-837e-4fb3-c9c8-079bea3a5226"
      },
      "source": [
        "# (2,3) shape를 갖는 2D 배열\n",
        "a1=np.arange(1,7).reshape((2,3))\n",
        "print(a1)"
      ],
      "execution_count": 357,
      "outputs": [
        {
          "output_type": "stream",
          "text": [
            "[[1 2 3]\n",
            " [4 5 6]]\n"
          ],
          "name": "stdout"
        }
      ]
    },
    {
      "cell_type": "code",
      "metadata": {
        "colab": {
          "base_uri": "https://localhost:8080/"
        },
        "id": "LY12Md0YlsA-",
        "outputId": "5c9f7ad9-34cb-4ae4-b613-5830e38ac9db"
      },
      "source": [
        "#(1,3) shape을 갖는 2D 배열\n",
        "a2=np.array([[7,8,9]])\n",
        "print(a2)"
      ],
      "execution_count": 358,
      "outputs": [
        {
          "output_type": "stream",
          "text": [
            "[[7 8 9]]\n"
          ],
          "name": "stdout"
        }
      ]
    },
    {
      "cell_type": "code",
      "metadata": {
        "colab": {
          "base_uri": "https://localhost:8080/"
        },
        "id": "errgUf7klzfA",
        "outputId": "d48272d5-0c05-49f0-c918-06a32a9ba688"
      },
      "source": [
        "np.concatenate([a1,a2]) # axis=0인 경우는 생략 가능(default)"
      ],
      "execution_count": 359,
      "outputs": [
        {
          "output_type": "execute_result",
          "data": {
            "text/plain": [
              "array([[1, 2, 3],\n",
              "       [4, 5, 6],\n",
              "       [7, 8, 9]])"
            ]
          },
          "metadata": {},
          "execution_count": 359
        }
      ]
    },
    {
      "cell_type": "code",
      "metadata": {
        "colab": {
          "base_uri": "https://localhost:8080/"
        },
        "id": "xzd_22lKl4YG",
        "outputId": "4af217ee-5295-4c30-bd70-d20d59001646"
      },
      "source": [
        "np.r_[a1,a2]        #> 행 이어 붙이기"
      ],
      "execution_count": 360,
      "outputs": [
        {
          "output_type": "execute_result",
          "data": {
            "text/plain": [
              "array([[1, 2, 3],\n",
              "       [4, 5, 6],\n",
              "       [7, 8, 9]])"
            ]
          },
          "metadata": {},
          "execution_count": 360
        }
      ]
    },
    {
      "cell_type": "code",
      "metadata": {
        "colab": {
          "base_uri": "https://localhost:8080/"
        },
        "id": "jU0fJpFTmBmP",
        "outputId": "c3a1c8fa-7e3c-4042-f299-bf9a6d853afe"
      },
      "source": [
        "a1"
      ],
      "execution_count": 361,
      "outputs": [
        {
          "output_type": "execute_result",
          "data": {
            "text/plain": [
              "array([[1, 2, 3],\n",
              "       [4, 5, 6]])"
            ]
          },
          "metadata": {},
          "execution_count": 361
        }
      ]
    },
    {
      "cell_type": "code",
      "metadata": {
        "colab": {
          "base_uri": "https://localhost:8080/"
        },
        "id": "LTRwujcImawP",
        "outputId": "2cd272f5-fd65-4cb3-a72f-2c6f40d16365"
      },
      "source": [
        "a3=np.array([[10],[20]])\n",
        "a3"
      ],
      "execution_count": 362,
      "outputs": [
        {
          "output_type": "execute_result",
          "data": {
            "text/plain": [
              "array([[10],\n",
              "       [20]])"
            ]
          },
          "metadata": {},
          "execution_count": 362
        }
      ]
    },
    {
      "cell_type": "code",
      "metadata": {
        "colab": {
          "base_uri": "https://localhost:8080/"
        },
        "id": "felKPq1pmiG6",
        "outputId": "fb024d21-d405-44c4-d8b0-a9ddebe60d8b"
      },
      "source": [
        "np.concatenate([a1,a3],axis=1) # axis=1인  경우는 생략 불 가능"
      ],
      "execution_count": 363,
      "outputs": [
        {
          "output_type": "execute_result",
          "data": {
            "text/plain": [
              "array([[ 1,  2,  3, 10],\n",
              "       [ 4,  5,  6, 20]])"
            ]
          },
          "metadata": {},
          "execution_count": 363
        }
      ]
    },
    {
      "cell_type": "code",
      "metadata": {
        "colab": {
          "base_uri": "https://localhost:8080/"
        },
        "id": "NhEYzdFfmmlz",
        "outputId": "5c716814-be89-4e47-ba9e-f433206df75b"
      },
      "source": [
        "np.c_[a1,a3]                #> 열 이어 붙이기"
      ],
      "execution_count": 364,
      "outputs": [
        {
          "output_type": "execute_result",
          "data": {
            "text/plain": [
              "array([[ 1,  2,  3, 10],\n",
              "       [ 4,  5,  6, 20]])"
            ]
          },
          "metadata": {},
          "execution_count": 364
        }
      ]
    },
    {
      "cell_type": "markdown",
      "metadata": {
        "id": "LXKwvIzHnHBM"
      },
      "source": [
        "# Broadcasting\n",
        "\n",
        "* `np.ndarray`의 산술연산(+,-,*,/,//,%,...)은 같은 위치(인덱스)의 원소들끼리 (element-wise) 계산된다. \n",
        "* 서로 shape이 다른 배열들 사이에서 산술연산이 가능하도록 shape을 맞춰서 연산하는 방법 -> broadcast"
      ]
    },
    {
      "cell_type": "code",
      "metadata": {
        "id": "uqpXT_v0pVZt"
      },
      "source": [
        "a= np.array([1,2,3]) #(3,) shape을 갖는 1D 배열\n",
        "b= np.array([1,2,3,4]) #(4,) shape을 갖는 1D 배열\n",
        "# a+b\n",
        "#> ValueError: operands could not bes broadcat together with shapes(3,) (4,)\n",
        "#> 배열 a 와 배열 b는 모양을 같은 shape으로 맞출 수 없다."
      ],
      "execution_count": 365,
      "outputs": []
    },
    {
      "cell_type": "markdown",
      "metadata": {
        "id": "Vp06dehJqY-5"
      },
      "source": [
        "## ndarray와 scalar(숫자 한개)의 broadcast 연산"
      ]
    },
    {
      "cell_type": "code",
      "metadata": {
        "colab": {
          "base_uri": "https://localhost:8080/"
        },
        "id": "eSWXfLcSqkIa",
        "outputId": "1f6d30e6-d20c-466e-f022-5701824a1bba"
      },
      "source": [
        "print(a)"
      ],
      "execution_count": 366,
      "outputs": [
        {
          "output_type": "stream",
          "text": [
            "[1 2 3]\n"
          ],
          "name": "stdout"
        }
      ]
    },
    {
      "cell_type": "code",
      "metadata": {
        "colab": {
          "base_uri": "https://localhost:8080/"
        },
        "id": "dwmajGe4qgLM",
        "outputId": "2537b72f-bd32-4b1f-9ff4-2b7f467c4080"
      },
      "source": [
        "a+10"
      ],
      "execution_count": 367,
      "outputs": [
        {
          "output_type": "execute_result",
          "data": {
            "text/plain": [
              "array([11, 12, 13])"
            ]
          },
          "metadata": {},
          "execution_count": 367
        }
      ]
    },
    {
      "cell_type": "code",
      "metadata": {
        "colab": {
          "base_uri": "https://localhost:8080/"
        },
        "id": "4B063aXNrTAS",
        "outputId": "f25f30cf-8198-457d-b162-53917d1345e7"
      },
      "source": [
        "a2=np.array([[1,2,3],[4,5,6]])\n",
        "a2"
      ],
      "execution_count": 368,
      "outputs": [
        {
          "output_type": "execute_result",
          "data": {
            "text/plain": [
              "array([[1, 2, 3],\n",
              "       [4, 5, 6]])"
            ]
          },
          "metadata": {},
          "execution_count": 368
        }
      ]
    },
    {
      "cell_type": "code",
      "metadata": {
        "colab": {
          "base_uri": "https://localhost:8080/"
        },
        "id": "1NIj0MChrc9N",
        "outputId": "87bbff18-1497-49ce-eac5-10f11ae3d175"
      },
      "source": [
        "a2+10"
      ],
      "execution_count": 369,
      "outputs": [
        {
          "output_type": "execute_result",
          "data": {
            "text/plain": [
              "array([[11, 12, 13],\n",
              "       [14, 15, 16]])"
            ]
          },
          "metadata": {},
          "execution_count": 369
        }
      ]
    },
    {
      "cell_type": "markdown",
      "metadata": {
        "id": "yoB2N_4zv1hq"
      },
      "source": [
        "## 2D array와 1D array, 또는 2D array와 2D array에서의 broadcast"
      ]
    },
    {
      "cell_type": "code",
      "metadata": {
        "id": "jNHcFKESv9nD"
      },
      "source": [
        "a= np.array([[1,2,3],\n",
        "             [4,5,6]]) # (2,3) shape을 갖는 2D array\n",
        "b= np.array([10,20,30])  # (3,) shape을 갖는 1D array"
      ],
      "execution_count": 370,
      "outputs": []
    },
    {
      "cell_type": "code",
      "metadata": {
        "colab": {
          "base_uri": "https://localhost:8080/"
        },
        "id": "AVMBZMMawxpW",
        "outputId": "4d6ff2e1-26eb-4407-e344-8b87d7846822"
      },
      "source": [
        "a+b # (3,) 1D ---> (1,3) 2D ---> (2,3) 2D array"
      ],
      "execution_count": 371,
      "outputs": [
        {
          "output_type": "execute_result",
          "data": {
            "text/plain": [
              "array([[11, 22, 33],\n",
              "       [14, 25, 36]])"
            ]
          },
          "metadata": {},
          "execution_count": 371
        }
      ]
    },
    {
      "cell_type": "code",
      "metadata": {
        "colab": {
          "base_uri": "https://localhost:8080/"
        },
        "id": "4js23kt0xhGD",
        "outputId": "5ad12512-2cf3-4e13-9b75-bf7505c4e1af"
      },
      "source": [
        "c=np.array([[1,2,3]]) # (1,3) shape을 갖는 2D array\n",
        "a+c"
      ],
      "execution_count": 372,
      "outputs": [
        {
          "output_type": "execute_result",
          "data": {
            "text/plain": [
              "array([[2, 4, 6],\n",
              "       [5, 7, 9]])"
            ]
          },
          "metadata": {},
          "execution_count": 372
        }
      ]
    },
    {
      "cell_type": "code",
      "metadata": {
        "id": "JMLC6nILyrMH"
      },
      "source": [
        "d= np.array([10,20])  # (2,) shape을 갖는 1D array\n",
        "# a+d\n",
        "#>ValueError: operands could not be broadcast together with shapes (2,3) (2,) "
      ],
      "execution_count": 373,
      "outputs": []
    },
    {
      "cell_type": "code",
      "metadata": {
        "id": "HkpV1EndzuYr"
      },
      "source": [
        "e= np.array([[10],\n",
        "             [20]]) #(2,1) shape을 갖는 2D array"
      ],
      "execution_count": 374,
      "outputs": []
    },
    {
      "cell_type": "code",
      "metadata": {
        "colab": {
          "base_uri": "https://localhost:8080/"
        },
        "id": "rqXBpM6Lz05a",
        "outputId": "702ff5e9-ddaf-49b4-d56f-8872b01b7b35"
      },
      "source": [
        "a+e"
      ],
      "execution_count": 375,
      "outputs": [
        {
          "output_type": "execute_result",
          "data": {
            "text/plain": [
              "array([[11, 12, 13],\n",
              "       [24, 25, 26]])"
            ]
          },
          "metadata": {},
          "execution_count": 375
        }
      ]
    },
    {
      "cell_type": "code",
      "metadata": {
        "colab": {
          "base_uri": "https://localhost:8080/"
        },
        "id": "oID0ZP5b1ev-",
        "outputId": "61543fd0-a3fd-4c2d-f45e-f65ea869fb0a"
      },
      "source": [
        "g=[[[1,2,3],[4,5,6],[7,8,9]],[[10,11,12],[13,14,15],[16,17,18]]]\n",
        "c+g               # 3차원과 1차원 의 합"
      ],
      "execution_count": 376,
      "outputs": [
        {
          "output_type": "execute_result",
          "data": {
            "text/plain": [
              "array([[[ 2,  4,  6],\n",
              "        [ 5,  7,  9],\n",
              "        [ 8, 10, 12]],\n",
              "\n",
              "       [[11, 13, 15],\n",
              "        [14, 16, 18],\n",
              "        [17, 19, 21]]])"
            ]
          },
          "metadata": {},
          "execution_count": 376
        }
      ]
    },
    {
      "cell_type": "markdown",
      "metadata": {
        "id": "RtHeBRfC2RwJ"
      },
      "source": [
        "## broadcast의 활용 "
      ]
    },
    {
      "cell_type": "markdown",
      "metadata": {
        "id": "fKo_Kdhv2aYO"
      },
      "source": [
        "* **표준화(standardization)**:평균이 0이 되고, 표준편차를 1이 되도록 변수들의 스케일을 변환하는 것.\n",
        "* **정규화(nomalization)**: 최솟값이 0이 되고, 최댓값이 1이 되도록 변수들의 스케일을 변환하는 것. "
      ]
    },
    {
      "cell_type": "code",
      "metadata": {
        "id": "ubpqErEG2Uk6"
      },
      "source": [
        "x= np.array([1,2,3,4,5])"
      ],
      "execution_count": 377,
      "outputs": []
    },
    {
      "cell_type": "code",
      "metadata": {
        "colab": {
          "base_uri": "https://localhost:8080/"
        },
        "id": "PxaFKiLb3HW2",
        "outputId": "aae3d08f-a6c8-476f-d75b-fcaea3368b19"
      },
      "source": [
        "np.mean(x)"
      ],
      "execution_count": 378,
      "outputs": [
        {
          "output_type": "execute_result",
          "data": {
            "text/plain": [
              "3.0"
            ]
          },
          "metadata": {},
          "execution_count": 378
        }
      ]
    },
    {
      "cell_type": "code",
      "metadata": {
        "colab": {
          "base_uri": "https://localhost:8080/"
        },
        "id": "7uX1mvlL3Dbi",
        "outputId": "761b090f-fbe0-49ab-a957-7f9041f7f2cb"
      },
      "source": [
        "np.std(x)"
      ],
      "execution_count": 379,
      "outputs": [
        {
          "output_type": "execute_result",
          "data": {
            "text/plain": [
              "1.4142135623730951"
            ]
          },
          "metadata": {},
          "execution_count": 379
        }
      ]
    },
    {
      "cell_type": "code",
      "metadata": {
        "colab": {
          "base_uri": "https://localhost:8080/"
        },
        "id": "h6DK8ty63DdN",
        "outputId": "9eccb8bd-d4fa-466c-c201-70d98549b938"
      },
      "source": [
        "#표준화\n",
        "x_std=(x-np.mean(x))/np.std(x)\n",
        "x_std"
      ],
      "execution_count": 380,
      "outputs": [
        {
          "output_type": "execute_result",
          "data": {
            "text/plain": [
              "array([-1.41421356, -0.70710678,  0.        ,  0.70710678,  1.41421356])"
            ]
          },
          "metadata": {},
          "execution_count": 380
        }
      ]
    },
    {
      "cell_type": "code",
      "metadata": {
        "colab": {
          "base_uri": "https://localhost:8080/"
        },
        "id": "doZtC-pD42IX",
        "outputId": "1960358b-f966-4916-b55e-81633bea3b1b"
      },
      "source": [
        "# 정규화\n",
        "x_norm=(x-np.min(x))/(np.max(x)-np.min(x))\n",
        "x_norm"
      ],
      "execution_count": 381,
      "outputs": [
        {
          "output_type": "execute_result",
          "data": {
            "text/plain": [
              "array([0.  , 0.25, 0.5 , 0.75, 1.  ])"
            ]
          },
          "metadata": {},
          "execution_count": 381
        }
      ]
    },
    {
      "cell_type": "code",
      "metadata": {
        "id": "is4W9aNE_WR3"
      },
      "source": [
        "x= np.array([[1,2],[3,4],[5,6]])"
      ],
      "execution_count": 382,
      "outputs": []
    },
    {
      "cell_type": "code",
      "metadata": {
        "colab": {
          "base_uri": "https://localhost:8080/"
        },
        "id": "nMjXWaZr_IFQ",
        "outputId": "15b26e3a-bbe5-4051-f566-ad4fb9b1de4e"
      },
      "source": [
        "x"
      ],
      "execution_count": 383,
      "outputs": [
        {
          "output_type": "execute_result",
          "data": {
            "text/plain": [
              "array([[1, 2],\n",
              "       [3, 4],\n",
              "       [5, 6]])"
            ]
          },
          "metadata": {},
          "execution_count": 383
        }
      ]
    },
    {
      "cell_type": "code",
      "metadata": {
        "colab": {
          "base_uri": "https://localhost:8080/"
        },
        "id": "2L7RFqdo_Iug",
        "outputId": "822dad65-17dc-486d-f36e-00ef746d4762"
      },
      "source": [
        "np.mean(x) # 모든 원소들의 평균"
      ],
      "execution_count": 384,
      "outputs": [
        {
          "output_type": "execute_result",
          "data": {
            "text/plain": [
              "3.5"
            ]
          },
          "metadata": {},
          "execution_count": 384
        }
      ]
    },
    {
      "cell_type": "code",
      "metadata": {
        "colab": {
          "base_uri": "https://localhost:8080/"
        },
        "id": "kePRDjLR_Mfd",
        "outputId": "d2dfffa9-6617-4169-f8a6-f02598e1fe1d"
      },
      "source": [
        "np.mean(x,axis=0) #> (2,) shape을 갖는 1D array"
      ],
      "execution_count": 385,
      "outputs": [
        {
          "output_type": "execute_result",
          "data": {
            "text/plain": [
              "array([3., 4.])"
            ]
          },
          "metadata": {},
          "execution_count": 385
        }
      ]
    },
    {
      "cell_type": "code",
      "metadata": {
        "colab": {
          "base_uri": "https://localhost:8080/"
        },
        "id": "K51xtc6H_S4h",
        "outputId": "ad5f05ac-2db0-462c-90b3-4579afa2a83e"
      },
      "source": [
        "np.mean(x,axis=1) #> (3,) shape을 갖는 1D array"
      ],
      "execution_count": 386,
      "outputs": [
        {
          "output_type": "execute_result",
          "data": {
            "text/plain": [
              "array([1.5, 3.5, 5.5])"
            ]
          },
          "metadata": {},
          "execution_count": 386
        }
      ]
    },
    {
      "cell_type": "code",
      "metadata": {
        "colab": {
          "base_uri": "https://localhost:8080/"
        },
        "id": "u7iqyzkD_kd7",
        "outputId": "d298a261-7808-4ab0-d0be-efd61cd300f4"
      },
      "source": [
        "np.mean(x,axis=0,keepdims=True) #> (1,2) shape 를 갖는 2D array"
      ],
      "execution_count": 387,
      "outputs": [
        {
          "output_type": "execute_result",
          "data": {
            "text/plain": [
              "array([[3., 4.]])"
            ]
          },
          "metadata": {},
          "execution_count": 387
        }
      ]
    },
    {
      "cell_type": "code",
      "metadata": {
        "colab": {
          "base_uri": "https://localhost:8080/"
        },
        "id": "Oc-PCJHi_3zc",
        "outputId": "0396d5c8-20c8-4083-9e1c-d8b51b19a058"
      },
      "source": [
        "np.mean(x,axis=1,keepdims=True) #>(3,1) shape을 갖는 2D array"
      ],
      "execution_count": 388,
      "outputs": [
        {
          "output_type": "execute_result",
          "data": {
            "text/plain": [
              "array([[1.5],\n",
              "       [3.5],\n",
              "       [5.5]])"
            ]
          },
          "metadata": {},
          "execution_count": 388
        }
      ]
    },
    {
      "cell_type": "code",
      "metadata": {
        "colab": {
          "base_uri": "https://localhost:8080/"
        },
        "id": "Hlm1pCKOAoCH",
        "outputId": "d1f2d49c-4188-4629-db7b-26d13b4ca5c2"
      },
      "source": [
        "# 표준화\n",
        "(x-np.mean(x,axis=0,keepdims=True))/np.std(x,axis=0,keepdims=True)"
      ],
      "execution_count": 389,
      "outputs": [
        {
          "output_type": "execute_result",
          "data": {
            "text/plain": [
              "array([[-1.22474487, -1.22474487],\n",
              "       [ 0.        ,  0.        ],\n",
              "       [ 1.22474487,  1.22474487]])"
            ]
          },
          "metadata": {},
          "execution_count": 389
        }
      ]
    },
    {
      "cell_type": "code",
      "metadata": {
        "colab": {
          "base_uri": "https://localhost:8080/"
        },
        "id": "j3RdeVcbDMu2",
        "outputId": "0bbd69f7-dec9-4fc7-9f09-597dd544a92a"
      },
      "source": [
        "# 정규화\n",
        "(x-np.min(x,axis=0,keepdims=True))/(np.max(x,axis=0,keepdims=True) - np.min(x,axis=0, keepdims=True))"
      ],
      "execution_count": 390,
      "outputs": [
        {
          "output_type": "execute_result",
          "data": {
            "text/plain": [
              "array([[0. , 0. ],\n",
              "       [0.5, 0.5],\n",
              "       [1. , 1. ]])"
            ]
          },
          "metadata": {},
          "execution_count": 390
        }
      ]
    },
    {
      "cell_type": "markdown",
      "metadata": {
        "id": "tTaaviCSFgvj"
      },
      "source": [
        "* seaborn 패키지의 iris 예제 데이터 셋을 로드\n",
        "* iris 데이터프레임에서 species 변수를 제거\n",
        "* iris  각 변수들을 표준화 (standardization)\n",
        "* iris 각 변수들을 정규화(nomalization)\n",
        "\n",
        "(Hint) `pd.DataFrame.values`: 데이터 프레임의 값들로만 이루어진 2D ndarray를 리턴.\n",
        "(Hint) pd.DataFrame의 통계 관련 함수들을 직접사용."
      ]
    },
    {
      "cell_type": "code",
      "metadata": {
        "id": "_5-n8PupFZUv"
      },
      "source": [
        "iris=sns.load_dataset('iris')"
      ],
      "execution_count": 391,
      "outputs": []
    },
    {
      "cell_type": "code",
      "metadata": {
        "colab": {
          "base_uri": "https://localhost:8080/",
          "height": 415
        },
        "id": "CWYW9BzFG4eK",
        "outputId": "35a6d6ab-99de-48b3-ae87-5ba151b33034"
      },
      "source": [
        "iris"
      ],
      "execution_count": 392,
      "outputs": [
        {
          "output_type": "execute_result",
          "data": {
            "text/html": [
              "<div>\n",
              "<style scoped>\n",
              "    .dataframe tbody tr th:only-of-type {\n",
              "        vertical-align: middle;\n",
              "    }\n",
              "\n",
              "    .dataframe tbody tr th {\n",
              "        vertical-align: top;\n",
              "    }\n",
              "\n",
              "    .dataframe thead th {\n",
              "        text-align: right;\n",
              "    }\n",
              "</style>\n",
              "<table border=\"1\" class=\"dataframe\">\n",
              "  <thead>\n",
              "    <tr style=\"text-align: right;\">\n",
              "      <th></th>\n",
              "      <th>sepal_length</th>\n",
              "      <th>sepal_width</th>\n",
              "      <th>petal_length</th>\n",
              "      <th>petal_width</th>\n",
              "      <th>species</th>\n",
              "    </tr>\n",
              "  </thead>\n",
              "  <tbody>\n",
              "    <tr>\n",
              "      <th>0</th>\n",
              "      <td>5.1</td>\n",
              "      <td>3.5</td>\n",
              "      <td>1.4</td>\n",
              "      <td>0.2</td>\n",
              "      <td>setosa</td>\n",
              "    </tr>\n",
              "    <tr>\n",
              "      <th>1</th>\n",
              "      <td>4.9</td>\n",
              "      <td>3.0</td>\n",
              "      <td>1.4</td>\n",
              "      <td>0.2</td>\n",
              "      <td>setosa</td>\n",
              "    </tr>\n",
              "    <tr>\n",
              "      <th>2</th>\n",
              "      <td>4.7</td>\n",
              "      <td>3.2</td>\n",
              "      <td>1.3</td>\n",
              "      <td>0.2</td>\n",
              "      <td>setosa</td>\n",
              "    </tr>\n",
              "    <tr>\n",
              "      <th>3</th>\n",
              "      <td>4.6</td>\n",
              "      <td>3.1</td>\n",
              "      <td>1.5</td>\n",
              "      <td>0.2</td>\n",
              "      <td>setosa</td>\n",
              "    </tr>\n",
              "    <tr>\n",
              "      <th>4</th>\n",
              "      <td>5.0</td>\n",
              "      <td>3.6</td>\n",
              "      <td>1.4</td>\n",
              "      <td>0.2</td>\n",
              "      <td>setosa</td>\n",
              "    </tr>\n",
              "    <tr>\n",
              "      <th>...</th>\n",
              "      <td>...</td>\n",
              "      <td>...</td>\n",
              "      <td>...</td>\n",
              "      <td>...</td>\n",
              "      <td>...</td>\n",
              "    </tr>\n",
              "    <tr>\n",
              "      <th>145</th>\n",
              "      <td>6.7</td>\n",
              "      <td>3.0</td>\n",
              "      <td>5.2</td>\n",
              "      <td>2.3</td>\n",
              "      <td>virginica</td>\n",
              "    </tr>\n",
              "    <tr>\n",
              "      <th>146</th>\n",
              "      <td>6.3</td>\n",
              "      <td>2.5</td>\n",
              "      <td>5.0</td>\n",
              "      <td>1.9</td>\n",
              "      <td>virginica</td>\n",
              "    </tr>\n",
              "    <tr>\n",
              "      <th>147</th>\n",
              "      <td>6.5</td>\n",
              "      <td>3.0</td>\n",
              "      <td>5.2</td>\n",
              "      <td>2.0</td>\n",
              "      <td>virginica</td>\n",
              "    </tr>\n",
              "    <tr>\n",
              "      <th>148</th>\n",
              "      <td>6.2</td>\n",
              "      <td>3.4</td>\n",
              "      <td>5.4</td>\n",
              "      <td>2.3</td>\n",
              "      <td>virginica</td>\n",
              "    </tr>\n",
              "    <tr>\n",
              "      <th>149</th>\n",
              "      <td>5.9</td>\n",
              "      <td>3.0</td>\n",
              "      <td>5.1</td>\n",
              "      <td>1.8</td>\n",
              "      <td>virginica</td>\n",
              "    </tr>\n",
              "  </tbody>\n",
              "</table>\n",
              "<p>150 rows × 5 columns</p>\n",
              "</div>"
            ],
            "text/plain": [
              "     sepal_length  sepal_width  petal_length  petal_width    species\n",
              "0             5.1          3.5           1.4          0.2     setosa\n",
              "1             4.9          3.0           1.4          0.2     setosa\n",
              "2             4.7          3.2           1.3          0.2     setosa\n",
              "3             4.6          3.1           1.5          0.2     setosa\n",
              "4             5.0          3.6           1.4          0.2     setosa\n",
              "..            ...          ...           ...          ...        ...\n",
              "145           6.7          3.0           5.2          2.3  virginica\n",
              "146           6.3          2.5           5.0          1.9  virginica\n",
              "147           6.5          3.0           5.2          2.0  virginica\n",
              "148           6.2          3.4           5.4          2.3  virginica\n",
              "149           5.9          3.0           5.1          1.8  virginica\n",
              "\n",
              "[150 rows x 5 columns]"
            ]
          },
          "metadata": {},
          "execution_count": 392
        }
      ]
    },
    {
      "cell_type": "code",
      "metadata": {
        "colab": {
          "base_uri": "https://localhost:8080/",
          "height": 415
        },
        "id": "88mLDlghFpx6",
        "outputId": "65a83f6e-9338-4432-81a0-c26c41505bf7"
      },
      "source": [
        "# iris 데이터 프레임에서 Species 컬럼을 제거하고, numpy ndarray(배열)로 변환\n",
        "iris=iris.drop('species',axis=1) # iris.iloc[:,:4]\n",
        "iris\n",
        "# 2차원 이상의 배열 - 변수이름을 대문자로시작\n",
        "# 1차원 배열 - 변수이름을 소문자로 시작 "
      ],
      "execution_count": 393,
      "outputs": [
        {
          "output_type": "execute_result",
          "data": {
            "text/html": [
              "<div>\n",
              "<style scoped>\n",
              "    .dataframe tbody tr th:only-of-type {\n",
              "        vertical-align: middle;\n",
              "    }\n",
              "\n",
              "    .dataframe tbody tr th {\n",
              "        vertical-align: top;\n",
              "    }\n",
              "\n",
              "    .dataframe thead th {\n",
              "        text-align: right;\n",
              "    }\n",
              "</style>\n",
              "<table border=\"1\" class=\"dataframe\">\n",
              "  <thead>\n",
              "    <tr style=\"text-align: right;\">\n",
              "      <th></th>\n",
              "      <th>sepal_length</th>\n",
              "      <th>sepal_width</th>\n",
              "      <th>petal_length</th>\n",
              "      <th>petal_width</th>\n",
              "    </tr>\n",
              "  </thead>\n",
              "  <tbody>\n",
              "    <tr>\n",
              "      <th>0</th>\n",
              "      <td>5.1</td>\n",
              "      <td>3.5</td>\n",
              "      <td>1.4</td>\n",
              "      <td>0.2</td>\n",
              "    </tr>\n",
              "    <tr>\n",
              "      <th>1</th>\n",
              "      <td>4.9</td>\n",
              "      <td>3.0</td>\n",
              "      <td>1.4</td>\n",
              "      <td>0.2</td>\n",
              "    </tr>\n",
              "    <tr>\n",
              "      <th>2</th>\n",
              "      <td>4.7</td>\n",
              "      <td>3.2</td>\n",
              "      <td>1.3</td>\n",
              "      <td>0.2</td>\n",
              "    </tr>\n",
              "    <tr>\n",
              "      <th>3</th>\n",
              "      <td>4.6</td>\n",
              "      <td>3.1</td>\n",
              "      <td>1.5</td>\n",
              "      <td>0.2</td>\n",
              "    </tr>\n",
              "    <tr>\n",
              "      <th>4</th>\n",
              "      <td>5.0</td>\n",
              "      <td>3.6</td>\n",
              "      <td>1.4</td>\n",
              "      <td>0.2</td>\n",
              "    </tr>\n",
              "    <tr>\n",
              "      <th>...</th>\n",
              "      <td>...</td>\n",
              "      <td>...</td>\n",
              "      <td>...</td>\n",
              "      <td>...</td>\n",
              "    </tr>\n",
              "    <tr>\n",
              "      <th>145</th>\n",
              "      <td>6.7</td>\n",
              "      <td>3.0</td>\n",
              "      <td>5.2</td>\n",
              "      <td>2.3</td>\n",
              "    </tr>\n",
              "    <tr>\n",
              "      <th>146</th>\n",
              "      <td>6.3</td>\n",
              "      <td>2.5</td>\n",
              "      <td>5.0</td>\n",
              "      <td>1.9</td>\n",
              "    </tr>\n",
              "    <tr>\n",
              "      <th>147</th>\n",
              "      <td>6.5</td>\n",
              "      <td>3.0</td>\n",
              "      <td>5.2</td>\n",
              "      <td>2.0</td>\n",
              "    </tr>\n",
              "    <tr>\n",
              "      <th>148</th>\n",
              "      <td>6.2</td>\n",
              "      <td>3.4</td>\n",
              "      <td>5.4</td>\n",
              "      <td>2.3</td>\n",
              "    </tr>\n",
              "    <tr>\n",
              "      <th>149</th>\n",
              "      <td>5.9</td>\n",
              "      <td>3.0</td>\n",
              "      <td>5.1</td>\n",
              "      <td>1.8</td>\n",
              "    </tr>\n",
              "  </tbody>\n",
              "</table>\n",
              "<p>150 rows × 4 columns</p>\n",
              "</div>"
            ],
            "text/plain": [
              "     sepal_length  sepal_width  petal_length  petal_width\n",
              "0             5.1          3.5           1.4          0.2\n",
              "1             4.9          3.0           1.4          0.2\n",
              "2             4.7          3.2           1.3          0.2\n",
              "3             4.6          3.1           1.5          0.2\n",
              "4             5.0          3.6           1.4          0.2\n",
              "..            ...          ...           ...          ...\n",
              "145           6.7          3.0           5.2          2.3\n",
              "146           6.3          2.5           5.0          1.9\n",
              "147           6.5          3.0           5.2          2.0\n",
              "148           6.2          3.4           5.4          2.3\n",
              "149           5.9          3.0           5.1          1.8\n",
              "\n",
              "[150 rows x 4 columns]"
            ]
          },
          "metadata": {},
          "execution_count": 393
        }
      ]
    },
    {
      "cell_type": "code",
      "metadata": {
        "colab": {
          "base_uri": "https://localhost:8080/",
          "height": 415
        },
        "id": "eRsq5QGdHALi",
        "outputId": "2b74843b-e922-4e22-c1d3-7fe6a4d35e64"
      },
      "source": [
        "(iris - iris.min(axis=0)) / (iris.max(axis=0) - iris.min(axis=0)) # 정규화"
      ],
      "execution_count": 394,
      "outputs": [
        {
          "output_type": "execute_result",
          "data": {
            "text/html": [
              "<div>\n",
              "<style scoped>\n",
              "    .dataframe tbody tr th:only-of-type {\n",
              "        vertical-align: middle;\n",
              "    }\n",
              "\n",
              "    .dataframe tbody tr th {\n",
              "        vertical-align: top;\n",
              "    }\n",
              "\n",
              "    .dataframe thead th {\n",
              "        text-align: right;\n",
              "    }\n",
              "</style>\n",
              "<table border=\"1\" class=\"dataframe\">\n",
              "  <thead>\n",
              "    <tr style=\"text-align: right;\">\n",
              "      <th></th>\n",
              "      <th>sepal_length</th>\n",
              "      <th>sepal_width</th>\n",
              "      <th>petal_length</th>\n",
              "      <th>petal_width</th>\n",
              "    </tr>\n",
              "  </thead>\n",
              "  <tbody>\n",
              "    <tr>\n",
              "      <th>0</th>\n",
              "      <td>0.222222</td>\n",
              "      <td>0.625000</td>\n",
              "      <td>0.067797</td>\n",
              "      <td>0.041667</td>\n",
              "    </tr>\n",
              "    <tr>\n",
              "      <th>1</th>\n",
              "      <td>0.166667</td>\n",
              "      <td>0.416667</td>\n",
              "      <td>0.067797</td>\n",
              "      <td>0.041667</td>\n",
              "    </tr>\n",
              "    <tr>\n",
              "      <th>2</th>\n",
              "      <td>0.111111</td>\n",
              "      <td>0.500000</td>\n",
              "      <td>0.050847</td>\n",
              "      <td>0.041667</td>\n",
              "    </tr>\n",
              "    <tr>\n",
              "      <th>3</th>\n",
              "      <td>0.083333</td>\n",
              "      <td>0.458333</td>\n",
              "      <td>0.084746</td>\n",
              "      <td>0.041667</td>\n",
              "    </tr>\n",
              "    <tr>\n",
              "      <th>4</th>\n",
              "      <td>0.194444</td>\n",
              "      <td>0.666667</td>\n",
              "      <td>0.067797</td>\n",
              "      <td>0.041667</td>\n",
              "    </tr>\n",
              "    <tr>\n",
              "      <th>...</th>\n",
              "      <td>...</td>\n",
              "      <td>...</td>\n",
              "      <td>...</td>\n",
              "      <td>...</td>\n",
              "    </tr>\n",
              "    <tr>\n",
              "      <th>145</th>\n",
              "      <td>0.666667</td>\n",
              "      <td>0.416667</td>\n",
              "      <td>0.711864</td>\n",
              "      <td>0.916667</td>\n",
              "    </tr>\n",
              "    <tr>\n",
              "      <th>146</th>\n",
              "      <td>0.555556</td>\n",
              "      <td>0.208333</td>\n",
              "      <td>0.677966</td>\n",
              "      <td>0.750000</td>\n",
              "    </tr>\n",
              "    <tr>\n",
              "      <th>147</th>\n",
              "      <td>0.611111</td>\n",
              "      <td>0.416667</td>\n",
              "      <td>0.711864</td>\n",
              "      <td>0.791667</td>\n",
              "    </tr>\n",
              "    <tr>\n",
              "      <th>148</th>\n",
              "      <td>0.527778</td>\n",
              "      <td>0.583333</td>\n",
              "      <td>0.745763</td>\n",
              "      <td>0.916667</td>\n",
              "    </tr>\n",
              "    <tr>\n",
              "      <th>149</th>\n",
              "      <td>0.444444</td>\n",
              "      <td>0.416667</td>\n",
              "      <td>0.694915</td>\n",
              "      <td>0.708333</td>\n",
              "    </tr>\n",
              "  </tbody>\n",
              "</table>\n",
              "<p>150 rows × 4 columns</p>\n",
              "</div>"
            ],
            "text/plain": [
              "     sepal_length  sepal_width  petal_length  petal_width\n",
              "0        0.222222     0.625000      0.067797     0.041667\n",
              "1        0.166667     0.416667      0.067797     0.041667\n",
              "2        0.111111     0.500000      0.050847     0.041667\n",
              "3        0.083333     0.458333      0.084746     0.041667\n",
              "4        0.194444     0.666667      0.067797     0.041667\n",
              "..            ...          ...           ...          ...\n",
              "145      0.666667     0.416667      0.711864     0.916667\n",
              "146      0.555556     0.208333      0.677966     0.750000\n",
              "147      0.611111     0.416667      0.711864     0.791667\n",
              "148      0.527778     0.583333      0.745763     0.916667\n",
              "149      0.444444     0.416667      0.694915     0.708333\n",
              "\n",
              "[150 rows x 4 columns]"
            ]
          },
          "metadata": {},
          "execution_count": 394
        }
      ]
    },
    {
      "cell_type": "code",
      "metadata": {
        "colab": {
          "base_uri": "https://localhost:8080/",
          "height": 415
        },
        "id": "0QdsEgKmNoGh",
        "outputId": "4b276d88-08d7-42ee-a7f0-25b19b2f2a62"
      },
      "source": [
        "(iris-np.mean(iris, axis=0)) / np.std(iris, axis = 0) # 표준화"
      ],
      "execution_count": 395,
      "outputs": [
        {
          "output_type": "execute_result",
          "data": {
            "text/html": [
              "<div>\n",
              "<style scoped>\n",
              "    .dataframe tbody tr th:only-of-type {\n",
              "        vertical-align: middle;\n",
              "    }\n",
              "\n",
              "    .dataframe tbody tr th {\n",
              "        vertical-align: top;\n",
              "    }\n",
              "\n",
              "    .dataframe thead th {\n",
              "        text-align: right;\n",
              "    }\n",
              "</style>\n",
              "<table border=\"1\" class=\"dataframe\">\n",
              "  <thead>\n",
              "    <tr style=\"text-align: right;\">\n",
              "      <th></th>\n",
              "      <th>sepal_length</th>\n",
              "      <th>sepal_width</th>\n",
              "      <th>petal_length</th>\n",
              "      <th>petal_width</th>\n",
              "    </tr>\n",
              "  </thead>\n",
              "  <tbody>\n",
              "    <tr>\n",
              "      <th>0</th>\n",
              "      <td>-0.900681</td>\n",
              "      <td>1.019004</td>\n",
              "      <td>-1.340227</td>\n",
              "      <td>-1.315444</td>\n",
              "    </tr>\n",
              "    <tr>\n",
              "      <th>1</th>\n",
              "      <td>-1.143017</td>\n",
              "      <td>-0.131979</td>\n",
              "      <td>-1.340227</td>\n",
              "      <td>-1.315444</td>\n",
              "    </tr>\n",
              "    <tr>\n",
              "      <th>2</th>\n",
              "      <td>-1.385353</td>\n",
              "      <td>0.328414</td>\n",
              "      <td>-1.397064</td>\n",
              "      <td>-1.315444</td>\n",
              "    </tr>\n",
              "    <tr>\n",
              "      <th>3</th>\n",
              "      <td>-1.506521</td>\n",
              "      <td>0.098217</td>\n",
              "      <td>-1.283389</td>\n",
              "      <td>-1.315444</td>\n",
              "    </tr>\n",
              "    <tr>\n",
              "      <th>4</th>\n",
              "      <td>-1.021849</td>\n",
              "      <td>1.249201</td>\n",
              "      <td>-1.340227</td>\n",
              "      <td>-1.315444</td>\n",
              "    </tr>\n",
              "    <tr>\n",
              "      <th>...</th>\n",
              "      <td>...</td>\n",
              "      <td>...</td>\n",
              "      <td>...</td>\n",
              "      <td>...</td>\n",
              "    </tr>\n",
              "    <tr>\n",
              "      <th>145</th>\n",
              "      <td>1.038005</td>\n",
              "      <td>-0.131979</td>\n",
              "      <td>0.819596</td>\n",
              "      <td>1.448832</td>\n",
              "    </tr>\n",
              "    <tr>\n",
              "      <th>146</th>\n",
              "      <td>0.553333</td>\n",
              "      <td>-1.282963</td>\n",
              "      <td>0.705921</td>\n",
              "      <td>0.922303</td>\n",
              "    </tr>\n",
              "    <tr>\n",
              "      <th>147</th>\n",
              "      <td>0.795669</td>\n",
              "      <td>-0.131979</td>\n",
              "      <td>0.819596</td>\n",
              "      <td>1.053935</td>\n",
              "    </tr>\n",
              "    <tr>\n",
              "      <th>148</th>\n",
              "      <td>0.432165</td>\n",
              "      <td>0.788808</td>\n",
              "      <td>0.933271</td>\n",
              "      <td>1.448832</td>\n",
              "    </tr>\n",
              "    <tr>\n",
              "      <th>149</th>\n",
              "      <td>0.068662</td>\n",
              "      <td>-0.131979</td>\n",
              "      <td>0.762758</td>\n",
              "      <td>0.790671</td>\n",
              "    </tr>\n",
              "  </tbody>\n",
              "</table>\n",
              "<p>150 rows × 4 columns</p>\n",
              "</div>"
            ],
            "text/plain": [
              "     sepal_length  sepal_width  petal_length  petal_width\n",
              "0       -0.900681     1.019004     -1.340227    -1.315444\n",
              "1       -1.143017    -0.131979     -1.340227    -1.315444\n",
              "2       -1.385353     0.328414     -1.397064    -1.315444\n",
              "3       -1.506521     0.098217     -1.283389    -1.315444\n",
              "4       -1.021849     1.249201     -1.340227    -1.315444\n",
              "..            ...          ...           ...          ...\n",
              "145      1.038005    -0.131979      0.819596     1.448832\n",
              "146      0.553333    -1.282963      0.705921     0.922303\n",
              "147      0.795669    -0.131979      0.819596     1.053935\n",
              "148      0.432165     0.788808      0.933271     1.448832\n",
              "149      0.068662    -0.131979      0.762758     0.790671\n",
              "\n",
              "[150 rows x 4 columns]"
            ]
          },
          "metadata": {},
          "execution_count": 395
        }
      ]
    },
    {
      "cell_type": "code",
      "metadata": {
        "id": "GP-t3SYnqyXb"
      },
      "source": [
        "X= iris.values  # value 속성은 to_numpy() 매서드를 사용하는것과 동일"
      ],
      "execution_count": 396,
      "outputs": []
    },
    {
      "cell_type": "code",
      "metadata": {
        "colab": {
          "base_uri": "https://localhost:8080/"
        },
        "id": "gGuFCTaGqzd2",
        "outputId": "e3f6761a-3db7-4aa3-9f43-6f591966321b"
      },
      "source": [
        "X[-5:,:]"
      ],
      "execution_count": 397,
      "outputs": [
        {
          "output_type": "execute_result",
          "data": {
            "text/plain": [
              "array([[6.7, 3. , 5.2, 2.3],\n",
              "       [6.3, 2.5, 5. , 1.9],\n",
              "       [6.5, 3. , 5.2, 2. ],\n",
              "       [6.2, 3.4, 5.4, 2.3],\n",
              "       [5.9, 3. , 5.1, 1.8]])"
            ]
          },
          "metadata": {},
          "execution_count": 397
        }
      ]
    },
    {
      "cell_type": "code",
      "metadata": {
        "colab": {
          "base_uri": "https://localhost:8080/"
        },
        "id": "N-MQxSBBqzZV",
        "outputId": "1b56fb6d-4210-42d5-d0ef-91ee06fadcc0"
      },
      "source": [
        "np.mean(X,axis=0,keepdims=True) # iris.describe() 결과의 mean과 동일해야함."
      ],
      "execution_count": 398,
      "outputs": [
        {
          "output_type": "execute_result",
          "data": {
            "text/plain": [
              "array([[5.84333333, 3.05733333, 3.758     , 1.19933333]])"
            ]
          },
          "metadata": {},
          "execution_count": 398
        }
      ]
    },
    {
      "cell_type": "code",
      "metadata": {
        "colab": {
          "base_uri": "https://localhost:8080/"
        },
        "id": "spgC8BCzsD_c",
        "outputId": "886e1862-9e73-46b3-97f1-5f6ac9631f17"
      },
      "source": [
        "np.std(X,axis=0) # iris.describe() 결과의 std과 동일해야함."
      ],
      "execution_count": 399,
      "outputs": [
        {
          "output_type": "execute_result",
          "data": {
            "text/plain": [
              "array([0.82530129, 0.43441097, 1.75940407, 0.75969263])"
            ]
          },
          "metadata": {},
          "execution_count": 399
        }
      ]
    },
    {
      "cell_type": "code",
      "metadata": {
        "colab": {
          "base_uri": "https://localhost:8080/"
        },
        "id": "A8Am50wxsmZO",
        "outputId": "9f54f2b7-5cd3-47f0-d897-ae1628a4df04"
      },
      "source": [
        "np.max(X,axis=0)"
      ],
      "execution_count": 400,
      "outputs": [
        {
          "output_type": "execute_result",
          "data": {
            "text/plain": [
              "array([7.9, 4.4, 6.9, 2.5])"
            ]
          },
          "metadata": {},
          "execution_count": 400
        }
      ]
    },
    {
      "cell_type": "code",
      "metadata": {
        "colab": {
          "base_uri": "https://localhost:8080/"
        },
        "id": "OskfjkxdspJe",
        "outputId": "70848125-15f2-4c19-a9f1-169023e4423a"
      },
      "source": [
        "np.min(X,axis=0)"
      ],
      "execution_count": 401,
      "outputs": [
        {
          "output_type": "execute_result",
          "data": {
            "text/plain": [
              "array([4.3, 2. , 1. , 0.1])"
            ]
          },
          "metadata": {},
          "execution_count": 401
        }
      ]
    },
    {
      "cell_type": "code",
      "metadata": {
        "colab": {
          "base_uri": "https://localhost:8080/"
        },
        "id": "UdONUuIrs7Kp",
        "outputId": "83baa2ab-0a47-4614-8c32-bbcd40065e41"
      },
      "source": [
        "# 표준화\n",
        "X_standardized= (X-np.mean(X,axis=0))/ np.std(X,axis=0)\n",
        "X_standardized[:5,:]"
      ],
      "execution_count": 402,
      "outputs": [
        {
          "output_type": "execute_result",
          "data": {
            "text/plain": [
              "array([[-0.90068117,  1.01900435, -1.34022653, -1.3154443 ],\n",
              "       [-1.14301691, -0.13197948, -1.34022653, -1.3154443 ],\n",
              "       [-1.38535265,  0.32841405, -1.39706395, -1.3154443 ],\n",
              "       [-1.50652052,  0.09821729, -1.2833891 , -1.3154443 ],\n",
              "       [-1.02184904,  1.24920112, -1.34022653, -1.3154443 ]])"
            ]
          },
          "metadata": {},
          "execution_count": 402
        }
      ]
    },
    {
      "cell_type": "code",
      "metadata": {
        "colab": {
          "base_uri": "https://localhost:8080/"
        },
        "id": "xGrV9JfqtjOs",
        "outputId": "ec4d2f46-8976-4782-c43a-16fa5618e536"
      },
      "source": [
        "# 확인 : 평균 ==0 , 표준편차 ==1\n",
        "np.std(X_standardized,axis=0)"
      ],
      "execution_count": 403,
      "outputs": [
        {
          "output_type": "execute_result",
          "data": {
            "text/plain": [
              "array([1., 1., 1., 1.])"
            ]
          },
          "metadata": {},
          "execution_count": 403
        }
      ]
    },
    {
      "cell_type": "code",
      "metadata": {
        "colab": {
          "base_uri": "https://localhost:8080/"
        },
        "id": "CgjBmuoQug8a",
        "outputId": "61e3d25f-011c-47cb-a9ce-dfc0f9c83f1b"
      },
      "source": [
        "np.mean(X_standardized,axis=0)"
      ],
      "execution_count": 404,
      "outputs": [
        {
          "output_type": "execute_result",
          "data": {
            "text/plain": [
              "array([-4.73695157e-16, -7.81597009e-16, -4.26325641e-16, -4.73695157e-16])"
            ]
          },
          "metadata": {},
          "execution_count": 404
        }
      ]
    },
    {
      "cell_type": "markdown",
      "metadata": {
        "id": "aRZol-Ef1Wql"
      },
      "source": [
        "`pandas.DataFrame`의 통계 메서드 이용"
      ]
    },
    {
      "cell_type": "code",
      "metadata": {
        "id": "WzkWzOnL2xA9"
      },
      "source": [
        "iris=sns.load_dataset('iris')"
      ],
      "execution_count": 406,
      "outputs": []
    },
    {
      "cell_type": "code",
      "metadata": {
        "colab": {
          "base_uri": "https://localhost:8080/",
          "height": 415
        },
        "id": "bmbWZ1nZ1Z8h",
        "outputId": "bf34f7e6-5565-4ec0-9aa6-aa32f6f89635"
      },
      "source": [
        "features= iris.drop(columns='species')  #iris 데이터프레임에서 species 컬럼만 제거\n",
        "features"
      ],
      "execution_count": 407,
      "outputs": [
        {
          "output_type": "execute_result",
          "data": {
            "text/html": [
              "<div>\n",
              "<style scoped>\n",
              "    .dataframe tbody tr th:only-of-type {\n",
              "        vertical-align: middle;\n",
              "    }\n",
              "\n",
              "    .dataframe tbody tr th {\n",
              "        vertical-align: top;\n",
              "    }\n",
              "\n",
              "    .dataframe thead th {\n",
              "        text-align: right;\n",
              "    }\n",
              "</style>\n",
              "<table border=\"1\" class=\"dataframe\">\n",
              "  <thead>\n",
              "    <tr style=\"text-align: right;\">\n",
              "      <th></th>\n",
              "      <th>sepal_length</th>\n",
              "      <th>sepal_width</th>\n",
              "      <th>petal_length</th>\n",
              "      <th>petal_width</th>\n",
              "    </tr>\n",
              "  </thead>\n",
              "  <tbody>\n",
              "    <tr>\n",
              "      <th>0</th>\n",
              "      <td>5.1</td>\n",
              "      <td>3.5</td>\n",
              "      <td>1.4</td>\n",
              "      <td>0.2</td>\n",
              "    </tr>\n",
              "    <tr>\n",
              "      <th>1</th>\n",
              "      <td>4.9</td>\n",
              "      <td>3.0</td>\n",
              "      <td>1.4</td>\n",
              "      <td>0.2</td>\n",
              "    </tr>\n",
              "    <tr>\n",
              "      <th>2</th>\n",
              "      <td>4.7</td>\n",
              "      <td>3.2</td>\n",
              "      <td>1.3</td>\n",
              "      <td>0.2</td>\n",
              "    </tr>\n",
              "    <tr>\n",
              "      <th>3</th>\n",
              "      <td>4.6</td>\n",
              "      <td>3.1</td>\n",
              "      <td>1.5</td>\n",
              "      <td>0.2</td>\n",
              "    </tr>\n",
              "    <tr>\n",
              "      <th>4</th>\n",
              "      <td>5.0</td>\n",
              "      <td>3.6</td>\n",
              "      <td>1.4</td>\n",
              "      <td>0.2</td>\n",
              "    </tr>\n",
              "    <tr>\n",
              "      <th>...</th>\n",
              "      <td>...</td>\n",
              "      <td>...</td>\n",
              "      <td>...</td>\n",
              "      <td>...</td>\n",
              "    </tr>\n",
              "    <tr>\n",
              "      <th>145</th>\n",
              "      <td>6.7</td>\n",
              "      <td>3.0</td>\n",
              "      <td>5.2</td>\n",
              "      <td>2.3</td>\n",
              "    </tr>\n",
              "    <tr>\n",
              "      <th>146</th>\n",
              "      <td>6.3</td>\n",
              "      <td>2.5</td>\n",
              "      <td>5.0</td>\n",
              "      <td>1.9</td>\n",
              "    </tr>\n",
              "    <tr>\n",
              "      <th>147</th>\n",
              "      <td>6.5</td>\n",
              "      <td>3.0</td>\n",
              "      <td>5.2</td>\n",
              "      <td>2.0</td>\n",
              "    </tr>\n",
              "    <tr>\n",
              "      <th>148</th>\n",
              "      <td>6.2</td>\n",
              "      <td>3.4</td>\n",
              "      <td>5.4</td>\n",
              "      <td>2.3</td>\n",
              "    </tr>\n",
              "    <tr>\n",
              "      <th>149</th>\n",
              "      <td>5.9</td>\n",
              "      <td>3.0</td>\n",
              "      <td>5.1</td>\n",
              "      <td>1.8</td>\n",
              "    </tr>\n",
              "  </tbody>\n",
              "</table>\n",
              "<p>150 rows × 4 columns</p>\n",
              "</div>"
            ],
            "text/plain": [
              "     sepal_length  sepal_width  petal_length  petal_width\n",
              "0             5.1          3.5           1.4          0.2\n",
              "1             4.9          3.0           1.4          0.2\n",
              "2             4.7          3.2           1.3          0.2\n",
              "3             4.6          3.1           1.5          0.2\n",
              "4             5.0          3.6           1.4          0.2\n",
              "..            ...          ...           ...          ...\n",
              "145           6.7          3.0           5.2          2.3\n",
              "146           6.3          2.5           5.0          1.9\n",
              "147           6.5          3.0           5.2          2.0\n",
              "148           6.2          3.4           5.4          2.3\n",
              "149           5.9          3.0           5.1          1.8\n",
              "\n",
              "[150 rows x 4 columns]"
            ]
          },
          "metadata": {},
          "execution_count": 407
        }
      ]
    },
    {
      "cell_type": "code",
      "metadata": {
        "colab": {
          "base_uri": "https://localhost:8080/"
        },
        "id": "3hf_LPjP2jwI",
        "outputId": "7eba2768-40c5-4cb8-dcb0-769a902e613f"
      },
      "source": [
        "features.mean() # axis=0은 생략(default)"
      ],
      "execution_count": 409,
      "outputs": [
        {
          "output_type": "execute_result",
          "data": {
            "text/plain": [
              "sepal_length    5.843333\n",
              "sepal_width     3.057333\n",
              "petal_length    3.758000\n",
              "petal_width     1.199333\n",
              "dtype: float64"
            ]
          },
          "metadata": {},
          "execution_count": 409
        }
      ]
    },
    {
      "cell_type": "code",
      "metadata": {
        "colab": {
          "base_uri": "https://localhost:8080/",
          "height": 202
        },
        "id": "s2c6A8Zn3aMp",
        "outputId": "9bc1f8bf-2fc4-4f06-a8ea-e4f203f69cbd"
      },
      "source": [
        "# DataFrame에서 산술 연산은 같은 인덱스의 원소들끼리 수행됨.\n",
        "features_std=(features-features.mean())/features.std()\n",
        "features_std.head()"
      ],
      "execution_count": 411,
      "outputs": [
        {
          "output_type": "execute_result",
          "data": {
            "text/html": [
              "<div>\n",
              "<style scoped>\n",
              "    .dataframe tbody tr th:only-of-type {\n",
              "        vertical-align: middle;\n",
              "    }\n",
              "\n",
              "    .dataframe tbody tr th {\n",
              "        vertical-align: top;\n",
              "    }\n",
              "\n",
              "    .dataframe thead th {\n",
              "        text-align: right;\n",
              "    }\n",
              "</style>\n",
              "<table border=\"1\" class=\"dataframe\">\n",
              "  <thead>\n",
              "    <tr style=\"text-align: right;\">\n",
              "      <th></th>\n",
              "      <th>sepal_length</th>\n",
              "      <th>sepal_width</th>\n",
              "      <th>petal_length</th>\n",
              "      <th>petal_width</th>\n",
              "    </tr>\n",
              "  </thead>\n",
              "  <tbody>\n",
              "    <tr>\n",
              "      <th>0</th>\n",
              "      <td>-0.897674</td>\n",
              "      <td>1.015602</td>\n",
              "      <td>-1.335752</td>\n",
              "      <td>-1.311052</td>\n",
              "    </tr>\n",
              "    <tr>\n",
              "      <th>1</th>\n",
              "      <td>-1.139200</td>\n",
              "      <td>-0.131539</td>\n",
              "      <td>-1.335752</td>\n",
              "      <td>-1.311052</td>\n",
              "    </tr>\n",
              "    <tr>\n",
              "      <th>2</th>\n",
              "      <td>-1.380727</td>\n",
              "      <td>0.327318</td>\n",
              "      <td>-1.392399</td>\n",
              "      <td>-1.311052</td>\n",
              "    </tr>\n",
              "    <tr>\n",
              "      <th>3</th>\n",
              "      <td>-1.501490</td>\n",
              "      <td>0.097889</td>\n",
              "      <td>-1.279104</td>\n",
              "      <td>-1.311052</td>\n",
              "    </tr>\n",
              "    <tr>\n",
              "      <th>4</th>\n",
              "      <td>-1.018437</td>\n",
              "      <td>1.245030</td>\n",
              "      <td>-1.335752</td>\n",
              "      <td>-1.311052</td>\n",
              "    </tr>\n",
              "  </tbody>\n",
              "</table>\n",
              "</div>"
            ],
            "text/plain": [
              "   sepal_length  sepal_width  petal_length  petal_width\n",
              "0     -0.897674     1.015602     -1.335752    -1.311052\n",
              "1     -1.139200    -0.131539     -1.335752    -1.311052\n",
              "2     -1.380727     0.327318     -1.392399    -1.311052\n",
              "3     -1.501490     0.097889     -1.279104    -1.311052\n",
              "4     -1.018437     1.245030     -1.335752    -1.311052"
            ]
          },
          "metadata": {},
          "execution_count": 411
        }
      ]
    },
    {
      "cell_type": "code",
      "metadata": {
        "colab": {
          "base_uri": "https://localhost:8080/",
          "height": 294
        },
        "id": "0F3VuQNx36UQ",
        "outputId": "b78cf016-7511-46b6-be04-06eaedc73691"
      },
      "source": [
        "features_std.describe()"
      ],
      "execution_count": 412,
      "outputs": [
        {
          "output_type": "execute_result",
          "data": {
            "text/html": [
              "<div>\n",
              "<style scoped>\n",
              "    .dataframe tbody tr th:only-of-type {\n",
              "        vertical-align: middle;\n",
              "    }\n",
              "\n",
              "    .dataframe tbody tr th {\n",
              "        vertical-align: top;\n",
              "    }\n",
              "\n",
              "    .dataframe thead th {\n",
              "        text-align: right;\n",
              "    }\n",
              "</style>\n",
              "<table border=\"1\" class=\"dataframe\">\n",
              "  <thead>\n",
              "    <tr style=\"text-align: right;\">\n",
              "      <th></th>\n",
              "      <th>sepal_length</th>\n",
              "      <th>sepal_width</th>\n",
              "      <th>petal_length</th>\n",
              "      <th>petal_width</th>\n",
              "    </tr>\n",
              "  </thead>\n",
              "  <tbody>\n",
              "    <tr>\n",
              "      <th>count</th>\n",
              "      <td>1.500000e+02</td>\n",
              "      <td>1.500000e+02</td>\n",
              "      <td>1.500000e+02</td>\n",
              "      <td>1.500000e+02</td>\n",
              "    </tr>\n",
              "    <tr>\n",
              "      <th>mean</th>\n",
              "      <td>-1.457168e-15</td>\n",
              "      <td>-1.638319e-15</td>\n",
              "      <td>-1.292300e-15</td>\n",
              "      <td>-5.543714e-16</td>\n",
              "    </tr>\n",
              "    <tr>\n",
              "      <th>std</th>\n",
              "      <td>1.000000e+00</td>\n",
              "      <td>1.000000e+00</td>\n",
              "      <td>1.000000e+00</td>\n",
              "      <td>1.000000e+00</td>\n",
              "    </tr>\n",
              "    <tr>\n",
              "      <th>min</th>\n",
              "      <td>-1.863780e+00</td>\n",
              "      <td>-2.425820e+00</td>\n",
              "      <td>-1.562342e+00</td>\n",
              "      <td>-1.442245e+00</td>\n",
              "    </tr>\n",
              "    <tr>\n",
              "      <th>25%</th>\n",
              "      <td>-8.976739e-01</td>\n",
              "      <td>-5.903951e-01</td>\n",
              "      <td>-1.222456e+00</td>\n",
              "      <td>-1.179859e+00</td>\n",
              "    </tr>\n",
              "    <tr>\n",
              "      <th>50%</th>\n",
              "      <td>-5.233076e-02</td>\n",
              "      <td>-1.315388e-01</td>\n",
              "      <td>3.353541e-01</td>\n",
              "      <td>1.320673e-01</td>\n",
              "    </tr>\n",
              "    <tr>\n",
              "      <th>75%</th>\n",
              "      <td>6.722490e-01</td>\n",
              "      <td>5.567457e-01</td>\n",
              "      <td>7.602115e-01</td>\n",
              "      <td>7.880307e-01</td>\n",
              "    </tr>\n",
              "    <tr>\n",
              "      <th>max</th>\n",
              "      <td>2.483699e+00</td>\n",
              "      <td>3.080455e+00</td>\n",
              "      <td>1.779869e+00</td>\n",
              "      <td>1.706379e+00</td>\n",
              "    </tr>\n",
              "  </tbody>\n",
              "</table>\n",
              "</div>"
            ],
            "text/plain": [
              "       sepal_length   sepal_width  petal_length   petal_width\n",
              "count  1.500000e+02  1.500000e+02  1.500000e+02  1.500000e+02\n",
              "mean  -1.457168e-15 -1.638319e-15 -1.292300e-15 -5.543714e-16\n",
              "std    1.000000e+00  1.000000e+00  1.000000e+00  1.000000e+00\n",
              "min   -1.863780e+00 -2.425820e+00 -1.562342e+00 -1.442245e+00\n",
              "25%   -8.976739e-01 -5.903951e-01 -1.222456e+00 -1.179859e+00\n",
              "50%   -5.233076e-02 -1.315388e-01  3.353541e-01  1.320673e-01\n",
              "75%    6.722490e-01  5.567457e-01  7.602115e-01  7.880307e-01\n",
              "max    2.483699e+00  3.080455e+00  1.779869e+00  1.706379e+00"
            ]
          },
          "metadata": {},
          "execution_count": 412
        }
      ]
    },
    {
      "cell_type": "code",
      "metadata": {
        "colab": {
          "base_uri": "https://localhost:8080/",
          "height": 415
        },
        "id": "LHTmPddD4B0v",
        "outputId": "eeb0a91d-953c-4ae1-94ca-d193ef8c5fd4"
      },
      "source": [
        "features_norm=(features-features.min())/(features.max()-features.min())\n",
        "features_norm"
      ],
      "execution_count": 414,
      "outputs": [
        {
          "output_type": "execute_result",
          "data": {
            "text/html": [
              "<div>\n",
              "<style scoped>\n",
              "    .dataframe tbody tr th:only-of-type {\n",
              "        vertical-align: middle;\n",
              "    }\n",
              "\n",
              "    .dataframe tbody tr th {\n",
              "        vertical-align: top;\n",
              "    }\n",
              "\n",
              "    .dataframe thead th {\n",
              "        text-align: right;\n",
              "    }\n",
              "</style>\n",
              "<table border=\"1\" class=\"dataframe\">\n",
              "  <thead>\n",
              "    <tr style=\"text-align: right;\">\n",
              "      <th></th>\n",
              "      <th>sepal_length</th>\n",
              "      <th>sepal_width</th>\n",
              "      <th>petal_length</th>\n",
              "      <th>petal_width</th>\n",
              "    </tr>\n",
              "  </thead>\n",
              "  <tbody>\n",
              "    <tr>\n",
              "      <th>0</th>\n",
              "      <td>0.222222</td>\n",
              "      <td>0.625000</td>\n",
              "      <td>0.067797</td>\n",
              "      <td>0.041667</td>\n",
              "    </tr>\n",
              "    <tr>\n",
              "      <th>1</th>\n",
              "      <td>0.166667</td>\n",
              "      <td>0.416667</td>\n",
              "      <td>0.067797</td>\n",
              "      <td>0.041667</td>\n",
              "    </tr>\n",
              "    <tr>\n",
              "      <th>2</th>\n",
              "      <td>0.111111</td>\n",
              "      <td>0.500000</td>\n",
              "      <td>0.050847</td>\n",
              "      <td>0.041667</td>\n",
              "    </tr>\n",
              "    <tr>\n",
              "      <th>3</th>\n",
              "      <td>0.083333</td>\n",
              "      <td>0.458333</td>\n",
              "      <td>0.084746</td>\n",
              "      <td>0.041667</td>\n",
              "    </tr>\n",
              "    <tr>\n",
              "      <th>4</th>\n",
              "      <td>0.194444</td>\n",
              "      <td>0.666667</td>\n",
              "      <td>0.067797</td>\n",
              "      <td>0.041667</td>\n",
              "    </tr>\n",
              "    <tr>\n",
              "      <th>...</th>\n",
              "      <td>...</td>\n",
              "      <td>...</td>\n",
              "      <td>...</td>\n",
              "      <td>...</td>\n",
              "    </tr>\n",
              "    <tr>\n",
              "      <th>145</th>\n",
              "      <td>0.666667</td>\n",
              "      <td>0.416667</td>\n",
              "      <td>0.711864</td>\n",
              "      <td>0.916667</td>\n",
              "    </tr>\n",
              "    <tr>\n",
              "      <th>146</th>\n",
              "      <td>0.555556</td>\n",
              "      <td>0.208333</td>\n",
              "      <td>0.677966</td>\n",
              "      <td>0.750000</td>\n",
              "    </tr>\n",
              "    <tr>\n",
              "      <th>147</th>\n",
              "      <td>0.611111</td>\n",
              "      <td>0.416667</td>\n",
              "      <td>0.711864</td>\n",
              "      <td>0.791667</td>\n",
              "    </tr>\n",
              "    <tr>\n",
              "      <th>148</th>\n",
              "      <td>0.527778</td>\n",
              "      <td>0.583333</td>\n",
              "      <td>0.745763</td>\n",
              "      <td>0.916667</td>\n",
              "    </tr>\n",
              "    <tr>\n",
              "      <th>149</th>\n",
              "      <td>0.444444</td>\n",
              "      <td>0.416667</td>\n",
              "      <td>0.694915</td>\n",
              "      <td>0.708333</td>\n",
              "    </tr>\n",
              "  </tbody>\n",
              "</table>\n",
              "<p>150 rows × 4 columns</p>\n",
              "</div>"
            ],
            "text/plain": [
              "     sepal_length  sepal_width  petal_length  petal_width\n",
              "0        0.222222     0.625000      0.067797     0.041667\n",
              "1        0.166667     0.416667      0.067797     0.041667\n",
              "2        0.111111     0.500000      0.050847     0.041667\n",
              "3        0.083333     0.458333      0.084746     0.041667\n",
              "4        0.194444     0.666667      0.067797     0.041667\n",
              "..            ...          ...           ...          ...\n",
              "145      0.666667     0.416667      0.711864     0.916667\n",
              "146      0.555556     0.208333      0.677966     0.750000\n",
              "147      0.611111     0.416667      0.711864     0.791667\n",
              "148      0.527778     0.583333      0.745763     0.916667\n",
              "149      0.444444     0.416667      0.694915     0.708333\n",
              "\n",
              "[150 rows x 4 columns]"
            ]
          },
          "metadata": {},
          "execution_count": 414
        }
      ]
    },
    {
      "cell_type": "code",
      "metadata": {
        "colab": {
          "base_uri": "https://localhost:8080/",
          "height": 294
        },
        "id": "mR-3xHYn4MFN",
        "outputId": "f7060d85-2097-4ae7-f6f0-9105e923e0ae"
      },
      "source": [
        "features_norm.describe()"
      ],
      "execution_count": 415,
      "outputs": [
        {
          "output_type": "execute_result",
          "data": {
            "text/html": [
              "<div>\n",
              "<style scoped>\n",
              "    .dataframe tbody tr th:only-of-type {\n",
              "        vertical-align: middle;\n",
              "    }\n",
              "\n",
              "    .dataframe tbody tr th {\n",
              "        vertical-align: top;\n",
              "    }\n",
              "\n",
              "    .dataframe thead th {\n",
              "        text-align: right;\n",
              "    }\n",
              "</style>\n",
              "<table border=\"1\" class=\"dataframe\">\n",
              "  <thead>\n",
              "    <tr style=\"text-align: right;\">\n",
              "      <th></th>\n",
              "      <th>sepal_length</th>\n",
              "      <th>sepal_width</th>\n",
              "      <th>petal_length</th>\n",
              "      <th>petal_width</th>\n",
              "    </tr>\n",
              "  </thead>\n",
              "  <tbody>\n",
              "    <tr>\n",
              "      <th>count</th>\n",
              "      <td>150.000000</td>\n",
              "      <td>150.000000</td>\n",
              "      <td>150.000000</td>\n",
              "      <td>150.000000</td>\n",
              "    </tr>\n",
              "    <tr>\n",
              "      <th>mean</th>\n",
              "      <td>0.428704</td>\n",
              "      <td>0.440556</td>\n",
              "      <td>0.467458</td>\n",
              "      <td>0.458056</td>\n",
              "    </tr>\n",
              "    <tr>\n",
              "      <th>std</th>\n",
              "      <td>0.230018</td>\n",
              "      <td>0.181611</td>\n",
              "      <td>0.299203</td>\n",
              "      <td>0.317599</td>\n",
              "    </tr>\n",
              "    <tr>\n",
              "      <th>min</th>\n",
              "      <td>0.000000</td>\n",
              "      <td>0.000000</td>\n",
              "      <td>0.000000</td>\n",
              "      <td>0.000000</td>\n",
              "    </tr>\n",
              "    <tr>\n",
              "      <th>25%</th>\n",
              "      <td>0.222222</td>\n",
              "      <td>0.333333</td>\n",
              "      <td>0.101695</td>\n",
              "      <td>0.083333</td>\n",
              "    </tr>\n",
              "    <tr>\n",
              "      <th>50%</th>\n",
              "      <td>0.416667</td>\n",
              "      <td>0.416667</td>\n",
              "      <td>0.567797</td>\n",
              "      <td>0.500000</td>\n",
              "    </tr>\n",
              "    <tr>\n",
              "      <th>75%</th>\n",
              "      <td>0.583333</td>\n",
              "      <td>0.541667</td>\n",
              "      <td>0.694915</td>\n",
              "      <td>0.708333</td>\n",
              "    </tr>\n",
              "    <tr>\n",
              "      <th>max</th>\n",
              "      <td>1.000000</td>\n",
              "      <td>1.000000</td>\n",
              "      <td>1.000000</td>\n",
              "      <td>1.000000</td>\n",
              "    </tr>\n",
              "  </tbody>\n",
              "</table>\n",
              "</div>"
            ],
            "text/plain": [
              "       sepal_length  sepal_width  petal_length  petal_width\n",
              "count    150.000000   150.000000    150.000000   150.000000\n",
              "mean       0.428704     0.440556      0.467458     0.458056\n",
              "std        0.230018     0.181611      0.299203     0.317599\n",
              "min        0.000000     0.000000      0.000000     0.000000\n",
              "25%        0.222222     0.333333      0.101695     0.083333\n",
              "50%        0.416667     0.416667      0.567797     0.500000\n",
              "75%        0.583333     0.541667      0.694915     0.708333\n",
              "max        1.000000     1.000000      1.000000     1.000000"
            ]
          },
          "metadata": {},
          "execution_count": 415
        }
      ]
    }
  ]
}