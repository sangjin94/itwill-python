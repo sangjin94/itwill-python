{
  "nbformat": 4,
  "nbformat_minor": 0,
  "metadata": {
    "colab": {
      "name": "ml10_tree.ipynb",
      "provenance": [],
      "collapsed_sections": [],
      "include_colab_link": true
    },
    "kernelspec": {
      "name": "python3",
      "display_name": "Python 3"
    },
    "language_info": {
      "name": "python"
    }
  },
  "cells": [
    {
      "cell_type": "markdown",
      "metadata": {
        "id": "view-in-github",
        "colab_type": "text"
      },
      "source": [
        "<a href=\"https://colab.research.google.com/github/sangjin94/itwill-python/blob/main/ml10_tree.ipynb\" target=\"_parent\"><img src=\"https://colab.research.google.com/assets/colab-badge.svg\" alt=\"Open In Colab\"/></a>"
      ]
    },
    {
      "cell_type": "markdown",
      "metadata": {
        "id": "rEfvS87b-feI"
      },
      "source": [
        "# Imports"
      ]
    },
    {
      "cell_type": "code",
      "metadata": {
        "id": "yOlYd_GF-ZOE"
      },
      "source": [
        "import numpy as np\n",
        "import pandas as pd\n",
        "import matplotlib.pyplot as plt\n",
        "\n",
        "from sklearn.model_selection import train_test_split\n",
        "from sklearn.tree import DecisionTreeClassifier, plot_tree\n",
        "from sklearn.metrics import accuracy_score, confusion_matrix"
      ],
      "execution_count": 1,
      "outputs": []
    },
    {
      "cell_type": "markdown",
      "metadata": {
        "id": "EQTQtfMl_YWG"
      },
      "source": [
        "# 데이터 셋 준비"
      ]
    },
    {
      "cell_type": "code",
      "metadata": {
        "id": "pPAcruVs_QFf"
      },
      "source": [
        "wine_csv = 'https://bit.ly/wine-date'  # CSV 파일이 저장된 github 주소"
      ],
      "execution_count": 2,
      "outputs": []
    },
    {
      "cell_type": "code",
      "metadata": {
        "id": "UVPXWnbY_k2e"
      },
      "source": [
        "wine = pd.read_csv(wine_csv)  # DataFrame 생성"
      ],
      "execution_count": 3,
      "outputs": []
    },
    {
      "cell_type": "code",
      "metadata": {
        "colab": {
          "base_uri": "https://localhost:8080/",
          "height": 204
        },
        "id": "Eeax1nrp_oo4",
        "outputId": "ec82f23f-bad2-4611-a990-237720715be3"
      },
      "source": [
        "wine.head()"
      ],
      "execution_count": 4,
      "outputs": [
        {
          "output_type": "execute_result",
          "data": {
            "text/html": [
              "<div>\n",
              "<style scoped>\n",
              "    .dataframe tbody tr th:only-of-type {\n",
              "        vertical-align: middle;\n",
              "    }\n",
              "\n",
              "    .dataframe tbody tr th {\n",
              "        vertical-align: top;\n",
              "    }\n",
              "\n",
              "    .dataframe thead th {\n",
              "        text-align: right;\n",
              "    }\n",
              "</style>\n",
              "<table border=\"1\" class=\"dataframe\">\n",
              "  <thead>\n",
              "    <tr style=\"text-align: right;\">\n",
              "      <th></th>\n",
              "      <th>alcohol</th>\n",
              "      <th>sugar</th>\n",
              "      <th>pH</th>\n",
              "      <th>class</th>\n",
              "    </tr>\n",
              "  </thead>\n",
              "  <tbody>\n",
              "    <tr>\n",
              "      <th>0</th>\n",
              "      <td>9.4</td>\n",
              "      <td>1.9</td>\n",
              "      <td>3.51</td>\n",
              "      <td>0.0</td>\n",
              "    </tr>\n",
              "    <tr>\n",
              "      <th>1</th>\n",
              "      <td>9.8</td>\n",
              "      <td>2.6</td>\n",
              "      <td>3.20</td>\n",
              "      <td>0.0</td>\n",
              "    </tr>\n",
              "    <tr>\n",
              "      <th>2</th>\n",
              "      <td>9.8</td>\n",
              "      <td>2.3</td>\n",
              "      <td>3.26</td>\n",
              "      <td>0.0</td>\n",
              "    </tr>\n",
              "    <tr>\n",
              "      <th>3</th>\n",
              "      <td>9.8</td>\n",
              "      <td>1.9</td>\n",
              "      <td>3.16</td>\n",
              "      <td>0.0</td>\n",
              "    </tr>\n",
              "    <tr>\n",
              "      <th>4</th>\n",
              "      <td>9.4</td>\n",
              "      <td>1.9</td>\n",
              "      <td>3.51</td>\n",
              "      <td>0.0</td>\n",
              "    </tr>\n",
              "  </tbody>\n",
              "</table>\n",
              "</div>"
            ],
            "text/plain": [
              "   alcohol  sugar    pH  class\n",
              "0      9.4    1.9  3.51    0.0\n",
              "1      9.8    2.6  3.20    0.0\n",
              "2      9.8    2.3  3.26    0.0\n",
              "3      9.8    1.9  3.16    0.0\n",
              "4      9.4    1.9  3.51    0.0"
            ]
          },
          "metadata": {},
          "execution_count": 4
        }
      ]
    },
    {
      "cell_type": "code",
      "metadata": {
        "colab": {
          "base_uri": "https://localhost:8080/",
          "height": 204
        },
        "id": "2hltMyLK_qMw",
        "outputId": "1681428a-1a0e-4eba-d403-443b25f55c60"
      },
      "source": [
        "wine.tail()"
      ],
      "execution_count": 5,
      "outputs": [
        {
          "output_type": "execute_result",
          "data": {
            "text/html": [
              "<div>\n",
              "<style scoped>\n",
              "    .dataframe tbody tr th:only-of-type {\n",
              "        vertical-align: middle;\n",
              "    }\n",
              "\n",
              "    .dataframe tbody tr th {\n",
              "        vertical-align: top;\n",
              "    }\n",
              "\n",
              "    .dataframe thead th {\n",
              "        text-align: right;\n",
              "    }\n",
              "</style>\n",
              "<table border=\"1\" class=\"dataframe\">\n",
              "  <thead>\n",
              "    <tr style=\"text-align: right;\">\n",
              "      <th></th>\n",
              "      <th>alcohol</th>\n",
              "      <th>sugar</th>\n",
              "      <th>pH</th>\n",
              "      <th>class</th>\n",
              "    </tr>\n",
              "  </thead>\n",
              "  <tbody>\n",
              "    <tr>\n",
              "      <th>6492</th>\n",
              "      <td>11.2</td>\n",
              "      <td>1.6</td>\n",
              "      <td>3.27</td>\n",
              "      <td>1.0</td>\n",
              "    </tr>\n",
              "    <tr>\n",
              "      <th>6493</th>\n",
              "      <td>9.6</td>\n",
              "      <td>8.0</td>\n",
              "      <td>3.15</td>\n",
              "      <td>1.0</td>\n",
              "    </tr>\n",
              "    <tr>\n",
              "      <th>6494</th>\n",
              "      <td>9.4</td>\n",
              "      <td>1.2</td>\n",
              "      <td>2.99</td>\n",
              "      <td>1.0</td>\n",
              "    </tr>\n",
              "    <tr>\n",
              "      <th>6495</th>\n",
              "      <td>12.8</td>\n",
              "      <td>1.1</td>\n",
              "      <td>3.34</td>\n",
              "      <td>1.0</td>\n",
              "    </tr>\n",
              "    <tr>\n",
              "      <th>6496</th>\n",
              "      <td>11.8</td>\n",
              "      <td>0.8</td>\n",
              "      <td>3.26</td>\n",
              "      <td>1.0</td>\n",
              "    </tr>\n",
              "  </tbody>\n",
              "</table>\n",
              "</div>"
            ],
            "text/plain": [
              "      alcohol  sugar    pH  class\n",
              "6492     11.2    1.6  3.27    1.0\n",
              "6493      9.6    8.0  3.15    1.0\n",
              "6494      9.4    1.2  2.99    1.0\n",
              "6495     12.8    1.1  3.34    1.0\n",
              "6496     11.8    0.8  3.26    1.0"
            ]
          },
          "metadata": {},
          "execution_count": 5
        }
      ]
    },
    {
      "cell_type": "code",
      "metadata": {
        "colab": {
          "base_uri": "https://localhost:8080/"
        },
        "id": "KVbJ98od_1Q_",
        "outputId": "4e1d86e3-6517-470d-cb64-7ff6b466cc4b"
      },
      "source": [
        "wine['class'].value_counts()\n",
        "# 0: red wine, 1: white wine"
      ],
      "execution_count": 6,
      "outputs": [
        {
          "output_type": "execute_result",
          "data": {
            "text/plain": [
              "1.0    4898\n",
              "0.0    1599\n",
              "Name: class, dtype: int64"
            ]
          },
          "metadata": {},
          "execution_count": 6
        }
      ]
    },
    {
      "cell_type": "code",
      "metadata": {
        "colab": {
          "base_uri": "https://localhost:8080/"
        },
        "id": "_eOsVHQyBf5H",
        "outputId": "e58869d7-aa69-4bf8-85c2-12ca738292b3"
      },
      "source": [
        "wine.info()"
      ],
      "execution_count": 7,
      "outputs": [
        {
          "output_type": "stream",
          "name": "stdout",
          "text": [
            "<class 'pandas.core.frame.DataFrame'>\n",
            "RangeIndex: 6497 entries, 0 to 6496\n",
            "Data columns (total 4 columns):\n",
            " #   Column   Non-Null Count  Dtype  \n",
            "---  ------   --------------  -----  \n",
            " 0   alcohol  6497 non-null   float64\n",
            " 1   sugar    6497 non-null   float64\n",
            " 2   pH       6497 non-null   float64\n",
            " 3   class    6497 non-null   float64\n",
            "dtypes: float64(4)\n",
            "memory usage: 203.2 KB\n"
          ]
        }
      ]
    },
    {
      "cell_type": "code",
      "metadata": {
        "colab": {
          "base_uri": "https://localhost:8080/",
          "height": 297
        },
        "id": "CCdWXoKCBhBo",
        "outputId": "e5f50c94-1fb2-43b3-8956-28bb2298af84"
      },
      "source": [
        "wine.describe()"
      ],
      "execution_count": 8,
      "outputs": [
        {
          "output_type": "execute_result",
          "data": {
            "text/html": [
              "<div>\n",
              "<style scoped>\n",
              "    .dataframe tbody tr th:only-of-type {\n",
              "        vertical-align: middle;\n",
              "    }\n",
              "\n",
              "    .dataframe tbody tr th {\n",
              "        vertical-align: top;\n",
              "    }\n",
              "\n",
              "    .dataframe thead th {\n",
              "        text-align: right;\n",
              "    }\n",
              "</style>\n",
              "<table border=\"1\" class=\"dataframe\">\n",
              "  <thead>\n",
              "    <tr style=\"text-align: right;\">\n",
              "      <th></th>\n",
              "      <th>alcohol</th>\n",
              "      <th>sugar</th>\n",
              "      <th>pH</th>\n",
              "      <th>class</th>\n",
              "    </tr>\n",
              "  </thead>\n",
              "  <tbody>\n",
              "    <tr>\n",
              "      <th>count</th>\n",
              "      <td>6497.000000</td>\n",
              "      <td>6497.000000</td>\n",
              "      <td>6497.000000</td>\n",
              "      <td>6497.000000</td>\n",
              "    </tr>\n",
              "    <tr>\n",
              "      <th>mean</th>\n",
              "      <td>10.491801</td>\n",
              "      <td>5.443235</td>\n",
              "      <td>3.218501</td>\n",
              "      <td>0.753886</td>\n",
              "    </tr>\n",
              "    <tr>\n",
              "      <th>std</th>\n",
              "      <td>1.192712</td>\n",
              "      <td>4.757804</td>\n",
              "      <td>0.160787</td>\n",
              "      <td>0.430779</td>\n",
              "    </tr>\n",
              "    <tr>\n",
              "      <th>min</th>\n",
              "      <td>8.000000</td>\n",
              "      <td>0.600000</td>\n",
              "      <td>2.720000</td>\n",
              "      <td>0.000000</td>\n",
              "    </tr>\n",
              "    <tr>\n",
              "      <th>25%</th>\n",
              "      <td>9.500000</td>\n",
              "      <td>1.800000</td>\n",
              "      <td>3.110000</td>\n",
              "      <td>1.000000</td>\n",
              "    </tr>\n",
              "    <tr>\n",
              "      <th>50%</th>\n",
              "      <td>10.300000</td>\n",
              "      <td>3.000000</td>\n",
              "      <td>3.210000</td>\n",
              "      <td>1.000000</td>\n",
              "    </tr>\n",
              "    <tr>\n",
              "      <th>75%</th>\n",
              "      <td>11.300000</td>\n",
              "      <td>8.100000</td>\n",
              "      <td>3.320000</td>\n",
              "      <td>1.000000</td>\n",
              "    </tr>\n",
              "    <tr>\n",
              "      <th>max</th>\n",
              "      <td>14.900000</td>\n",
              "      <td>65.800000</td>\n",
              "      <td>4.010000</td>\n",
              "      <td>1.000000</td>\n",
              "    </tr>\n",
              "  </tbody>\n",
              "</table>\n",
              "</div>"
            ],
            "text/plain": [
              "           alcohol        sugar           pH        class\n",
              "count  6497.000000  6497.000000  6497.000000  6497.000000\n",
              "mean     10.491801     5.443235     3.218501     0.753886\n",
              "std       1.192712     4.757804     0.160787     0.430779\n",
              "min       8.000000     0.600000     2.720000     0.000000\n",
              "25%       9.500000     1.800000     3.110000     1.000000\n",
              "50%      10.300000     3.000000     3.210000     1.000000\n",
              "75%      11.300000     8.100000     3.320000     1.000000\n",
              "max      14.900000    65.800000     4.010000     1.000000"
            ]
          },
          "metadata": {},
          "execution_count": 8
        }
      ]
    },
    {
      "cell_type": "code",
      "metadata": {
        "id": "qoKzG6Nc_5cw"
      },
      "source": [
        "# DataFrame에서 feature matrix(2d array)와 target vector(1d array) 생성"
      ],
      "execution_count": 9,
      "outputs": []
    },
    {
      "cell_type": "code",
      "metadata": {
        "colab": {
          "base_uri": "https://localhost:8080/"
        },
        "id": "x0O8ARsYAzN5",
        "outputId": "2bcb64f5-9ec7-4c1e-ee95-34d269ada27f"
      },
      "source": [
        "X = wine[['alcohol', 'sugar', 'pH']].values\n",
        "X[:5]"
      ],
      "execution_count": 10,
      "outputs": [
        {
          "output_type": "execute_result",
          "data": {
            "text/plain": [
              "array([[9.4 , 1.9 , 3.51],\n",
              "       [9.8 , 2.6 , 3.2 ],\n",
              "       [9.8 , 2.3 , 3.26],\n",
              "       [9.8 , 1.9 , 3.16],\n",
              "       [9.4 , 1.9 , 3.51]])"
            ]
          },
          "metadata": {},
          "execution_count": 10
        }
      ]
    },
    {
      "cell_type": "code",
      "metadata": {
        "colab": {
          "base_uri": "https://localhost:8080/"
        },
        "id": "4WbwixcpBMBv",
        "outputId": "7145729e-8e7c-47fd-cd67-76a4ccc9830a"
      },
      "source": [
        "y = wine['class'].values\n",
        "y[:5]"
      ],
      "execution_count": 11,
      "outputs": [
        {
          "output_type": "execute_result",
          "data": {
            "text/plain": [
              "array([0., 0., 0., 0., 0.])"
            ]
          },
          "metadata": {},
          "execution_count": 11
        }
      ]
    },
    {
      "cell_type": "code",
      "metadata": {
        "id": "G4Eu6vwtB-3X"
      },
      "source": [
        "# Decision Tree를 시각화할 때 사용\n",
        "feature_names = wine.columns[:-1]  # 특성 이름들: [alcohol, sugar, pH]\n",
        "target_names = ['red wine', 'white wine']  # 타겟 이름들(0: red, 1: white)"
      ],
      "execution_count": 12,
      "outputs": []
    },
    {
      "cell_type": "code",
      "metadata": {
        "id": "_qXikG8BBVzn"
      },
      "source": [
        "# train/test split\n",
        "X_train, X_test, y_train, y_test = train_test_split(X, y,\n",
        "                                                    test_size=0.2,\n",
        "                                                    stratify=y,\n",
        "                                                    random_state=42)"
      ],
      "execution_count": 13,
      "outputs": []
    },
    {
      "cell_type": "code",
      "metadata": {
        "colab": {
          "base_uri": "https://localhost:8080/"
        },
        "id": "o3xG5ehpDneX",
        "outputId": "57bbeb81-c496-462a-fed6-0de534162fee"
      },
      "source": [
        "X_train.shape, X_test.shape"
      ],
      "execution_count": 14,
      "outputs": [
        {
          "output_type": "execute_result",
          "data": {
            "text/plain": [
              "((5197, 3), (1300, 3))"
            ]
          },
          "metadata": {},
          "execution_count": 14
        }
      ]
    },
    {
      "cell_type": "code",
      "metadata": {
        "colab": {
          "base_uri": "https://localhost:8080/"
        },
        "id": "yxxNl1ubDs1X",
        "outputId": "9058c2a4-8b0e-4850-c041-3dc3b04e25f4"
      },
      "source": [
        "np.unique(y_train, return_counts=True)"
      ],
      "execution_count": 15,
      "outputs": [
        {
          "output_type": "execute_result",
          "data": {
            "text/plain": [
              "(array([0., 1.]), array([1279, 3918]))"
            ]
          },
          "metadata": {},
          "execution_count": 15
        }
      ]
    },
    {
      "cell_type": "code",
      "metadata": {
        "colab": {
          "base_uri": "https://localhost:8080/"
        },
        "id": "w3L2n7JLD0y2",
        "outputId": "b4b47aba-d6e8-45aa-f456-b9a1cafc9b4a"
      },
      "source": [
        "np.unique(y_test, return_counts=True)"
      ],
      "execution_count": 16,
      "outputs": [
        {
          "output_type": "execute_result",
          "data": {
            "text/plain": [
              "(array([0., 1.]), array([320, 980]))"
            ]
          },
          "metadata": {},
          "execution_count": 16
        }
      ]
    },
    {
      "cell_type": "markdown",
      "metadata": {
        "id": "h0L0UFxiECcw"
      },
      "source": [
        "# Decision Tree 분류"
      ]
    },
    {
      "cell_type": "code",
      "metadata": {
        "id": "JIDqtxUtD8BA"
      },
      "source": [
        "# decision tree 분류기 생성\n",
        "tree_clf = DecisionTreeClassifier(random_state=42)"
      ],
      "execution_count": 17,
      "outputs": []
    },
    {
      "cell_type": "code",
      "metadata": {
        "colab": {
          "base_uri": "https://localhost:8080/"
        },
        "id": "YQNA98GpEcO4",
        "outputId": "83a6be1e-1440-4583-d19d-b689e692a901"
      },
      "source": [
        "# decision tree 모델 훈련 -> tree 생성\n",
        "tree_clf.fit(X_train, y_train)"
      ],
      "execution_count": 18,
      "outputs": [
        {
          "output_type": "execute_result",
          "data": {
            "text/plain": [
              "DecisionTreeClassifier(ccp_alpha=0.0, class_weight=None, criterion='gini',\n",
              "                       max_depth=None, max_features=None, max_leaf_nodes=None,\n",
              "                       min_impurity_decrease=0.0, min_impurity_split=None,\n",
              "                       min_samples_leaf=1, min_samples_split=2,\n",
              "                       min_weight_fraction_leaf=0.0, presort='deprecated',\n",
              "                       random_state=42, splitter='best')"
            ]
          },
          "metadata": {},
          "execution_count": 18
        }
      ]
    },
    {
      "cell_type": "code",
      "metadata": {
        "id": "Y-CvPjxREki_"
      },
      "source": [
        "# decision tree 시각화\n",
        "plot_tree(tree_clf)\n",
        "plt.show()"
      ],
      "execution_count": null,
      "outputs": []
    },
    {
      "cell_type": "code",
      "metadata": {
        "id": "qElJp9YpE14v"
      },
      "source": [
        "# decision tree가 너무 복잡하기 때문에, 처음 2개 depth까지만 시각화\n",
        "plt.figure(figsize=(18, 12))\n",
        "plot_tree(tree_clf, max_depth=2, filled=True,\n",
        "          feature_names=feature_names, class_names=target_names)\n",
        "plt.show()"
      ],
      "execution_count": null,
      "outputs": []
    },
    {
      "cell_type": "markdown",
      "metadata": {
        "id": "Z4hiqeVqMbef"
      },
      "source": [
        "**Gini impurity(불순도)**\n",
        "\n",
        "$\n",
        "Gini = 1 - \\sum_i p_i^2\n",
        "$\n",
        "\n",
        "* $p_i$: i번째 클래스가 될 확률\n",
        "* 이진분류(binary class)\n",
        "    * gini = 1 - [(양성 클래스 확률)^2 + (음성 클래스 확률)^2]\n",
        "    * 양성과 음성의 비율이 1:1인 경우, gini = 0.5. 불순도 최대\n",
        "    * 양성 또는 음성으로 완벽히 분류된 경우, gini = 0. 불순도 최소\n",
        "* Decision tree는 부모 노드와 자식 노드의 Gini 불순도 차이가 가능한 커지도록 tree를 성장시킴."
      ]
    },
    {
      "cell_type": "markdown",
      "metadata": {
        "id": "DRpggJ6HQxWx"
      },
      "source": [
        "**Entropy(엔트로피)**\n",
        "\n",
        "$\n",
        "Entropy = - \\sum_i p_i \\log_k(p_i)\n",
        "$\n",
        "\n",
        "* k: 클래스의 개수(이진 분류인 경우, k = 2)\n",
        "* $ p_i $: i번째 클래스가 될 확률.\n",
        "* 이진 분류\n",
        "    * 양성과 음성의 비율이 1:1인 경우, $ Entropy = -( \\frac{1}{2} \\log_2(\\frac{1}{2}) + \\frac{1}{2} \\log_2(\\frac{1}{2}) ) = 1 $. 불순도 최대인 경우.\n",
        "    * 양성 또는 음성 한쪽으로 완벽히 분류된 경우, Entropy = 0. 불순도 최소인 경우.\n",
        "* entropy를 decision tree의 criterion으로 사용하는 경우에는, 부모 노드와 자식 노드에서 entropy의 차이가 가능한 한 커지도록 tree를 생성."
      ]
    },
    {
      "cell_type": "code",
      "metadata": {
        "id": "NcjA0BK9F-73"
      },
      "source": [
        "# 훈련 셋 평가\n",
        "train_pred = tree_clf.predict(X_train)\n",
        "accuracy_score(y_train, train_pred)"
      ],
      "execution_count": null,
      "outputs": []
    },
    {
      "cell_type": "code",
      "metadata": {
        "id": "R2CFXp_8UpIA"
      },
      "source": [
        "confusion_matrix(y_train, train_pred)"
      ],
      "execution_count": null,
      "outputs": []
    },
    {
      "cell_type": "code",
      "metadata": {
        "id": "IyBiI8qKUu33"
      },
      "source": [
        "# 테스트 셋 평가\n",
        "test_pred = tree_clf.predict(X_test)\n",
        "accuracy_score(y_test, test_pred)\n",
        "# train과 test에서 평가 점수의 차이가 너무 큼. 과적합이 큼."
      ],
      "execution_count": null,
      "outputs": []
    },
    {
      "cell_type": "markdown",
      "metadata": {
        "id": "MXCtE4BqVFjv"
      },
      "source": [
        "* Decision tree의 장점\n",
        "    * 특성들을 스케일링할 필요가 없다.\n",
        "    * 결과를 이해하기 쉽다.\n",
        "\n",
        "* Decision tree의 단점\n",
        "    * 과적합(overfitting) 되기 쉽다.\n",
        "    * 여러가지 규제를 적용해서 과적합 문제를 해결.\n",
        "\n",
        "* Decision tree의 규제 하이퍼파라미터: 생성자를 호출할 때 설정\n",
        "    * `max_depth`: decision tree의 최대 깊이\n",
        "    * `max_leaf_node`: leaf 노드의 최댓값\n",
        "    * `min_samples_split`: 노드가 분할되기 위해서 가져야 하는 최소 샘플 수\n",
        "    * `min_samples_leaf`: leaf 노드가 가져야 할 최소 샘플 수\n",
        "    * `max_features`: 각 노드에서 분할에 사용할 특성의 최대 수\n",
        "    * `max_`로 시작하는 파라미터의 값을 증가시키면, 규제가 감소됨. 이 값을 감소시키면, 규제가 증가됨. overfitting이 줄어듦.\n",
        "    * `min_`으로 시작하는 파라미터의 값을 증가시키면, 규제가 커짐. overfitting이 줄어듦."
      ]
    },
    {
      "cell_type": "code",
      "metadata": {
        "id": "q-F1_SLNU6eX"
      },
      "source": [
        "# 모델 생성\n",
        "tree_clf_2 = DecisionTreeClassifier(min_samples_split=0.1, # 전체 샘플의 10% 이상\n",
        "                                    random_state=42)\n",
        "# 모델 훈련\n",
        "tree_clf_2.fit(X_train, y_train)\n",
        "# 훈련 셋 점수(정확도): X_train의 예측값을 계산 후, 실제값 y_train과 비교해서 정확도를 계산\n",
        "print('train acc:', tree_clf_2.score(X_train, y_train))\n",
        "# 테스트 셋 점수(정확도)\n",
        "print('test acc:', tree_clf_2.score(X_test, y_test))"
      ],
      "execution_count": null,
      "outputs": []
    },
    {
      "cell_type": "code",
      "metadata": {
        "id": "9Yh5EDvTeZCe"
      },
      "source": [
        "plt.figure(figsize=(20, 16))\n",
        "plot_tree(tree_clf_2, feature_names=feature_names, class_names=target_names, filled=True)\n",
        "plt.show()"
      ],
      "execution_count": null,
      "outputs": []
    },
    {
      "cell_type": "code",
      "metadata": {
        "id": "hepQJda5e9Q2"
      },
      "source": [
        "# 모델 생성\n",
        "tree_clf_3 = DecisionTreeClassifier(min_samples_split=0.2, # 전체 샘플의 20% 이상\n",
        "                                    random_state=42)\n",
        "# 모델 훈련\n",
        "tree_clf_3.fit(X_train, y_train)\n",
        "# 훈련 셋 점수(정확도): X_train의 예측값을 계산 후, 실제값 y_train과 비교해서 정확도를 계산\n",
        "print('train acc:', tree_clf_3.score(X_train, y_train))\n",
        "# 테스트 셋 점수(정확도)\n",
        "print('test acc:', tree_clf_3.score(X_test, y_test))"
      ],
      "execution_count": null,
      "outputs": []
    },
    {
      "cell_type": "code",
      "metadata": {
        "id": "yN6oGRgCgAW-"
      },
      "source": [
        "plt.figure(figsize=(16, 12))\n",
        "plot_tree(tree_clf_3, feature_names=feature_names, class_names=target_names, filled=True)\n",
        "plt.show()"
      ],
      "execution_count": null,
      "outputs": []
    },
    {
      "cell_type": "markdown",
      "metadata": {
        "id": "xnDe-8pbhWB2"
      },
      "source": [
        "# Hyperparameter 튜닝\n",
        "\n",
        "* 전체 데이터를 훈련(train)-검증(validation)-테스트(test) 셋으로 나눔.\n",
        "* 하이퍼파라미터를 변화시키면서 훈련 셋으로 모델을 훈련(fit)\n",
        "* 하이퍼파라미터 설정 결과를 검증 셋으로 테스트.\n",
        "* 검증 셋에서 점수가 가장 좋은 모델(하이퍼 파라미터)를 선택\n",
        "* 튜닝이 끝난 모델의 일반화 성능을 예측하기 위한 용도로만 테스트 셋을 사용"
      ]
    },
    {
      "cell_type": "code",
      "metadata": {
        "id": "PAc8QeWugMrf"
      },
      "source": [
        "# 전체 데이터를 훈련/테스트 셋으로 분리\n",
        "X_tr_full, X_test, y_tr_full, y_test = train_test_split(X, y,\n",
        "                                                        test_size=0.2,\n",
        "                                                        stratify=y,\n",
        "                                                        random_state=42)"
      ],
      "execution_count": null,
      "outputs": []
    },
    {
      "cell_type": "code",
      "metadata": {
        "id": "zed8HNkSjBsG"
      },
      "source": [
        "# 훈련 셋을 다시 훈련/검증 셋으로 분리\n",
        "X_train, X_val, y_train, y_val = train_test_split(X_tr_full, y_tr_full,\n",
        "                                                  test_size=0.2,\n",
        "                                                  stratify=y_tr_full,\n",
        "                                                  random_state=42)"
      ],
      "execution_count": null,
      "outputs": []
    },
    {
      "cell_type": "code",
      "metadata": {
        "id": "18MHGo7pjki2"
      },
      "source": [
        "X_train.shape, X_val.shape, X_test.shape"
      ],
      "execution_count": null,
      "outputs": []
    },
    {
      "cell_type": "markdown",
      "metadata": {
        "id": "crPRCA-0nLUn"
      },
      "source": [
        "`max_depth`의 변화에 따른 (훈련/검증 셋) 정확도의 변화 시각화"
      ]
    },
    {
      "cell_type": "code",
      "metadata": {
        "id": "1rEAJLGvjo2_"
      },
      "source": [
        "train_scores = []  # 훈련 셋의 정확도를 저장할 리스트\n",
        "val_scores = []    # 검증 셋의 정확도를 저장할 리스트\n",
        "tree_depths = np.arange(1, 20)  # hyperparameter max_depth로 사용할 값들\n",
        "for d in tree_depths:\n",
        "    tree = DecisionTreeClassifier(max_depth=d, random_state=42)\n",
        "    tree.fit(X_train, y_train)\n",
        "    train_scores.append(tree.score(X_train, y_train))\n",
        "    val_scores.append(tree.score(X_val, y_val))\n",
        "\n",
        "print(train_scores)\n",
        "print(val_scores)"
      ],
      "execution_count": null,
      "outputs": []
    },
    {
      "cell_type": "code",
      "metadata": {
        "id": "702vbhPdod22"
      },
      "source": [
        "plt.plot(tree_depths, train_scores, 'bo-', label='Train acc.')\n",
        "plt.plot(tree_depths, val_scores, 'ro:', label='Validation acc.')\n",
        "plt.grid()\n",
        "plt.legend()\n",
        "plt.show()"
      ],
      "execution_count": null,
      "outputs": []
    },
    {
      "cell_type": "markdown",
      "metadata": {
        "id": "wpTDcNMPqRTy"
      },
      "source": [
        "위 결과를 보면 tree의 max_depth를 5보다 더 키우는 것은, 테스트 셋의 정확도로 높이지는 못하고, 과적합만 키우는 결과임을 알 수 있음.\n",
        "하이퍼파라미터 max_depth를 5로 설정한 모델을 생성, 전체 훈련 셋으로 학습(fit)시킨 후, 테스트 셋으로 일반화 성능을 예측해 볼 수 있음."
      ]
    },
    {
      "cell_type": "code",
      "metadata": {
        "id": "LOxk8xRYq89m"
      },
      "source": [
        "# 모델 선택\n",
        "tree_clf = DecisionTreeClassifier(max_depth=5, random_state=42)\n",
        "# 모델 훈련\n",
        "tree_clf.fit(X_tr_full, y_tr_full)\n",
        "# 일반화 성능\n",
        "tree_clf.score(X_test, y_test)"
      ],
      "execution_count": null,
      "outputs": []
    },
    {
      "cell_type": "code",
      "metadata": {
        "id": "g22se6gtrO2X"
      },
      "source": [
        ""
      ],
      "execution_count": null,
      "outputs": []
    }
  ]
}