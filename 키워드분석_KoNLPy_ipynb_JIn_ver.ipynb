{
  "nbformat": 4,
  "nbformat_minor": 0,
  "metadata": {
    "colab": {
      "name": "키워드분석/KoNLPy.ipynb JIn.ver",
      "provenance": [],
      "collapsed_sections": [
        "9Ukzcj4_jUI0",
        "JP5TUpuWT02v"
      ],
      "include_colab_link": true
    },
    "kernelspec": {
      "name": "python3",
      "display_name": "Python 3"
    },
    "language_info": {
      "name": "python"
    }
  },
  "cells": [
    {
      "cell_type": "markdown",
      "metadata": {
        "id": "view-in-github",
        "colab_type": "text"
      },
      "source": [
        "<a href=\"https://colab.research.google.com/github/sangjin94/itwill-python/blob/main/%ED%82%A4%EC%9B%8C%EB%93%9C%EB%B6%84%EC%84%9D_KoNLPy_ipynb_JIn_ver.ipynb\" target=\"_parent\"><img src=\"https://colab.research.google.com/assets/colab-badge.svg\" alt=\"Open In Colab\"/></a>"
      ]
    },
    {
      "cell_type": "markdown",
      "metadata": {
        "id": "uBWsOcN0KbJV"
      },
      "source": [
        "SVM, RandomForest, SGDClassifier, Logistic Regression, Deep Learning "
      ]
    },
    {
      "cell_type": "code",
      "metadata": {
        "id": "wGJ1H29fPWgb",
        "colab": {
          "base_uri": "https://localhost:8080/"
        },
        "outputId": "5252188d-4756-40f1-be3b-890dce1018b1"
      },
      "source": [
        "!set -x \\\n",
        "&& pip install konlpy \\\n",
        "&& curl -s https://raw.githubusercontent.com/konlpy/konlpy/master/scripts/mecab.sh | bash -x"
      ],
      "execution_count": 1,
      "outputs": [
        {
          "output_type": "stream",
          "name": "stdout",
          "text": [
            "+ pip install konlpy\n",
            "Requirement already satisfied: konlpy in /usr/local/lib/python3.7/dist-packages (0.5.2)\n",
            "Requirement already satisfied: beautifulsoup4==4.6.0 in /usr/local/lib/python3.7/dist-packages (from konlpy) (4.6.0)\n",
            "Requirement already satisfied: JPype1>=0.7.0 in /usr/local/lib/python3.7/dist-packages (from konlpy) (1.3.0)\n",
            "Requirement already satisfied: tweepy>=3.7.0 in /usr/local/lib/python3.7/dist-packages (from konlpy) (3.10.0)\n",
            "Requirement already satisfied: lxml>=4.1.0 in /usr/local/lib/python3.7/dist-packages (from konlpy) (4.2.6)\n",
            "Requirement already satisfied: numpy>=1.6 in /usr/local/lib/python3.7/dist-packages (from konlpy) (1.19.5)\n",
            "Requirement already satisfied: colorama in /usr/local/lib/python3.7/dist-packages (from konlpy) (0.4.4)\n",
            "Requirement already satisfied: typing-extensions in /usr/local/lib/python3.7/dist-packages (from JPype1>=0.7.0->konlpy) (3.7.4.3)\n",
            "Requirement already satisfied: six>=1.10.0 in /usr/local/lib/python3.7/dist-packages (from tweepy>=3.7.0->konlpy) (1.15.0)\n",
            "Requirement already satisfied: requests-oauthlib>=0.7.0 in /usr/local/lib/python3.7/dist-packages (from tweepy>=3.7.0->konlpy) (1.3.0)\n",
            "Requirement already satisfied: requests[socks]>=2.11.1 in /usr/local/lib/python3.7/dist-packages (from tweepy>=3.7.0->konlpy) (2.23.0)\n",
            "Requirement already satisfied: oauthlib>=3.0.0 in /usr/local/lib/python3.7/dist-packages (from requests-oauthlib>=0.7.0->tweepy>=3.7.0->konlpy) (3.1.1)\n",
            "Requirement already satisfied: urllib3!=1.25.0,!=1.25.1,<1.26,>=1.21.1 in /usr/local/lib/python3.7/dist-packages (from requests[socks]>=2.11.1->tweepy>=3.7.0->konlpy) (1.24.3)\n",
            "Requirement already satisfied: certifi>=2017.4.17 in /usr/local/lib/python3.7/dist-packages (from requests[socks]>=2.11.1->tweepy>=3.7.0->konlpy) (2021.5.30)\n",
            "Requirement already satisfied: chardet<4,>=3.0.2 in /usr/local/lib/python3.7/dist-packages (from requests[socks]>=2.11.1->tweepy>=3.7.0->konlpy) (3.0.4)\n",
            "Requirement already satisfied: idna<3,>=2.5 in /usr/local/lib/python3.7/dist-packages (from requests[socks]>=2.11.1->tweepy>=3.7.0->konlpy) (2.10)\n",
            "Requirement already satisfied: PySocks!=1.5.7,>=1.5.6 in /usr/local/lib/python3.7/dist-packages (from requests[socks]>=2.11.1->tweepy>=3.7.0->konlpy) (1.7.1)\n",
            "+ curl -s https://raw.githubusercontent.com/konlpy/konlpy/master/scripts/mecab.sh\n",
            "+ bash -x\n",
            "+ mecab_dicdir=/usr/local/lib/mecab/dic/mecab-ko-dic\n",
            "+ set -e\n",
            "++ uname\n",
            "+ os=Linux\n",
            "+ [[ ! Linux == \\L\\i\\n\\u\\x ]]\n",
            "+ hash sudo\n",
            "+ sudo=sudo\n",
            "+ python=python3\n",
            "+ hash pyenv\n",
            "+ at_user_site=\n",
            "++ check_python_site_location_is_writable\n",
            "++ python3 -\n",
            "+ [[ 1 == \\0 ]]\n",
            "+ hash automake\n",
            "+ hash mecab\n",
            "+ echo 'mecab-ko is already installed'\n",
            "mecab-ko is already installed\n",
            "+ [[ -d /usr/local/lib/mecab/dic/mecab-ko-dic ]]\n",
            "+ echo 'mecab-ko-dic is already installed'\n",
            "mecab-ko-dic is already installed\n",
            "++ python3 -c 'import pkgutil; print(1 if pkgutil.find_loader(\"MeCab\") else 0)'\n",
            "+ [[ 1 == \\1 ]]\n",
            "+ echo 'mecab-python is already installed'\n",
            "mecab-python is already installed\n",
            "+ echo Done.\n",
            "Done.\n"
          ]
        }
      ]
    },
    {
      "cell_type": "code",
      "metadata": {
        "id": "fWQmCLusPb2P"
      },
      "source": [
        "from konlpy.tag import Mecab, Okt\n",
        "import numpy as np\n",
        "import pandas as pd\n",
        "import matplotlib.pyplot as plt"
      ],
      "execution_count": 2,
      "outputs": []
    },
    {
      "cell_type": "markdown",
      "metadata": {
        "id": "EGNGRZbMQu7R"
      },
      "source": [
        "# 데이터 로드/탐색"
      ]
    },
    {
      "cell_type": "code",
      "metadata": {
        "colab": {
          "base_uri": "https://localhost:8080/",
          "height": 204
        },
        "id": "7joeqUCKPqpC",
        "outputId": "476031a3-9a38-4e28-cc28-5d5ab11896c6"
      },
      "source": [
        "df = pd.read_excel('/content/Dataset_combined.xlsx', index_col=0)\n",
        "df.head()"
      ],
      "execution_count": 3,
      "outputs": [
        {
          "output_type": "execute_result",
          "data": {
            "text/html": [
              "<div>\n",
              "<style scoped>\n",
              "    .dataframe tbody tr th:only-of-type {\n",
              "        vertical-align: middle;\n",
              "    }\n",
              "\n",
              "    .dataframe tbody tr th {\n",
              "        vertical-align: top;\n",
              "    }\n",
              "\n",
              "    .dataframe thead th {\n",
              "        text-align: right;\n",
              "    }\n",
              "</style>\n",
              "<table border=\"1\" class=\"dataframe\">\n",
              "  <thead>\n",
              "    <tr style=\"text-align: right;\">\n",
              "      <th></th>\n",
              "      <th>Label</th>\n",
              "      <th>Tweet</th>\n",
              "    </tr>\n",
              "  </thead>\n",
              "  <tbody>\n",
              "    <tr>\n",
              "      <th>0</th>\n",
              "      <td>2</td>\n",
              "      <td>오빠가 있어서 늘 행복하고 힘나고 웃음나는거 어떻게 알았지이??? 제가 더 많이 좋...</td>\n",
              "    </tr>\n",
              "    <tr>\n",
              "      <th>1</th>\n",
              "      <td>2</td>\n",
              "      <td>애기 찐웃음ㅋㅋㅋㅋㅋㅋㅋㅋ😻😻</td>\n",
              "    </tr>\n",
              "    <tr>\n",
              "      <th>2</th>\n",
              "      <td>2</td>\n",
              "      <td>음 아주 바람직한 엔딩 굿…흐뭇</td>\n",
              "    </tr>\n",
              "    <tr>\n",
              "      <th>3</th>\n",
              "      <td>2</td>\n",
              "      <td>체지방컷해서 스킨 얇아지고 싶은 이유는 딱 하나다 펌핑할 때 터질 것 같은 핏줄 보...</td>\n",
              "    </tr>\n",
              "    <tr>\n",
              "      <th>4</th>\n",
              "      <td>2</td>\n",
              "      <td>회사에 출근 해야하는데 어쩔 수 있나. (미소) 윤희 씨라도 잘 잤다고 하니 다행이다.</td>\n",
              "    </tr>\n",
              "  </tbody>\n",
              "</table>\n",
              "</div>"
            ],
            "text/plain": [
              "   Label                                              Tweet\n",
              "0      2  오빠가 있어서 늘 행복하고 힘나고 웃음나는거 어떻게 알았지이??? 제가 더 많이 좋...\n",
              "1      2                                   애기 찐웃음ㅋㅋㅋㅋㅋㅋㅋㅋ😻😻\n",
              "2      2                                  음 아주 바람직한 엔딩 굿…흐뭇\n",
              "3      2  체지방컷해서 스킨 얇아지고 싶은 이유는 딱 하나다 펌핑할 때 터질 것 같은 핏줄 보...\n",
              "4      2   회사에 출근 해야하는데 어쩔 수 있나. (미소) 윤희 씨라도 잘 잤다고 하니 다행이다."
            ]
          },
          "metadata": {},
          "execution_count": 3
        }
      ]
    },
    {
      "cell_type": "code",
      "metadata": {
        "colab": {
          "base_uri": "https://localhost:8080/"
        },
        "id": "YkGT6i-AAz5Y",
        "outputId": "57b52e8c-667b-4022-a4d1-ad9b8a5bbace"
      },
      "source": [
        "df.shape"
      ],
      "execution_count": 4,
      "outputs": [
        {
          "output_type": "execute_result",
          "data": {
            "text/plain": [
              "(45622, 2)"
            ]
          },
          "metadata": {},
          "execution_count": 4
        }
      ]
    },
    {
      "cell_type": "code",
      "metadata": {
        "colab": {
          "base_uri": "https://localhost:8080/"
        },
        "id": "3l0-6jMu_Ppb",
        "outputId": "ef653bf7-fee7-4daa-e70b-32d2f8f260d5"
      },
      "source": [
        "df['Label'].value_counts()"
      ],
      "execution_count": 5,
      "outputs": [
        {
          "output_type": "execute_result",
          "data": {
            "text/plain": [
              "5    8961\n",
              "2    8484\n",
              "4    7936\n",
              "3    7532\n",
              "1    6668\n",
              "6    6041\n",
              "Name: Label, dtype: int64"
            ]
          },
          "metadata": {},
          "execution_count": 5
        }
      ]
    },
    {
      "cell_type": "code",
      "metadata": {
        "id": "eMkKT4S5QDUh",
        "colab": {
          "base_uri": "https://localhost:8080/",
          "height": 320
        },
        "outputId": "bb3691e4-9cf3-4239-ddf6-f45e5e5d4ac1"
      },
      "source": [
        "plt.figure(figsize=(10,5))\n",
        "df['Label'].value_counts().sort_index().plot(kind = 'barh');"
      ],
      "execution_count": 6,
      "outputs": [
        {
          "output_type": "display_data",
          "data": {
            "image/png": "[encoded data removed]",
            "text/plain": [
              "<Figure size 720x360 with 1 Axes>"
            ]
          },
          "metadata": {
            "needs_background": "light"
          }
        }
      ]
    },
    {
      "cell_type": "markdown",
      "metadata": {
        "id": "z8s0mhKVQ6q6"
      },
      "source": [
        "# 데이터 정제(중복제거, 한글과 공백 빼고 제거)"
      ]
    },
    {
      "cell_type": "code",
      "metadata": {
        "id": "866yH2dyRF6I"
      },
      "source": [
        "# 중복 제거\n",
        "df.drop_duplicates(subset=['Tweet'], inplace=True)"
      ],
      "execution_count": 7,
      "outputs": []
    },
    {
      "cell_type": "code",
      "metadata": {
        "id": "2B8KUYFeIilE"
      },
      "source": [
        "# null값 확인/제거\n",
        "df.isnull().sum()\n",
        "df = df.dropna(how='any')"
      ],
      "execution_count": 8,
      "outputs": []
    },
    {
      "cell_type": "code",
      "metadata": {
        "id": "QRIkvUIJRNUS"
      },
      "source": [
        "# 한글, 공백 빼고 제거\n",
        "df['Tweet'] = df['Tweet'].str.replace(\"[^ㄱ-ㅎㅏ-ㅣ가-힣 ]\", \"\")\n",
        "df['Tweet'].replace('', np.nan, inplace=True)\n",
        "df = df.dropna(how='any')"
      ],
      "execution_count": 9,
      "outputs": []
    },
    {
      "cell_type": "code",
      "metadata": {
        "colab": {
          "base_uri": "https://localhost:8080/"
        },
        "id": "7195P6ObB4xs",
        "outputId": "fd905d31-bff4-4ab8-8f92-e1796d10106f"
      },
      "source": [
        "df.shape "
      ],
      "execution_count": 10,
      "outputs": [
        {
          "output_type": "execute_result",
          "data": {
            "text/plain": [
              "(45332, 2)"
            ]
          },
          "metadata": {},
          "execution_count": 10
        }
      ]
    },
    {
      "cell_type": "code",
      "metadata": {
        "id": "URLhUc-yBXrw",
        "colab": {
          "base_uri": "https://localhost:8080/",
          "height": 359
        },
        "outputId": "65c4fafc-3951-4915-a9b9-3d29f7b6e831"
      },
      "source": [
        "df.head(10)"
      ],
      "execution_count": 11,
      "outputs": [
        {
          "output_type": "execute_result",
          "data": {
            "text/html": [
              "<div>\n",
              "<style scoped>\n",
              "    .dataframe tbody tr th:only-of-type {\n",
              "        vertical-align: middle;\n",
              "    }\n",
              "\n",
              "    .dataframe tbody tr th {\n",
              "        vertical-align: top;\n",
              "    }\n",
              "\n",
              "    .dataframe thead th {\n",
              "        text-align: right;\n",
              "    }\n",
              "</style>\n",
              "<table border=\"1\" class=\"dataframe\">\n",
              "  <thead>\n",
              "    <tr style=\"text-align: right;\">\n",
              "      <th></th>\n",
              "      <th>Label</th>\n",
              "      <th>Tweet</th>\n",
              "    </tr>\n",
              "  </thead>\n",
              "  <tbody>\n",
              "    <tr>\n",
              "      <th>0</th>\n",
              "      <td>2</td>\n",
              "      <td>오빠가 있어서 늘 행복하고 힘나고 웃음나는거 어떻게 알았지이 제가 더 많이 좋아하고...</td>\n",
              "    </tr>\n",
              "    <tr>\n",
              "      <th>1</th>\n",
              "      <td>2</td>\n",
              "      <td>애기 찐웃음ㅋㅋㅋㅋㅋㅋㅋㅋ</td>\n",
              "    </tr>\n",
              "    <tr>\n",
              "      <th>2</th>\n",
              "      <td>2</td>\n",
              "      <td>음 아주 바람직한 엔딩 굿흐뭇</td>\n",
              "    </tr>\n",
              "    <tr>\n",
              "      <th>3</th>\n",
              "      <td>2</td>\n",
              "      <td>체지방컷해서 스킨 얇아지고 싶은 이유는 딱 하나다 펌핑할 때 터질 것 같은 핏줄 보...</td>\n",
              "    </tr>\n",
              "    <tr>\n",
              "      <th>4</th>\n",
              "      <td>2</td>\n",
              "      <td>회사에 출근 해야하는데 어쩔 수 있나 미소 윤희 씨라도 잘 잤다고 하니 다행이다</td>\n",
              "    </tr>\n",
              "    <tr>\n",
              "      <th>5</th>\n",
              "      <td>2</td>\n",
              "      <td>승리 오빠 나는 오빠의 미소를 사랑 해요  오빠의 미소에 힘을 얻었습니다 언제나 ...</td>\n",
              "    </tr>\n",
              "    <tr>\n",
              "      <th>6</th>\n",
              "      <td>2</td>\n",
              "      <td>어제부터 내 웃음버튼ㅋㅋㅋㅋㅋㅋㅋ 저게 왜 노란토스트지 동그랗고 눈이 보이는데ㅠㅠ ...</td>\n",
              "    </tr>\n",
              "    <tr>\n",
              "      <th>7</th>\n",
              "      <td>2</td>\n",
              "      <td>너무 예쁘게 웃어 ㅠ ㅠ 어르신들 인터뷰에 상냥한 미소띠고 집중하는 정국이</td>\n",
              "    </tr>\n",
              "    <tr>\n",
              "      <th>8</th>\n",
              "      <td>2</td>\n",
              "      <td>줘봐 내가해주께 목소리톤도 존좋</td>\n",
              "    </tr>\n",
              "    <tr>\n",
              "      <th>9</th>\n",
              "      <td>2</td>\n",
              "      <td>탐라의 커플을 보면 그냥 엄마미소됨 저 갓컾 오늘도 맛있네</td>\n",
              "    </tr>\n",
              "  </tbody>\n",
              "</table>\n",
              "</div>"
            ],
            "text/plain": [
              "   Label                                              Tweet\n",
              "0      2  오빠가 있어서 늘 행복하고 힘나고 웃음나는거 어떻게 알았지이 제가 더 많이 좋아하고...\n",
              "1      2                                     애기 찐웃음ㅋㅋㅋㅋㅋㅋㅋㅋ\n",
              "2      2                                   음 아주 바람직한 엔딩 굿흐뭇\n",
              "3      2  체지방컷해서 스킨 얇아지고 싶은 이유는 딱 하나다 펌핑할 때 터질 것 같은 핏줄 보...\n",
              "4      2       회사에 출근 해야하는데 어쩔 수 있나 미소 윤희 씨라도 잘 잤다고 하니 다행이다\n",
              "5      2   승리 오빠 나는 오빠의 미소를 사랑 해요  오빠의 미소에 힘을 얻었습니다 언제나 ...\n",
              "6      2  어제부터 내 웃음버튼ㅋㅋㅋㅋㅋㅋㅋ 저게 왜 노란토스트지 동그랗고 눈이 보이는데ㅠㅠ ...\n",
              "7      2          너무 예쁘게 웃어 ㅠ ㅠ 어르신들 인터뷰에 상냥한 미소띠고 집중하는 정국이\n",
              "8      2                                  줘봐 내가해주께 목소리톤도 존좋\n",
              "9      2                   탐라의 커플을 보면 그냥 엄마미소됨 저 갓컾 오늘도 맛있네"
            ]
          },
          "metadata": {},
          "execution_count": 11
        }
      ]
    },
    {
      "cell_type": "markdown",
      "metadata": {
        "id": "br3Y8jgPCJLO"
      },
      "source": [
        "# 데이터 분리 / 키워드 분석"
      ]
    },
    {
      "cell_type": "code",
      "metadata": {
        "id": "d0wSk353dZO9"
      },
      "source": [
        "X = df['Tweet']\n",
        "y = df['Label'].values"
      ],
      "execution_count": 12,
      "outputs": []
    },
    {
      "cell_type": "code",
      "metadata": {
        "id": "5DQhURReJQPa"
      },
      "source": [
        "X=X[:5000]\n",
        "y=y[:5000]"
      ],
      "execution_count": 13,
      "outputs": []
    },
    {
      "cell_type": "code",
      "metadata": {
        "colab": {
          "base_uri": "https://localhost:8080/"
        },
        "id": "4IBMh9Rpdddd",
        "outputId": "a90a8c5c-4266-4378-f2a6-fb5e2e77b9da"
      },
      "source": [
        "X.shape, y.shape"
      ],
      "execution_count": 14,
      "outputs": [
        {
          "output_type": "execute_result",
          "data": {
            "text/plain": [
              "((5000,), (5000,))"
            ]
          },
          "metadata": {},
          "execution_count": 14
        }
      ]
    },
    {
      "cell_type": "code",
      "metadata": {
        "id": "xXAaGGRPdfY3"
      },
      "source": [
        "from sklearn.model_selection import train_test_split\n",
        "\n",
        "train_data, test_data, y_train, y_test = train_test_split(X,y,\n",
        "                                                          test_size=0.1,\n",
        "                                                          stratify=y)"
      ],
      "execution_count": 15,
      "outputs": []
    },
    {
      "cell_type": "code",
      "metadata": {
        "colab": {
          "base_uri": "https://localhost:8080/"
        },
        "id": "Qy3I3XWoDisJ",
        "outputId": "15ace55b-9fd8-4888-d7e6-96363a4d3186"
      },
      "source": [
        "# 불용어 지정 - stopword1은 불용어사전(stopwords)을 이용해서 만드시면 됩니다.\n",
        "stopwords1 = '아 휴 아이구 아이쿠 아이고 어 나 우리 저희 따라 의해 을 를 에 의 가 으로 로 에게 뿐이다 의거하여 근거하여 입각하여 기준으로 예하면 예를 들면 예를 들자면 저 소인 소생 저희 지말고 하지마 하지마라 다른 물론 또한 그리고 비길수 없다 해서는 안된다 뿐만 아니라 만이 아니다 만은 아니다 막론하고 관계없이 그치지 않다 그러나 그런데 하지만 든간에 논하지 않다 따지지 않다 설사 비록 더라도 아니면 만 못하다 하는 편이 낫다 불문하고 향하여 향해서 향하다 쪽으로 틈타 이용하여 타다 오르다 제외하고 이 외에 이 밖에 하여야 비로소 한다면 몰라도 외에도 이곳 여기 부터 기점으로 따라서 할 생각이다 하려고하다 이리하여 그리하여 그렇게 함으로써 하지만 일때 할때 앞에서 중에서 보는데서 으로써 로써 까지 해야한다 일것이다 반드시 할줄알다 할수있다 할수있어 임에 틀림없다 한다면 등 등등 제 겨우 단지 다만 할뿐 딩동 댕그 대해서 대하여 대하면 훨씬 얼마나 얼마만큼 얼마큼 남짓 여 얼마간 약간 다소 좀 조금 다수 몇 얼마 지만 하물며 또한 그러나 그렇지만 하지만 이외에도 대해 말하자면 뿐이다 다음에 반대로 반대로 말하자면 이와 반대로 바꾸어서 말하면 바꾸어서 한다면 만약 그렇지않으면 까악 툭 딱 삐걱거리다 보드득 비걱거리다 꽈당 응당 해야한다 에 가서 각 각각 여러분 각종 각자 제각기 하도록하다 와 과 그러므로 그래서 고로 한 까닭에 하기 때문에 거니와 이지만 대하여 관하여 관한 과연 실로 아니나다를가 생각한대로 진짜로 한적이있다 하곤하였다 하 하하 허허 아하 거바 와 오 왜 어째서 무엇때문에 어찌 하겠는가 무슨 어디 어느곳 더군다나 하물며 더욱이는 어느때 언제 야 이봐 어이 여보시오 흐흐 흥 휴 헉헉 헐떡헐떡 영차 여차 어기여차 끙끙 아야 앗 아야 콸콸 졸졸 좍좍 뚝뚝 주룩주룩 솨 우르르 그래도 또 그리고 바꾸어말하면 바꾸어말하자면 혹은 혹시 답다 및 그에 따르는 때가 되어 즉 지든지 설령 가령 하더라도 할지라도 일지라도 지든지 몇 거의 하마터면 인젠 이젠 된바에야 된이상 만큼 어찌됏든 그위에 게다가 점에서 보아 비추어 보아 고려하면 하게될것이다 일것이다 비교적 좀 보다더 비하면 시키다 하게하다 할만하다 의해서 연이서 이어서 잇따라 뒤따라 뒤이어 결국 의지하여 기대여 통하여 자마자 더욱더 불구하고 얼마든지 마음대로 주저하지 않고 곧 즉시 바로 당장 하자마자 밖에 안된다 하면된다 그래 그렇지 요컨대 다시 말하자면 바꿔 말하면 즉 구체적으로 말하자면 시작하여 시초에 이상 허 헉 허걱 바와같이 해도좋다 해도된다 게다가 더구나 하물며 와르르 팍 퍽 펄렁 동안 이래 하고있었다 이었다 에서 로부터 까지 예하면 했어요 해요 함께 같이 더불어 마저 마저도 양자 모두 습니다 가까스로 하려고하다 즈음하여 다른 다른 방면으로 해봐요 습니까 했어요 말할것도 없고 무릎쓰고 개의치않고 하는것만 못하다 하는것이 낫다 매 매번 들 모 어느것 어느 로써 갖고말하자면 어디 어느쪽 어느것 어느해 어느 년도 라 해도 언젠가 어떤것 어느것 저기 저쪽 저것 그때 그럼 그러면 요만한걸 그래 그때 저것만큼 그저 이르기까지 할 줄 안다 할 힘이 있다 너 너희 당신 어찌 설마 차라리 할지언정 할지라도 할망정 할지언정 구토하다 게우다 토하다 메쓰겁다 옆사람 퉤 쳇 의거하여 근거하여 의해 따라 힘입어 그 다음 버금 두번째로 기타 첫번째로 나머지는 그중에서 견지에서 형식으로 쓰여 입장에서 위해서 단지 의해되다 하도록시키다 뿐만아니라 반대로 전후 전자 앞의것 잠시 잠깐 하면서 그렇지만 다음에 그러한즉 그런즉 남들 아무거나 어찌하든지 같다 비슷하다 예컨대 이럴정도로 어떻게 만약 만일 위에서 서술한바와같이 인 듯하다 하지 않는다면 만약에 무엇 무슨 어느 어떤 아래윗 조차 한데 그럼에도 불구하고 여전히 심지어 까지도 조차도 하지 않도록 않기 위하여 때 시각 무렵 시간 동안 어때 어떠한 하여금 네 예 우선 누구 누가 알겠는가 아무도 줄은모른다 줄은 몰랏다 하는 김에 겸사겸사 하는바 그런 까닭에 한 이유는 그러니 그러니까 때문에 그 너희 그들 너희들 타인 것 것들 너 위하여 공동으로 동시에 하기 위하여 어찌하여 무엇때문에 붕붕 윙윙 나 우리 엉엉 휘익 윙윙 오호 아하 어쨋든 만 못하다 하기보다는 차라리 하는 편이 낫다 흐흐 놀라다 상대적으로 말하자면 마치 아니라면 쉿 그렇지 않으면 그렇지 않다면 안 그러면 아니었다면 하든지 아니면 이라면 좋아 알았어 하는것도 그만이다 어쩔수 없다 하나 일 일반적으로 일단 한켠으로는 오자마자 이렇게되면 이와같다면 전부 한마디 한항목 근거로 하기에 아울러 하지 않도록 않기 위해서 이르기까지 이 되다 로 인하여 까닭으로 이유만으로 이로 인하여 그래서 이 때문에 그러므로 그런 까닭에 알 수 있다 결론을 낼 수 있다 으로 인하여 있다 어떤것 관계가 있다 관련이 있다 연관되다 어떤것들 에 대해 이리하여 그리하여 여부 하기보다는 하느니 하면 할수록 운운 이러이러하다 하구나 하도다 다시말하면 다음으로 에 있다 에 달려 있다 우리 우리들 오히려 하기는한데 어떻게 어떻해 어찌됏어 어때 어째서 본대로 자 이 이쪽 여기 이것 이번 이렇게말하자면 이런 이러한 이와 같은 요만큼 요만한 것 얼마 안 되는 것 이만큼 이 정도의 이렇게 많은 것 이와 같다 이때 이렇구나 것과 같이 끼익 삐걱 따위 와 같은 사람들 부류의 사람들 왜냐하면 중의하나 오직 오로지 에 한하다 하기만 하면 도착하다 까지 미치다 도달하다 정도에 이르다 할 지경이다 결과에 이르다 관해서는 여러분 하고 있다 한 후 혼자 자기 자기집 자신 우에 종합한것과같이 총적으로 보면 총적으로 말하면 총적으로 대로 하다 으로서 참 그만이다 할 따름이다 쿵 탕탕 쾅쾅 둥둥 봐 봐라 아이야 아니 와아 응 아이 참나 년 월 일 령 영 일 이 삼 사 오 육 륙 칠 팔 구 이천육 이천칠 이천팔 이천구 하나 둘 셋 넷 다섯 여섯 일곱 여덟 아홉 령 영 이 있 하 것 들 그 되 수 이 보 않 없 나 사람 주 아니 등 같 우리 때 년 가 한 지 대하 오 말 일 그렇 위하 때문 그것 두 말하 알 그러나 받 못하 일 그런 또 문제 더 사회 많 그리고 좋 크 따르 중 나오 가지 씨 시키 만들 지금 생각하 그러 속 하나 집 살 모르 적 월 데 자신 안 어떤 내 내 경우 명 생각 시간 그녀 다시 이런 앞 보이 번 나 다른 어떻 여자 개 전 들 사실 이렇 점 싶 말 정도 좀 원 잘 통하 놓 '\n",
        "stopwords2 = '살 라고 더 싫 맞 냐 듣 햇 케 왔 군 갔 뽑 곳 드 위 ㅁ 쟤 ㅣ 걔 ㅡ 쑤 ㅏ 햐 츠 엮 택 넨 슨 황 죵 벵 ㅍ ㅔ ㅓ 녜 룡 됀 땋 ㅐ 뇨 가끔 밖 테 갖 올 옆 구만 구요 개월 그것 자체 줬 다면 라서 미 잖아 그게 이건 순 같 갔 넣 크 건가 뿐 던데 스럽 케 더라 햇 됐 그렇 뭘 에요 을까 냐고 셔서 진 보내 마다 어도 든 셨 명 며 을까요 겟 돼 이러 엔 더니 된 바 인가 앞 구나 만들 잇 이게 봤 이랑 그러 다니 였 해라 이거 긴 정도 한다 는지 입니다 대 라는 임 아요 은데 하필 나요 함 두 세요 아서 다는 이제 랑 죠 모르 듯 니까 다가 해야 건 으면 인데 오늘 데 던 면서 요 어서 해서 받 았 어요 서 니 ㄷ 싶 음 었 네요 내 했 기 겠 해 면 는데 게 거 지 다 이 가 께서 에서 을 를 는 고 은 에 에게 께 한테 더러 에서 에게서 한테서 로 으로 으로서 의 과 와 하고 보다 처럼 만큼 같이 아 이여 여 이시여 시여 만 도 조차 마저 까지 부터 이나 나 이나마 나마 이라도 라도 이야 야 이라야 라야'\n",
        "stopwords2 = stopwords2.split(' ')\n",
        "stopwords1 = stopwords1.split(' ')\n",
        "stopwords = stopwords1 + stopwords2\n",
        "len(stopwords)"
      ],
      "execution_count": 16,
      "outputs": [
        {
          "output_type": "execute_result",
          "data": {
            "text/plain": [
              "1101"
            ]
          },
          "metadata": {},
          "execution_count": 16
        }
      ]
    },
    {
      "cell_type": "code",
      "metadata": {
        "id": "dlBT4gVnOvUt"
      },
      "source": [
        "# 형태소 분리\n",
        "mecab = Mecab()"
      ],
      "execution_count": 17,
      "outputs": []
    },
    {
      "cell_type": "code",
      "metadata": {
        "id": "wnf0bNYIndwO"
      },
      "source": [
        "X_train = []\n",
        "for tweet in train_data:\n",
        "  tr = [morph for morph in mecab.morphs(tweet) if morph not in stopwords]\n",
        "  X_train.append(tr)"
      ],
      "execution_count": 18,
      "outputs": []
    },
    {
      "cell_type": "code",
      "metadata": {
        "id": "3IciGRKilFSU"
      },
      "source": [
        "X_test = []\n",
        "for tweet in test_data:\n",
        "  tet = [morph for morph in mecab.morphs(tweet) if morph not in stopwords]\n",
        "  X_test.append(tet)"
      ],
      "execution_count": 19,
      "outputs": []
    },
    {
      "cell_type": "code",
      "metadata": {
        "id": "CJ8lfsOtiae-"
      },
      "source": [
        "from tensorflow.keras.preprocessing.text import Tokenizer"
      ],
      "execution_count": 20,
      "outputs": []
    },
    {
      "cell_type": "code",
      "metadata": {
        "id": "zGFVUDkTV5nZ"
      },
      "source": [
        "# 토큰화\n",
        "tokenizer = Tokenizer()\n",
        "tokenizer.fit_on_texts(X_train)"
      ],
      "execution_count": 21,
      "outputs": []
    },
    {
      "cell_type": "code",
      "metadata": {
        "id": "uK-h5h3KV6GJ"
      },
      "source": [
        "# 3번 미만 등장 단어(rare) 제거\n",
        "words_cnt = len(tokenizer.word_index) # dict\n",
        "rare_cnt = 0\n",
        "words_freq = 0 # 빈도수\n",
        "rare_freq = 0\n",
        "\n",
        "for key, value in tokenizer.word_counts.items(): \n",
        "  words_freq = words_freq + value \n",
        "\n",
        "  if value < 3:\n",
        "    rare_cnt += 1\n",
        "    rare_freq = rare_freq + value"
      ],
      "execution_count": 22,
      "outputs": []
    },
    {
      "cell_type": "code",
      "metadata": {
        "colab": {
          "base_uri": "https://localhost:8080/"
        },
        "id": "qkcbK81CWEcF",
        "outputId": "1ad128cc-b653-4d0a-92cd-4b87fe3b6e2e"
      },
      "source": [
        "vocab_size = words_cnt-rare_cnt + 2\n",
        "vocab_size"
      ],
      "execution_count": 23,
      "outputs": [
        {
          "output_type": "execute_result",
          "data": {
            "text/plain": [
              "2212"
            ]
          },
          "metadata": {},
          "execution_count": 23
        }
      ]
    },
    {
      "cell_type": "code",
      "metadata": {
        "id": "Mr4-46JHWHyi"
      },
      "source": [
        "# 토큰화\n",
        "tokenizer = Tokenizer(vocab_size, oov_token='OOV')\n",
        "tokenizer.fit_on_texts(X_train)\n",
        "X_train = tokenizer.texts_to_sequences(X_train) # 리스트형태로 변경\n",
        "X_test = tokenizer.texts_to_sequences(X_test)"
      ],
      "execution_count": 24,
      "outputs": []
    },
    {
      "cell_type": "code",
      "metadata": {
        "id": "Pf3lW4NwWLPM",
        "colab": {
          "base_uri": "https://localhost:8080/"
        },
        "outputId": "5a67f3dd-9bad-49a6-8c2c-ac822442c5c2"
      },
      "source": [
        "drop_train = [index for index, sentence in enumerate(X_train) if len(sentence) < 3]\n",
        "X_train= np.delete(X_train, drop_train, axis=0)\n",
        "y_train = np.delete(y_train, drop_train, axis=0)"
      ],
      "execution_count": 25,
      "outputs": [
        {
          "output_type": "stream",
          "name": "stderr",
          "text": [
            "/usr/local/lib/python3.7/dist-packages/numpy/core/_asarray.py:83: VisibleDeprecationWarning: Creating an ndarray from ragged nested sequences (which is a list-or-tuple of lists-or-tuples-or ndarrays with different lengths or shapes) is deprecated. If you meant to do this, you must specify 'dtype=object' when creating the ndarray\n",
            "  return array(a, dtype, copy=False, order=order)\n"
          ]
        }
      ]
    },
    {
      "cell_type": "code",
      "metadata": {
        "colab": {
          "base_uri": "https://localhost:8080/"
        },
        "id": "tVPuQMarWRhG",
        "outputId": "03fe45e8-bd07-4952-c40b-6b183f22312c"
      },
      "source": [
        "print('리뷰 최대 길이', max(len(l) for l in X_train))\n",
        "print('리뷰 평균 길이', sum(map(len, X_train))/len(X_train))"
      ],
      "execution_count": 26,
      "outputs": [
        {
          "output_type": "stream",
          "name": "stdout",
          "text": [
            "리뷰 최대 길이 48\n",
            "리뷰 평균 길이 9.851197982345523\n"
          ]
        }
      ]
    },
    {
      "cell_type": "code",
      "metadata": {
        "colab": {
          "base_uri": "https://localhost:8080/",
          "height": 282
        },
        "id": "5DgMmfFEWXlz",
        "outputId": "1bd38079-9ad3-4fed-a0bc-2d587dd19e75"
      },
      "source": [
        "plt.hist([len(s) for s in X_train], bins=50)\n",
        "plt.xlabel('length of sample')\n",
        "plt.ylabel('number of sample')\n",
        "plt.show()"
      ],
      "execution_count": 27,
      "outputs": [
        {
          "output_type": "display_data",
          "data": {
            "image/png": "[encoded data removed]",
            "text/plain": [
              "<Figure size 432x288 with 1 Axes>"
            ]
          },
          "metadata": {
            "needs_background": "light"
          }
        }
      ]
    },
    {
      "cell_type": "code",
      "metadata": {
        "id": "XFua91JgWZh4"
      },
      "source": [
        "max_len = 40"
      ],
      "execution_count": 28,
      "outputs": []
    },
    {
      "cell_type": "code",
      "metadata": {
        "id": "Rp6OIEJ0W6m3"
      },
      "source": [
        "# 패딩\n",
        "from tensorflow.keras.preprocessing.sequence import pad_sequences\n",
        "X_train = pad_sequences(X_train, maxlen=max_len)\n",
        "X_test = pad_sequences(X_test, maxlen=max_len)"
      ],
      "execution_count": 29,
      "outputs": []
    },
    {
      "cell_type": "markdown",
      "metadata": {
        "id": "1EO2uISmleSN"
      },
      "source": [
        "# EXTRA TREE"
      ]
    },
    {
      "cell_type": "code",
      "metadata": {
        "id": "EOHnfvMUmGpj"
      },
      "source": [
        "from sklearn.ensemble import ExtraTreesClassifier, GradientBoostingClassifier\n",
        "from sklearn.model_selection import train_test_split, cross_validate, cross_val_score"
      ],
      "execution_count": 30,
      "outputs": []
    },
    {
      "cell_type": "code",
      "metadata": {
        "colab": {
          "base_uri": "https://localhost:8080/"
        },
        "id": "-vdWUBVIrn3e",
        "outputId": "a42b131a-6a91-4656-ca95-db19916d6a23"
      },
      "source": [
        "train_scores = []  # 훈련 셋의 정확도를 저장할 리스트\n",
        "val_scores = []    # 검증 셋의 정확도를 저장할 리스트\n",
        "tree_depths = np.arange(1, 30)  # hyperparameter max_depth로 사용할 값들\n",
        "for d in tree_depths:\n",
        "    tree = ExtraTreesClassifier(max_depth=d, random_state=42)\n",
        "    tree.fit(X_train, y_train)\n",
        "    train_scores.append(tree.score(X_train, y_train))\n",
        "    val_scores.append(tree.score(X_test, y_test))\n",
        "\n",
        "print(train_scores)\n",
        "print(val_scores)"
      ],
      "execution_count": 56,
      "outputs": [
        {
          "output_type": "stream",
          "name": "stdout",
          "text": [
            "[0.5029003783102144, 0.5029003783102144, 0.5568726355611602, 0.5593947036569987, 0.5667087011349307, 0.573266078184111, 0.5780580075662043, 0.5866330390920554, 0.594703656998739, 0.6098360655737705, 0.6211853720050441, 0.6380832282471627, 0.653467843631778, 0.6817150063051702, 0.6882723833543506, 0.7102143757881463, 0.7301387137452712, 0.7488020176544766, 0.760655737704918, 0.7934426229508197, 0.8068095838587642, 0.8158890290037831, 0.8264817150063052, 0.8310214375788146, 0.8441361916771752, 0.8494325346784363, 0.8650693568726355, 0.8721311475409836, 0.8852459016393442]\n",
            "[0.488, 0.488, 0.568, 0.552, 0.542, 0.54, 0.54, 0.54, 0.548, 0.546, 0.538, 0.546, 0.542, 0.546, 0.534, 0.544, 0.538, 0.552, 0.556, 0.554, 0.558, 0.556, 0.58, 0.568, 0.568, 0.586, 0.576, 0.582, 0.566]\n"
          ]
        }
      ]
    },
    {
      "cell_type": "code",
      "metadata": {
        "colab": {
          "base_uri": "https://localhost:8080/",
          "height": 267
        },
        "id": "uHIl0JUjr0Xz",
        "outputId": "a3261c19-cb60-43c4-b05e-352cec8dd362"
      },
      "source": [
        "plt.plot(tree_depths, train_scores, 'bo-', label='Train acc.')\n",
        "plt.plot(tree_depths, val_scores, 'ro:', label='Validation acc.')\n",
        "plt.grid()\n",
        "plt.legend()\n",
        "plt.show()"
      ],
      "execution_count": 57,
      "outputs": [
        {
          "output_type": "display_data",
          "data": {
            "image/png": "[encoded data removed]",
            "text/plain": [
              "<Figure size 432x288 with 1 Axes>"
            ]
          },
          "metadata": {
            "needs_background": "light"
          }
        }
      ]
    },
    {
      "cell_type": "code",
      "metadata": {
        "colab": {
          "base_uri": "https://localhost:8080/"
        },
        "id": "Jf7GiRMolczt",
        "outputId": "86f2567b-f0c3-491d-a951-1bee6354a623"
      },
      "source": [
        "extra_tree = ExtraTreesClassifier(n_jobs=-1)\n",
        "cv = cross_validate(estimator=extra_tree, X=X_train, y=y_train, n_jobs=-1, \n",
        "                    return_train_score=True)\n",
        "cv"
      ],
      "execution_count": 63,
      "outputs": [
        {
          "output_type": "execute_result",
          "data": {
            "text/plain": [
              "{'fit_time': array([1.35661006, 1.32792807, 1.4162817 , 1.38252807, 0.54075241]),\n",
              " 'score_time': array([0.11368608, 0.10599279, 0.10308218, 0.10380483, 0.10237074]),\n",
              " 'test_score': array([0.63556116, 0.64691047, 0.63303909, 0.63556116, 0.62421185]),\n",
              " 'train_score': array([1., 1., 1., 1., 1.])}"
            ]
          },
          "metadata": {},
          "execution_count": 63
        }
      ]
    },
    {
      "cell_type": "code",
      "metadata": {
        "colab": {
          "base_uri": "https://localhost:8080/"
        },
        "id": "NFoUOJh3qScZ",
        "outputId": "b8439f4a-8062-43ff-a7d9-44c55fdcf3c0"
      },
      "source": [
        "extra_tree.fit(X_train,y_train)"
      ],
      "execution_count": 64,
      "outputs": [
        {
          "output_type": "execute_result",
          "data": {
            "text/plain": [
              "ExtraTreesClassifier(bootstrap=False, ccp_alpha=0.0, class_weight=None,\n",
              "                     criterion='gini', max_depth=None, max_features='auto',\n",
              "                     max_leaf_nodes=None, max_samples=None,\n",
              "                     min_impurity_decrease=0.0, min_impurity_split=None,\n",
              "                     min_samples_leaf=1, min_samples_split=2,\n",
              "                     min_weight_fraction_leaf=0.0, n_estimators=100, n_jobs=-1,\n",
              "                     oob_score=False, random_state=None, verbose=0,\n",
              "                     warm_start=False)"
            ]
          },
          "metadata": {},
          "execution_count": 64
        }
      ]
    },
    {
      "cell_type": "code",
      "metadata": {
        "colab": {
          "base_uri": "https://localhost:8080/"
        },
        "id": "YhK20VxXqcP9",
        "outputId": "d7d495e2-80ef-4390-ac68-7e98662504cb"
      },
      "source": [
        "extra_tree.score(X_test,y_test)"
      ],
      "execution_count": 65,
      "outputs": [
        {
          "output_type": "execute_result",
          "data": {
            "text/plain": [
              "0.64"
            ]
          },
          "metadata": {},
          "execution_count": 65
        }
      ]
    },
    {
      "cell_type": "code",
      "metadata": {
        "colab": {
          "base_uri": "https://localhost:8080/"
        },
        "id": "ZrsYdB6cnwHo",
        "outputId": "b5e8003a-60fb-4130-9de0-c10ed4f87f18"
      },
      "source": [
        "np.mean(cv['train_score'])"
      ],
      "execution_count": 66,
      "outputs": [
        {
          "output_type": "execute_result",
          "data": {
            "text/plain": [
              "1.0"
            ]
          },
          "metadata": {},
          "execution_count": 66
        }
      ]
    },
    {
      "cell_type": "code",
      "metadata": {
        "colab": {
          "base_uri": "https://localhost:8080/"
        },
        "id": "CA-DVHhvnxc6",
        "outputId": "a9d528a3-8855-4f49-d1bf-8d9e265c873a"
      },
      "source": [
        "np.mean(cv['test_score'])"
      ],
      "execution_count": 67,
      "outputs": [
        {
          "output_type": "execute_result",
          "data": {
            "text/plain": [
              "0.6350567465321564"
            ]
          },
          "metadata": {},
          "execution_count": 67
        }
      ]
    },
    {
      "cell_type": "code",
      "metadata": {
        "colab": {
          "base_uri": "https://localhost:8080/"
        },
        "id": "PZXZZ9yUnzdv",
        "outputId": "e56e8e8a-8430-4b98-eaf5-be9fc0d8154f"
      },
      "source": [
        "# 검증 셋(validation set)에서의 평가 점수만 리턴 - overfitting 여부는 확인할 수 없음.\n",
        "cross_val_score(estimator=extra_tree, X=X_train, y=y_train, n_jobs=-1)"
      ],
      "execution_count": 68,
      "outputs": [
        {
          "output_type": "execute_result",
          "data": {
            "text/plain": [
              "array([0.62547289, 0.65699874, 0.61160151, 0.62925599, 0.63177806])"
            ]
          },
          "metadata": {},
          "execution_count": 68
        }
      ]
    },
    {
      "cell_type": "markdown",
      "metadata": {
        "id": "DZi-dy52szK-"
      },
      "source": [
        "## GridSearchCV"
      ]
    },
    {
      "cell_type": "code",
      "metadata": {
        "id": "aVmunhPUtDvm"
      },
      "source": [
        "from sklearn.model_selection import GridSearchCV"
      ],
      "execution_count": 69,
      "outputs": []
    },
    {
      "cell_type": "code",
      "metadata": {
        "id": "HY-6VeKDs0-_"
      },
      "source": [
        "tree_clf = ExtraTreesClassifier(random_state=42) "
      ],
      "execution_count": 70,
      "outputs": []
    },
    {
      "cell_type": "code",
      "metadata": {
        "id": "LqjFPnJys40b"
      },
      "source": [
        "# 튜닝할 Decision Tree의 하이퍼파라미터\n",
        "params = {'max_depth': np.arange(1, 21),\n",
        "          'min_samples_split': [0.01, 0.1, 0.2]}"
      ],
      "execution_count": 71,
      "outputs": []
    },
    {
      "cell_type": "code",
      "metadata": {
        "id": "L8BIlOKJs6Hr"
      },
      "source": [
        "# Grid Search 교차 검증을 할 수 있는 객체 생성\n",
        "grid_search_cv = GridSearchCV(estimator=tree_clf, param_grid=params, n_jobs=-1)"
      ],
      "execution_count": 72,
      "outputs": []
    },
    {
      "cell_type": "code",
      "metadata": {
        "colab": {
          "base_uri": "https://localhost:8080/"
        },
        "id": "aS2Ez7Kfs9fG",
        "outputId": "5c612192-aada-4984-e132-692e7f58a0bd"
      },
      "source": [
        "# Grid Search 교차 검증을 수행 --> 훈련(학습) --> fit\n",
        "grid_search_cv.fit(X_train, y_train)"
      ],
      "execution_count": 73,
      "outputs": [
        {
          "output_type": "execute_result",
          "data": {
            "text/plain": [
              "GridSearchCV(cv=None, error_score=nan,\n",
              "             estimator=ExtraTreesClassifier(bootstrap=False, ccp_alpha=0.0,\n",
              "                                            class_weight=None, criterion='gini',\n",
              "                                            max_depth=None, max_features='auto',\n",
              "                                            max_leaf_nodes=None,\n",
              "                                            max_samples=None,\n",
              "                                            min_impurity_decrease=0.0,\n",
              "                                            min_impurity_split=None,\n",
              "                                            min_samples_leaf=1,\n",
              "                                            min_samples_split=2,\n",
              "                                            min_weight_fraction_leaf=0.0,\n",
              "                                            n_estimators=100, n_jobs=None,\n",
              "                                            oob_score=False, random_state=42,\n",
              "                                            verbose=0, warm_start=False),\n",
              "             iid='deprecated', n_jobs=-1,\n",
              "             param_grid={'max_depth': array([ 1,  2,  3,  4,  5,  6,  7,  8,  9, 10, 11, 12, 13, 14, 15, 16, 17,\n",
              "       18, 19, 20]),\n",
              "                         'min_samples_split': [0.01, 0.1, 0.2]},\n",
              "             pre_dispatch='2*n_jobs', refit=True, return_train_score=False,\n",
              "             scoring=None, verbose=0)"
            ]
          },
          "metadata": {},
          "execution_count": 73
        }
      ]
    },
    {
      "cell_type": "code",
      "metadata": {
        "colab": {
          "base_uri": "https://localhost:8080/"
        },
        "id": "lh3epYKxs_Fu",
        "outputId": "a00b6567-ff32-4073-f07b-f33a6a41471e"
      },
      "source": [
        "\n",
        "# Grid Search CV의 결과 --> 가장 적합한 파라미터들의 조합\n",
        "grid_search_cv.best_params_"
      ],
      "execution_count": 74,
      "outputs": [
        {
          "output_type": "execute_result",
          "data": {
            "text/plain": [
              "{'max_depth': 19, 'min_samples_split': 0.01}"
            ]
          },
          "metadata": {},
          "execution_count": 74
        }
      ]
    },
    {
      "cell_type": "code",
      "metadata": {
        "colab": {
          "base_uri": "https://localhost:8080/"
        },
        "id": "sQddgQwQtAGg",
        "outputId": "b3397656-1d45-4f36-c9fa-28d9fa96da03"
      },
      "source": [
        "# Grid Search CV에서 가장 좋은 검증 셋에서의 점수\n",
        "grid_search_cv.best_score_"
      ],
      "execution_count": 75,
      "outputs": [
        {
          "output_type": "execute_result",
          "data": {
            "text/plain": [
              "0.5616645649432535"
            ]
          },
          "metadata": {},
          "execution_count": 75
        }
      ]
    },
    {
      "cell_type": "code",
      "metadata": {
        "colab": {
          "base_uri": "https://localhost:8080/"
        },
        "id": "BWXgzhigtA_0",
        "outputId": "ad6dbc65-0d8a-4ebd-a1e8-bdd95c23e08c"
      },
      "source": [
        "# Grid Search CV에서 가장 적합한 파라미터들의 조합으로 훈련된 모델\n",
        "best_model = grid_search_cv.best_estimator_\n",
        "best_model"
      ],
      "execution_count": 76,
      "outputs": [
        {
          "output_type": "execute_result",
          "data": {
            "text/plain": [
              "ExtraTreesClassifier(bootstrap=False, ccp_alpha=0.0, class_weight=None,\n",
              "                     criterion='gini', max_depth=19, max_features='auto',\n",
              "                     max_leaf_nodes=None, max_samples=None,\n",
              "                     min_impurity_decrease=0.0, min_impurity_split=None,\n",
              "                     min_samples_leaf=1, min_samples_split=0.01,\n",
              "                     min_weight_fraction_leaf=0.0, n_estimators=100,\n",
              "                     n_jobs=None, oob_score=False, random_state=42, verbose=0,\n",
              "                     warm_start=False)"
            ]
          },
          "metadata": {},
          "execution_count": 76
        }
      ]
    },
    {
      "cell_type": "code",
      "metadata": {
        "colab": {
          "base_uri": "https://localhost:8080/"
        },
        "id": "bBEI2gBitB1d",
        "outputId": "2a30efc7-b45d-4545-9912-d2b0308a16fa"
      },
      "source": [
        "# 테스트 셋에서 평가 ---> 일반화 점수 예측\n",
        "best_model.score(X_test, y_test)"
      ],
      "execution_count": 77,
      "outputs": [
        {
          "output_type": "execute_result",
          "data": {
            "text/plain": [
              "0.556"
            ]
          },
          "metadata": {},
          "execution_count": 77
        }
      ]
    },
    {
      "cell_type": "markdown",
      "metadata": {
        "id": "9Ukzcj4_jUI0"
      },
      "source": [
        "# SVM"
      ]
    },
    {
      "cell_type": "code",
      "metadata": {
        "id": "OH_EunvNjVmC"
      },
      "source": [
        "from sklearn import datasets\n",
        "from sklearn.preprocessing import StandardScaler, PolynomialFeatures\n",
        "from sklearn.pipeline import Pipeline\n",
        "from sklearn.svm import LinearSVC, SVC  # SVM을 이용한 분류(Classification)\n",
        "from sklearn.svm import LinearSVR, SVR # SVM을 이용한 회귀(Classification)\n",
        "from konlpy.tag import Twitter\n",
        "from sklearn.feature_extraction.text import CountVectorizer\n"
      ],
      "execution_count": 78,
      "outputs": []
    },
    {
      "cell_type": "code",
      "metadata": {
        "id": "oa7MaUeeqBmP"
      },
      "source": [
        "from sklearn.feature_extraction.text import CountVectorizer\n",
        "from sklearn.feature_extraction.text import TfidfTransformer\n",
        "from sklearn.linear_model import SGDClassifier\n",
        "from sklearn import svm"
      ],
      "execution_count": 79,
      "outputs": []
    },
    {
      "cell_type": "code",
      "metadata": {
        "id": "erkv0339HdeZ"
      },
      "source": [
        ""
      ],
      "execution_count": 79,
      "outputs": []
    },
    {
      "cell_type": "code",
      "metadata": {
        "id": "7pLX4sxDt6_-"
      },
      "source": [
        "\n",
        "# from sklearn import svm\n",
        "# classify using support vector classifier\n",
        "# svm = svm.SVC(kernel = 'linear', probability=True)\n",
        "\n",
        "# fit the SVC model based on the given training data\n",
        "# prob = svm.fit(X_train, y_train)\n",
        "\n",
        "# perform classification and prediction on samples in x_test\n",
        "# y_pred = svm.predict(X_test)"
      ],
      "execution_count": 80,
      "outputs": []
    },
    {
      "cell_type": "code",
      "metadata": {
        "colab": {
          "base_uri": "https://localhost:8080/",
          "height": 244
        },
        "id": "M7MXfBkcjO5V",
        "outputId": "42f2bb46-04d0-45fd-b898-c339601ef560"
      },
      "source": [
        "# 분류자에 훈련 데이터셋 맞추기 \n",
        "#SVM = svm.SVC(C=1.0, kernel='linear', degree=3, gamma='auto') \n",
        "#SVM.fit(Train_X,Train_Y)\n",
        "# 검증 데이터 세트의 레이블 \n",
        "# 예측 예측_SVM = SVM.predict(Test_X)\n",
        "# 정확도를 얻기 위해 accuracy_score 함수를 사용합니다. \n",
        "# print(\"SVM Accuracy Score -> \",accuracy_score(predictions_SVM, Test_Y)*100)"
      ],
      "execution_count": 81,
      "outputs": [
        {
          "output_type": "error",
          "ename": "NameError",
          "evalue": "ignored",
          "traceback": [
            "\u001b[0;31m---------------------------------------------------------------------------\u001b[0m",
            "\u001b[0;31mNameError\u001b[0m                                 Traceback (most recent call last)",
            "\u001b[0;32m<ipython-input-81-3e4e64daa30f>\u001b[0m in \u001b[0;36m<module>\u001b[0;34m()\u001b[0m\n\u001b[1;32m      1\u001b[0m \u001b[0;31m# 분류자에 훈련 데이터셋 맞추기\u001b[0m\u001b[0;34m\u001b[0m\u001b[0;34m\u001b[0m\u001b[0;34m\u001b[0m\u001b[0m\n\u001b[1;32m      2\u001b[0m \u001b[0mSVM\u001b[0m \u001b[0;34m=\u001b[0m \u001b[0msvm\u001b[0m\u001b[0;34m.\u001b[0m\u001b[0mSVC\u001b[0m\u001b[0;34m(\u001b[0m\u001b[0mC\u001b[0m\u001b[0;34m=\u001b[0m\u001b[0;36m1.0\u001b[0m\u001b[0;34m,\u001b[0m \u001b[0mkernel\u001b[0m\u001b[0;34m=\u001b[0m\u001b[0;34m'linear'\u001b[0m\u001b[0;34m,\u001b[0m \u001b[0mdegree\u001b[0m\u001b[0;34m=\u001b[0m\u001b[0;36m3\u001b[0m\u001b[0;34m,\u001b[0m \u001b[0mgamma\u001b[0m\u001b[0;34m=\u001b[0m\u001b[0;34m'auto'\u001b[0m\u001b[0;34m)\u001b[0m\u001b[0;34m\u001b[0m\u001b[0;34m\u001b[0m\u001b[0m\n\u001b[0;32m----> 3\u001b[0;31m \u001b[0mSVM\u001b[0m\u001b[0;34m.\u001b[0m\u001b[0mfit\u001b[0m\u001b[0;34m(\u001b[0m\u001b[0mTrain_X\u001b[0m\u001b[0;34m,\u001b[0m\u001b[0mTrain_Y\u001b[0m\u001b[0;34m)\u001b[0m\u001b[0;34m\u001b[0m\u001b[0;34m\u001b[0m\u001b[0m\n\u001b[0m\u001b[1;32m      4\u001b[0m \u001b[0;31m# 검증 데이터 세트의 레이블\u001b[0m\u001b[0;34m\u001b[0m\u001b[0;34m\u001b[0m\u001b[0;34m\u001b[0m\u001b[0m\n\u001b[1;32m      5\u001b[0m \u001b[0;31m# 예측 예측_SVM = SVM.predict(Test_X)\u001b[0m\u001b[0;34m\u001b[0m\u001b[0;34m\u001b[0m\u001b[0;34m\u001b[0m\u001b[0m\n",
            "\u001b[0;31mNameError\u001b[0m: name 'Train_X' is not defined"
          ]
        }
      ]
    },
    {
      "cell_type": "code",
      "metadata": {
        "id": "E5sP9fRHJUpu"
      },
      "source": [
        ""
      ],
      "execution_count": null,
      "outputs": []
    },
    {
      "cell_type": "code",
      "metadata": {
        "id": "pTwdG1u_ucwX"
      },
      "source": [
        "from sklearn.metrics import accuracy_score\n",
        "# print(\"Accuracy score for SVC is: \", accuracy_score(y_test, y_pred) * 100, '%')"
      ],
      "execution_count": null,
      "outputs": []
    },
    {
      "cell_type": "markdown",
      "metadata": {
        "id": "JP5TUpuWT02v"
      },
      "source": [
        "# 시각화"
      ]
    },
    {
      "cell_type": "code",
      "metadata": {
        "id": "e4d8BS5GVn80"
      },
      "source": [
        "from collections import Counter\n",
        "\n",
        "morphs_counter = Counter(morphs)\n",
        "morphs_freq = dict(morphs_counter.most_common(50))\n",
        "\n",
        "over3 = []\n",
        "for key, value in morphs_freq.items():\n",
        "  if value >= 3:\n",
        "   over3.append([key,value])\n",
        "\n",
        "len(over3)"
      ],
      "execution_count": null,
      "outputs": []
    },
    {
      "cell_type": "code",
      "metadata": {
        "id": "MCBtpJhBsYwS"
      },
      "source": [
        "words = pd.DataFrame(over3)\n",
        "\n",
        "twos = []\n",
        "for x in words[0]:\n",
        "  if len(x) <= 1:\n",
        "    twos.append(x)\n",
        "# pd.options.display.max_rows=1000\n"
      ],
      "execution_count": null,
      "outputs": []
    },
    {
      "cell_type": "code",
      "metadata": {
        "id": "6HOEfYIXsI6h"
      },
      "source": [
        "!pip install wordcloud\n",
        "from wordcloud import WordCloud\n",
        "\n",
        "wc = WordCloud(background_color = 'white', font_path = './font/NanumBarunGothic.ttf')\n",
        "wc.generate_from_frequencies(morphs_freq)\n",
        "plt.figure(figsize=(20,20))\n",
        "plt.axis('off')\n",
        "plt.imshow(wc)\n",
        "plt.show()"
      ],
      "execution_count": null,
      "outputs": []
    }
  ]
}