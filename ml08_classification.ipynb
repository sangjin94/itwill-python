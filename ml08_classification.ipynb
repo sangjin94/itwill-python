{
  "nbformat": 4,
  "nbformat_minor": 0,
  "metadata": {
    "colab": {
      "name": "ml08_classification.ipynb",
      "provenance": [],
      "authorship_tag": "ABX9TyOTzKmRtlLEKihR0FUfR0Vd",
      "include_colab_link": true
    },
    "kernelspec": {
      "name": "python3",
      "display_name": "Python 3"
    },
    "language_info": {
      "name": "python"
    }
  },
  "cells": [
    {
      "cell_type": "markdown",
      "metadata": {
        "id": "view-in-github",
        "colab_type": "text"
      },
      "source": [
        "<a href=\"https://colab.research.google.com/github/sangjin94/itwill-python/blob/main/ml08_classification.ipynb\" target=\"_parent\"><img src=\"https://colab.research.google.com/assets/colab-badge.svg\" alt=\"Open In Colab\"/></a>"
      ]
    },
    {
      "cell_type": "code",
      "metadata": {
        "id": "Ay0mENbyeLy4"
      },
      "source": [
        "import numpy as np\n",
        "import pandas as pd\n",
        "import matplotlib.pyplot as plt\n",
        "\n",
        "from sklearn.model_selection import train_test_split\n",
        "from sklearn.preprocessing import StandardScaler\n",
        "from sklearn.neighbors import KNeighborsClassifier\n",
        "from sklearn.linear_model import LogisticRegression,SGDClassifier\n",
        "from sklearn.metrics import accuracy_score, confusion_matrix, classification_report\n",
        "from sklearn.pipeline import Pipeline"
      ],
      "execution_count": 19,
      "outputs": []
    },
    {
      "cell_type": "markdown",
      "metadata": {
        "id": "Aszy804rfUi4"
      },
      "source": [
        "# Data"
      ]
    },
    {
      "cell_type": "code",
      "metadata": {
        "id": "KumnHIxvfWEz"
      },
      "source": [
        "fish_csv = 'https://github.com/rickiepark/hg-mldl/raw/master/fish.csv'"
      ],
      "execution_count": null,
      "outputs": []
    },
    {
      "cell_type": "code",
      "metadata": {
        "id": "SYeDkZkJfJob"
      },
      "source": [
        "fish=pd.read_csv(fish_csv)"
      ],
      "execution_count": null,
      "outputs": []
    },
    {
      "cell_type": "code",
      "metadata": {
        "colab": {
          "base_uri": "https://localhost:8080/",
          "height": 204
        },
        "id": "zxZSHyKIfk94",
        "outputId": "01b524ec-80b3-4d21-d3a9-7a3c2cc7951f"
      },
      "source": [
        "fish.head()"
      ],
      "execution_count": null,
      "outputs": [
        {
          "output_type": "execute_result",
          "data": {
            "text/html": [
              "<div>\n",
              "<style scoped>\n",
              "    .dataframe tbody tr th:only-of-type {\n",
              "        vertical-align: middle;\n",
              "    }\n",
              "\n",
              "    .dataframe tbody tr th {\n",
              "        vertical-align: top;\n",
              "    }\n",
              "\n",
              "    .dataframe thead th {\n",
              "        text-align: right;\n",
              "    }\n",
              "</style>\n",
              "<table border=\"1\" class=\"dataframe\">\n",
              "  <thead>\n",
              "    <tr style=\"text-align: right;\">\n",
              "      <th></th>\n",
              "      <th>Species</th>\n",
              "      <th>Weight</th>\n",
              "      <th>Length</th>\n",
              "      <th>Diagonal</th>\n",
              "      <th>Height</th>\n",
              "      <th>Width</th>\n",
              "    </tr>\n",
              "  </thead>\n",
              "  <tbody>\n",
              "    <tr>\n",
              "      <th>0</th>\n",
              "      <td>Bream</td>\n",
              "      <td>242.0</td>\n",
              "      <td>25.4</td>\n",
              "      <td>30.0</td>\n",
              "      <td>11.5200</td>\n",
              "      <td>4.0200</td>\n",
              "    </tr>\n",
              "    <tr>\n",
              "      <th>1</th>\n",
              "      <td>Bream</td>\n",
              "      <td>290.0</td>\n",
              "      <td>26.3</td>\n",
              "      <td>31.2</td>\n",
              "      <td>12.4800</td>\n",
              "      <td>4.3056</td>\n",
              "    </tr>\n",
              "    <tr>\n",
              "      <th>2</th>\n",
              "      <td>Bream</td>\n",
              "      <td>340.0</td>\n",
              "      <td>26.5</td>\n",
              "      <td>31.1</td>\n",
              "      <td>12.3778</td>\n",
              "      <td>4.6961</td>\n",
              "    </tr>\n",
              "    <tr>\n",
              "      <th>3</th>\n",
              "      <td>Bream</td>\n",
              "      <td>363.0</td>\n",
              "      <td>29.0</td>\n",
              "      <td>33.5</td>\n",
              "      <td>12.7300</td>\n",
              "      <td>4.4555</td>\n",
              "    </tr>\n",
              "    <tr>\n",
              "      <th>4</th>\n",
              "      <td>Bream</td>\n",
              "      <td>430.0</td>\n",
              "      <td>29.0</td>\n",
              "      <td>34.0</td>\n",
              "      <td>12.4440</td>\n",
              "      <td>5.1340</td>\n",
              "    </tr>\n",
              "  </tbody>\n",
              "</table>\n",
              "</div>"
            ],
            "text/plain": [
              "  Species  Weight  Length  Diagonal   Height   Width\n",
              "0   Bream   242.0    25.4      30.0  11.5200  4.0200\n",
              "1   Bream   290.0    26.3      31.2  12.4800  4.3056\n",
              "2   Bream   340.0    26.5      31.1  12.3778  4.6961\n",
              "3   Bream   363.0    29.0      33.5  12.7300  4.4555\n",
              "4   Bream   430.0    29.0      34.0  12.4440  5.1340"
            ]
          },
          "metadata": {},
          "execution_count": 6
        }
      ]
    },
    {
      "cell_type": "code",
      "metadata": {
        "colab": {
          "base_uri": "https://localhost:8080/"
        },
        "id": "nWCnZerqfpgR",
        "outputId": "8f88de91-f6e8-486f-9ecd-99707ddde870"
      },
      "source": [
        "fish['Species'].value_counts()"
      ],
      "execution_count": null,
      "outputs": [
        {
          "output_type": "execute_result",
          "data": {
            "text/plain": [
              "Perch        56\n",
              "Bream        35\n",
              "Roach        20\n",
              "Pike         17\n",
              "Smelt        14\n",
              "Parkki       11\n",
              "Whitefish     6\n",
              "Name: Species, dtype: int64"
            ]
          },
          "metadata": {},
          "execution_count": 8
        }
      ]
    },
    {
      "cell_type": "markdown",
      "metadata": {
        "id": "M6Ho5hibgNQ-"
      },
      "source": [
        "# Binary-class Classification (이진분류)"
      ]
    },
    {
      "cell_type": "code",
      "metadata": {
        "id": "tWMK8UX-gRZI"
      },
      "source": [
        "# fish DataFrame에서 Bream(도미), Smelt(빙어)만 선택\n",
        "df1= fish[fish.Species.isin(['Bream','Smelt'])]\n",
        "# (fish.Species=='Bream')| (fish.Species=='Smelt') 와 같은 결과"
      ],
      "execution_count": null,
      "outputs": []
    },
    {
      "cell_type": "code",
      "metadata": {
        "colab": {
          "base_uri": "https://localhost:8080/"
        },
        "id": "r2Qpnt6Fg3AQ",
        "outputId": "cc5a721d-cef9-4574-9596-0cea67ce68e0"
      },
      "source": [
        "df1['Species'].value_counts()"
      ],
      "execution_count": null,
      "outputs": [
        {
          "output_type": "execute_result",
          "data": {
            "text/plain": [
              "Bream    35\n",
              "Smelt    14\n",
              "Name: Species, dtype: int64"
            ]
          },
          "metadata": {},
          "execution_count": 11
        }
      ]
    },
    {
      "cell_type": "code",
      "metadata": {
        "id": "N5-_TIvZhLi5"
      },
      "source": [
        "# 특성 행렬\n",
        "X=df1.drop(columns='Species').values\n",
        "# 타겟 벡터\n",
        "y=df1['Species'].values"
      ],
      "execution_count": null,
      "outputs": []
    },
    {
      "cell_type": "code",
      "metadata": {
        "id": "LkdXm1k7hZ2I",
        "colab": {
          "base_uri": "https://localhost:8080/"
        },
        "outputId": "77ef43fe-2149-4364-e813-41a0f7fa6c47"
      },
      "source": [
        "X[:5]"
      ],
      "execution_count": null,
      "outputs": [
        {
          "output_type": "execute_result",
          "data": {
            "text/plain": [
              "array([[242.    ,  25.4   ,  30.    ,  11.52  ,   4.02  ],\n",
              "       [290.    ,  26.3   ,  31.2   ,  12.48  ,   4.3056],\n",
              "       [340.    ,  26.5   ,  31.1   ,  12.3778,   4.6961],\n",
              "       [363.    ,  29.    ,  33.5   ,  12.73  ,   4.4555],\n",
              "       [430.    ,  29.    ,  34.    ,  12.444 ,   5.134 ]])"
            ]
          },
          "metadata": {},
          "execution_count": 14
        }
      ]
    },
    {
      "cell_type": "code",
      "metadata": {
        "id": "SifNSpcohb7F",
        "colab": {
          "base_uri": "https://localhost:8080/"
        },
        "outputId": "78e95510-bc39-4a00-a08f-b0b55cd9d4f1"
      },
      "source": [
        "y[:5]"
      ],
      "execution_count": null,
      "outputs": [
        {
          "output_type": "execute_result",
          "data": {
            "text/plain": [
              "array(['Bream', 'Bream', 'Bream', 'Bream', 'Bream'], dtype=object)"
            ]
          },
          "metadata": {},
          "execution_count": 15
        }
      ]
    },
    {
      "cell_type": "code",
      "metadata": {
        "id": "ZY7udsNx0t5c"
      },
      "source": [
        "X_train,X_test,y_train,y_test=train_test_split(X,y,\n",
        "                                               test_size=0.25,\n",
        "                                               stratify=y,\n",
        "                                               random_state=42)"
      ],
      "execution_count": 21,
      "outputs": []
    },
    {
      "cell_type": "code",
      "metadata": {
        "colab": {
          "base_uri": "https://localhost:8080/"
        },
        "id": "n4xUMja71Pse",
        "outputId": "780670f1-b00e-431b-e196-81f82a3fe039"
      },
      "source": [
        "X_train.shape,X_test.shape,y_train.shape,y_test.shape"
      ],
      "execution_count": 22,
      "outputs": [
        {
          "output_type": "execute_result",
          "data": {
            "text/plain": [
              "((36, 5), (13, 5), (36,), (13,))"
            ]
          },
          "metadata": {},
          "execution_count": 22
        }
      ]
    },
    {
      "cell_type": "code",
      "metadata": {
        "colab": {
          "base_uri": "https://localhost:8080/"
        },
        "id": "VGmwOuv91SgF",
        "outputId": "ad44b9b7-a534-49b4-b0ba-0e310e75a17f"
      },
      "source": [
        "np.unique(y_train,return_counts=True)"
      ],
      "execution_count": 24,
      "outputs": [
        {
          "output_type": "execute_result",
          "data": {
            "text/plain": [
              "(array(['Bream', 'Smelt'], dtype=object), array([26, 10]))"
            ]
          },
          "metadata": {},
          "execution_count": 24
        }
      ]
    },
    {
      "cell_type": "markdown",
      "metadata": {
        "id": "WKf99Bmc1zlg"
      },
      "source": [
        "# KNN Classification"
      ]
    },
    {
      "cell_type": "code",
      "metadata": {
        "id": "Vkshy56Y12FU"
      },
      "source": [
        "# 모델 생성\n",
        "scaler=StandardScaler()\n",
        "clf=KNeighborsClassifier()\n",
        "knn_model = Pipeline(steps=[('scaler',scaler),\n",
        "                            ('clf',clf)])"
      ],
      "execution_count": 25,
      "outputs": []
    },
    {
      "cell_type": "code",
      "metadata": {
        "colab": {
          "base_uri": "https://localhost:8080/"
        },
        "id": "mRJ5bwQS26hd",
        "outputId": "81d8e3d4-dcfb-4983-d91a-a2af517b1399"
      },
      "source": [
        "# 모델 훈련\n",
        "knn_model.fit(X_train,y_train)"
      ],
      "execution_count": 26,
      "outputs": [
        {
          "output_type": "execute_result",
          "data": {
            "text/plain": [
              "Pipeline(memory=None,\n",
              "         steps=[('scaler',\n",
              "                 StandardScaler(copy=True, with_mean=True, with_std=True)),\n",
              "                ('clf',\n",
              "                 KNeighborsClassifier(algorithm='auto', leaf_size=30,\n",
              "                                      metric='minkowski', metric_params=None,\n",
              "                                      n_jobs=None, n_neighbors=5, p=2,\n",
              "                                      weights='uniform'))],\n",
              "         verbose=False)"
            ]
          },
          "metadata": {},
          "execution_count": 26
        }
      ]
    },
    {
      "cell_type": "code",
      "metadata": {
        "colab": {
          "base_uri": "https://localhost:8080/"
        },
        "id": "biu_JwuS3JP6",
        "outputId": "adc84292-7b45-4152-f44a-999e434f3b01"
      },
      "source": [
        "# 훈련 셋의 예측값\n",
        "train_pred=knn_model.predict(X_train)\n",
        "train_pred"
      ],
      "execution_count": 28,
      "outputs": [
        {
          "output_type": "execute_result",
          "data": {
            "text/plain": [
              "array(['Bream', 'Bream', 'Smelt', 'Bream', 'Smelt', 'Bream', 'Smelt',\n",
              "       'Bream', 'Smelt', 'Bream', 'Bream', 'Bream', 'Bream', 'Smelt',\n",
              "       'Smelt', 'Bream', 'Bream', 'Bream', 'Smelt', 'Bream', 'Smelt',\n",
              "       'Bream', 'Smelt', 'Bream', 'Bream', 'Bream', 'Bream', 'Smelt',\n",
              "       'Bream', 'Bream', 'Bream', 'Bream', 'Bream', 'Bream', 'Bream',\n",
              "       'Bream'], dtype=object)"
            ]
          },
          "metadata": {},
          "execution_count": 28
        }
      ]
    },
    {
      "cell_type": "code",
      "metadata": {
        "colab": {
          "base_uri": "https://localhost:8080/"
        },
        "id": "VclPsPgx3TTP",
        "outputId": "de015d1b-7ed1-46c2-f041-4bc24e9b37a7"
      },
      "source": [
        "y_train"
      ],
      "execution_count": 30,
      "outputs": [
        {
          "output_type": "execute_result",
          "data": {
            "text/plain": [
              "array(['Bream', 'Bream', 'Smelt', 'Bream', 'Smelt', 'Bream', 'Smelt',\n",
              "       'Bream', 'Smelt', 'Bream', 'Bream', 'Bream', 'Bream', 'Smelt',\n",
              "       'Smelt', 'Bream', 'Bream', 'Bream', 'Smelt', 'Bream', 'Smelt',\n",
              "       'Bream', 'Smelt', 'Bream', 'Bream', 'Bream', 'Bream', 'Smelt',\n",
              "       'Bream', 'Bream', 'Bream', 'Bream', 'Bream', 'Bream', 'Bream',\n",
              "       'Bream'], dtype=object)"
            ]
          },
          "metadata": {},
          "execution_count": 30
        }
      ]
    },
    {
      "cell_type": "code",
      "metadata": {
        "colab": {
          "base_uri": "https://localhost:8080/"
        },
        "id": "P6Ef7cyX3oQu",
        "outputId": "43933354-00a0-47dc-e65d-700c6c1563d1"
      },
      "source": [
        "confusion_matrix(y_train,train_pred)"
      ],
      "execution_count": 31,
      "outputs": [
        {
          "output_type": "execute_result",
          "data": {
            "text/plain": [
              "array([[26,  0],\n",
              "       [ 0, 10]])"
            ]
          },
          "metadata": {},
          "execution_count": 31
        }
      ]
    },
    {
      "cell_type": "code",
      "metadata": {
        "colab": {
          "base_uri": "https://localhost:8080/"
        },
        "id": "wj5a9v2n34Bu",
        "outputId": "5c9968b6-24bf-4784-bf34-bec129990838"
      },
      "source": [
        "# KNN알고리즘의 분류 예측 확률(probability) \n",
        "train_prob=knn_model.predict_proba(X_train)\n",
        "train_prob[:5]"
      ],
      "execution_count": 35,
      "outputs": [
        {
          "output_type": "execute_result",
          "data": {
            "text/plain": [
              "array([[1., 0.],\n",
              "       [1., 0.],\n",
              "       [0., 1.],\n",
              "       [1., 0.],\n",
              "       [0., 1.]])"
            ]
          },
          "metadata": {},
          "execution_count": 35
        }
      ]
    },
    {
      "cell_type": "code",
      "metadata": {
        "colab": {
          "base_uri": "https://localhost:8080/"
        },
        "id": "Izq9OYhs84C_",
        "outputId": "c00c6a95-43a8-496c-9186-3e5a281aa07b"
      },
      "source": [
        "# 테스트 셋에서의 평가\n",
        "test_pred= knn_model.predict(X_test)\n",
        "test_pred"
      ],
      "execution_count": 43,
      "outputs": [
        {
          "output_type": "execute_result",
          "data": {
            "text/plain": [
              "array(['Bream', 'Bream', 'Bream', 'Smelt', 'Smelt', 'Bream', 'Smelt',\n",
              "       'Bream', 'Smelt', 'Bream', 'Bream', 'Bream', 'Bream'], dtype=object)"
            ]
          },
          "metadata": {},
          "execution_count": 43
        }
      ]
    },
    {
      "cell_type": "code",
      "metadata": {
        "colab": {
          "base_uri": "https://localhost:8080/"
        },
        "id": "y1f9d2La9ABS",
        "outputId": "66450906-b897-4001-caeb-6d7b9a7c5bb1"
      },
      "source": [
        "y_test"
      ],
      "execution_count": 44,
      "outputs": [
        {
          "output_type": "execute_result",
          "data": {
            "text/plain": [
              "array(['Bream', 'Bream', 'Bream', 'Smelt', 'Smelt', 'Bream', 'Smelt',\n",
              "       'Bream', 'Smelt', 'Bream', 'Bream', 'Bream', 'Bream'], dtype=object)"
            ]
          },
          "metadata": {},
          "execution_count": 44
        }
      ]
    },
    {
      "cell_type": "code",
      "metadata": {
        "colab": {
          "base_uri": "https://localhost:8080/"
        },
        "id": "NMZwQ0IbCrwj",
        "outputId": "fb7bb366-329e-4108-ab35-6024f5b2cef7"
      },
      "source": [
        "Samples=X_train[:3]\n",
        "Samples"
      ],
      "execution_count": 45,
      "outputs": [
        {
          "output_type": "execute_result",
          "data": {
            "text/plain": [
              "array([[720.    ,  35.    ,  40.6   ,  16.3618,   6.09  ],\n",
              "       [363.    ,  29.    ,  33.5   ,  12.73  ,   4.4555],\n",
              "       [  8.7   ,  11.3   ,  12.6   ,   1.9782,   1.2852]])"
            ]
          },
          "metadata": {},
          "execution_count": 45
        }
      ]
    },
    {
      "cell_type": "code",
      "metadata": {
        "colab": {
          "base_uri": "https://localhost:8080/"
        },
        "id": "7Zj6g0xRFBC7",
        "outputId": "682db199-5b54-4099-95a1-efa80d5cf137"
      },
      "source": [
        "Samples_scaled=knn_model['scaler'].transform(Samples)\n",
        "Samples_scaled"
      ],
      "execution_count": 47,
      "outputs": [
        {
          "output_type": "execute_result",
          "data": {
            "text/plain": [
              "array([[ 0.85382543,  0.79935928,  0.80567236,  0.8021994 ,  0.94206579],\n",
              "       [-0.24256812,  0.20479453,  0.20860116,  0.20215901,  0.09992817],\n",
              "       [-1.33066961, -1.54917151, -1.54897461, -1.57423679, -1.53349422]])"
            ]
          },
          "metadata": {},
          "execution_count": 47
        }
      ]
    },
    {
      "cell_type": "code",
      "metadata": {
        "colab": {
          "base_uri": "https://localhost:8080/"
        },
        "id": "AUfJJWXjFTiH",
        "outputId": "dca2e20a-170f-4df9-9ce3-4927cc700067"
      },
      "source": [
        "neighbors=knn_model['clf'].kneighbors(Samples_scaled,return_distance=False)\n",
        "neighbors"
      ],
      "execution_count": 49,
      "outputs": [
        {
          "output_type": "execute_result",
          "data": {
            "text/plain": [
              "array([[ 0,  9, 16, 21, 35],\n",
              "       [ 1, 28, 19, 15, 33],\n",
              "       [ 2,  4, 18,  6,  8]])"
            ]
          },
          "metadata": {},
          "execution_count": 49
        }
      ]
    },
    {
      "cell_type": "code",
      "metadata": {
        "colab": {
          "base_uri": "https://localhost:8080/"
        },
        "id": "6v3-T50rGtNx",
        "outputId": "a467da64-d1aa-43aa-8dca-0883a968371d"
      },
      "source": [
        "y_train[neighbors]"
      ],
      "execution_count": 50,
      "outputs": [
        {
          "output_type": "execute_result",
          "data": {
            "text/plain": [
              "array([['Bream', 'Bream', 'Bream', 'Bream', 'Bream'],\n",
              "       ['Bream', 'Bream', 'Bream', 'Bream', 'Bream'],\n",
              "       ['Smelt', 'Smelt', 'Smelt', 'Smelt', 'Smelt']], dtype=object)"
            ]
          },
          "metadata": {},
          "execution_count": 50
        }
      ]
    },
    {
      "cell_type": "markdown",
      "metadata": {
        "id": "Lne6gfAXGxin"
      },
      "source": [
        "# Logistic Regression"
      ]
    },
    {
      "cell_type": "code",
      "metadata": {
        "id": "Z2TyNaZcG0bk"
      },
      "source": [
        "logit_model = Pipeline(steps=[('scaler',StandardScaler()),('clf',LogisticRegression())])"
      ],
      "execution_count": 51,
      "outputs": []
    },
    {
      "cell_type": "code",
      "metadata": {
        "colab": {
          "base_uri": "https://localhost:8080/"
        },
        "id": "hT8xVU3cIYDD",
        "outputId": "02a61381-a5df-426d-b82e-cf739f2750f0"
      },
      "source": [
        "# 모델 훈련\n",
        "logit_model.fit(X_train,y_train)"
      ],
      "execution_count": 53,
      "outputs": [
        {
          "output_type": "execute_result",
          "data": {
            "text/plain": [
              "Pipeline(memory=None,\n",
              "         steps=[('scaler',\n",
              "                 StandardScaler(copy=True, with_mean=True, with_std=True)),\n",
              "                ('clf',\n",
              "                 LogisticRegression(C=1.0, class_weight=None, dual=False,\n",
              "                                    fit_intercept=True, intercept_scaling=1,\n",
              "                                    l1_ratio=None, max_iter=100,\n",
              "                                    multi_class='auto', n_jobs=None,\n",
              "                                    penalty='l2', random_state=None,\n",
              "                                    solver='lbfgs', tol=0.0001, verbose=0,\n",
              "                                    warm_start=False))],\n",
              "         verbose=False)"
            ]
          },
          "metadata": {},
          "execution_count": 53
        }
      ]
    },
    {
      "cell_type": "code",
      "metadata": {
        "colab": {
          "base_uri": "https://localhost:8080/"
        },
        "id": "ixr0aU7UIeQe",
        "outputId": "df041c58-c1e3-444c-e465-6117f34e3e98"
      },
      "source": [
        "train_prob=logit_model.predict_proba(X_train)\n",
        "train_prob[:6]"
      ],
      "execution_count": 55,
      "outputs": [
        {
          "output_type": "execute_result",
          "data": {
            "text/plain": [
              "array([[9.97291432e-01, 2.70856773e-03],\n",
              "       [9.59020552e-01, 4.09794484e-02],\n",
              "       [4.26912628e-02, 9.57308737e-01],\n",
              "       [9.84096878e-01, 1.59031225e-02],\n",
              "       [4.23568833e-02, 9.57643117e-01],\n",
              "       [9.99167490e-01, 8.32509978e-04]])"
            ]
          },
          "metadata": {},
          "execution_count": 55
        }
      ]
    },
    {
      "cell_type": "code",
      "metadata": {
        "colab": {
          "base_uri": "https://localhost:8080/"
        },
        "id": "AXmDwq4XIqpO",
        "outputId": "43077748-8170-4e69-da4d-0a43c5524073"
      },
      "source": [
        "train_pred= logit_model.predict(X_train)\n",
        "train_pred[:6]"
      ],
      "execution_count": 58,
      "outputs": [
        {
          "output_type": "execute_result",
          "data": {
            "text/plain": [
              "array(['Bream', 'Bream', 'Smelt', 'Bream', 'Smelt', 'Bream'], dtype=object)"
            ]
          },
          "metadata": {},
          "execution_count": 58
        }
      ]
    },
    {
      "cell_type": "code",
      "metadata": {
        "colab": {
          "base_uri": "https://localhost:8080/"
        },
        "id": "ImEkjPUmJySh",
        "outputId": "4aef597b-b6ce-4390-afff-d37b4148b796"
      },
      "source": [
        "confusion_matrix(y_train,train_pred)"
      ],
      "execution_count": 59,
      "outputs": [
        {
          "output_type": "execute_result",
          "data": {
            "text/plain": [
              "array([[26,  0],\n",
              "       [ 0, 10]])"
            ]
          },
          "metadata": {},
          "execution_count": 59
        }
      ]
    },
    {
      "cell_type": "code",
      "metadata": {
        "colab": {
          "base_uri": "https://localhost:8080/"
        },
        "id": "ooICw81gJ4Bp",
        "outputId": "89fe5381-676c-4348-9797-2282d96e88d4"
      },
      "source": [
        "test_prob=logit_model.predict_proba(X_test)\n",
        "test_prob[:5]"
      ],
      "execution_count": 63,
      "outputs": [
        {
          "output_type": "execute_result",
          "data": {
            "text/plain": [
              "array([[9.97328384e-01, 2.67161624e-03],\n",
              "       [9.94425341e-01, 5.57465921e-03],\n",
              "       [9.99430626e-01, 5.69374399e-04],\n",
              "       [1.02252107e-01, 8.97747893e-01],\n",
              "       [5.42567620e-02, 9.45743238e-01]])"
            ]
          },
          "metadata": {},
          "execution_count": 63
        }
      ]
    },
    {
      "cell_type": "code",
      "metadata": {
        "colab": {
          "base_uri": "https://localhost:8080/"
        },
        "id": "wxC9F9C3Kr66",
        "outputId": "5cdaaaa2-b98c-446c-8128-62157e99b3e3"
      },
      "source": [
        "confusion_matrix(y_test,test_pred)"
      ],
      "execution_count": 64,
      "outputs": [
        {
          "output_type": "execute_result",
          "data": {
            "text/plain": [
              "array([[9, 0],\n",
              "       [0, 4]])"
            ]
          },
          "metadata": {},
          "execution_count": 64
        }
      ]
    },
    {
      "cell_type": "code",
      "metadata": {
        "colab": {
          "base_uri": "https://localhost:8080/"
        },
        "id": "DMgyfxbOLYUa",
        "outputId": "7c682653-9855-48e6-e698-8e06a0916b4b"
      },
      "source": [
        "logit_model['clf'].intercept_"
      ],
      "execution_count": 66,
      "outputs": [
        {
          "output_type": "execute_result",
          "data": {
            "text/plain": [
              "array([-2.70041052])"
            ]
          },
          "metadata": {},
          "execution_count": 66
        }
      ]
    },
    {
      "cell_type": "code",
      "metadata": {
        "colab": {
          "base_uri": "https://localhost:8080/"
        },
        "id": "dIzwJd7iLeq1",
        "outputId": "33c627da-e6b5-414e-abbc-0533e8fbb0fa"
      },
      "source": [
        "logit_model['clf'].coef_"
      ],
      "execution_count": 67,
      "outputs": [
        {
          "output_type": "execute_result",
          "data": {
            "text/plain": [
              "array([[-0.55266843, -0.78808545, -0.82264592, -0.85732701, -0.80231813]])"
            ]
          },
          "metadata": {},
          "execution_count": 67
        }
      ]
    },
    {
      "cell_type": "code",
      "metadata": {
        "colab": {
          "base_uri": "https://localhost:8080/"
        },
        "id": "R-aI5GvoXc2s",
        "outputId": "9e11e64a-2f01-48b3-c435-b39830ae1aa7"
      },
      "source": [
        "train_prob[0:5]"
      ],
      "execution_count": 86,
      "outputs": [
        {
          "output_type": "execute_result",
          "data": {
            "text/plain": [
              "array([[0.99729143, 0.00270857],\n",
              "       [0.95902055, 0.04097945],\n",
              "       [0.04269126, 0.95730874],\n",
              "       [0.98409688, 0.01590312],\n",
              "       [0.04235688, 0.95764312]])"
            ]
          },
          "metadata": {},
          "execution_count": 86
        }
      ]
    },
    {
      "cell_type": "code",
      "metadata": {
        "colab": {
          "base_uri": "https://localhost:8080/"
        },
        "id": "Rb55FEukXn8-",
        "outputId": "250d83a3-f59f-4203-9034-b5d443ba0e06"
      },
      "source": [
        "w0=logit_model['clf'].intercept_\n",
        "w=logit_model['clf'].coef_\n",
        "z=w0+logit_model['scaler'].transform(X_train[:5]) @ w[0]\n",
        "1/(1+np.exp(-z))"
      ],
      "execution_count": 88,
      "outputs": [
        {
          "output_type": "execute_result",
          "data": {
            "text/plain": [
              "array([0.00270857, 0.04097945, 0.95730874, 0.01590312, 0.95764312])"
            ]
          },
          "metadata": {},
          "execution_count": 88
        }
      ]
    },
    {
      "cell_type": "markdown",
      "metadata": {
        "id": "a70v-bhYQH-g"
      },
      "source": [
        "# sigmoid 함수"
      ]
    },
    {
      "cell_type": "markdown",
      "metadata": {
        "id": "Q_9WBhvMS_Ls"
      },
      "source": [
        "$$\n",
        "\\phi(z)=\\dfrac{e^z}{e^z +1}=\\dfrac{1}{1+e^{-z}}\n",
        "$$\n",
        "\n",
        "* odds 비(오즈비): 양성이 될 확률과 음성이 될 확률의 비율. $ \\frac{p}{1-p}$\n",
        "* logit: odds비에 자연로그를 취한 값. $\\log( \\frac{p}{1-p})$\n",
        "\n",
        "* p가 양성이 될 확률"
      ]
    },
    {
      "cell_type": "code",
      "metadata": {
        "colab": {
          "base_uri": "https://localhost:8080/",
          "height": 295
        },
        "id": "_PdqA_ZiQJkF",
        "outputId": "f1144b34-2b9a-40df-8a3b-edef70ca78db"
      },
      "source": [
        "z=np.arange(-5,5,0.01) # x 좌표\n",
        "sigmoid=1/(1+np.exp(-z)) # y 좌표\n",
        "\n",
        "plt.figure(figsize=(8,4))\n",
        "plt.plot(z,sigmoid)\n",
        "plt.ylabel('$\\phi(z)$')\n",
        "plt.xlabel('$z$')\n",
        "plt.title('Sigmoid')\n",
        "plt.grid()\n",
        "plt.show()"
      ],
      "execution_count": 70,
      "outputs": [
        {
          "output_type": "display_data",
          "data": {
            "image/png": "[encoded data removed]",
            "text/plain": [
              "<Figure size 576x288 with 1 Axes>"
            ]
          },
          "metadata": {
            "needs_background": "light"
          }
        }
      ]
    },
    {
      "cell_type": "markdown",
      "metadata": {
        "id": "FFOCgkAWUfNP"
      },
      "source": [
        "* 선형 회귀 \n",
        "$$\n",
        "z=w_0 +w_1 \\cdot x_1 + w2 \\cdot x_2 +\\cdots= w_0 + \\sum_j w_j \\dot x_j \n",
        "$$\n",
        "\n",
        "* 선형 회귀 공식으로 계산된 결과를 sigmoid 함수의 argument\n",
        "$$\n",
        "\\phi(z) = \\dfrac{1}{1+e^{-z}}= \\dfrac {1}{1+exp(-(w_0 + \\sum_j w_j \\dot x_j))}\n",
        "$$"
      ]
    },
    {
      "cell_type": "markdown",
      "metadata": {
        "id": "PXQzb1pqfVmP"
      },
      "source": [
        "# SGD Classifier\n",
        "\n",
        "SGD(Stochastic Gradient Descent, 확률적 경사 하강법)으로 찾은 선형 회귀식을 sigmoid 함수의 argument로 전달해서 양성일 확률을 계산하고, 분"
      ]
    },
    {
      "cell_type": "code",
      "metadata": {
        "id": "CU8wpfPHflNZ"
      },
      "source": [
        "sgd_model=Pipeline(steps=[('scaler',StandardScaler()),('clf',SGDClassifier(loss='log'))])\n",
        "# 확률 기반 분류기(classifier)를 만들 떄는 loss='log'로 설정.\n",
        "# loss의 기본값인 'hinge'는 분류 확률을 계산하지 않음 = SVM"
      ],
      "execution_count": 91,
      "outputs": []
    },
    {
      "cell_type": "code",
      "metadata": {
        "colab": {
          "base_uri": "https://localhost:8080/"
        },
        "id": "UKqyaQMPiBD4",
        "outputId": "c662be46-8ef5-40df-d90b-2d95c5026e3b"
      },
      "source": [
        "sgd_model.fit(X_train,y_train)"
      ],
      "execution_count": 92,
      "outputs": [
        {
          "output_type": "execute_result",
          "data": {
            "text/plain": [
              "Pipeline(memory=None,\n",
              "         steps=[('scaler',\n",
              "                 StandardScaler(copy=True, with_mean=True, with_std=True)),\n",
              "                ('clf',\n",
              "                 SGDClassifier(alpha=0.0001, average=False, class_weight=None,\n",
              "                               early_stopping=False, epsilon=0.1, eta0=0.0,\n",
              "                               fit_intercept=True, l1_ratio=0.15,\n",
              "                               learning_rate='optimal', loss='log',\n",
              "                               max_iter=1000, n_iter_no_change=5, n_jobs=None,\n",
              "                               penalty='l2', power_t=0.5, random_state=None,\n",
              "                               shuffle=True, tol=0.001, validation_fraction=0.1,\n",
              "                               verbose=0, warm_start=False))],\n",
              "         verbose=False)"
            ]
          },
          "metadata": {},
          "execution_count": 92
        }
      ]
    },
    {
      "cell_type": "code",
      "metadata": {
        "colab": {
          "base_uri": "https://localhost:8080/"
        },
        "id": "y0Vfwsi5iEnI",
        "outputId": "e5de1b45-a184-4163-d704-aaa8db2aeaee"
      },
      "source": [
        "train_prob=sgd_model.predict_proba(X_train)\n",
        "train_prob[:5]"
      ],
      "execution_count": 94,
      "outputs": [
        {
          "output_type": "execute_result",
          "data": {
            "text/plain": [
              "array([[9.99999928e-01, 7.16832263e-08],\n",
              "       [9.99791313e-01, 2.08686759e-04],\n",
              "       [1.20908167e-04, 9.99879092e-01],\n",
              "       [9.99987815e-01, 1.21853705e-05],\n",
              "       [1.18230226e-04, 9.99881770e-01]])"
            ]
          },
          "metadata": {},
          "execution_count": 94
        }
      ]
    },
    {
      "cell_type": "code",
      "metadata": {
        "colab": {
          "base_uri": "https://localhost:8080/"
        },
        "id": "eiEXsaemiTU6",
        "outputId": "1e8fa20a-08a7-4872-f6fd-cfdc9eca35d1"
      },
      "source": [
        "train_pred=sgd_model.predict(X_train)\n",
        "train_pred[:5]"
      ],
      "execution_count": 95,
      "outputs": [
        {
          "output_type": "execute_result",
          "data": {
            "text/plain": [
              "array(['Bream', 'Bream', 'Smelt', 'Bream', 'Smelt'], dtype='<U5')"
            ]
          },
          "metadata": {},
          "execution_count": 95
        }
      ]
    },
    {
      "cell_type": "code",
      "metadata": {
        "colab": {
          "base_uri": "https://localhost:8080/"
        },
        "id": "CcTiYYAYjg0v",
        "outputId": "c883014f-220a-475e-fc64-46789ad05ae5"
      },
      "source": [
        "confusion_matrix(y_train,train_pred)"
      ],
      "execution_count": 96,
      "outputs": [
        {
          "output_type": "execute_result",
          "data": {
            "text/plain": [
              "array([[26,  0],\n",
              "       [ 0, 10]])"
            ]
          },
          "metadata": {},
          "execution_count": 96
        }
      ]
    },
    {
      "cell_type": "markdown",
      "metadata": {
        "id": "CEpc4Cxyjtk0"
      },
      "source": [
        "# Multi-class Classification(다중 클래스 분류)"
      ]
    },
    {
      "cell_type": "code",
      "metadata": {
        "id": "hznMm4o6j0Z3"
      },
      "source": [
        ""
      ],
      "execution_count": null,
      "outputs": []
    },
    {
      "cell_type": "code",
      "metadata": {
        "id": "Mh5-HtCtjlO6"
      },
      "source": [
        ""
      ],
      "execution_count": null,
      "outputs": []
    }
  ]
}