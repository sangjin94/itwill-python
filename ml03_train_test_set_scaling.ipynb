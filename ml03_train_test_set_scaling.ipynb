{
  "nbformat": 4,
  "nbformat_minor": 0,
  "metadata": {
    "colab": {
      "name": "ml03_train_test_set_scaling.ipynb",
      "provenance": [],
      "collapsed_sections": [],
      "authorship_tag": "ABX9TyNF1L09PSAT3bNPV9SYc8P/",
      "include_colab_link": true
    },
    "kernelspec": {
      "name": "python3",
      "display_name": "Python 3"
    },
    "language_info": {
      "name": "python"
    }
  },
  "cells": [
    {
      "cell_type": "markdown",
      "metadata": {
        "id": "view-in-github",
        "colab_type": "text"
      },
      "source": [
        "<a href=\"https://colab.research.google.com/github/sangjin94/itwill-python/blob/main/ml03_train_test_set_scaling.ipynb\" target=\"_parent\"><img src=\"https://colab.research.google.com/assets/colab-badge.svg\" alt=\"Open In Colab\"/></a>"
      ]
    },
    {
      "cell_type": "markdown",
      "metadata": {
        "id": "sqhG_Iclx7UL"
      },
      "source": [
        "* 훈련 셋과 테스트 셋을 나누는 방법\n",
        "  * 순차적 추출 (sequential sampling)\n",
        "  * 임의 추출 (random sampling)\n",
        "  * 층화 추출 (stratified sampling)\n",
        "* 분류 모델 평가 지표\n",
        "  * 정확도(accuracy)\n",
        "  * 정밀도\n",
        "  * 재현율\n",
        "  * F1-score\n",
        "* 특성 스케일링(feature scaling)\n",
        "  * 표준화(standardization)\n",
        "  * 정규화(normalization)"
      ]
    },
    {
      "cell_type": "markdown",
      "metadata": {
        "id": "-Gtk7PYkzLbz"
      },
      "source": [
        "# 필요한 모듈 import"
      ]
    },
    {
      "cell_type": "code",
      "metadata": {
        "id": "vyCoR5NczN1m"
      },
      "source": [
        "import numpy as np # ndarray 함수, 메서드\n",
        "import pandas as pd # Series, DataFrame 함수, 메서드 \n",
        "import matplotlib.pyplot as plt # 시각화\n",
        "import seaborn as sns # 시각화\n",
        "\n",
        "# Machine Learning\n",
        "from sklearn.neighbors import KNeighborsClassifier # KNN 분류기(모델, 알고리즘)\n",
        "from sklearn.model_selection import train_test_split # 훈련/테스트 셋 분리 함수\n",
        "from sklearn.metrics import accuracy_score,precision_score,recall_score,f1_score\n",
        "from sklearn.metrics import confusion_matrix,classification_report # 모델 평가 지표\n",
        "from sklearn.preprocessing import StandardScaler,MinMaxScaler # 특성 스케일링 "
      ],
      "execution_count": 60,
      "outputs": []
    },
    {
      "cell_type": "markdown",
      "metadata": {
        "id": "JfN-lE2z2jsg"
      },
      "source": [
        "# 데이터 준비\n",
        "\n",
        "* fish.csv 파일 :  어종 , 생선 특성(무게, 길이,...)\n",
        "  * 문제를 간단히 하기 위해서, 어종 2개(Bream, Smelt)와 특성 2개 ( Weight,Length) 사용"
      ]
    },
    {
      "cell_type": "code",
      "metadata": {
        "id": "eQjsUbesxec6"
      },
      "source": [
        "fish_csv='https://github.com/rickiepark/hg-mldl/raw/master/fish.csv'"
      ],
      "execution_count": 5,
      "outputs": []
    },
    {
      "cell_type": "code",
      "metadata": {
        "id": "uHY-Vx3t3EAm"
      },
      "source": [
        "fish = pd.read_csv(fish_csv) # CSV 파일 ---> DataFrame 생성 "
      ],
      "execution_count": 6,
      "outputs": []
    },
    {
      "cell_type": "code",
      "metadata": {
        "colab": {
          "base_uri": "https://localhost:8080/",
          "height": 205
        },
        "id": "C1a8nEKn3Srm",
        "outputId": "b8b1150c-dbff-4605-9924-59d70041960b"
      },
      "source": [
        "fish.head()"
      ],
      "execution_count": 7,
      "outputs": [
        {
          "output_type": "execute_result",
          "data": {
            "text/html": [
              "<div>\n",
              "<style scoped>\n",
              "    .dataframe tbody tr th:only-of-type {\n",
              "        vertical-align: middle;\n",
              "    }\n",
              "\n",
              "    .dataframe tbody tr th {\n",
              "        vertical-align: top;\n",
              "    }\n",
              "\n",
              "    .dataframe thead th {\n",
              "        text-align: right;\n",
              "    }\n",
              "</style>\n",
              "<table border=\"1\" class=\"dataframe\">\n",
              "  <thead>\n",
              "    <tr style=\"text-align: right;\">\n",
              "      <th></th>\n",
              "      <th>Species</th>\n",
              "      <th>Weight</th>\n",
              "      <th>Length</th>\n",
              "      <th>Diagonal</th>\n",
              "      <th>Height</th>\n",
              "      <th>Width</th>\n",
              "    </tr>\n",
              "  </thead>\n",
              "  <tbody>\n",
              "    <tr>\n",
              "      <th>0</th>\n",
              "      <td>Bream</td>\n",
              "      <td>242.0</td>\n",
              "      <td>25.4</td>\n",
              "      <td>30.0</td>\n",
              "      <td>11.5200</td>\n",
              "      <td>4.0200</td>\n",
              "    </tr>\n",
              "    <tr>\n",
              "      <th>1</th>\n",
              "      <td>Bream</td>\n",
              "      <td>290.0</td>\n",
              "      <td>26.3</td>\n",
              "      <td>31.2</td>\n",
              "      <td>12.4800</td>\n",
              "      <td>4.3056</td>\n",
              "    </tr>\n",
              "    <tr>\n",
              "      <th>2</th>\n",
              "      <td>Bream</td>\n",
              "      <td>340.0</td>\n",
              "      <td>26.5</td>\n",
              "      <td>31.1</td>\n",
              "      <td>12.3778</td>\n",
              "      <td>4.6961</td>\n",
              "    </tr>\n",
              "    <tr>\n",
              "      <th>3</th>\n",
              "      <td>Bream</td>\n",
              "      <td>363.0</td>\n",
              "      <td>29.0</td>\n",
              "      <td>33.5</td>\n",
              "      <td>12.7300</td>\n",
              "      <td>4.4555</td>\n",
              "    </tr>\n",
              "    <tr>\n",
              "      <th>4</th>\n",
              "      <td>Bream</td>\n",
              "      <td>430.0</td>\n",
              "      <td>29.0</td>\n",
              "      <td>34.0</td>\n",
              "      <td>12.4440</td>\n",
              "      <td>5.1340</td>\n",
              "    </tr>\n",
              "  </tbody>\n",
              "</table>\n",
              "</div>"
            ],
            "text/plain": [
              "  Species  Weight  Length  Diagonal   Height   Width\n",
              "0   Bream   242.0    25.4      30.0  11.5200  4.0200\n",
              "1   Bream   290.0    26.3      31.2  12.4800  4.3056\n",
              "2   Bream   340.0    26.5      31.1  12.3778  4.6961\n",
              "3   Bream   363.0    29.0      33.5  12.7300  4.4555\n",
              "4   Bream   430.0    29.0      34.0  12.4440  5.1340"
            ]
          },
          "metadata": {},
          "execution_count": 7
        }
      ]
    },
    {
      "cell_type": "code",
      "metadata": {
        "colab": {
          "base_uri": "https://localhost:8080/",
          "height": 0
        },
        "id": "NXH-LZ583XXw",
        "outputId": "dfe627dc-78e8-493a-a635-9638aef2c27e"
      },
      "source": [
        "fish.info()"
      ],
      "execution_count": 8,
      "outputs": [
        {
          "output_type": "stream",
          "text": [
            "<class 'pandas.core.frame.DataFrame'>\n",
            "RangeIndex: 159 entries, 0 to 158\n",
            "Data columns (total 6 columns):\n",
            " #   Column    Non-Null Count  Dtype  \n",
            "---  ------    --------------  -----  \n",
            " 0   Species   159 non-null    object \n",
            " 1   Weight    159 non-null    float64\n",
            " 2   Length    159 non-null    float64\n",
            " 3   Diagonal  159 non-null    float64\n",
            " 4   Height    159 non-null    float64\n",
            " 5   Width     159 non-null    float64\n",
            "dtypes: float64(5), object(1)\n",
            "memory usage: 7.6+ KB\n"
          ],
          "name": "stdout"
        }
      ]
    },
    {
      "cell_type": "code",
      "metadata": {
        "colab": {
          "base_uri": "https://localhost:8080/",
          "height": 0
        },
        "id": "klfawpIr39qa",
        "outputId": "b6689b64-2be2-4c3c-8c2a-fc63750993b9"
      },
      "source": [
        "# 타겟 벡터(1차원 배열)\n",
        "# 어종이 Bream 또는 Smelt 인 Species 컬럼을 선택해서 numpy 배열로 변환\n",
        "y = fish.loc[fish.Species.isin(['Bream','Smelt']),'Species'].values\n",
        "y"
      ],
      "execution_count": 11,
      "outputs": [
        {
          "output_type": "execute_result",
          "data": {
            "text/plain": [
              "array(['Bream', 'Bream', 'Bream', 'Bream', 'Bream', 'Bream', 'Bream',\n",
              "       'Bream', 'Bream', 'Bream', 'Bream', 'Bream', 'Bream', 'Bream',\n",
              "       'Bream', 'Bream', 'Bream', 'Bream', 'Bream', 'Bream', 'Bream',\n",
              "       'Bream', 'Bream', 'Bream', 'Bream', 'Bream', 'Bream', 'Bream',\n",
              "       'Bream', 'Bream', 'Bream', 'Bream', 'Bream', 'Bream', 'Bream',\n",
              "       'Smelt', 'Smelt', 'Smelt', 'Smelt', 'Smelt', 'Smelt', 'Smelt',\n",
              "       'Smelt', 'Smelt', 'Smelt', 'Smelt', 'Smelt', 'Smelt', 'Smelt'],\n",
              "      dtype=object)"
            ]
          },
          "metadata": {},
          "execution_count": 11
        }
      ]
    },
    {
      "cell_type": "code",
      "metadata": {
        "colab": {
          "base_uri": "https://localhost:8080/",
          "height": 0
        },
        "id": "Q1S6pXoe5plo",
        "outputId": "0df7bd10-d1ba-4b00-f5fd-afc615817130"
      },
      "source": [
        "y.shape #> 원소가 49개인 1차원 배열"
      ],
      "execution_count": 12,
      "outputs": [
        {
          "output_type": "execute_result",
          "data": {
            "text/plain": [
              "(49,)"
            ]
          },
          "metadata": {},
          "execution_count": 12
        }
      ]
    },
    {
      "cell_type": "code",
      "metadata": {
        "colab": {
          "base_uri": "https://localhost:8080/",
          "height": 0
        },
        "id": "OLbCfAkO5uxE",
        "outputId": "0ec58528-882c-4860-d08d-6153d35a4f5e"
      },
      "source": [
        "# 타겟의 레이블 개수\n",
        "np.unique(y,return_counts=True)"
      ],
      "execution_count": 16,
      "outputs": [
        {
          "output_type": "execute_result",
          "data": {
            "text/plain": [
              "(array(['Bream', 'Smelt'], dtype=object), array([35, 14]))"
            ]
          },
          "metadata": {},
          "execution_count": 16
        }
      ]
    },
    {
      "cell_type": "code",
      "metadata": {
        "colab": {
          "base_uri": "https://localhost:8080/",
          "height": 0
        },
        "id": "DOtKXVdV6Q2P",
        "outputId": "1c0eef0c-5d13-41c9-84fc-024ec7f747ca"
      },
      "source": [
        "# 특성 행렬(feature matrix)\n",
        "# 어종이 Bream 또는 Smelt 인 Weight 컬럼과 Length 컬럼을 선택하고 numpy 배열로 변환\n",
        "X=fish.loc[fish.Species.isin(['Bream','Smelt']),['Weight','Length']].values\n",
        "X"
      ],
      "execution_count": 19,
      "outputs": [
        {
          "output_type": "execute_result",
          "data": {
            "text/plain": [
              "array([[ 242. ,   25.4],\n",
              "       [ 290. ,   26.3],\n",
              "       [ 340. ,   26.5],\n",
              "       [ 363. ,   29. ],\n",
              "       [ 430. ,   29. ],\n",
              "       [ 450. ,   29.7],\n",
              "       [ 500. ,   29.7],\n",
              "       [ 390. ,   30. ],\n",
              "       [ 450. ,   30. ],\n",
              "       [ 500. ,   30.7],\n",
              "       [ 475. ,   31. ],\n",
              "       [ 500. ,   31. ],\n",
              "       [ 500. ,   31.5],\n",
              "       [ 340. ,   32. ],\n",
              "       [ 600. ,   32. ],\n",
              "       [ 600. ,   32. ],\n",
              "       [ 700. ,   33. ],\n",
              "       [ 700. ,   33. ],\n",
              "       [ 610. ,   33.5],\n",
              "       [ 650. ,   33.5],\n",
              "       [ 575. ,   34. ],\n",
              "       [ 685. ,   34. ],\n",
              "       [ 620. ,   34.5],\n",
              "       [ 680. ,   35. ],\n",
              "       [ 700. ,   35. ],\n",
              "       [ 725. ,   35. ],\n",
              "       [ 720. ,   35. ],\n",
              "       [ 714. ,   36. ],\n",
              "       [ 850. ,   36. ],\n",
              "       [1000. ,   37. ],\n",
              "       [ 920. ,   38.5],\n",
              "       [ 955. ,   38.5],\n",
              "       [ 925. ,   39.5],\n",
              "       [ 975. ,   41. ],\n",
              "       [ 950. ,   41. ],\n",
              "       [   6.7,    9.8],\n",
              "       [   7.5,   10.5],\n",
              "       [   7. ,   10.6],\n",
              "       [   9.7,   11. ],\n",
              "       [   9.8,   11.2],\n",
              "       [   8.7,   11.3],\n",
              "       [  10. ,   11.8],\n",
              "       [   9.9,   11.8],\n",
              "       [   9.8,   12. ],\n",
              "       [  12.2,   12.2],\n",
              "       [  13.4,   12.4],\n",
              "       [  12.2,   13. ],\n",
              "       [  19.7,   14.3],\n",
              "       [  19.9,   15. ]])"
            ]
          },
          "metadata": {},
          "execution_count": 19
        }
      ]
    },
    {
      "cell_type": "code",
      "metadata": {
        "colab": {
          "base_uri": "https://localhost:8080/",
          "height": 0
        },
        "id": "dNyo4teN7Cu1",
        "outputId": "b35ed4ee-e2d5-441a-ac3a-98a4c6dc8688"
      },
      "source": [
        "X.shape #> (49,2) shape의 2차원 배열"
      ],
      "execution_count": 20,
      "outputs": [
        {
          "output_type": "execute_result",
          "data": {
            "text/plain": [
              "(49, 2)"
            ]
          },
          "metadata": {},
          "execution_count": 20
        }
      ]
    },
    {
      "cell_type": "markdown",
      "metadata": {
        "id": "akI0mwMdZ9mW"
      },
      "source": [
        "# 데이터와 타겟을 훈련 셋/테스트 셋으로 분리\n",
        "\n",
        "\n",
        "`X`: 특성 행렬(feature matrix), `y`= 타겟 벡터(target vector)"
      ]
    },
    {
      "cell_type": "markdown",
      "metadata": {
        "id": "aHiF1SoqBPBo"
      },
      "source": [
        "# sequential sampling"
      ]
    },
    {
      "cell_type": "code",
      "metadata": {
        "id": "So8gtagjBRuy"
      },
      "source": [
        "# 훈련 셋과 테스트 셋을 7:3 비율로 나누기 위해서 \n",
        "num_trains= 35 # 훈련 셋 개수"
      ],
      "execution_count": 26,
      "outputs": []
    },
    {
      "cell_type": "code",
      "metadata": {
        "id": "uWmhRpYm_-yq"
      },
      "source": [
        "X_train=X[:num_trains] # 훈련 셋\n",
        "X_test=X[num_trains:] # 테스트셋\n",
        "y_train=y[:num_trains] # 훈련 레이블\n",
        "y_test=y[num_trains:] # 테스트 레이블"
      ],
      "execution_count": 27,
      "outputs": []
    },
    {
      "cell_type": "code",
      "metadata": {
        "colab": {
          "base_uri": "https://localhost:8080/",
          "height": 0
        },
        "id": "O0fNxBdBCcKj",
        "outputId": "b1fedf8b-ee72-4d68-bbc3-15553e6b2645"
      },
      "source": [
        "X_train.shape, X_test.shape"
      ],
      "execution_count": 28,
      "outputs": [
        {
          "output_type": "execute_result",
          "data": {
            "text/plain": [
              "((35, 2), (14, 2))"
            ]
          },
          "metadata": {},
          "execution_count": 28
        }
      ]
    },
    {
      "cell_type": "code",
      "metadata": {
        "colab": {
          "base_uri": "https://localhost:8080/",
          "height": 0
        },
        "id": "UaH2wIE8CmO0",
        "outputId": "a52a3594-99b3-45aa-e28a-4878822b1c32"
      },
      "source": [
        "y_train.shape,y_test.shape"
      ],
      "execution_count": 29,
      "outputs": [
        {
          "output_type": "execute_result",
          "data": {
            "text/plain": [
              "((35,), (14,))"
            ]
          },
          "metadata": {},
          "execution_count": 29
        }
      ]
    },
    {
      "cell_type": "markdown",
      "metadata": {
        "id": "euu-hlafC1AK"
      },
      "source": [
        "데이터가 무작위로 섞여있지 않고 어종에 대해서 정렬된 상태였기 때문에, 훈련셋/레이블에는 도미(Bream)만 선택되고, 테스트 셋/레이블에는 빙어(Smelt)만 선택됨. - **샘플링 편향**"
      ]
    },
    {
      "cell_type": "code",
      "metadata": {
        "colab": {
          "base_uri": "https://localhost:8080/",
          "height": 0
        },
        "id": "-QHklYYaDLot",
        "outputId": "b1770adf-6248-4865-f2fb-ccb6a2b5f69d"
      },
      "source": [
        "np.unique(y_train,return_counts=True)"
      ],
      "execution_count": 30,
      "outputs": [
        {
          "output_type": "execute_result",
          "data": {
            "text/plain": [
              "(array(['Bream'], dtype=object), array([35]))"
            ]
          },
          "metadata": {},
          "execution_count": 30
        }
      ]
    },
    {
      "cell_type": "code",
      "metadata": {
        "colab": {
          "base_uri": "https://localhost:8080/",
          "height": 0
        },
        "id": "dJKJfxNJDP8s",
        "outputId": "16802b7d-3ad3-4e55-eb30-6cd13509fc8b"
      },
      "source": [
        "np.unique(y_test,return_counts=True)"
      ],
      "execution_count": 31,
      "outputs": [
        {
          "output_type": "execute_result",
          "data": {
            "text/plain": [
              "(array(['Smelt'], dtype=object), array([14]))"
            ]
          },
          "metadata": {},
          "execution_count": 31
        }
      ]
    },
    {
      "cell_type": "markdown",
      "metadata": {
        "id": "D1kZMVMoD-cP"
      },
      "source": [
        "# KNN 모델 훈련, 평가"
      ]
    },
    {
      "cell_type": "code",
      "metadata": {
        "id": "vEyNzzgCD_1r"
      },
      "source": [
        "knn_clf= KNeighborsClassifier()# KNN 모델 생성"
      ],
      "execution_count": 32,
      "outputs": []
    },
    {
      "cell_type": "code",
      "metadata": {
        "colab": {
          "base_uri": "https://localhost:8080/",
          "height": 0
        },
        "id": "P8sWy1MTESZJ",
        "outputId": "cb022a02-3919-4e86-f4d4-980ff3d5f776"
      },
      "source": [
        "knn_clf.fit(X=X_train,y=y_train) # 모델 훈련, fitting"
      ],
      "execution_count": 33,
      "outputs": [
        {
          "output_type": "execute_result",
          "data": {
            "text/plain": [
              "KNeighborsClassifier(algorithm='auto', leaf_size=30, metric='minkowski',\n",
              "                     metric_params=None, n_jobs=None, n_neighbors=5, p=2,\n",
              "                     weights='uniform')"
            ]
          },
          "metadata": {},
          "execution_count": 33
        }
      ]
    },
    {
      "cell_type": "code",
      "metadata": {
        "colab": {
          "base_uri": "https://localhost:8080/",
          "height": 0
        },
        "id": "z6repyMlEZHz",
        "outputId": "9a6afefb-1036-4daa-e60d-31a9b048f947"
      },
      "source": [
        "# 훈련 셋 예측 결과\n",
        "train_pred=knn_clf.predict(X=X_train)\n",
        "train_pred"
      ],
      "execution_count": 34,
      "outputs": [
        {
          "output_type": "execute_result",
          "data": {
            "text/plain": [
              "array(['Bream', 'Bream', 'Bream', 'Bream', 'Bream', 'Bream', 'Bream',\n",
              "       'Bream', 'Bream', 'Bream', 'Bream', 'Bream', 'Bream', 'Bream',\n",
              "       'Bream', 'Bream', 'Bream', 'Bream', 'Bream', 'Bream', 'Bream',\n",
              "       'Bream', 'Bream', 'Bream', 'Bream', 'Bream', 'Bream', 'Bream',\n",
              "       'Bream', 'Bream', 'Bream', 'Bream', 'Bream', 'Bream', 'Bream'],\n",
              "      dtype=object)"
            ]
          },
          "metadata": {},
          "execution_count": 34
        }
      ]
    },
    {
      "cell_type": "code",
      "metadata": {
        "colab": {
          "base_uri": "https://localhost:8080/",
          "height": 0
        },
        "id": "R9mX1ndhEjGb",
        "outputId": "97d1753d-b6f0-4801-a175-12cf7fdd53e1"
      },
      "source": [
        "train_acc=np.mean(y_train==train_pred) # 훈련 셋에서의 정확도\n",
        "train_acc"
      ],
      "execution_count": 35,
      "outputs": [
        {
          "output_type": "execute_result",
          "data": {
            "text/plain": [
              "1.0"
            ]
          },
          "metadata": {},
          "execution_count": 35
        }
      ]
    },
    {
      "cell_type": "code",
      "metadata": {
        "colab": {
          "base_uri": "https://localhost:8080/",
          "height": 0
        },
        "id": "a5r5KoAMFZNy",
        "outputId": "185f2201-369c-478a-9e68-9317761f6cf1"
      },
      "source": [
        "# 훈련 셋 예측 결과\n",
        "test_pred=knn_clf.predict(X=X_test)\n",
        "test_pred"
      ],
      "execution_count": 36,
      "outputs": [
        {
          "output_type": "execute_result",
          "data": {
            "text/plain": [
              "array(['Bream', 'Bream', 'Bream', 'Bream', 'Bream', 'Bream', 'Bream',\n",
              "       'Bream', 'Bream', 'Bream', 'Bream', 'Bream', 'Bream', 'Bream'],\n",
              "      dtype=object)"
            ]
          },
          "metadata": {},
          "execution_count": 36
        }
      ]
    },
    {
      "cell_type": "code",
      "metadata": {
        "colab": {
          "base_uri": "https://localhost:8080/",
          "height": 0
        },
        "id": "DppA1HaLFdT2",
        "outputId": "e6728e58-599b-479e-9e91-e12b46d2ce2d"
      },
      "source": [
        "test_acc=np.mean(y_test==test_pred) # 훈련 셋에서의 정확도\n",
        "test_acc"
      ],
      "execution_count": 37,
      "outputs": [
        {
          "output_type": "execute_result",
          "data": {
            "text/plain": [
              "0.0"
            ]
          },
          "metadata": {},
          "execution_count": 37
        }
      ]
    },
    {
      "cell_type": "markdown",
      "metadata": {
        "id": "UKuUoNMfFo6I"
      },
      "source": [
        "`sklearn.model_selection_train_test_split` 함수를 사용한 훈련/테스트 셋 분리 sequential sampling"
      ]
    },
    {
      "cell_type": "code",
      "metadata": {
        "id": "qFqQGXvjGgiu"
      },
      "source": [
        "X_train,X_test,y_train,y_test=train_test_split(X,y,    # 특성 행렬, 타겟 벡터\n",
        "                                               train_size=35, # 훈련 셋 원소 개수\n",
        "                                               shuffle=False) # 데이터를 랜덤하게 섞을 지 말 지 결정"
      ],
      "execution_count": 38,
      "outputs": []
    },
    {
      "cell_type": "code",
      "metadata": {
        "colab": {
          "base_uri": "https://localhost:8080/",
          "height": 0
        },
        "id": "UzlSMFGiH9X7",
        "outputId": "2010782b-bd68-49d1-f53e-3e67ffddfbdb"
      },
      "source": [
        "X_train.shape,X_test.shape"
      ],
      "execution_count": 40,
      "outputs": [
        {
          "output_type": "execute_result",
          "data": {
            "text/plain": [
              "((35, 2), (14, 2))"
            ]
          },
          "metadata": {},
          "execution_count": 40
        }
      ]
    },
    {
      "cell_type": "code",
      "metadata": {
        "colab": {
          "base_uri": "https://localhost:8080/",
          "height": 0
        },
        "id": "d-xU98xpIGLK",
        "outputId": "9ae2a05a-d79e-4f4d-e5c4-aa7486ea501f"
      },
      "source": [
        "y_train.shape,y_test.shape"
      ],
      "execution_count": 41,
      "outputs": [
        {
          "output_type": "execute_result",
          "data": {
            "text/plain": [
              "((35,), (14,))"
            ]
          },
          "metadata": {},
          "execution_count": 41
        }
      ]
    },
    {
      "cell_type": "code",
      "metadata": {
        "colab": {
          "base_uri": "https://localhost:8080/",
          "height": 0
        },
        "id": "fGBqN0GeMaDb",
        "outputId": "64c642b3-579b-44ec-9a3b-9f6c76b3efa4"
      },
      "source": [
        "y_test"
      ],
      "execution_count": 42,
      "outputs": [
        {
          "output_type": "execute_result",
          "data": {
            "text/plain": [
              "array(['Smelt', 'Smelt', 'Smelt', 'Smelt', 'Smelt', 'Smelt', 'Smelt',\n",
              "       'Smelt', 'Smelt', 'Smelt', 'Smelt', 'Smelt', 'Smelt', 'Smelt'],\n",
              "      dtype=object)"
            ]
          },
          "metadata": {},
          "execution_count": 42
        }
      ]
    },
    {
      "cell_type": "markdown",
      "metadata": {
        "id": "gtXLpSHAMVQ9"
      },
      "source": [
        "# Random Sampling(임의 추출)"
      ]
    },
    {
      "cell_type": "code",
      "metadata": {
        "colab": {
          "base_uri": "https://localhost:8080/",
          "height": 0
        },
        "id": "hlJQ4d86M1tR",
        "outputId": "b684fa69-6f0d-48aa-fd12-69f01b8b6ee2"
      },
      "source": [
        "idx=np.arange(49)\n",
        "print(idx)\n",
        "np.random.shuffle(idx)\n",
        "print(idx)"
      ],
      "execution_count": 43,
      "outputs": [
        {
          "output_type": "stream",
          "text": [
            "[ 0  1  2  3  4  5  6  7  8  9 10 11 12 13 14 15 16 17 18 19 20 21 22 23\n",
            " 24 25 26 27 28 29 30 31 32 33 34 35 36 37 38 39 40 41 42 43 44 45 46 47\n",
            " 48]\n",
            "[45 11 21 38 39  2 25  6 33 31 37 28  7 27  9 30 24 42 48 16 22 44 35 26\n",
            " 46 41 36 34 47 14 10  4  5 13 17  0 43 29  3 18 20 12 32 15 40  1 23  8\n",
            " 19]\n"
          ],
          "name": "stdout"
        }
      ]
    },
    {
      "cell_type": "code",
      "metadata": {
        "id": "uQI86BQGOFpu"
      },
      "source": [
        "X_train,X_test,y_train,y_test=train_test_split(X,y,train_size=35, # 훈련 셋 크기\n",
        "                                               shuffle=True, # 무작위로 섞음. True는 생략가능(default)\n",
        "                                               random_state=42) # 난수 Seed 설정"
      ],
      "execution_count": 44,
      "outputs": []
    },
    {
      "cell_type": "code",
      "metadata": {
        "colab": {
          "base_uri": "https://localhost:8080/",
          "height": 0
        },
        "id": "1RXohPnyPLf3",
        "outputId": "172f52c6-77e3-4bb7-cd58-89ccdad574e0"
      },
      "source": [
        "# train/test의 모양(shape) 확인\n",
        "X_train.shape,X_test.shape"
      ],
      "execution_count": 45,
      "outputs": [
        {
          "output_type": "execute_result",
          "data": {
            "text/plain": [
              "((35, 2), (14, 2))"
            ]
          },
          "metadata": {},
          "execution_count": 45
        }
      ]
    },
    {
      "cell_type": "code",
      "metadata": {
        "colab": {
          "base_uri": "https://localhost:8080/",
          "height": 0
        },
        "id": "VSmqknCZPSuu",
        "outputId": "e7c77ac8-806d-47e2-b634-91c80dca2d5c"
      },
      "source": [
        "y_train.shape,y_test.shape"
      ],
      "execution_count": 46,
      "outputs": [
        {
          "output_type": "execute_result",
          "data": {
            "text/plain": [
              "((35,), (14,))"
            ]
          },
          "metadata": {},
          "execution_count": 46
        }
      ]
    },
    {
      "cell_type": "code",
      "metadata": {
        "colab": {
          "base_uri": "https://localhost:8080/",
          "height": 279
        },
        "id": "KqL-EejlQijs",
        "outputId": "e839be04-76ff-4195-f317-f18b2fdb0cb0"
      },
      "source": [
        "# x_train,x_test 시각화(Weight~Length)\n",
        "plt.scatter(X_train[:,1],X_train[:,0],label='Train')\n",
        "plt.scatter(X_test[:,1],X_test[:,0],label='Test')\n",
        "plt.legend()\n",
        "plt.xlabel('Length(cm)')\n",
        "plt.ylabel('Weight(g)')\n",
        "plt.show()"
      ],
      "execution_count": 47,
      "outputs": [
        {
          "output_type": "display_data",
          "data": {
            "image/png": "[encoded data removed]",
            "text/plain": [
              "<Figure size 432x288 with 1 Axes>"
            ]
          },
          "metadata": {
            "needs_background": "light"
          }
        }
      ]
    },
    {
      "cell_type": "markdown",
      "metadata": {
        "id": "0vMugICORSo_"
      },
      "source": [
        "# 모델 훈련, 평가"
      ]
    },
    {
      "cell_type": "code",
      "metadata": {
        "id": "D-YrU-Z6RU-R"
      },
      "source": [
        "knn_clf=KNeighborsClassifier() # KNN모델 생성"
      ],
      "execution_count": 49,
      "outputs": []
    },
    {
      "cell_type": "code",
      "metadata": {
        "colab": {
          "base_uri": "https://localhost:8080/",
          "height": 0
        },
        "id": "xIVj4hSkRY6f",
        "outputId": "d77b77dc-c9c0-4bd4-e724-321aaea4d6fb"
      },
      "source": [
        "knn_clf.fit(X=X_train,y=y_train) # 모델을 훈련 셋(특성과 레이블)에 fitting"
      ],
      "execution_count": 51,
      "outputs": [
        {
          "output_type": "execute_result",
          "data": {
            "text/plain": [
              "KNeighborsClassifier(algorithm='auto', leaf_size=30, metric='minkowski',\n",
              "                     metric_params=None, n_jobs=None, n_neighbors=5, p=2,\n",
              "                     weights='uniform')"
            ]
          },
          "metadata": {},
          "execution_count": 51
        }
      ]
    },
    {
      "cell_type": "code",
      "metadata": {
        "colab": {
          "base_uri": "https://localhost:8080/",
          "height": 0
        },
        "id": "W8N3vrxmRol_",
        "outputId": "5003e2eb-e2b3-4bf0-ff98-f4a63949d353"
      },
      "source": [
        "# 훈련 셋에서의 평가\n",
        "train_pred=knn_clf.predict(X=X_train) # 훈련 셋 예측값\n",
        "train_acc=np.mean(y_train==train_pred) # 훈련 셋 정확도\n",
        "train_acc"
      ],
      "execution_count": 53,
      "outputs": [
        {
          "output_type": "execute_result",
          "data": {
            "text/plain": [
              "1.0"
            ]
          },
          "metadata": {},
          "execution_count": 53
        }
      ]
    },
    {
      "cell_type": "code",
      "metadata": {
        "colab": {
          "base_uri": "https://localhost:8080/",
          "height": 0
        },
        "id": "l4WrmwSLSHtB",
        "outputId": "09354f93-95f2-4b32-eba2-3293ee30bf5b"
      },
      "source": [
        "confusion_matrix(y_true=y_train,y_pred=train_pred) # 훈련 셋 오차(혼동) 행렬"
      ],
      "execution_count": 55,
      "outputs": [
        {
          "output_type": "execute_result",
          "data": {
            "text/plain": [
              "array([[24,  0],\n",
              "       [ 0, 11]])"
            ]
          },
          "metadata": {},
          "execution_count": 55
        }
      ]
    },
    {
      "cell_type": "code",
      "metadata": {
        "colab": {
          "base_uri": "https://localhost:8080/",
          "height": 0
        },
        "id": "Wv8I4x02SpEn",
        "outputId": "4425313e-0fdc-48c7-dc14-6cee7329c995"
      },
      "source": [
        "# 테스트 셋에서의 평가\n",
        "test_pred=knn_clf.predict(X=X_test) # 테스트 셋 예측값\n",
        "test_acc=np.mean(y_test==test_pred)  # 테스트 셋 정확도\n",
        "test_acc"
      ],
      "execution_count": 56,
      "outputs": [
        {
          "output_type": "execute_result",
          "data": {
            "text/plain": [
              "1.0"
            ]
          },
          "metadata": {},
          "execution_count": 56
        }
      ]
    },
    {
      "cell_type": "code",
      "metadata": {
        "colab": {
          "base_uri": "https://localhost:8080/",
          "height": 0
        },
        "id": "bhB16QJcVA7g",
        "outputId": "afea09dc-a15c-4afa-8762-dc3fb9cae402"
      },
      "source": [
        "confusion_matrix(y_test,test_pred)"
      ],
      "execution_count": 57,
      "outputs": [
        {
          "output_type": "execute_result",
          "data": {
            "text/plain": [
              "array([[11,  0],\n",
              "       [ 0,  3]])"
            ]
          },
          "metadata": {},
          "execution_count": 57
        }
      ]
    },
    {
      "cell_type": "code",
      "metadata": {
        "colab": {
          "base_uri": "https://localhost:8080/",
          "height": 0
        },
        "id": "Qp9D3Ar8n_TU",
        "outputId": "a60dea47-025f-480d-97fd-1e81c3fd07a7"
      },
      "source": [
        "report=classification_report(y_test,test_pred)\n",
        "print(report)"
      ],
      "execution_count": 58,
      "outputs": [
        {
          "output_type": "stream",
          "text": [
            "              precision    recall  f1-score   support\n",
            "\n",
            "       Bream       1.00      1.00      1.00        11\n",
            "       Smelt       1.00      1.00      1.00         3\n",
            "\n",
            "    accuracy                           1.00        14\n",
            "   macro avg       1.00      1.00      1.00        14\n",
            "weighted avg       1.00      1.00      1.00        14\n",
            "\n"
          ],
          "name": "stdout"
        }
      ]
    },
    {
      "cell_type": "markdown",
      "metadata": {
        "id": "eLf72jHapbXQ"
      },
      "source": [
        "**분류 평가 지표(classification metrics)**\n",
        "\n",
        "* 용어 정리\n",
        "  * TN(True Negative, 진짜 음성): 실제 음성(negative)인 것을 음성으로 맞게 예측\n",
        "  * FP(False Positive, 가짜 양성): 실제 음성(negative)인 것을 양성(positive)으로 틀리게 예측.\n",
        "  * FN(False Negative, 가짜 음성): 실제 양성(positive)인 것을 음성(negative)으로 틀리게 예측\n",
        "  * TP(True Positive, 진짜 양성): 실제 양성(positive)인 것을 양성으로 맞게 예측.\n",
        "\n",
        "* 정확도(accuracy): 샘플들을 정확하게 분류한 비율. 전체 샘플들 중 정답의 비율.\n",
        "> accuracy = (TN+TP) / (TN + TP + FN + FP)\n",
        "* 정밀도(precision): 양성 예측들 중 정답 비율. 양성으로 예측한 샘플들 중에서 정확하게 예측한 비율.\n",
        "> precision = TP / (FP + TP) \n",
        "* 재현율(recall): 실제 양성 샘플들 중 정답 비율. 실제로 양성인 샘플들 중에서 정확하게 예측한 비율.\n",
        "> recall= TP / (FN + TP)\n",
        "* F1-score: 정밀도와 재현율의 조화 평균(역수들의 평균의 역수)\n",
        "> f1= 2/(1/precission +1/recall) "
      ]
    },
    {
      "cell_type": "markdown",
      "metadata": {
        "id": "XrbtkbSPuxdd"
      },
      "source": [
        "# Stratified Sampling (층화 추출)\n",
        "\n",
        "데이터 셋에서 각 클래스의 비율이 훈련 셋과 테스트 셋에서 같게 유지가 되도록 샘플링하는 방법. "
      ]
    },
    {
      "cell_type": "code",
      "metadata": {
        "id": "kdraQhu4uSIN"
      },
      "source": [
        "# 훈련 특성, 테스트 특성, 훈련 타겟, 테스트 타겟\n",
        "X_train,X_test,y_train,y_test=train_test_split(X,y,\n",
        "                                               test_size=0.3, \n",
        "                                               stratify=y, # 전체데이터의 레이블 데이터셋\n",
        "                                               random_state=42)\n",
        "# test_size: 정수이면 , 테스트 셋의 크기(샘플 개수).\n",
        "#   0~1 사이의 실수이면, 전체 샘플 중 테스트 셋의 비율.\n",
        "# train_size: 정수이면 , 훈련 셋의 크기(샘플 개수).\n",
        "#   0~1 사이의 실수이면, 전체 샘플 중 훈련 셋의 비율.\n",
        "#> train_test_split() 함수를 호출할 때는 test_size 또는 train_size중 하나만 설정 하면 나머지는 자동으로 계산.\n",
        "# stratify: 층화 추출의 기준이 되는( 각 클래스의 비율을 알 수 있는) 1d array."
      ],
      "execution_count": 72,
      "outputs": []
    },
    {
      "cell_type": "markdown",
      "metadata": {
        "id": "FnK4hmpdwON9"
      },
      "source": [
        "훈련 셋과 테스트 셋의 shape 확인 "
      ]
    },
    {
      "cell_type": "code",
      "metadata": {
        "colab": {
          "base_uri": "https://localhost:8080/",
          "height": 0
        },
        "id": "j-u_561tv8Rn",
        "outputId": "a1ecce99-4813-417f-b4dc-b268ac5843ef"
      },
      "source": [
        "X_train.shape, X_test.shape"
      ],
      "execution_count": 64,
      "outputs": [
        {
          "output_type": "execute_result",
          "data": {
            "text/plain": [
              "((34, 2), (15, 2))"
            ]
          },
          "metadata": {},
          "execution_count": 64
        }
      ]
    },
    {
      "cell_type": "code",
      "metadata": {
        "colab": {
          "base_uri": "https://localhost:8080/",
          "height": 0
        },
        "id": "5ZtG7OUKwEUe",
        "outputId": "ac1856f2-7e24-4539-91a4-eb7ecf3b4165"
      },
      "source": [
        "y_train.shape,y_test.shape"
      ],
      "execution_count": 65,
      "outputs": [
        {
          "output_type": "execute_result",
          "data": {
            "text/plain": [
              "((34,), (15,))"
            ]
          },
          "metadata": {},
          "execution_count": 65
        }
      ]
    },
    {
      "cell_type": "markdown",
      "metadata": {
        "id": "817PXTUswRSQ"
      },
      "source": [
        "훈련 레이블과 테스트 레이블에서 도미(bream)과 빙어(smelt)의 비율 확인"
      ]
    },
    {
      "cell_type": "code",
      "metadata": {
        "colab": {
          "base_uri": "https://localhost:8080/",
          "height": 0
        },
        "id": "O83WvYZbwXBs",
        "outputId": "3f5c66b0-46f2-4f40-a703-fb78ffc69e13"
      },
      "source": [
        "np.unique(y_train,return_counts=True)"
      ],
      "execution_count": 66,
      "outputs": [
        {
          "output_type": "execute_result",
          "data": {
            "text/plain": [
              "(array(['Bream', 'Smelt'], dtype=object), array([24, 10]))"
            ]
          },
          "metadata": {},
          "execution_count": 66
        }
      ]
    },
    {
      "cell_type": "code",
      "metadata": {
        "colab": {
          "base_uri": "https://localhost:8080/",
          "height": 0
        },
        "id": "H6buhRI5wltM",
        "outputId": "8dbbb7ae-d9ab-4d86-8d81-827435b6636b"
      },
      "source": [
        "24/34, 10/34   # 훈련 레이블에서  도미(bream), 빙어(smelt) 비율"
      ],
      "execution_count": 68,
      "outputs": [
        {
          "output_type": "execute_result",
          "data": {
            "text/plain": [
              "(0.7058823529411765, 0.29411764705882354)"
            ]
          },
          "metadata": {},
          "execution_count": 68
        }
      ]
    },
    {
      "cell_type": "code",
      "metadata": {
        "colab": {
          "base_uri": "https://localhost:8080/",
          "height": 0
        },
        "id": "nI0LNOezwdJX",
        "outputId": "906e2992-0178-47d7-8a78-a94e68089e2e"
      },
      "source": [
        "np.unique(y_test,return_counts=True)"
      ],
      "execution_count": 67,
      "outputs": [
        {
          "output_type": "execute_result",
          "data": {
            "text/plain": [
              "(array(['Bream', 'Smelt'], dtype=object), array([11,  4]))"
            ]
          },
          "metadata": {},
          "execution_count": 67
        }
      ]
    },
    {
      "cell_type": "code",
      "metadata": {
        "colab": {
          "base_uri": "https://localhost:8080/",
          "height": 0
        },
        "id": "oyLijlBowonh",
        "outputId": "b740b7fa-9b48-420b-854e-7c81b9f83fec"
      },
      "source": [
        "11/15,4/15  # 테스트 레이블에서  도미(bream), 빙어(smelt) 비율"
      ],
      "execution_count": 69,
      "outputs": [
        {
          "output_type": "execute_result",
          "data": {
            "text/plain": [
              "(0.7333333333333333, 0.26666666666666666)"
            ]
          },
          "metadata": {},
          "execution_count": 69
        }
      ]
    },
    {
      "cell_type": "markdown",
      "metadata": {
        "id": "refzHqYc6JPZ"
      },
      "source": [
        "# 모델 훈련 평"
      ]
    },
    {
      "cell_type": "code",
      "metadata": {
        "id": "ozQ2Xk0u6KWB"
      },
      "source": [
        "knn_clf=KNeighborsClassifier() # 모델 생성"
      ],
      "execution_count": 73,
      "outputs": []
    },
    {
      "cell_type": "code",
      "metadata": {
        "colab": {
          "base_uri": "https://localhost:8080/",
          "height": 0
        },
        "id": "HDjyuFGt6Nrz",
        "outputId": "56f1e7f9-ba40-4c0a-a4a2-c1aad6ecef48"
      },
      "source": [
        "knn_clf.fit(X_train,y=y_train) # 모델 훈련"
      ],
      "execution_count": 74,
      "outputs": [
        {
          "output_type": "execute_result",
          "data": {
            "text/plain": [
              "KNeighborsClassifier(algorithm='auto', leaf_size=30, metric='minkowski',\n",
              "                     metric_params=None, n_jobs=None, n_neighbors=5, p=2,\n",
              "                     weights='uniform')"
            ]
          },
          "metadata": {},
          "execution_count": 74
        }
      ]
    },
    {
      "cell_type": "code",
      "metadata": {
        "colab": {
          "base_uri": "https://localhost:8080/",
          "height": 0
        },
        "id": "6xtkHObE6eyb",
        "outputId": "0b1e1f2d-7087-4679-ff43-99bd53167ea0"
      },
      "source": [
        "# 훈련 셋에서 평가\n",
        "\n",
        "train_pred=knn_clf.predict(X_train) # 훈련셋 예측값\n",
        "accuracy_score(y_true=y_train,y_pred=train_pred) # 훈련 셋 정확도"
      ],
      "execution_count": 76,
      "outputs": [
        {
          "output_type": "execute_result",
          "data": {
            "text/plain": [
              "1.0"
            ]
          },
          "metadata": {},
          "execution_count": 76
        }
      ]
    },
    {
      "cell_type": "code",
      "metadata": {
        "colab": {
          "base_uri": "https://localhost:8080/",
          "height": 0
        },
        "id": "PPeKfeE37Zg6",
        "outputId": "1e453b6c-1182-4144-ae8f-78e8dfb326e7"
      },
      "source": [
        "# 테스트 셋에서 평가\n",
        "test_pred=knn_clf.predict(X_test) # 테스트 셋 예측값\n",
        "accuracy_score(y_true=y_test,y_pred=test_pred)# 테스트셋 정확도"
      ],
      "execution_count": 77,
      "outputs": [
        {
          "output_type": "execute_result",
          "data": {
            "text/plain": [
              "1.0"
            ]
          },
          "metadata": {},
          "execution_count": 77
        }
      ]
    },
    {
      "cell_type": "code",
      "metadata": {
        "colab": {
          "base_uri": "https://localhost:8080/",
          "height": 0
        },
        "id": "NDXkqYC18vUQ",
        "outputId": "0cc9e2b6-9f97-4ffd-dafd-1c2f51987edd"
      },
      "source": [
        "confusion_matrix(y_test,test_pred) # 테스트 셋 오차(혼동) 행렬"
      ],
      "execution_count": 79,
      "outputs": [
        {
          "output_type": "execute_result",
          "data": {
            "text/plain": [
              "array([[11,  0],\n",
              "       [ 0,  4]])"
            ]
          },
          "metadata": {},
          "execution_count": 79
        }
      ]
    },
    {
      "cell_type": "markdown",
      "metadata": {
        "id": "mtYxqMFE9Hpo"
      },
      "source": [
        "# 특성 스케일링(feature scaling) "
      ]
    },
    {
      "cell_type": "markdown",
      "metadata": {
        "id": "xnUEeC_39P4K"
      },
      "source": [
        "## 특성 스케일링의 필요성"
      ]
    },
    {
      "cell_type": "code",
      "metadata": {
        "colab": {
          "base_uri": "https://localhost:8080/",
          "height": 279
        },
        "id": "od0VhmRs9Ana",
        "outputId": "2e6950b0-7ed8-40ba-dbe1-0cf479304f0c"
      },
      "source": [
        "# 훈련 셋(x축: Length, y축: Weight) 시각화\n",
        "plt.scatter(X_train[:,1],X_train[:,0],label='Train')\n",
        "\n",
        "# 가상의 테스트 데이터(25cm, 150g 생선) 시각화\n",
        "plt.scatter(25,150,label='Unknown',marker='v',color='red')\n",
        "\n",
        "plt.xlabel('Length(cm)')\n",
        "plt.ylabel('Weight(g)')\n",
        "plt.show()"
      ],
      "execution_count": 120,
      "outputs": [
        {
          "output_type": "display_data",
          "data": {
            "image/png": "[encoded data removed]",
            "text/plain": [
              "<Figure size 432x288 with 1 Axes>"
            ]
          },
          "metadata": {
            "needs_background": "light"
          }
        }
      ]
    },
    {
      "cell_type": "code",
      "metadata": {
        "colab": {
          "base_uri": "https://localhost:8080/",
          "height": 0
        },
        "id": "7QZ0gdRG-5nj",
        "outputId": "66996f2f-5f08-42cf-beeb-4b218744a7ce"
      },
      "source": [
        "# 가상의 데이터를 만들고, 위에서 훈련된 knn_clf로 예측값을 찾아보세요. \n",
        "test_fish=[[150,25]] # 150g, 25cm 가상의 생선 ---> (1,2) shpqe을 갖는 2d array\n",
        "knn_clf.predict(test_fish)"
      ],
      "execution_count": 83,
      "outputs": [
        {
          "output_type": "execute_result",
          "data": {
            "text/plain": [
              "array(['Smelt'], dtype=object)"
            ]
          },
          "metadata": {},
          "execution_count": 83
        }
      ]
    },
    {
      "cell_type": "code",
      "metadata": {
        "colab": {
          "base_uri": "https://localhost:8080/"
        },
        "id": "0zRlHTZlFIiY",
        "outputId": "7beacd01-c87c-4d06-bca2-9b1b87d088bd"
      },
      "source": [
        "# 가상의 테스트 데이터의 5개의 가장 가까운 이웃들(nearest neighbors)의 배열\n",
        "distances,neigh_indices=knn_clf.kneighbors(X=test_fish)\n",
        "print(distances) #> (1,5) shape의 2d array\n",
        "print(neigh_indices) # (1,5) shape의 2d array"
      ],
      "execution_count": 84,
      "outputs": [
        {
          "output_type": "stream",
          "text": [
            "[[ 92.00086956 130.73859415 137.17988191 138.39320793 140.00603558]]\n",
            "[[ 2  5 26 32 11]]\n"
          ],
          "name": "stdout"
        }
      ]
    },
    {
      "cell_type": "code",
      "metadata": {
        "colab": {
          "base_uri": "https://localhost:8080/"
        },
        "id": "Wairw1irHQfh",
        "outputId": "87842fdf-b1e9-4ff7-d948-501f3ff436ef"
      },
      "source": [
        "# 5개의 가장 가까운 이웃들\n",
        "near_neigh=X_train[neigh_indices[0]]\n",
        "near_neigh"
      ],
      "execution_count": 85,
      "outputs": [
        {
          "output_type": "execute_result",
          "data": {
            "text/plain": [
              "array([[242. ,  25.4],\n",
              "       [ 19.7,  14.3],\n",
              "       [ 13.4,  12.4],\n",
              "       [ 12.2,  12.2],\n",
              "       [290. ,  26.3]])"
            ]
          },
          "metadata": {},
          "execution_count": 85
        }
      ]
    },
    {
      "cell_type": "code",
      "metadata": {
        "colab": {
          "base_uri": "https://localhost:8080/",
          "height": 279
        },
        "id": "HZuxyrM8JQAZ",
        "outputId": "312cb636-0769-4912-dcad-ed812c02fbee"
      },
      "source": [
        "# 훈련 셋(x축: Length, y축: Weight) 시각화\n",
        "plt.scatter(X_train[:,1],X_train[:,0],label='Train',alpha=0.3)\n",
        "\n",
        "# 가상의 테스트 데이터(25cm, 150g 생선) 시각화\n",
        "plt.scatter(25,150,label='Unknown',marker='v',color='red')\n",
        "\n",
        "# 가상의 생선에서 가장 가까운 이웃(훈련 셋)들을 시각화\n",
        "plt.scatter(near_neigh[:,1],near_neigh[:,0], label='Nearest Neighbors',marker='D',color='green')\n",
        "\n",
        "plt.xlabel('Length(cm)')\n",
        "plt.ylabel('Weight(g)')\n",
        "plt.legend()\n",
        "plt.show()"
      ],
      "execution_count": 96,
      "outputs": [
        {
          "output_type": "display_data",
          "data": {
            "image/png": "[encoded data removed]",
            "text/plain": [
              "<Figure size 432x288 with 1 Axes>"
            ]
          },
          "metadata": {
            "needs_background": "light"
          }
        }
      ]
    },
    {
      "cell_type": "markdown",
      "metadata": {
        "id": "iKoQGpbMKb_R"
      },
      "source": [
        "* 생선의 두 특성(길이,무게)는 서로 단위(cm,g)가 다르기 때문에, 값의 범위도 매우 다름. \n",
        "  * 길이 범위: 0 ~ 50cm, 무게 범위: 0 ~ 1000 g\n",
        "  * 특성(변수)들의 스케일이 다름!\n",
        "  * 가장 가까운 이웃을 찾기 위해서 거리를 계산할 때, 생선의 길이가 거리에 미치는 영향은 생선의 무게가 거리에 미치는 영향에 비해 작음. \n",
        "  * 예측을 할 때 거리 계산에 영향이 적은 변수(특성)는 무시되기 쉬움.\n",
        "  * 예측 결과가 부정확해 질 수 있음.\n",
        "* KNN과 같이 거리 기반의 머신 러닝 알고리즘에서는. 모델을 훈련하기 전에 모든 특성(변수)들을 비슷한 스케일이 되도록 전처리(preprocessing)를 할 필요가 있음!\n",
        "  * **표준화(standardization)**: *훈련 셋*의 평균과 표준편차를 사용해서, 평균이 0이 되고 표준편차가 1이 되도록 스케일을 변환하는 것. \n",
        "  * **정규화(normalization)**: *훈련 셋*의 최솟값과 최댓값을 사용해서, 최솟값은 0이 되고 최댓값은 1이 되도록 스케일을 변환하는 것."
      ]
    },
    {
      "cell_type": "markdown",
      "metadata": {
        "id": "X2CfB2GPQeJq"
      },
      "source": [
        "# 표준화"
      ]
    },
    {
      "cell_type": "code",
      "metadata": {
        "id": "bLVVik8aJSve"
      },
      "source": [
        "std_scaler=StandardScaler() # 특성 스케일 변환기 생성"
      ],
      "execution_count": 97,
      "outputs": []
    },
    {
      "cell_type": "code",
      "metadata": {
        "colab": {
          "base_uri": "https://localhost:8080/"
        },
        "id": "iSvlJpxeRK9l",
        "outputId": "22c54e4e-1638-4916-fe8d-afe6b5e49785"
      },
      "source": [
        "std_scaler.fit(X_train)"
      ],
      "execution_count": 98,
      "outputs": [
        {
          "output_type": "execute_result",
          "data": {
            "text/plain": [
              "StandardScaler(copy=True, with_mean=True, with_std=True)"
            ]
          },
          "metadata": {},
          "execution_count": 98
        }
      ]
    },
    {
      "cell_type": "code",
      "metadata": {
        "colab": {
          "base_uri": "https://localhost:8080/"
        },
        "id": "KXQdyI0qRq_U",
        "outputId": "884ad352-36e4-4a57-bb13-cb52ab084678"
      },
      "source": [
        "# fit이 끝나고 나면, mean_(평균),var_(분산) 변수가 생김\n",
        "print(std_scaler.mean_)\n",
        "print(std_scaler.var_)"
      ],
      "execution_count": 99,
      "outputs": [
        {
          "output_type": "stream",
          "text": [
            "[425.92352941  26.47352941]\n",
            "[1.04229779e+05 1.03194299e+02]\n"
          ],
          "name": "stdout"
        }
      ]
    },
    {
      "cell_type": "code",
      "metadata": {
        "colab": {
          "base_uri": "https://localhost:8080/"
        },
        "id": "ymPAFqp8SSpj",
        "outputId": "39275375-f842-4396-9040-b1a2f74697d8"
      },
      "source": [
        "print(np.mean(X_train,axis=0))\n",
        "print(np.var(X_train,axis=0))"
      ],
      "execution_count": 100,
      "outputs": [
        {
          "output_type": "stream",
          "text": [
            "[425.92352941  26.47352941]\n",
            "[1.04229779e+05 1.03194299e+02]\n"
          ],
          "name": "stdout"
        }
      ]
    },
    {
      "cell_type": "code",
      "metadata": {
        "colab": {
          "base_uri": "https://localhost:8080/"
        },
        "id": "dyu1BWBfS4Em",
        "outputId": "7223eca8-bbad-4636-a90e-342270b7f4a6"
      },
      "source": [
        "X_train_scaled=std_scaler.transform(X=X_train) # 훈련 셋의 특성들을 scaling\n",
        "X_train_scaled[:5]"
      ],
      "execution_count": 102,
      "outputs": [
        {
          "output_type": "execute_result",
          "data": {
            "text/plain": [
              "array([[ 0.89230202,  0.93778693],\n",
              "       [-0.19490239,  0.24870607],\n",
              "       [-0.56969366, -0.10567837],\n",
              "       [-1.28861145, -1.44446404],\n",
              "       [ 0.5391929 ,  0.54402644]])"
            ]
          },
          "metadata": {},
          "execution_count": 102
        }
      ]
    },
    {
      "cell_type": "code",
      "metadata": {
        "colab": {
          "base_uri": "https://localhost:8080/"
        },
        "id": "6HwU20oeTqTJ",
        "outputId": "9ea20987-015d-4055-82a3-ec27307a5fa7"
      },
      "source": [
        "# 훈련 셋인 경우에는 (1) 평균과 표준편차를 계산(fit) 하고, (2) 데이터의 스케일을 변환(transform)을\n",
        "# 한 번에 수행하는 fit_transform() 메서드를 사용할 수 있다.\n",
        "X_train_scaled= std_scaler.fit_transform(X_train)\n",
        "X_train_scaled[:5]"
      ],
      "execution_count": 110,
      "outputs": [
        {
          "output_type": "execute_result",
          "data": {
            "text/plain": [
              "array([[ 0.89230202,  0.93778693],\n",
              "       [-0.19490239,  0.24870607],\n",
              "       [-0.56969366, -0.10567837],\n",
              "       [-1.28861145, -1.44446404],\n",
              "       [ 0.5391929 ,  0.54402644]])"
            ]
          },
          "metadata": {},
          "execution_count": 110
        }
      ]
    },
    {
      "cell_type": "code",
      "metadata": {
        "colab": {
          "base_uri": "https://localhost:8080/"
        },
        "id": "0Bib3onMUy4I",
        "outputId": "87fc344c-05a3-4399-d1b3-f2457da76965"
      },
      "source": [
        "# (주의) 테스트 셋에서는 절대로 fit 또는 fit_transform 메서드를 호출하면 안됨!\n",
        "# 테스트 셋은 훈련 셋의 평균과 표준편차를 이용해서 스케일 변환만 수행해야 함. transform 메서드만 사용!\n",
        "X_test_scaled= std_scaler.transform(X_test)\n",
        "X_test_scaled[:5]"
      ],
      "execution_count": 109,
      "outputs": [
        {
          "output_type": "execute_result",
          "data": {
            "text/plain": [
              "array([[-1.25763696, -1.12945564],\n",
              "       [ 1.31355502,  0.93778693],\n",
              "       [ 1.63878711,  1.18388724],\n",
              "       [ 0.60114187,  0.79012675],\n",
              "       [-1.29759405, -1.56259218]])"
            ]
          },
          "metadata": {},
          "execution_count": 109
        }
      ]
    },
    {
      "cell_type": "code",
      "metadata": {
        "colab": {
          "base_uri": "https://localhost:8080/"
        },
        "id": "Q1MFbQlBWJ6o",
        "outputId": "b4a035ef-6771-4034-dde7-c7f0b94e0cdb"
      },
      "source": [
        "# 가상의 테스트 데이터 스케일링 \n",
        "test_fish_scaled= std_scaler.transform(test_fish)\n",
        "test_fish_scaled"
      ],
      "execution_count": 112,
      "outputs": [
        {
          "output_type": "execute_result",
          "data": {
            "text/plain": [
              "array([[-0.85465892, -0.14505442]])"
            ]
          },
          "metadata": {},
          "execution_count": 112
        }
      ]
    },
    {
      "cell_type": "code",
      "metadata": {
        "colab": {
          "base_uri": "https://localhost:8080/",
          "height": 279
        },
        "id": "XzLbFsWGWLVD",
        "outputId": "e3cd817e-a003-4139-d839-b667fef7928e"
      },
      "source": [
        "# 표준화가 끝난 훈련 셋 시각화 \n",
        "plt.scatter(X_train_scaled[:,1],X_train_scaled[:,0],label='Train Set',alpha=0.5)\n",
        "# 표준화 스케일 변환된 가상의 생선 데이터 시각화 \n",
        "plt.scatter(test_fish_scaled[:,1],test_fish_scaled[:,0],label='Unknown',marker='v',color='red')\n",
        "plt.xlabel('Length')\n",
        "plt.ylabel('Weight')\n",
        "plt.legend()\n",
        "plt.show()\n"
      ],
      "execution_count": 113,
      "outputs": [
        {
          "output_type": "display_data",
          "data": {
            "image/png": "[encoded data removed]",
            "text/plain": [
              "<Figure size 432x288 with 1 Axes>"
            ]
          },
          "metadata": {
            "needs_background": "light"
          }
        }
      ]
    },
    {
      "cell_type": "markdown",
      "metadata": {
        "id": "DcdMvGUIX0ps"
      },
      "source": [
        "# 스케일 변환된 훈련 셋과 테스트 셋으로 모델 훈련 , 평가"
      ]
    },
    {
      "cell_type": "code",
      "metadata": {
        "id": "0NUwVheuX2De"
      },
      "source": [
        "knn_clf=KNeighborsClassifier() # 모델 생성"
      ],
      "execution_count": 114,
      "outputs": []
    },
    {
      "cell_type": "code",
      "metadata": {
        "colab": {
          "base_uri": "https://localhost:8080/"
        },
        "id": "HzNlNCzzYDgK",
        "outputId": "2f0806ac-cb70-409b-fc8a-6292be9deacb"
      },
      "source": [
        "knn_clf.fit(X=X_train_scaled,y=y_train) # 모델 훈련"
      ],
      "execution_count": 115,
      "outputs": [
        {
          "output_type": "execute_result",
          "data": {
            "text/plain": [
              "KNeighborsClassifier(algorithm='auto', leaf_size=30, metric='minkowski',\n",
              "                     metric_params=None, n_jobs=None, n_neighbors=5, p=2,\n",
              "                     weights='uniform')"
            ]
          },
          "metadata": {},
          "execution_count": 115
        }
      ]
    },
    {
      "cell_type": "code",
      "metadata": {
        "colab": {
          "base_uri": "https://localhost:8080/"
        },
        "id": "dlMPaOvxYMPK",
        "outputId": "ab484ca4-fd10-4dbd-c9c8-df4fb72f7a5f"
      },
      "source": [
        "# 가상의 테스트 생선의 예측값 \n",
        "knn_clf.predict(X=test_fish_scaled)"
      ],
      "execution_count": 116,
      "outputs": [
        {
          "output_type": "execute_result",
          "data": {
            "text/plain": [
              "array(['Bream'], dtype=object)"
            ]
          },
          "metadata": {},
          "execution_count": 116
        }
      ]
    },
    {
      "cell_type": "code",
      "metadata": {
        "colab": {
          "base_uri": "https://localhost:8080/"
        },
        "id": "RMZAE_HZY9Na",
        "outputId": "bf02a500-de46-4844-f002-f0b44875d1e0"
      },
      "source": [
        "# 훈련 셋 평가\n",
        "train_pred=knn_clf.predict(X_train_scaled) # 표준화된 훈련 셋의 예측값\n",
        "accuracy_score(y_true=y_train,y_pred=train_pred)"
      ],
      "execution_count": 118,
      "outputs": [
        {
          "output_type": "execute_result",
          "data": {
            "text/plain": [
              "1.0"
            ]
          },
          "metadata": {},
          "execution_count": 118
        }
      ]
    },
    {
      "cell_type": "code",
      "metadata": {
        "colab": {
          "base_uri": "https://localhost:8080/"
        },
        "id": "3pQVLGhaZRMo",
        "outputId": "6b8fea79-4937-4758-89b2-e388e3373279"
      },
      "source": [
        "# 테스트 셋 평가\n",
        "test_pred=knn_clf.predict(X_test_scaled) # 표준화된 테스트 셋의 예측값\n",
        "accuracy_score(y_true=y_test,y_pred=test_pred)"
      ],
      "execution_count": 119,
      "outputs": [
        {
          "output_type": "execute_result",
          "data": {
            "text/plain": [
              "1.0"
            ]
          },
          "metadata": {},
          "execution_count": 119
        }
      ]
    },
    {
      "cell_type": "markdown",
      "metadata": {
        "id": "ipY4L-CebaNT"
      },
      "source": [
        "## `MinMaxScaler` 클래스를 사용\n",
        "\n",
        "* 훈련 셋과 테스트 셋을 스케일링\n",
        "* 훈련 셋 정확도, 테스트 셋 정확도 계산"
      ]
    },
    {
      "cell_type": "code",
      "metadata": {
        "id": "NtLXdNFocGII"
      },
      "source": [
        "Scaler=MinMaxScaler()"
      ],
      "execution_count": 124,
      "outputs": []
    },
    {
      "cell_type": "code",
      "metadata": {
        "colab": {
          "base_uri": "https://localhost:8080/"
        },
        "id": "1zXMy1V0hm1W",
        "outputId": "a27ea92d-9d8e-4964-f07a-b01b4dd3d32b"
      },
      "source": [
        "Scaler.fit(X=X_train)"
      ],
      "execution_count": 125,
      "outputs": [
        {
          "output_type": "execute_result",
          "data": {
            "text/plain": [
              "MinMaxScaler(copy=True, feature_range=(0, 1))"
            ]
          },
          "metadata": {},
          "execution_count": 125
        }
      ]
    },
    {
      "cell_type": "code",
      "metadata": {
        "id": "nb8Q9tDfhtFm"
      },
      "source": [
        "X_train_scaled=Scaler.transform(X_train)"
      ],
      "execution_count": 126,
      "outputs": []
    },
    {
      "cell_type": "code",
      "metadata": {
        "id": "bNEhPPqyiT7W"
      },
      "source": [
        "knn_clf=KNeighborsClassifier()"
      ],
      "execution_count": 128,
      "outputs": []
    },
    {
      "cell_type": "code",
      "metadata": {
        "colab": {
          "base_uri": "https://localhost:8080/"
        },
        "id": "Q4jlCL6YiWWY",
        "outputId": "a89e3662-081a-4663-df34-7bfa9c1a28b8"
      },
      "source": [
        "knn_clf.fit(X=X_train_scaled,y=y_train)"
      ],
      "execution_count": 130,
      "outputs": [
        {
          "output_type": "execute_result",
          "data": {
            "text/plain": [
              "KNeighborsClassifier(algorithm='auto', leaf_size=30, metric='minkowski',\n",
              "                     metric_params=None, n_jobs=None, n_neighbors=5, p=2,\n",
              "                     weights='uniform')"
            ]
          },
          "metadata": {},
          "execution_count": 130
        }
      ]
    },
    {
      "cell_type": "code",
      "metadata": {
        "id": "54b1OIFViZrO"
      },
      "source": [
        "train_pred=knn_clf.predict(X_train_scaled)"
      ],
      "execution_count": 133,
      "outputs": []
    },
    {
      "cell_type": "code",
      "metadata": {
        "id": "xv_4JHEOjC2V"
      },
      "source": [
        "test_pred=knn_clf.predict(X_test_scaled)"
      ],
      "execution_count": 140,
      "outputs": []
    },
    {
      "cell_type": "code",
      "metadata": {
        "colab": {
          "base_uri": "https://localhost:8080/"
        },
        "id": "sucxsw3gjI1C",
        "outputId": "19824c23-5681-4c9d-f0fb-884a8f639c46"
      },
      "source": [
        "np.mean(test_pred==y_test)"
      ],
      "execution_count": 139,
      "outputs": [
        {
          "output_type": "execute_result",
          "data": {
            "text/plain": [
              "1.0"
            ]
          },
          "metadata": {},
          "execution_count": 139
        }
      ]
    },
    {
      "cell_type": "code",
      "metadata": {
        "id": "4SOHr9ghiAIU"
      },
      "source": [
        "X_test_scaled=Scaler.transform(X_test)"
      ],
      "execution_count": 138,
      "outputs": []
    },
    {
      "cell_type": "markdown",
      "metadata": {
        "id": "4GHe4-YVbybO"
      },
      "source": [
        "# sklearn의 iris데이터 셋"
      ]
    },
    {
      "cell_type": "code",
      "metadata": {
        "id": "N6rsf2g0b3mv"
      },
      "source": [
        ""
      ],
      "execution_count": null,
      "outputs": []
    }
  ]
}