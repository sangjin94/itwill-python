{
  "nbformat": 4,
  "nbformat_minor": 0,
  "metadata": {
    "colab": {
      "name": "ml07_gradient_descent.ipynb",
      "provenance": [],
      "collapsed_sections": [],
      "include_colab_link": true
    },
    "kernelspec": {
      "name": "python3",
      "display_name": "Python 3"
    },
    "language_info": {
      "name": "python"
    }
  },
  "cells": [
    {
      "cell_type": "markdown",
      "metadata": {
        "id": "view-in-github",
        "colab_type": "text"
      },
      "source": [
        "<a href=\"https://colab.research.google.com/github/sangjin94/itwill-python/blob/main/ml07_gradient_descent.ipynb\" target=\"_parent\"><img src=\"https://colab.research.google.com/assets/colab-badge.svg\" alt=\"Open In Colab\"/></a>"
      ]
    },
    {
      "cell_type": "markdown",
      "metadata": {
        "id": "0zMvKCHsIeZM"
      },
      "source": [
        "# Gradient Descent(경사 하강법)"
      ]
    },
    {
      "cell_type": "code",
      "metadata": {
        "id": "0yrahpbEIRkN"
      },
      "source": [
        "import numpy as np\n",
        "import pandas as pd\n",
        "import matplotlib.pyplot as plt"
      ],
      "execution_count": null,
      "outputs": []
    },
    {
      "cell_type": "code",
      "metadata": {
        "colab": {
          "base_uri": "https://localhost:8080/",
          "height": 279
        },
        "id": "EEEQIwV3Iu_Z",
        "outputId": "dc639634-6b73-4c4e-ad14-fe26c769f7ac"
      },
      "source": [
        "w = np.arange(-5, 5, 0.001)\n",
        "loss = w ** 2  # 손실 함수: J(w) = w^2\n",
        "\n",
        "plt.plot(w, loss)\n",
        "plt.grid()\n",
        "plt.xlabel('w')\n",
        "plt.ylabel('Loss')\n",
        "plt.show()"
      ],
      "execution_count": null,
      "outputs": [
        {
          "output_type": "display_data",
          "data": {
            "image/png": "[encoded data removed]",
            "text/plain": [
              "<Figure size 432x288 with 1 Axes>"
            ]
          },
          "metadata": {
            "needs_background": "light"
          }
        }
      ]
    },
    {
      "cell_type": "code",
      "metadata": {
        "id": "ZgZEEW2JJ-NB"
      },
      "source": [
        "# 임의의 w를 선택\n",
        "w_init = -4"
      ],
      "execution_count": null,
      "outputs": []
    },
    {
      "cell_type": "code",
      "metadata": {
        "id": "i6BRBPjXMD0J"
      },
      "source": [
        "# 선택한 w에서 비용함수의 접선의 기울기 계산\n",
        "grad = 2 * w_init"
      ],
      "execution_count": null,
      "outputs": []
    },
    {
      "cell_type": "code",
      "metadata": {
        "colab": {
          "base_uri": "https://localhost:8080/"
        },
        "id": "H4DuIALTNF7C",
        "outputId": "d34a5725-8c84-48d7-98ae-a2aa4ed702bc"
      },
      "source": [
        "# 최초의 w 위치에서 기울기의 반대 방향으로 약간 이동\n",
        "w_next = w_init - grad * 0.1\n",
        "w_next"
      ],
      "execution_count": null,
      "outputs": [
        {
          "output_type": "execute_result",
          "data": {
            "text/plain": [
              "-3.2"
            ]
          },
          "metadata": {},
          "execution_count": 5
        }
      ]
    },
    {
      "cell_type": "code",
      "metadata": {
        "colab": {
          "base_uri": "https://localhost:8080/",
          "height": 265
        },
        "id": "n4jxsvllNsbx",
        "outputId": "2cd2c045-b535-4e9b-f87e-55019486c3c0"
      },
      "source": [
        "# 비용 함수(loss function)을 시각화\n",
        "w = np.arange(-5, 5, 0.001)\n",
        "loss = w ** 2\n",
        "plt.plot(w, loss, color='darkgray')\n",
        "\n",
        "# loss의 최솟값까지 이동하기 위해서 임의의 w에서 시작\n",
        "w_init = 4\n",
        "loss_init = w_init ** 2  # 임의의 시작값에서의 손실\n",
        "plt.scatter(w_init, loss_init, label='0')\n",
        "\n",
        "# 학습률: gradient가 감소하는 방향으로 얼마나 빠르게 이동할 지를 결정하는 (하이퍼)파라미터.\n",
        "learning_rate = 0.2  # 학습률(0.1, 0.2, 0.3, 0.5, 0.8, 1.0, 1.1, ...) 테스트\n",
        "for epoch in range(1, 11):  # 10번 반복 이동\n",
        "    # 현재 위치에서 gradient를 계산\n",
        "    grad = 2 * w_init\n",
        "    # gradient가 감소하는 방향으로 약간 이동\n",
        "    w_new = w_init - learning_rate * grad\n",
        "    # 이동한 위치에서의 손실 계산\n",
        "    loss_new = w_new ** 2\n",
        "    # 이동한 위치를 시각화\n",
        "    plt.scatter(w_new, loss_new, label=f'{epoch}')\n",
        "    # 다음 이동을 위해서 현재 위치를 바뀐 새 위치로 변경\n",
        "    w_init = w_new\n",
        "\n",
        "plt.legend()\n",
        "plt.grid()\n",
        "plt.show()"
      ],
      "execution_count": null,
      "outputs": [
        {
          "output_type": "display_data",
          "data": {
            "image/png": "[encoded data removed]",
            "text/plain": [
              "<Figure size 432x288 with 1 Axes>"
            ]
          },
          "metadata": {
            "needs_background": "light"
          }
        }
      ]
    },
    {
      "cell_type": "markdown",
      "metadata": {
        "id": "NvcfSr5hbf5B"
      },
      "source": [
        "**학습률(learning rate) hyperparameter**\n",
        "\n",
        "* 학습률이 작은 경우에는 최솟값을 향해서 천천히 움직임.\n",
        "* 학습률이 큰 경우에는 최솟값을 향해서 빠르게 움직이거나 또는 불안정하게 움직일 수 있음.\n",
        "* 학습률이 너무 작으면 최대 반복 횟수(max_iter) 안에서 최솟값으로 수렴(convergence)하지 못할 수 있음.\n",
        "    * 수렴할 때까지 최대 반복 횟수를 늘려줌.\n",
        "    * 학습률을 키워줌.\n",
        "* 학습률이 너무 크면 수렴하지 못하고 발산(divergence)하는 경우가 발생하기도 함.\n",
        "    * 학습률을 줄여야 함.\n",
        "* ML 알고리즘 중에서는 처음에는 학습률을 크게 하고, 에포크(epoch, 반복)가 진행될 때마다 학습률을 점점 작게 줄여 나가는 알고리즘도 있음."
      ]
    },
    {
      "cell_type": "markdown",
      "metadata": {
        "id": "Wk9z23hQAWlC"
      },
      "source": [
        "# SGD(Stochastic Gradient Descent, 확률적 경사 하강법)"
      ]
    },
    {
      "cell_type": "code",
      "metadata": {
        "id": "-iGZyzZ3NtF5"
      },
      "source": [
        "from sklearn.model_selection import train_test_split\n",
        "from sklearn.linear_model import SGDRegressor\n",
        "from sklearn.metrics import mean_squared_error, r2_score"
      ],
      "execution_count": null,
      "outputs": []
    },
    {
      "cell_type": "markdown",
      "metadata": {
        "id": "vXMlZp70CNJn"
      },
      "source": [
        "# Fish Datasets"
      ]
    },
    {
      "cell_type": "code",
      "metadata": {
        "id": "nnv4ogPECJrJ"
      },
      "source": [
        "fish_csv = 'https://github.com/rickiepark/hg-mldl/raw/master/fish.csv'"
      ],
      "execution_count": null,
      "outputs": []
    },
    {
      "cell_type": "code",
      "metadata": {
        "id": "lq9mkrSYCYNQ"
      },
      "source": [
        "fish = pd.read_csv(fish_csv)"
      ],
      "execution_count": null,
      "outputs": []
    },
    {
      "cell_type": "code",
      "metadata": {
        "colab": {
          "base_uri": "https://localhost:8080/",
          "height": 206
        },
        "id": "UqrQwWcaCcku",
        "outputId": "c9aafdea-dca4-47f4-a9ef-1159ecda90c7"
      },
      "source": [
        "fish.head()"
      ],
      "execution_count": null,
      "outputs": [
        {
          "output_type": "execute_result",
          "data": {
            "text/html": [
              "<div>\n",
              "<style scoped>\n",
              "    .dataframe tbody tr th:only-of-type {\n",
              "        vertical-align: middle;\n",
              "    }\n",
              "\n",
              "    .dataframe tbody tr th {\n",
              "        vertical-align: top;\n",
              "    }\n",
              "\n",
              "    .dataframe thead th {\n",
              "        text-align: right;\n",
              "    }\n",
              "</style>\n",
              "<table border=\"1\" class=\"dataframe\">\n",
              "  <thead>\n",
              "    <tr style=\"text-align: right;\">\n",
              "      <th></th>\n",
              "      <th>Species</th>\n",
              "      <th>Weight</th>\n",
              "      <th>Length</th>\n",
              "      <th>Diagonal</th>\n",
              "      <th>Height</th>\n",
              "      <th>Width</th>\n",
              "    </tr>\n",
              "  </thead>\n",
              "  <tbody>\n",
              "    <tr>\n",
              "      <th>0</th>\n",
              "      <td>Bream</td>\n",
              "      <td>242.0</td>\n",
              "      <td>25.4</td>\n",
              "      <td>30.0</td>\n",
              "      <td>11.5200</td>\n",
              "      <td>4.0200</td>\n",
              "    </tr>\n",
              "    <tr>\n",
              "      <th>1</th>\n",
              "      <td>Bream</td>\n",
              "      <td>290.0</td>\n",
              "      <td>26.3</td>\n",
              "      <td>31.2</td>\n",
              "      <td>12.4800</td>\n",
              "      <td>4.3056</td>\n",
              "    </tr>\n",
              "    <tr>\n",
              "      <th>2</th>\n",
              "      <td>Bream</td>\n",
              "      <td>340.0</td>\n",
              "      <td>26.5</td>\n",
              "      <td>31.1</td>\n",
              "      <td>12.3778</td>\n",
              "      <td>4.6961</td>\n",
              "    </tr>\n",
              "    <tr>\n",
              "      <th>3</th>\n",
              "      <td>Bream</td>\n",
              "      <td>363.0</td>\n",
              "      <td>29.0</td>\n",
              "      <td>33.5</td>\n",
              "      <td>12.7300</td>\n",
              "      <td>4.4555</td>\n",
              "    </tr>\n",
              "    <tr>\n",
              "      <th>4</th>\n",
              "      <td>Bream</td>\n",
              "      <td>430.0</td>\n",
              "      <td>29.0</td>\n",
              "      <td>34.0</td>\n",
              "      <td>12.4440</td>\n",
              "      <td>5.1340</td>\n",
              "    </tr>\n",
              "  </tbody>\n",
              "</table>\n",
              "</div>"
            ],
            "text/plain": [
              "  Species  Weight  Length  Diagonal   Height   Width\n",
              "0   Bream   242.0    25.4      30.0  11.5200  4.0200\n",
              "1   Bream   290.0    26.3      31.2  12.4800  4.3056\n",
              "2   Bream   340.0    26.5      31.1  12.3778  4.6961\n",
              "3   Bream   363.0    29.0      33.5  12.7300  4.4555\n",
              "4   Bream   430.0    29.0      34.0  12.4440  5.1340"
            ]
          },
          "metadata": {},
          "execution_count": 10
        }
      ]
    },
    {
      "cell_type": "code",
      "metadata": {
        "colab": {
          "base_uri": "https://localhost:8080/",
          "height": 206
        },
        "id": "3tSWuYFMCdne",
        "outputId": "de5b6e22-de48-4b7d-9477-23c8ea0bbf30"
      },
      "source": [
        "# Perch 어종만 선택\n",
        "perch = fish[fish.Species == 'Perch']\n",
        "perch.head()"
      ],
      "execution_count": null,
      "outputs": [
        {
          "output_type": "execute_result",
          "data": {
            "text/html": [
              "<div>\n",
              "<style scoped>\n",
              "    .dataframe tbody tr th:only-of-type {\n",
              "        vertical-align: middle;\n",
              "    }\n",
              "\n",
              "    .dataframe tbody tr th {\n",
              "        vertical-align: top;\n",
              "    }\n",
              "\n",
              "    .dataframe thead th {\n",
              "        text-align: right;\n",
              "    }\n",
              "</style>\n",
              "<table border=\"1\" class=\"dataframe\">\n",
              "  <thead>\n",
              "    <tr style=\"text-align: right;\">\n",
              "      <th></th>\n",
              "      <th>Species</th>\n",
              "      <th>Weight</th>\n",
              "      <th>Length</th>\n",
              "      <th>Diagonal</th>\n",
              "      <th>Height</th>\n",
              "      <th>Width</th>\n",
              "    </tr>\n",
              "  </thead>\n",
              "  <tbody>\n",
              "    <tr>\n",
              "      <th>72</th>\n",
              "      <td>Perch</td>\n",
              "      <td>5.9</td>\n",
              "      <td>8.4</td>\n",
              "      <td>8.8</td>\n",
              "      <td>2.1120</td>\n",
              "      <td>1.4080</td>\n",
              "    </tr>\n",
              "    <tr>\n",
              "      <th>73</th>\n",
              "      <td>Perch</td>\n",
              "      <td>32.0</td>\n",
              "      <td>13.7</td>\n",
              "      <td>14.7</td>\n",
              "      <td>3.5280</td>\n",
              "      <td>1.9992</td>\n",
              "    </tr>\n",
              "    <tr>\n",
              "      <th>74</th>\n",
              "      <td>Perch</td>\n",
              "      <td>40.0</td>\n",
              "      <td>15.0</td>\n",
              "      <td>16.0</td>\n",
              "      <td>3.8240</td>\n",
              "      <td>2.4320</td>\n",
              "    </tr>\n",
              "    <tr>\n",
              "      <th>75</th>\n",
              "      <td>Perch</td>\n",
              "      <td>51.5</td>\n",
              "      <td>16.2</td>\n",
              "      <td>17.2</td>\n",
              "      <td>4.5924</td>\n",
              "      <td>2.6316</td>\n",
              "    </tr>\n",
              "    <tr>\n",
              "      <th>76</th>\n",
              "      <td>Perch</td>\n",
              "      <td>70.0</td>\n",
              "      <td>17.4</td>\n",
              "      <td>18.5</td>\n",
              "      <td>4.5880</td>\n",
              "      <td>2.9415</td>\n",
              "    </tr>\n",
              "  </tbody>\n",
              "</table>\n",
              "</div>"
            ],
            "text/plain": [
              "   Species  Weight  Length  Diagonal  Height   Width\n",
              "72   Perch     5.9     8.4       8.8  2.1120  1.4080\n",
              "73   Perch    32.0    13.7      14.7  3.5280  1.9992\n",
              "74   Perch    40.0    15.0      16.0  3.8240  2.4320\n",
              "75   Perch    51.5    16.2      17.2  4.5924  2.6316\n",
              "76   Perch    70.0    17.4      18.5  4.5880  2.9415"
            ]
          },
          "metadata": {},
          "execution_count": 11
        }
      ]
    },
    {
      "cell_type": "code",
      "metadata": {
        "colab": {
          "base_uri": "https://localhost:8080/"
        },
        "id": "RM0_pGQzCvHe",
        "outputId": "95d1f5d7-7379-4362-a03c-1c04a4e630aa"
      },
      "source": [
        "# 특성 - Length\n",
        "X = perch[['Length']].values\n",
        "# 타겟 - Weight\n",
        "y = perch['Weight'].values\n",
        "\n",
        "X.shape, y.shape"
      ],
      "execution_count": null,
      "outputs": [
        {
          "output_type": "execute_result",
          "data": {
            "text/plain": [
              "((56, 1), (56,))"
            ]
          },
          "metadata": {},
          "execution_count": 12
        }
      ]
    },
    {
      "cell_type": "code",
      "metadata": {
        "id": "uOX1HCLmDB1e"
      },
      "source": [
        "X_train, X_test, y_train, y_test = train_test_split(X, y,\n",
        "                                                    test_size=0.2,\n",
        "                                                    random_state=42)"
      ],
      "execution_count": null,
      "outputs": []
    },
    {
      "cell_type": "code",
      "metadata": {
        "colab": {
          "base_uri": "https://localhost:8080/"
        },
        "id": "WzYG58foDW-e",
        "outputId": "09ab6e94-abdc-41b5-9fef-da066df46527"
      },
      "source": [
        "X_train.shape, X_test.shape, y_train.shape, y_test.shape"
      ],
      "execution_count": null,
      "outputs": [
        {
          "output_type": "execute_result",
          "data": {
            "text/plain": [
              "((44, 1), (12, 1), (44,), (12,))"
            ]
          },
          "metadata": {},
          "execution_count": 14
        }
      ]
    },
    {
      "cell_type": "code",
      "metadata": {
        "id": "C14j-rMeDa_O"
      },
      "source": [
        "# ML 모델 생성\n",
        "sgd_reg = SGDRegressor(max_iter=1_000_000_000, eta0=0.9, learning_rate='adaptive')\n",
        "# max_iter: 최대 반복 횟수\n",
        "# eta0: 학습률 초깃값\n",
        "# learning_rate: 학습률을 변화시키는 방법"
      ],
      "execution_count": null,
      "outputs": []
    },
    {
      "cell_type": "code",
      "metadata": {
        "colab": {
          "base_uri": "https://localhost:8080/"
        },
        "id": "h5swB6_LLPpq",
        "outputId": "67baa162-0262-454c-933a-0f7c964be97d"
      },
      "source": [
        "# 모델 훈련\n",
        "sgd_reg.fit(X_train, y_train)"
      ],
      "execution_count": null,
      "outputs": [
        {
          "output_type": "execute_result",
          "data": {
            "text/plain": [
              "SGDRegressor(alpha=0.0001, average=False, early_stopping=False, epsilon=0.1,\n",
              "             eta0=0.9, fit_intercept=True, l1_ratio=0.15,\n",
              "             learning_rate='adaptive', loss='squared_loss', max_iter=1000000000,\n",
              "             n_iter_no_change=5, penalty='l2', power_t=0.25, random_state=None,\n",
              "             shuffle=True, tol=0.001, validation_fraction=0.1, verbose=0,\n",
              "             warm_start=False)"
            ]
          },
          "metadata": {},
          "execution_count": 46
        }
      ]
    },
    {
      "cell_type": "code",
      "metadata": {
        "colab": {
          "base_uri": "https://localhost:8080/"
        },
        "id": "_X2TZ46JLiai",
        "outputId": "9470d239-666f-4b6a-b219-012ef73ad22f"
      },
      "source": [
        "# y = w0 + w1 * x\n",
        "# intercept\n",
        "print(sgd_reg.intercept_)\n",
        "# coefficient\n",
        "print(sgd_reg.coef_)"
      ],
      "execution_count": null,
      "outputs": [
        {
          "output_type": "stream",
          "name": "stdout",
          "text": [
            "[-925.02030229]\n",
            "[45.85571708]\n"
          ]
        }
      ]
    },
    {
      "cell_type": "code",
      "metadata": {
        "colab": {
          "base_uri": "https://localhost:8080/"
        },
        "id": "eyCZXm-xLy96",
        "outputId": "71526cb7-7e0a-4221-8af4-e8e8140f0831"
      },
      "source": [
        "# 훈련 셋 예측값\n",
        "train_pred = sgd_reg.predict(X_train)\n",
        "train_pred"
      ],
      "execution_count": null,
      "outputs": [
        {
          "output_type": "execute_result",
          "data": {
            "text/plain": [
              "array([ 358.93977589,  326.84077394,  -26.24824756,   83.80547342,\n",
              "        -67.51839293, -127.13082514,  725.78551252,  221.37262466,\n",
              "        909.20838083,  863.35266375, 1046.77553206,   83.80547342,\n",
              "         -7.90596073,   83.80547342,  175.51690758,  336.01191735,\n",
              "       1046.77553206,  909.20838083,  175.51690758,   37.94975635,\n",
              "        336.01191735,  909.20838083,  579.04721787,  290.15620028,\n",
              "        748.71337106, -296.79697832,  115.90447538, -237.18454612,\n",
              "        771.6412296 ,  679.92979544,  391.03877785,  152.58904904,\n",
              "        863.35266375,   37.94975635,  129.6611905 ,   83.80547342,\n",
              "       1092.63124914,  106.73333196,  -53.76167781,  771.6412296 ,\n",
              "         83.80547342,  248.88605491, 1000.91981499,  657.0019369 ])"
            ]
          },
          "metadata": {},
          "execution_count": 48
        }
      ]
    },
    {
      "cell_type": "code",
      "metadata": {
        "colab": {
          "base_uri": "https://localhost:8080/"
        },
        "id": "MMTrg4kCMQ3p",
        "outputId": "2f54139b-1ec3-4b2d-98b9-e809c4c98085"
      },
      "source": [
        "y_train[:5]"
      ],
      "execution_count": null,
      "outputs": [
        {
          "output_type": "execute_result",
          "data": {
            "text/plain": [
              "array([250., 300.,  85., 135.,  78.])"
            ]
          },
          "metadata": {},
          "execution_count": 49
        }
      ]
    },
    {
      "cell_type": "code",
      "metadata": {
        "colab": {
          "base_uri": "https://localhost:8080/"
        },
        "id": "rN07We4-MXEZ",
        "outputId": "5a9d861c-0603-4e33-9621-0a1688bdc647"
      },
      "source": [
        "mean_squared_error(y_train, train_pred)"
      ],
      "execution_count": null,
      "outputs": [
        {
          "output_type": "execute_result",
          "data": {
            "text/plain": [
              "11212.787162699758"
            ]
          },
          "metadata": {},
          "execution_count": 50
        }
      ]
    },
    {
      "cell_type": "markdown",
      "metadata": {
        "id": "w_kzH4eRMiC6"
      },
      "source": [
        "오차(손실)이 너무 크다!!\n",
        "\n",
        "MSE를 줄이기 위한 해결 방법\n",
        "* max_iter 값 늘리기\n",
        "* eta0 값 키우기\n",
        "* learning_rate 변경\n",
        "* ...\n",
        "\n",
        "Fish(Perch) 데이터 셋 경우에는 샘플 개수가 너무 적어서 경사 하강법이 좋은 결과를 주지 못함.\n",
        "* SGD 이외의 다른 모델을 고려\n"
      ]
    },
    {
      "cell_type": "markdown",
      "metadata": {
        "id": "m58hUFWYQFcO"
      },
      "source": [
        "# Boston 주택 가격 데이터 셋"
      ]
    },
    {
      "cell_type": "code",
      "metadata": {
        "id": "iybZmjm0MgLR"
      },
      "source": [
        "from sklearn import datasets"
      ],
      "execution_count": null,
      "outputs": []
    },
    {
      "cell_type": "code",
      "metadata": {
        "id": "pgABS0eTQUPf"
      },
      "source": [
        "boston = datasets.load_boston()"
      ],
      "execution_count": null,
      "outputs": []
    },
    {
      "cell_type": "code",
      "metadata": {
        "colab": {
          "base_uri": "https://localhost:8080/"
        },
        "id": "Lfagj1kiQYGG",
        "outputId": "9f163381-251e-4e02-e42f-e81d92a2b23a"
      },
      "source": [
        "# 데이터 셋 설명\n",
        "print(boston['DESCR'])"
      ],
      "execution_count": null,
      "outputs": [
        {
          "output_type": "stream",
          "name": "stdout",
          "text": [
            ".. _boston_dataset:\n",
            "\n",
            "Boston house prices dataset\n",
            "---------------------------\n",
            "\n",
            "**Data Set Characteristics:**  \n",
            "\n",
            "    :Number of Instances: 506 \n",
            "\n",
            "    :Number of Attributes: 13 numeric/categorical predictive. Median Value (attribute 14) is usually the target.\n",
            "\n",
            "    :Attribute Information (in order):\n",
            "        - CRIM     per capita crime rate by town\n",
            "        - ZN       proportion of residential land zoned for lots over 25,000 sq.ft.\n",
            "        - INDUS    proportion of non-retail business acres per town\n",
            "        - CHAS     Charles River dummy variable (= 1 if tract bounds river; 0 otherwise)\n",
            "        - NOX      nitric oxides concentration (parts per 10 million)\n",
            "        - RM       average number of rooms per dwelling\n",
            "        - AGE      proportion of owner-occupied units built prior to 1940\n",
            "        - DIS      weighted distances to five Boston employment centres\n",
            "        - RAD      index of accessibility to radial highways\n",
            "        - TAX      full-value property-tax rate per $10,000\n",
            "        - PTRATIO  pupil-teacher ratio by town\n",
            "        - B        1000(Bk - 0.63)^2 where Bk is the proportion of blacks by town\n",
            "        - LSTAT    % lower status of the population\n",
            "        - MEDV     Median value of owner-occupied homes in $1000's\n",
            "\n",
            "    :Missing Attribute Values: None\n",
            "\n",
            "    :Creator: Harrison, D. and Rubinfeld, D.L.\n",
            "\n",
            "This is a copy of UCI ML housing dataset.\n",
            "https://archive.ics.uci.edu/ml/machine-learning-databases/housing/\n",
            "\n",
            "\n",
            "This dataset was taken from the StatLib library which is maintained at Carnegie Mellon University.\n",
            "\n",
            "The Boston house-price data of Harrison, D. and Rubinfeld, D.L. 'Hedonic\n",
            "prices and the demand for clean air', J. Environ. Economics & Management,\n",
            "vol.5, 81-102, 1978.   Used in Belsley, Kuh & Welsch, 'Regression diagnostics\n",
            "...', Wiley, 1980.   N.B. Various transformations are used in the table on\n",
            "pages 244-261 of the latter.\n",
            "\n",
            "The Boston house-price data has been used in many machine learning papers that address regression\n",
            "problems.   \n",
            "     \n",
            ".. topic:: References\n",
            "\n",
            "   - Belsley, Kuh & Welsch, 'Regression diagnostics: Identifying Influential Data and Sources of Collinearity', Wiley, 1980. 244-261.\n",
            "   - Quinlan,R. (1993). Combining Instance-Based and Model-Based Learning. In Proceedings on the Tenth International Conference of Machine Learning, 236-243, University of Massachusetts, Amherst. Morgan Kaufmann.\n",
            "\n"
          ]
        }
      ]
    },
    {
      "cell_type": "code",
      "metadata": {
        "id": "oexepOt2Qca2"
      },
      "source": [
        "# 특성 행렬, 타겟 벡터\n",
        "X, y = boston['data'], boston['target']"
      ],
      "execution_count": null,
      "outputs": []
    },
    {
      "cell_type": "code",
      "metadata": {
        "colab": {
          "base_uri": "https://localhost:8080/"
        },
        "id": "BKz_5dXeRV9X",
        "outputId": "7cb920de-27b3-43ab-fdb5-08d809a276ab"
      },
      "source": [
        "X.shape, y.shape"
      ],
      "execution_count": null,
      "outputs": [
        {
          "output_type": "execute_result",
          "data": {
            "text/plain": [
              "((506, 13), (506,))"
            ]
          },
          "metadata": {},
          "execution_count": 56
        }
      ]
    },
    {
      "cell_type": "code",
      "metadata": {
        "colab": {
          "base_uri": "https://localhost:8080/"
        },
        "id": "eV-PuwkfRWnu",
        "outputId": "c2bd9109-6d59-4dbb-c43a-8e2dad6c8af7"
      },
      "source": [
        "X[:3]"
      ],
      "execution_count": null,
      "outputs": [
        {
          "output_type": "execute_result",
          "data": {
            "text/plain": [
              "array([[6.3200e-03, 1.8000e+01, 2.3100e+00, 0.0000e+00, 5.3800e-01,\n",
              "        6.5750e+00, 6.5200e+01, 4.0900e+00, 1.0000e+00, 2.9600e+02,\n",
              "        1.5300e+01, 3.9690e+02, 4.9800e+00],\n",
              "       [2.7310e-02, 0.0000e+00, 7.0700e+00, 0.0000e+00, 4.6900e-01,\n",
              "        6.4210e+00, 7.8900e+01, 4.9671e+00, 2.0000e+00, 2.4200e+02,\n",
              "        1.7800e+01, 3.9690e+02, 9.1400e+00],\n",
              "       [2.7290e-02, 0.0000e+00, 7.0700e+00, 0.0000e+00, 4.6900e-01,\n",
              "        7.1850e+00, 6.1100e+01, 4.9671e+00, 2.0000e+00, 2.4200e+02,\n",
              "        1.7800e+01, 3.9283e+02, 4.0300e+00]])"
            ]
          },
          "metadata": {},
          "execution_count": 57
        }
      ]
    },
    {
      "cell_type": "code",
      "metadata": {
        "id": "AEiL7bVfRh33"
      },
      "source": [
        "from sklearn.preprocessing import StandardScaler\n",
        "from sklearn.pipeline import Pipeline"
      ],
      "execution_count": null,
      "outputs": []
    },
    {
      "cell_type": "code",
      "metadata": {
        "id": "IRscN-vxSEXe"
      },
      "source": [
        "X_train, X_test, y_train, y_test = train_test_split(X, y,\n",
        "                                                    test_size=0.2,\n",
        "                                                    random_state=42)"
      ],
      "execution_count": null,
      "outputs": []
    },
    {
      "cell_type": "code",
      "metadata": {
        "colab": {
          "base_uri": "https://localhost:8080/"
        },
        "id": "CdwuTIC7SPCe",
        "outputId": "1c64e49c-3576-462d-c6f8-863863e6cd7b"
      },
      "source": [
        "X_train.shape, X_test.shape"
      ],
      "execution_count": null,
      "outputs": [
        {
          "output_type": "execute_result",
          "data": {
            "text/plain": [
              "((404, 13), (102, 13))"
            ]
          },
          "metadata": {},
          "execution_count": 72
        }
      ]
    },
    {
      "cell_type": "code",
      "metadata": {
        "id": "wGmp1LjTSUFG"
      },
      "source": [
        "# ML 모델 생성\n",
        "scaler = StandardScaler()\n",
        "reg = SGDRegressor()\n",
        "model = Pipeline(steps=[('scaler', scaler),\n",
        "                        ('reg', reg)])"
      ],
      "execution_count": null,
      "outputs": []
    },
    {
      "cell_type": "code",
      "metadata": {
        "colab": {
          "base_uri": "https://localhost:8080/"
        },
        "id": "cKQU2K8tSpy2",
        "outputId": "79edc374-6965-45d8-8774-00e6f2a77621"
      },
      "source": [
        "# 모델 훈련\n",
        "model.fit(X_train, y_train)"
      ],
      "execution_count": null,
      "outputs": [
        {
          "output_type": "execute_result",
          "data": {
            "text/plain": [
              "Pipeline(memory=None,\n",
              "         steps=[('scaler',\n",
              "                 StandardScaler(copy=True, with_mean=True, with_std=True)),\n",
              "                ('reg',\n",
              "                 SGDRegressor(alpha=0.0001, average=False, early_stopping=False,\n",
              "                              epsilon=0.1, eta0=0.01, fit_intercept=True,\n",
              "                              l1_ratio=0.15, learning_rate='invscaling',\n",
              "                              loss='squared_loss', max_iter=1000,\n",
              "                              n_iter_no_change=5, penalty='l2', power_t=0.25,\n",
              "                              random_state=None, shuffle=True, tol=0.001,\n",
              "                              validation_fraction=0.1, verbose=0,\n",
              "                              warm_start=False))],\n",
              "         verbose=False)"
            ]
          },
          "metadata": {},
          "execution_count": 82
        }
      ]
    },
    {
      "cell_type": "code",
      "metadata": {
        "colab": {
          "base_uri": "https://localhost:8080/"
        },
        "id": "584FQpCmSuh9",
        "outputId": "db11e7b7-f0bc-4ed3-b18a-d3f28cef82bb"
      },
      "source": [
        "model['reg'].intercept_"
      ],
      "execution_count": null,
      "outputs": [
        {
          "output_type": "execute_result",
          "data": {
            "text/plain": [
              "array([22.79700991])"
            ]
          },
          "metadata": {},
          "execution_count": 83
        }
      ]
    },
    {
      "cell_type": "code",
      "metadata": {
        "colab": {
          "base_uri": "https://localhost:8080/"
        },
        "id": "NrAJEj7TTH6F",
        "outputId": "2d2148c1-45e9-4dd4-f75a-8e43d5d4a87c"
      },
      "source": [
        "model['reg'].coef_"
      ],
      "execution_count": null,
      "outputs": [
        {
          "output_type": "execute_result",
          "data": {
            "text/plain": [
              "array([-0.94569032,  0.54020038,  0.06332136,  0.76530185, -1.91363497,\n",
              "        3.22929316, -0.17452792, -2.92783191,  1.56443356, -1.02769644,\n",
              "       -2.01884074,  1.1288706 , -3.59883156])"
            ]
          },
          "metadata": {},
          "execution_count": 84
        }
      ]
    },
    {
      "cell_type": "code",
      "metadata": {
        "colab": {
          "base_uri": "https://localhost:8080/"
        },
        "id": "qRstvKVRTQEV",
        "outputId": "808ad877-94cb-4f48-eb60-ba7cde177f02"
      },
      "source": [
        "train_pred  = model.predict(X_train)\n",
        "train_pred[:5]"
      ],
      "execution_count": null,
      "outputs": [
        {
          "output_type": "execute_result",
          "data": {
            "text/plain": [
              "array([10.72995043, 19.53433728, 23.28663778, 11.94484753, 18.43911406])"
            ]
          },
          "metadata": {},
          "execution_count": 85
        }
      ]
    },
    {
      "cell_type": "code",
      "metadata": {
        "colab": {
          "base_uri": "https://localhost:8080/"
        },
        "id": "bXsNod0bTczs",
        "outputId": "154151f7-5200-43f9-f332-e1fcc4148141"
      },
      "source": [
        "# MSE\n",
        "mean_squared_error(y_train, train_pred)"
      ],
      "execution_count": null,
      "outputs": [
        {
          "output_type": "execute_result",
          "data": {
            "text/plain": [
              "21.717861487004317"
            ]
          },
          "metadata": {},
          "execution_count": 86
        }
      ]
    },
    {
      "cell_type": "code",
      "metadata": {
        "colab": {
          "base_uri": "https://localhost:8080/",
          "height": 279
        },
        "id": "Jtqe5bvvUe3s",
        "outputId": "f1834102-b994-4b02-9dca-b1ed017c5a24"
      },
      "source": [
        "# 예측값 ~ 실젯값 scatter plot\n",
        "plt.scatter(y_train, train_pred, alpha=0.5)\n",
        "plt.xlabel('actual')\n",
        "plt.ylabel('prediction')\n",
        "plt.grid()\n",
        "plt.show()"
      ],
      "execution_count": null,
      "outputs": [
        {
          "output_type": "display_data",
          "data": {
            "image/png": "[encoded data removed]",
            "text/plain": [
              "<Figure size 432x288 with 1 Axes>"
            ]
          },
          "metadata": {
            "needs_background": "light"
          }
        }
      ]
    },
    {
      "cell_type": "markdown",
      "metadata": {
        "id": "T4rB19RzZJuw"
      },
      "source": [
        "## LinearRegression과 비교"
      ]
    },
    {
      "cell_type": "code",
      "metadata": {
        "id": "f1qrL8lZU23d"
      },
      "source": [
        "from sklearn.linear_model import LinearRegression"
      ],
      "execution_count": null,
      "outputs": []
    },
    {
      "cell_type": "code",
      "metadata": {
        "id": "lltJZw2uZS2q"
      },
      "source": [
        "scaler = StandardScaler()\n",
        "reg = LinearRegression()\n",
        "model2 = Pipeline(steps=[('scaler', scaler),\n",
        "                         ('reg', reg)])"
      ],
      "execution_count": null,
      "outputs": []
    },
    {
      "cell_type": "code",
      "metadata": {
        "colab": {
          "base_uri": "https://localhost:8080/"
        },
        "id": "ObNXF3GaZiyS",
        "outputId": "344c1768-ed23-4eb6-8402-a50cb3d9f9ab"
      },
      "source": [
        "model2.fit(X_train, y_train)"
      ],
      "execution_count": null,
      "outputs": [
        {
          "output_type": "execute_result",
          "data": {
            "text/plain": [
              "Pipeline(memory=None,\n",
              "         steps=[('scaler',\n",
              "                 StandardScaler(copy=True, with_mean=True, with_std=True)),\n",
              "                ('reg',\n",
              "                 LinearRegression(copy_X=True, fit_intercept=True, n_jobs=None,\n",
              "                                  normalize=False))],\n",
              "         verbose=False)"
            ]
          },
          "metadata": {},
          "execution_count": 91
        }
      ]
    },
    {
      "cell_type": "code",
      "metadata": {
        "colab": {
          "base_uri": "https://localhost:8080/"
        },
        "id": "xXW9XCkrZoS6",
        "outputId": "2c868532-c78d-4cf0-bfad-1b5621684d56"
      },
      "source": [
        "model2['reg'].intercept_"
      ],
      "execution_count": null,
      "outputs": [
        {
          "output_type": "execute_result",
          "data": {
            "text/plain": [
              "22.796534653465375"
            ]
          },
          "metadata": {},
          "execution_count": 92
        }
      ]
    },
    {
      "cell_type": "code",
      "metadata": {
        "colab": {
          "base_uri": "https://localhost:8080/"
        },
        "id": "URUEzeYzZsox",
        "outputId": "40a67372-bbc8-4a0e-9b85-f3f8942d40a7"
      },
      "source": [
        "model2['reg'].coef_"
      ],
      "execution_count": null,
      "outputs": [
        {
          "output_type": "execute_result",
          "data": {
            "text/plain": [
              "array([-1.00213533,  0.69626862,  0.27806485,  0.7187384 , -2.0223194 ,\n",
              "        3.14523956, -0.17604788, -3.0819076 ,  2.25140666, -1.76701378,\n",
              "       -2.03775151,  1.12956831, -3.61165842])"
            ]
          },
          "metadata": {},
          "execution_count": 93
        }
      ]
    },
    {
      "cell_type": "code",
      "metadata": {
        "id": "CWpG0FuSZ0vC"
      },
      "source": [
        "train_pred = model2.predict(X_train)"
      ],
      "execution_count": null,
      "outputs": []
    },
    {
      "cell_type": "code",
      "metadata": {
        "colab": {
          "base_uri": "https://localhost:8080/"
        },
        "id": "3deirE-saE4d",
        "outputId": "fd1a1717-ad7a-4b0a-bcd1-c684afe7878f"
      },
      "source": [
        "mean_squared_error(y_train, train_pred)"
      ],
      "execution_count": null,
      "outputs": [
        {
          "output_type": "execute_result",
          "data": {
            "text/plain": [
              "21.641412753226312"
            ]
          },
          "metadata": {},
          "execution_count": 95
        }
      ]
    },
    {
      "cell_type": "code",
      "metadata": {
        "colab": {
          "base_uri": "https://localhost:8080/",
          "height": 279
        },
        "id": "ynfpmLpVaIaB",
        "outputId": "5b41047d-33f2-4334-f3d5-2120dd8e69ad"
      },
      "source": [
        "plt.scatter(y_train, train_pred, alpha=0.5)\n",
        "plt.xlabel('actual')\n",
        "plt.ylabel('prediction')\n",
        "plt.grid()\n",
        "plt.show()"
      ],
      "execution_count": null,
      "outputs": [
        {
          "output_type": "display_data",
          "data": {
            "image/png": "[encoded data removed]",
            "text/plain": [
              "<Figure size 432x288 with 1 Axes>"
            ]
          },
          "metadata": {
            "needs_background": "light"
          }
        }
      ]
    },
    {
      "cell_type": "markdown",
      "metadata": {
        "id": "JvqIwQD9bbC8"
      },
      "source": [
        "## Ridge(l2)와 비교"
      ]
    },
    {
      "cell_type": "code",
      "metadata": {
        "id": "cEPT2p1Gahci"
      },
      "source": [
        "from sklearn.linear_model import Ridge"
      ],
      "execution_count": null,
      "outputs": []
    },
    {
      "cell_type": "code",
      "metadata": {
        "id": "xzxxoWdmbjEI"
      },
      "source": [
        "scaler = StandardScaler()\n",
        "reg = Ridge(alpha=0.0001)  # SGDRegressor의 alpha 기본값 사용\n",
        "model3 = Pipeline(steps=[('scaler', scaler),\n",
        "                         ('reg', reg)])"
      ],
      "execution_count": null,
      "outputs": []
    },
    {
      "cell_type": "code",
      "metadata": {
        "colab": {
          "base_uri": "https://localhost:8080/"
        },
        "id": "qUzxjk3rb_9A",
        "outputId": "4f74936d-bf7f-42fd-8a97-40bcd1a6aaf3"
      },
      "source": [
        "model3.fit(X_train, y_train)"
      ],
      "execution_count": null,
      "outputs": [
        {
          "output_type": "execute_result",
          "data": {
            "text/plain": [
              "Pipeline(memory=None,\n",
              "         steps=[('scaler',\n",
              "                 StandardScaler(copy=True, with_mean=True, with_std=True)),\n",
              "                ('reg',\n",
              "                 Ridge(alpha=0.0001, copy_X=True, fit_intercept=True,\n",
              "                       max_iter=None, normalize=False, random_state=None,\n",
              "                       solver='auto', tol=0.001))],\n",
              "         verbose=False)"
            ]
          },
          "metadata": {},
          "execution_count": 99
        }
      ]
    },
    {
      "cell_type": "code",
      "metadata": {
        "colab": {
          "base_uri": "https://localhost:8080/"
        },
        "id": "GldwIKeWcC4w",
        "outputId": "f078d4b4-8f6d-4627-d4dd-d4f83d108603"
      },
      "source": [
        "model3['reg'].intercept_"
      ],
      "execution_count": null,
      "outputs": [
        {
          "output_type": "execute_result",
          "data": {
            "text/plain": [
              "22.796534653465375"
            ]
          },
          "metadata": {},
          "execution_count": 100
        }
      ]
    },
    {
      "cell_type": "code",
      "metadata": {
        "colab": {
          "base_uri": "https://localhost:8080/"
        },
        "id": "hwddCMoGcIHI",
        "outputId": "574938a3-1fe4-4434-d29c-7cf8a70c207c"
      },
      "source": [
        "model3['reg'].coef_"
      ],
      "execution_count": null,
      "outputs": [
        {
          "output_type": "execute_result",
          "data": {
            "text/plain": [
              "array([-1.00213431,  0.69626671,  0.27806216,  0.71873879, -2.02231619,\n",
              "        3.14524023, -0.17604801, -3.08190386,  2.25139855, -1.76700633,\n",
              "       -2.0377505 ,  1.12956808, -3.61165713])"
            ]
          },
          "metadata": {},
          "execution_count": 101
        }
      ]
    },
    {
      "cell_type": "code",
      "metadata": {
        "colab": {
          "base_uri": "https://localhost:8080/"
        },
        "id": "AfSrgYGJcKvi",
        "outputId": "0e66db7b-4808-49d6-b61c-aaa4110733ac"
      },
      "source": [
        "train_pred = model3.predict(X_train)\n",
        "train_pred[:5]"
      ],
      "execution_count": null,
      "outputs": [
        {
          "output_type": "execute_result",
          "data": {
            "text/plain": [
              "array([10.96952198, 19.41196869, 23.06419908, 12.14706309, 18.37381376])"
            ]
          },
          "metadata": {},
          "execution_count": 102
        }
      ]
    },
    {
      "cell_type": "code",
      "metadata": {
        "colab": {
          "base_uri": "https://localhost:8080/"
        },
        "id": "Uok4VBrMcnz3",
        "outputId": "dee82128-6acf-4539-f9fa-92b6ec6af223"
      },
      "source": [
        "y_train[:5]"
      ],
      "execution_count": null,
      "outputs": [
        {
          "output_type": "execute_result",
          "data": {
            "text/plain": [
              "array([12. , 19.9, 19.4, 13.4, 18.2])"
            ]
          },
          "metadata": {},
          "execution_count": 103
        }
      ]
    },
    {
      "cell_type": "code",
      "metadata": {
        "colab": {
          "base_uri": "https://localhost:8080/",
          "height": 279
        },
        "id": "iuVg9qq-dFs4",
        "outputId": "7bdde957-eb72-4b80-edb8-090cbf8c2bd3"
      },
      "source": [
        "plt.scatter(y_train, train_pred, alpha=0.5)\n",
        "plt.xlabel('actual')\n",
        "plt.ylabel('prediction')\n",
        "plt.grid()\n",
        "plt.show()"
      ],
      "execution_count": null,
      "outputs": [
        {
          "output_type": "display_data",
          "data": {
            "image/png": "[encoded data removed]",
            "text/plain": [
              "<Figure size 432x288 with 1 Axes>"
            ]
          },
          "metadata": {
            "needs_background": "light"
          }
        }
      ]
    },
    {
      "cell_type": "code",
      "metadata": {
        "id": "7FS2uy1IdWBP"
      },
      "source": [
        ""
      ],
      "execution_count": null,
      "outputs": []
    }
  ]
}