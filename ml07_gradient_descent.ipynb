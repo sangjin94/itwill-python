{
  "nbformat": 4,
  "nbformat_minor": 0,
  "metadata": {
    "colab": {
      "name": "ml07_gradient_descent.ipynb",
      "provenance": [],
      "authorship_tag": "ABX9TyM2ldGyo7tjW44s0LnyN3LF",
      "include_colab_link": true
    },
    "kernelspec": {
      "name": "python3",
      "display_name": "Python 3"
    },
    "language_info": {
      "name": "python"
    }
  },
  "cells": [
    {
      "cell_type": "markdown",
      "metadata": {
        "id": "view-in-github",
        "colab_type": "text"
      },
      "source": [
        "<a href=\"https://colab.research.google.com/github/sangjin94/itwill-python/blob/main/ml07_gradient_descent.ipynb\" target=\"_parent\"><img src=\"https://colab.research.google.com/assets/colab-badge.svg\" alt=\"Open In Colab\"/></a>"
      ]
    },
    {
      "cell_type": "markdown",
      "metadata": {
        "id": "oq7CgamSInB5"
      },
      "source": [
        "# Gradient Descent(경사 하강법)"
      ]
    },
    {
      "cell_type": "code",
      "metadata": {
        "id": "SrnBNzEHIbsv"
      },
      "source": [
        "import numpy as np\n",
        "import pandas as pd\n",
        "import matplotlib.pyplot as plt"
      ],
      "execution_count": 1,
      "outputs": []
    },
    {
      "cell_type": "code",
      "metadata": {
        "colab": {
          "base_uri": "https://localhost:8080/",
          "height": 279
        },
        "id": "_6hGeGlKJoky",
        "outputId": "7f1b169a-afc5-4934-ae96-e01447ef081a"
      },
      "source": [
        "w=np.arange(-5,5,0.001)\n",
        "loss=w**2 # 손실 함수 : J(w):w^2\n",
        "\n",
        "plt.plot(w,loss)\n",
        "plt.grid()\n",
        "plt.xlabel('w')\n",
        "plt.ylabel('Loss')\n",
        "plt.show()"
      ],
      "execution_count": 2,
      "outputs": [
        {
          "output_type": "display_data",
          "data": {
            "image/png": "[encoded data removed]",
            "text/plain": [
              "<Figure size 432x288 with 1 Axes>"
            ]
          },
          "metadata": {
            "needs_background": "light"
          }
        }
      ]
    },
    {
      "cell_type": "code",
      "metadata": {
        "id": "gPxmHno1MoW5"
      },
      "source": [
        "# 임의의 w를 선택\n",
        "w_init = -4"
      ],
      "execution_count": 7,
      "outputs": []
    },
    {
      "cell_type": "code",
      "metadata": {
        "id": "0MReu7WIMrkz"
      },
      "source": [
        "# 선택한 w에서 비용함수의 접선의 기울기 계산\n",
        "grad= 2 * w_init"
      ],
      "execution_count": 8,
      "outputs": []
    },
    {
      "cell_type": "code",
      "metadata": {
        "id": "cZSTvv1kNzDl"
      },
      "source": [
        "# 최초의 w위치에서 기울기의 반대 방향으로 약간 이동\n",
        "w_next=w_init-grad*0.3\n",
        "w_next"
      ],
      "execution_count": 13,
      "outputs": []
    },
    {
      "cell_type": "code",
      "metadata": {
        "colab": {
          "base_uri": "https://localhost:8080/",
          "height": 265
        },
        "id": "Jvb6OtgqPs8w",
        "outputId": "b5e77c5d-bcef-4965-a913-c396b215b61f"
      },
      "source": [
        "# 비용 함수(loss function)을 시각화\n",
        "w= np.arange(-5,5,0.001)\n",
        "loss=w**2 \n",
        "plt.plot(w,loss,color='darkgray')\n",
        "# loss의 최솟값까지 이동하기 위해서 임의의 w에서 시작\n",
        "w_init= 4\n",
        "loss_init=w_init**2 # 임의의 시작값에서의 손실\n",
        "plt.scatter(w_init,loss_init,label='0')\n",
        "\n",
        "learning_rate=0.2 # 학습률 : gradient가 감소하는 방향으로 얼마나 빠르게 이동할 지를 결정하는 (하이퍼) 파라미터 \n",
        "# (0.1,0.2,0.3,0.5,0.8,1.0,1.1,... 테스트)\n",
        "for epoch in range(1,11): # 10번 반복 이동\n",
        "  # 현재 위치에서 gradient를 계산\n",
        "  grad = 2*w_init\n",
        "  # gradient가 감소하는 방향으로 약간 이동\n",
        "  w_new= w_init - grad*learning_rate\n",
        "  # 이동한 위치에서의 손실 계산\n",
        "  loss_new=w_new **2\n",
        "  # 이동한 위치를 시각화\n",
        "  plt.scatter(w_new,loss_new,label=f'{epoch}')\n",
        "  # 다음 이동을 위해서 현재 위치를 바뀐 새 위치로 변경\n",
        "  w_init=w_new\n",
        "\n",
        "plt.grid()\n",
        "plt.legend()\n",
        "plt.show()"
      ],
      "execution_count": 33,
      "outputs": [
        {
          "output_type": "display_data",
          "data": {
            "image/png": "[encoded data removed]",
            "text/plain": [
              "<Figure size 432x288 with 1 Axes>"
            ]
          },
          "metadata": {
            "needs_background": "light"
          }
        }
      ]
    },
    {
      "cell_type": "markdown",
      "metadata": {
        "id": "I6oAb6jDbm-2"
      },
      "source": [
        "** 학습률(learning rate) hyperparameter**\n",
        "\n",
        "* 학습률이 작은 경우에는 최솟값을 향해서 천천히 움직임.\n",
        "* 학습률이 큰 경우에는 최솟값을 향해서 빠르게 움직이거나 또는 불안정하게 움직일수 있음. \n",
        "* 학습률이 너무 작으면 최대 반복 횟수(max_iter)안에서 최솟값으로 수렴(convergence)하지 못할 수 있음. \n",
        "  * 수렴할 때까지 최대 반복 횟수를 늘려줌\n",
        "  * 학습률을 키워줌.\n",
        "* 학습률이 너무 크면 수렴하지 못하고 발산(divergence) 하는 경우가 발생하기도 함.\n",
        "  * 학습률을 줄여야 함.\n",
        "* ML 알고리즘 중에서는 처음에는 학습률을 크게 하고, 에포크(epoch,반복)가 진행될 때마다 학습률을 점점 작게 줄여 나가는 알고리즘도 있음. "
      ]
    },
    {
      "cell_type": "code",
      "metadata": {
        "id": "U_VD79dPUvBI"
      },
      "source": [
        ""
      ],
      "execution_count": null,
      "outputs": []
    }
  ]
}