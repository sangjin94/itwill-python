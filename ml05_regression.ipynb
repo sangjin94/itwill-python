{
  "nbformat": 4,
  "nbformat_minor": 0,
  "metadata": {
    "colab": {
      "name": "ml05_regression.ipynb",
      "provenance": [],
      "collapsed_sections": [],
      "include_colab_link": true
    },
    "kernelspec": {
      "name": "python3",
      "display_name": "Python 3"
    },
    "language_info": {
      "name": "python"
    }
  },
  "cells": [
    {
      "cell_type": "markdown",
      "metadata": {
        "id": "view-in-github",
        "colab_type": "text"
      },
      "source": [
        "<a href=\"https://colab.research.google.com/github/sangjin94/itwill-python/blob/main/ml05_regression.ipynb\" target=\"_parent\"><img src=\"https://colab.research.google.com/assets/colab-badge.svg\" alt=\"Open In Colab\"/></a>"
      ]
    },
    {
      "cell_type": "markdown",
      "metadata": {
        "id": "mxkq2Al751So"
      },
      "source": [
        "* Machine Learning(기계 학습)\n",
        "    * 지도학습(Superivised Learning): 레이블이 있는 데이터를 학습\n",
        "        * 분류(Classification): 클래스 분류\n",
        "        * 회귀(Regression): 숫자 예측\n",
        "    * 비지도학습(Unsupervised Learning): 레이블이 없는 데이터를 학습\n",
        "    * 강화학습(Reinforcement Learning): 보상/벌칙을 통해서 학습"
      ]
    },
    {
      "cell_type": "markdown",
      "metadata": {
        "id": "C-qIlAyRC4l9"
      },
      "source": [
        "# Objectives"
      ]
    },
    {
      "cell_type": "markdown",
      "metadata": {
        "id": "JqQiwGmT_0zv"
      },
      "source": [
        "Fish 데이터 셋에서 농어(Perch)의 무게(Weight)를 예측\n",
        "\n",
        "* 농어의 길이(Length)로만 무게 예측 - KNN, Linear Regression\n",
        "* 농어의 여러가지 특성들(Length, Diagonal, Height, Width)로 무게 예측 - Linear Regression"
      ]
    },
    {
      "cell_type": "markdown",
      "metadata": {
        "id": "USuE7cF8Ay1Z"
      },
      "source": [
        "# Imports"
      ]
    },
    {
      "cell_type": "code",
      "metadata": {
        "id": "FIWDgzR25sK7"
      },
      "source": [
        "import numpy as np\n",
        "import pandas as pd\n",
        "import matplotlib.pyplot as plt\n",
        "import seaborn as sns\n",
        "\n",
        "from sklearn.model_selection import train_test_split\n",
        "from sklearn.neighbors import KNeighborsRegressor  # ML 모델\n",
        "from sklearn.metrics import mean_absolute_error, mean_squared_error, r2_score\n",
        "from sklearn.linear_model import LinearRegression\n",
        "from sklearn.preprocessing import PolynomialFeatures # 다차항(독립)변수를 추가해 주는 변환기\n",
        "from sklearn.preprocessing import  StandardScaler # 표준화 변환기"
      ],
      "execution_count": 90,
      "outputs": []
    },
    {
      "cell_type": "markdown",
      "metadata": {
        "id": "qauPZv_ZC1pQ"
      },
      "source": [
        "# 데이터 준비"
      ]
    },
    {
      "cell_type": "code",
      "metadata": {
        "id": "BYSyvs8pCxtT"
      },
      "source": [
        "fish_csv = 'https://github.com/rickiepark/hg-mldl/raw/master/fish.csv'"
      ],
      "execution_count": 3,
      "outputs": []
    },
    {
      "cell_type": "code",
      "metadata": {
        "id": "pBWov_rQDVC6"
      },
      "source": [
        "fish = pd.read_csv(fish_csv)"
      ],
      "execution_count": 4,
      "outputs": []
    },
    {
      "cell_type": "code",
      "metadata": {
        "colab": {
          "base_uri": "https://localhost:8080/",
          "height": 204
        },
        "id": "1gPbKKWbDXsx",
        "outputId": "86e78871-c7b3-4dde-bce4-d373691b438b"
      },
      "source": [
        "fish.tail()"
      ],
      "execution_count": 5,
      "outputs": [
        {
          "output_type": "execute_result",
          "data": {
            "text/html": [
              "<div>\n",
              "<style scoped>\n",
              "    .dataframe tbody tr th:only-of-type {\n",
              "        vertical-align: middle;\n",
              "    }\n",
              "\n",
              "    .dataframe tbody tr th {\n",
              "        vertical-align: top;\n",
              "    }\n",
              "\n",
              "    .dataframe thead th {\n",
              "        text-align: right;\n",
              "    }\n",
              "</style>\n",
              "<table border=\"1\" class=\"dataframe\">\n",
              "  <thead>\n",
              "    <tr style=\"text-align: right;\">\n",
              "      <th></th>\n",
              "      <th>Species</th>\n",
              "      <th>Weight</th>\n",
              "      <th>Length</th>\n",
              "      <th>Diagonal</th>\n",
              "      <th>Height</th>\n",
              "      <th>Width</th>\n",
              "    </tr>\n",
              "  </thead>\n",
              "  <tbody>\n",
              "    <tr>\n",
              "      <th>154</th>\n",
              "      <td>Smelt</td>\n",
              "      <td>12.2</td>\n",
              "      <td>12.2</td>\n",
              "      <td>13.4</td>\n",
              "      <td>2.0904</td>\n",
              "      <td>1.3936</td>\n",
              "    </tr>\n",
              "    <tr>\n",
              "      <th>155</th>\n",
              "      <td>Smelt</td>\n",
              "      <td>13.4</td>\n",
              "      <td>12.4</td>\n",
              "      <td>13.5</td>\n",
              "      <td>2.4300</td>\n",
              "      <td>1.2690</td>\n",
              "    </tr>\n",
              "    <tr>\n",
              "      <th>156</th>\n",
              "      <td>Smelt</td>\n",
              "      <td>12.2</td>\n",
              "      <td>13.0</td>\n",
              "      <td>13.8</td>\n",
              "      <td>2.2770</td>\n",
              "      <td>1.2558</td>\n",
              "    </tr>\n",
              "    <tr>\n",
              "      <th>157</th>\n",
              "      <td>Smelt</td>\n",
              "      <td>19.7</td>\n",
              "      <td>14.3</td>\n",
              "      <td>15.2</td>\n",
              "      <td>2.8728</td>\n",
              "      <td>2.0672</td>\n",
              "    </tr>\n",
              "    <tr>\n",
              "      <th>158</th>\n",
              "      <td>Smelt</td>\n",
              "      <td>19.9</td>\n",
              "      <td>15.0</td>\n",
              "      <td>16.2</td>\n",
              "      <td>2.9322</td>\n",
              "      <td>1.8792</td>\n",
              "    </tr>\n",
              "  </tbody>\n",
              "</table>\n",
              "</div>"
            ],
            "text/plain": [
              "    Species  Weight  Length  Diagonal  Height   Width\n",
              "154   Smelt    12.2    12.2      13.4  2.0904  1.3936\n",
              "155   Smelt    13.4    12.4      13.5  2.4300  1.2690\n",
              "156   Smelt    12.2    13.0      13.8  2.2770  1.2558\n",
              "157   Smelt    19.7    14.3      15.2  2.8728  2.0672\n",
              "158   Smelt    19.9    15.0      16.2  2.9322  1.8792"
            ]
          },
          "metadata": {},
          "execution_count": 5
        }
      ]
    },
    {
      "cell_type": "code",
      "metadata": {
        "id": "-Zr9pXzcDZTB"
      },
      "source": [
        "# fish DataFrame에서 'Perch'(농어) 어종만 선택\n",
        "perch = fish[fish.Species == 'Perch']"
      ],
      "execution_count": 6,
      "outputs": []
    },
    {
      "cell_type": "code",
      "metadata": {
        "colab": {
          "base_uri": "https://localhost:8080/",
          "height": 204
        },
        "id": "i3a5F_f0Dw8S",
        "outputId": "cb3e693f-dec6-43d3-d344-4810d5f1def6"
      },
      "source": [
        "perch.head()"
      ],
      "execution_count": 7,
      "outputs": [
        {
          "output_type": "execute_result",
          "data": {
            "text/html": [
              "<div>\n",
              "<style scoped>\n",
              "    .dataframe tbody tr th:only-of-type {\n",
              "        vertical-align: middle;\n",
              "    }\n",
              "\n",
              "    .dataframe tbody tr th {\n",
              "        vertical-align: top;\n",
              "    }\n",
              "\n",
              "    .dataframe thead th {\n",
              "        text-align: right;\n",
              "    }\n",
              "</style>\n",
              "<table border=\"1\" class=\"dataframe\">\n",
              "  <thead>\n",
              "    <tr style=\"text-align: right;\">\n",
              "      <th></th>\n",
              "      <th>Species</th>\n",
              "      <th>Weight</th>\n",
              "      <th>Length</th>\n",
              "      <th>Diagonal</th>\n",
              "      <th>Height</th>\n",
              "      <th>Width</th>\n",
              "    </tr>\n",
              "  </thead>\n",
              "  <tbody>\n",
              "    <tr>\n",
              "      <th>72</th>\n",
              "      <td>Perch</td>\n",
              "      <td>5.9</td>\n",
              "      <td>8.4</td>\n",
              "      <td>8.8</td>\n",
              "      <td>2.1120</td>\n",
              "      <td>1.4080</td>\n",
              "    </tr>\n",
              "    <tr>\n",
              "      <th>73</th>\n",
              "      <td>Perch</td>\n",
              "      <td>32.0</td>\n",
              "      <td>13.7</td>\n",
              "      <td>14.7</td>\n",
              "      <td>3.5280</td>\n",
              "      <td>1.9992</td>\n",
              "    </tr>\n",
              "    <tr>\n",
              "      <th>74</th>\n",
              "      <td>Perch</td>\n",
              "      <td>40.0</td>\n",
              "      <td>15.0</td>\n",
              "      <td>16.0</td>\n",
              "      <td>3.8240</td>\n",
              "      <td>2.4320</td>\n",
              "    </tr>\n",
              "    <tr>\n",
              "      <th>75</th>\n",
              "      <td>Perch</td>\n",
              "      <td>51.5</td>\n",
              "      <td>16.2</td>\n",
              "      <td>17.2</td>\n",
              "      <td>4.5924</td>\n",
              "      <td>2.6316</td>\n",
              "    </tr>\n",
              "    <tr>\n",
              "      <th>76</th>\n",
              "      <td>Perch</td>\n",
              "      <td>70.0</td>\n",
              "      <td>17.4</td>\n",
              "      <td>18.5</td>\n",
              "      <td>4.5880</td>\n",
              "      <td>2.9415</td>\n",
              "    </tr>\n",
              "  </tbody>\n",
              "</table>\n",
              "</div>"
            ],
            "text/plain": [
              "   Species  Weight  Length  Diagonal  Height   Width\n",
              "72   Perch     5.9     8.4       8.8  2.1120  1.4080\n",
              "73   Perch    32.0    13.7      14.7  3.5280  1.9992\n",
              "74   Perch    40.0    15.0      16.0  3.8240  2.4320\n",
              "75   Perch    51.5    16.2      17.2  4.5924  2.6316\n",
              "76   Perch    70.0    17.4      18.5  4.5880  2.9415"
            ]
          },
          "metadata": {},
          "execution_count": 7
        }
      ]
    },
    {
      "cell_type": "code",
      "metadata": {
        "colab": {
          "base_uri": "https://localhost:8080/"
        },
        "id": "GVOc58BHDyga",
        "outputId": "25ef3c36-e740-4a48-c34b-70b0c7376dfe"
      },
      "source": [
        "perch.info()"
      ],
      "execution_count": 8,
      "outputs": [
        {
          "output_type": "stream",
          "text": [
            "<class 'pandas.core.frame.DataFrame'>\n",
            "Int64Index: 56 entries, 72 to 127\n",
            "Data columns (total 6 columns):\n",
            " #   Column    Non-Null Count  Dtype  \n",
            "---  ------    --------------  -----  \n",
            " 0   Species   56 non-null     object \n",
            " 1   Weight    56 non-null     float64\n",
            " 2   Length    56 non-null     float64\n",
            " 3   Diagonal  56 non-null     float64\n",
            " 4   Height    56 non-null     float64\n",
            " 5   Width     56 non-null     float64\n",
            "dtypes: float64(5), object(1)\n",
            "memory usage: 3.1+ KB\n"
          ],
          "name": "stdout"
        }
      ]
    },
    {
      "cell_type": "markdown",
      "metadata": {
        "id": "Ut-rFBw-EPPJ"
      },
      "source": [
        "농어의 길이(Length)를 알면 무게(Weight) 예측할 수 있을까?\n",
        "\n",
        "* 독립변수(feature) - Length\n",
        "* 종속변수(label, target) - Weight"
      ]
    },
    {
      "cell_type": "code",
      "metadata": {
        "colab": {
          "base_uri": "https://localhost:8080/"
        },
        "id": "bmL81pleD6aC",
        "outputId": "56f2a416-f79c-4024-ef9d-bb7061c34d4c"
      },
      "source": [
        "# 종속변수\n",
        "perch_weight = perch['Weight'].values\n",
        "perch_weight  # label은 1d array"
      ],
      "execution_count": 9,
      "outputs": [
        {
          "output_type": "execute_result",
          "data": {
            "text/plain": [
              "array([   5.9,   32. ,   40. ,   51.5,   70. ,  100. ,   78. ,   80. ,\n",
              "         85. ,   85. ,  110. ,  115. ,  125. ,  130. ,  120. ,  120. ,\n",
              "        130. ,  135. ,  110. ,  130. ,  150. ,  145. ,  150. ,  170. ,\n",
              "        225. ,  145. ,  188. ,  180. ,  197. ,  218. ,  300. ,  260. ,\n",
              "        265. ,  250. ,  250. ,  300. ,  320. ,  514. ,  556. ,  840. ,\n",
              "        685. ,  700. ,  700. ,  690. ,  900. ,  650. ,  820. ,  850. ,\n",
              "        900. , 1015. ,  820. , 1100. , 1000. , 1100. , 1000. , 1000. ])"
            ]
          },
          "metadata": {},
          "execution_count": 9
        }
      ]
    },
    {
      "cell_type": "code",
      "metadata": {
        "colab": {
          "base_uri": "https://localhost:8080/"
        },
        "id": "LXkjwvNSEqOL",
        "outputId": "0977a6d1-df86-4487-8938-16c990e38416"
      },
      "source": [
        "# 독립변수\n",
        "perch_length = perch[['Length']].values\n",
        "perch_length  # feature는 2d array"
      ],
      "execution_count": 10,
      "outputs": [
        {
          "output_type": "execute_result",
          "data": {
            "text/plain": [
              "array([[ 8.4],\n",
              "       [13.7],\n",
              "       [15. ],\n",
              "       [16.2],\n",
              "       [17.4],\n",
              "       [18. ],\n",
              "       [18.7],\n",
              "       [19. ],\n",
              "       [19.6],\n",
              "       [20. ],\n",
              "       [21. ],\n",
              "       [21. ],\n",
              "       [21. ],\n",
              "       [21.3],\n",
              "       [22. ],\n",
              "       [22. ],\n",
              "       [22. ],\n",
              "       [22. ],\n",
              "       [22. ],\n",
              "       [22.5],\n",
              "       [22.5],\n",
              "       [22.7],\n",
              "       [23. ],\n",
              "       [23.5],\n",
              "       [24. ],\n",
              "       [24. ],\n",
              "       [24.6],\n",
              "       [25. ],\n",
              "       [25.6],\n",
              "       [26.5],\n",
              "       [27.3],\n",
              "       [27.5],\n",
              "       [27.5],\n",
              "       [27.5],\n",
              "       [28. ],\n",
              "       [28.7],\n",
              "       [30. ],\n",
              "       [32.8],\n",
              "       [34.5],\n",
              "       [35. ],\n",
              "       [36.5],\n",
              "       [36. ],\n",
              "       [37. ],\n",
              "       [37. ],\n",
              "       [39. ],\n",
              "       [39. ],\n",
              "       [39. ],\n",
              "       [40. ],\n",
              "       [40. ],\n",
              "       [40. ],\n",
              "       [40. ],\n",
              "       [42. ],\n",
              "       [43. ],\n",
              "       [43. ],\n",
              "       [43.5],\n",
              "       [44. ]])"
            ]
          },
          "metadata": {},
          "execution_count": 10
        }
      ]
    },
    {
      "cell_type": "code",
      "metadata": {
        "colab": {
          "base_uri": "https://localhost:8080/",
          "height": 295
        },
        "id": "IhEkznV3GpKh",
        "outputId": "555ceab0-cada-49bb-ab93-9e97c024d24f"
      },
      "source": [
        "# Weight ~ Length scatter plot\n",
        "plt.scatter(perch_length, perch_weight, alpha=0.5)\n",
        "plt.title('Perch')\n",
        "plt.xlabel('Length (cm)')\n",
        "plt.ylabel('Weight (g)')\n",
        "plt.grid()\n",
        "plt.show()"
      ],
      "execution_count": 11,
      "outputs": [
        {
          "output_type": "display_data",
          "data": {
            "image/png": "[encoded data removed]",
            "text/plain": [
              "<Figure size 432x288 with 1 Axes>"
            ]
          },
          "metadata": {
            "needs_background": "light"
          }
        }
      ]
    },
    {
      "cell_type": "code",
      "metadata": {
        "id": "uHPzpMR2HAXU"
      },
      "source": [
        "# X: 특성 행렬(2d array), y: 타겟 벡터(1d array)\n",
        "X = perch_length.copy()\n",
        "y = perch_weight.copy()"
      ],
      "execution_count": 12,
      "outputs": []
    },
    {
      "cell_type": "code",
      "metadata": {
        "colab": {
          "base_uri": "https://localhost:8080/"
        },
        "id": "nNDdTAsjIEOD",
        "outputId": "79994f36-1c51-4760-cd6a-597c133ac306"
      },
      "source": [
        "X.shape, y.shape"
      ],
      "execution_count": 13,
      "outputs": [
        {
          "output_type": "execute_result",
          "data": {
            "text/plain": [
              "((56, 1), (56,))"
            ]
          },
          "metadata": {},
          "execution_count": 13
        }
      ]
    },
    {
      "cell_type": "markdown",
      "metadata": {
        "id": "o-i-awjZIXwj"
      },
      "source": [
        "# Train/test split"
      ]
    },
    {
      "cell_type": "code",
      "metadata": {
        "id": "kGpdWD8GIFZs"
      },
      "source": [
        "X_train, X_test, y_train, y_test = train_test_split(X, y,\n",
        "                                                    test_size=0.25,\n",
        "                                                    random_state=42)\n",
        "# shuffle=True(default): random sampling이 기본값"
      ],
      "execution_count": 14,
      "outputs": []
    },
    {
      "cell_type": "code",
      "metadata": {
        "colab": {
          "base_uri": "https://localhost:8080/"
        },
        "id": "Np6EuLx9NaJm",
        "outputId": "4d756222-c91c-4078-e8c8-5d3dd3a01217"
      },
      "source": [
        "X_train.shape, X_test.shape, y_train.shape, y_test.shape"
      ],
      "execution_count": 15,
      "outputs": [
        {
          "output_type": "execute_result",
          "data": {
            "text/plain": [
              "((42, 1), (14, 1), (42,), (14,))"
            ]
          },
          "metadata": {},
          "execution_count": 15
        }
      ]
    },
    {
      "cell_type": "code",
      "metadata": {
        "colab": {
          "base_uri": "https://localhost:8080/",
          "height": 279
        },
        "id": "-eNZer4pNeD9",
        "outputId": "25bfb606-cbe1-4a74-9c41-e03f4f6ee28f"
      },
      "source": [
        "# train/test set 시각화\n",
        "plt.scatter(X_train, y_train, label='Train set', alpha=0.5)\n",
        "plt.scatter(X_test, y_test, label='Test set', alpha=0.5, color='red')\n",
        "plt.xlabel('Length (cm)')\n",
        "plt.ylabel('Weight (g)')\n",
        "plt.legend()\n",
        "plt.show()"
      ],
      "execution_count": 16,
      "outputs": [
        {
          "output_type": "display_data",
          "data": {
            "image/png": "[encoded data removed]",
            "text/plain": [
              "<Figure size 432x288 with 1 Axes>"
            ]
          },
          "metadata": {
            "needs_background": "light"
          }
        }
      ]
    },
    {
      "cell_type": "markdown",
      "metadata": {
        "id": "joLrWPwZOqkt"
      },
      "source": [
        "# KNN Regressor 모델 훈련, 평가"
      ]
    },
    {
      "cell_type": "markdown",
      "metadata": {
        "id": "uMfzOcT_Q2b6"
      },
      "source": [
        "KNN Regressor: 가장 가까운 k개의 이웃들의 레이블(타겟)의 평균값으로 숫자를 예측."
      ]
    },
    {
      "cell_type": "code",
      "metadata": {
        "id": "1XFGHv7qRP8R"
      },
      "source": [
        "knn_reg = KNeighborsRegressor()  # k=5인 KNN 모델 생성"
      ],
      "execution_count": 17,
      "outputs": []
    },
    {
      "cell_type": "code",
      "metadata": {
        "colab": {
          "base_uri": "https://localhost:8080/"
        },
        "id": "A9BMvHN6RXCP",
        "outputId": "86a35192-8cb7-4a6b-c45f-84f4825b2777"
      },
      "source": [
        "knn_reg.fit(X_train, y_train)  # 모델 훈련"
      ],
      "execution_count": 18,
      "outputs": [
        {
          "output_type": "execute_result",
          "data": {
            "text/plain": [
              "KNeighborsRegressor(algorithm='auto', leaf_size=30, metric='minkowski',\n",
              "                    metric_params=None, n_jobs=None, n_neighbors=5, p=2,\n",
              "                    weights='uniform')"
            ]
          },
          "metadata": {},
          "execution_count": 18
        }
      ]
    },
    {
      "cell_type": "code",
      "metadata": {
        "colab": {
          "base_uri": "https://localhost:8080/"
        },
        "id": "4RJHYml0Rqan",
        "outputId": "830b6115-7f9c-4618-920d-046217fd1c37"
      },
      "source": [
        "train_pred = knn_reg.predict(X_train)  # train set의 예측값\n",
        "train_pred"
      ],
      "execution_count": 19,
      "outputs": [
        {
          "output_type": "execute_result",
          "data": {
            "text/plain": [
              "array([  88.6,  123. ,   79.6,   70.6,  723. ,  193. ,  847. ,  847. ,\n",
              "       1010. ,  123. ,   95. ,  123. ,  174. ,  248. , 1010. ,  847. ,\n",
              "        174. ,  113. ,  248. ,  847. ,  659. ,  224. ,  723. ,   60. ,\n",
              "        140. ,   60. ,  719. ,  694.2,  248. ,  167. ,  847. ,  113. ,\n",
              "        168. ,  123. , 1010. ,  136. ,   79.6,  719. ,  123. ,  193. ,\n",
              "        990. ,  659. ])"
            ]
          },
          "metadata": {},
          "execution_count": 19
        }
      ]
    },
    {
      "cell_type": "code",
      "metadata": {
        "colab": {
          "base_uri": "https://localhost:8080/"
        },
        "id": "QoGDeB2GSLQA",
        "outputId": "1c0a8fec-1976-4598-e076-e3006416ebdc"
      },
      "source": [
        "y_train  # train set의 실젯값"
      ],
      "execution_count": 20,
      "outputs": [
        {
          "output_type": "execute_result",
          "data": {
            "text/plain": [
              "array([  85.,  135.,   78.,   70.,  700.,  180.,  850.,  820., 1000.,\n",
              "        120.,   85.,  130.,  225.,  260., 1100.,  900.,  145.,  115.,\n",
              "        265., 1015.,  514.,  218.,  685.,   32.,  145.,   40.,  690.,\n",
              "        840.,  300.,  170.,  650.,  110.,  150.,  110., 1000.,  150.,\n",
              "         80.,  700.,  120.,  197., 1100.,  556.])"
            ]
          },
          "metadata": {},
          "execution_count": 20
        }
      ]
    },
    {
      "cell_type": "code",
      "metadata": {
        "colab": {
          "base_uri": "https://localhost:8080/"
        },
        "id": "oYJ63VqMSVEB",
        "outputId": "cbe451aa-e09c-4533-c334-53098e6c3b0c"
      },
      "source": [
        "# MSE(Mean Squared Errors): 오차 제곱의 평균\n",
        "# RMSE(Root Mean Squared Errors): 오차 제곱의 평균의 제곱근\n",
        "print('MSE:', mean_squared_error(y_train, train_pred))\n",
        "print('RMSE:', np.sqrt(mean_squared_error(y_train, train_pred)))"
      ],
      "execution_count": 21,
      "outputs": [
        {
          "output_type": "stream",
          "text": [
            "MSE: 3716.5161904761903\n",
            "RMSE: 60.96323638453089\n"
          ],
          "name": "stdout"
        }
      ]
    },
    {
      "cell_type": "code",
      "metadata": {
        "colab": {
          "base_uri": "https://localhost:8080/"
        },
        "id": "0VL6WxNlVAl6",
        "outputId": "c27facc9-0517-4f30-e44a-17fbb2df66e7"
      },
      "source": [
        "# MAE(Mean Absolute Errors): 오차 절대값의 평균\n",
        "mean_absolute_error(y_train, train_pred)"
      ],
      "execution_count": 22,
      "outputs": [
        {
          "output_type": "execute_result",
          "data": {
            "text/plain": [
              "35.76190476190476"
            ]
          },
          "metadata": {},
          "execution_count": 22
        }
      ]
    },
    {
      "cell_type": "markdown",
      "metadata": {
        "id": "oqIV_R3aWwCe"
      },
      "source": [
        "일반적인 평가 지표는 점수가 높을 수록 좋은 모델, 점수가 낮을 수록 나쁜 모델.\n",
        "\n",
        "그런데, 회귀 문제에서는 오차는 작을 수록 좋은 모델이고, 오차가 클 수록 나쁜 모델.\n",
        "\n",
        "회귀에서도 점수가 높을 수록(1에 가까울 수록) 좋은 모델이고, 점수 낮을 수록 나쁜 모델로 평가할 수 있는 지표 개발 ---> $R^2$ score"
      ]
    },
    {
      "cell_type": "code",
      "metadata": {
        "colab": {
          "base_uri": "https://localhost:8080/"
        },
        "id": "VI-1bttvVR3S",
        "outputId": "5551fb61-14c6-4ed4-9027-5a8e60709fa5"
      },
      "source": [
        "# R^2 score(결정 계수): 1에 가까울 수록 오차가 적은 모델, 더 좋은 모델.\n",
        "r2_score(y_train, train_pred)"
      ],
      "execution_count": 23,
      "outputs": [
        {
          "output_type": "execute_result",
          "data": {
            "text/plain": [
              "0.9698823289099254"
            ]
          },
          "metadata": {},
          "execution_count": 23
        }
      ]
    },
    {
      "cell_type": "markdown",
      "metadata": {
        "id": "mLCqrJ-Iaggb"
      },
      "source": [
        "* $ y_i $ : $i$번째 샘플의 실젯값(label)\n",
        "* $ \\hat{y_i} $ : $i$번째 샘플의 예측값\n",
        "* $ \\bar{y} $ : 타겟의 평균값\n",
        "* $ n $ : 샘플 개수\n",
        "\n",
        "* MAE(Mean Absolute Errors)\n",
        "$$\n",
        "MAE = \\frac{1}{n} \\sum_{i=1}^{n} \\lvert y_i - \\hat{y_i} \\rvert\n",
        "$$\n",
        "\n",
        "* MSE(Mean Squared Errors)\n",
        "$$\n",
        "MSE = \\frac{1}{n} \\sum_{i=1}^{n} ( y_i - \\hat{y_i} )^2\n",
        "$$\n",
        "\n",
        "* RMSE(Root Mean Squared Errors)\n",
        "$$\n",
        "RMSE = \\sqrt{ \\frac{1}{n} \\sum_{i=1}^{n} ( y_i - \\hat{y_i} )^2 }\n",
        "$$\n",
        "\n",
        "* $ R^2 $ score(Coefficient of determinant, 결정 계수)\n",
        "$$\n",
        "R^2 = 1 - \\dfrac{ \\sum_{i=1}^{n} (y_i - \\hat{y_i})^2 }\n",
        "                { \\sum_{i=1}^{n} (y_i - \\bar{y})^2 }\n",
        "$$\n",
        "    * 결정 계수는 최댓값이 1이 되도록 만든 평가 지표.\n",
        "    * 모델이 타겟을 오차없이 정확하게 예측하면, 실제값 - 예측값 = 0 이므로, 결정 계수는 최댓값 1이 됨.\n",
        "    * 모델이 타겟을 매우 비슷하게 예측하면, 오차가 매우 작으면 분자가 0에 가까운 값이 되므로, 결정 계수는 1보다는 작지만 1에 가까운 값이 됨.\n",
        "    * 모델이 타겟의 평균으로만 예측하는 정도라면, (분자) = (분모) 이므로, 결정 계수는 0이 됨.\n",
        "    * 모델이 타겟의 평균 정도도 예측하지 못하면(오차가 매우 크면), (분자) > (분모)일 수 있고, 그런 경우 결정 계수는 음수가 될 수 있음."
      ]
    },
    {
      "cell_type": "code",
      "metadata": {
        "colab": {
          "base_uri": "https://localhost:8080/"
        },
        "id": "IjYFCK27VdL5",
        "outputId": "90a436da-2cd2-4d90-8cd1-70803c2a2e80"
      },
      "source": [
        "# 테스트 셋의 결정 계수(R^2 score)\n",
        "test_pred = knn_reg.predict(X_test)\n",
        "r2_score(y_test, test_pred)\n",
        "#> train set R^2 < test set R^2: 과소적합(underfitting)"
      ],
      "execution_count": 24,
      "outputs": [
        {
          "output_type": "execute_result",
          "data": {
            "text/plain": [
              "0.992809406101064"
            ]
          },
          "metadata": {},
          "execution_count": 24
        }
      ]
    },
    {
      "cell_type": "markdown",
      "metadata": {
        "id": "jjsvVC1rj7DI"
      },
      "source": [
        "# k값에 따른 $R^2$ 시각화"
      ]
    },
    {
      "cell_type": "code",
      "metadata": {
        "id": "dGl5ZSMWjk8o"
      },
      "source": [
        "train_scores = []  # train set의 결정 계수(R^2)들을 저장할 리스트\n",
        "test_scores = []  # test set의 결정 계수(R^2)들을 저장할 리스트\n",
        "\n",
        "k_values = np.arange(1, 15)\n",
        "for k in k_values:  # 1 ~ 14까지 k값에 따라서 반복\n",
        "    knn = KNeighborsRegressor(n_neighbors=k)  # KNN 회귀 모델 생성\n",
        "    knn.fit(X_train, y_train)  # 모델 훈련\n",
        "    # 훈련 셋 평가 점수 계산, 저장\n",
        "    train_pred = knn.predict(X_train)\n",
        "    train_r2 = r2_score(y_train, train_pred)\n",
        "    train_scores.append(train_r2)\n",
        "    # 테스트 셋 평가 점수 계산, 저장\n",
        "    test_pred = knn.predict(X_test)\n",
        "    test_r2 = r2_score(y_test, test_pred)\n",
        "    test_scores.append(test_r2)"
      ],
      "execution_count": 25,
      "outputs": []
    },
    {
      "cell_type": "code",
      "metadata": {
        "id": "-new2UCYkU8s",
        "colab": {
          "base_uri": "https://localhost:8080/"
        },
        "outputId": "4fc2d254-cf97-4ddc-eef0-d9e1ed8f3d6d"
      },
      "source": [
        "train_scores"
      ],
      "execution_count": 26,
      "outputs": [
        {
          "output_type": "execute_result",
          "data": {
            "text/plain": [
              "[0.9852830341215901,\n",
              " 0.9828437127041165,\n",
              " 0.9804899950518966,\n",
              " 0.978211389719245,\n",
              " 0.9698823289099254,\n",
              " 0.9757140960298665,\n",
              " 0.9761170732051527,\n",
              " 0.9697604397763201,\n",
              " 0.9693310367551284,\n",
              " 0.96164569026043,\n",
              " 0.9515761381539326,\n",
              " 0.9467103631225754,\n",
              " 0.9413423450130075,\n",
              " 0.9429470576557883]"
            ]
          },
          "metadata": {},
          "execution_count": 26
        }
      ]
    },
    {
      "cell_type": "code",
      "metadata": {
        "id": "o9GCGOpSkWVo",
        "colab": {
          "base_uri": "https://localhost:8080/"
        },
        "outputId": "92ccf488-c412-40e5-9d8c-6879688376c9"
      },
      "source": [
        "test_scores"
      ],
      "execution_count": 27,
      "outputs": [
        {
          "output_type": "execute_result",
          "data": {
            "text/plain": [
              "[0.991309195814175,\n",
              " 0.9725010241788556,\n",
              " 0.9746459963987609,\n",
              " 0.9840231023848637,\n",
              " 0.992809406101064,\n",
              " 0.9855001139899048,\n",
              " 0.9781383949643516,\n",
              " 0.9780541148735824,\n",
              " 0.9692647749722698,\n",
              " 0.9737908255822255,\n",
              " 0.970279643030474,\n",
              " 0.967703620310643,\n",
              " 0.9639044643206888,\n",
              " 0.9615046463124021]"
            ]
          },
          "metadata": {},
          "execution_count": 27
        }
      ]
    },
    {
      "cell_type": "code",
      "metadata": {
        "colab": {
          "base_uri": "https://localhost:8080/",
          "height": 279
        },
        "id": "Bavb-G4QvRCi",
        "outputId": "a1f38407-935d-4a8c-f4ab-b907b58f83e8"
      },
      "source": [
        "plt.plot(k_values, train_scores, 'bo-', label='Train score')\n",
        "plt.plot(k_values, test_scores, 'ro:', label='Test score')\n",
        "plt.xlabel('k')\n",
        "plt.ylabel('R^2 score')\n",
        "plt.grid()\n",
        "plt.legend()\n",
        "plt.show()"
      ],
      "execution_count": 28,
      "outputs": [
        {
          "output_type": "display_data",
          "data": {
            "image/png": "[encoded data removed]",
            "text/plain": [
              "<Figure size 432x288 with 1 Axes>"
            ]
          },
          "metadata": {
            "needs_background": "light"
          }
        }
      ]
    },
    {
      "cell_type": "markdown",
      "metadata": {
        "id": "Kc-KkXh4xGA-"
      },
      "source": [
        "# KNN Regressor 모델의 문제점"
      ]
    },
    {
      "cell_type": "code",
      "metadata": {
        "colab": {
          "base_uri": "https://localhost:8080/",
          "height": 265
        },
        "id": "H7QxDeLSviYJ",
        "outputId": "b85f8994-57d3-4202-d1f5-f0ccdff3c109"
      },
      "source": [
        "# train set 시각화\n",
        "plt.scatter(X_train, y_train)\n",
        "\n",
        "# 길이가 50cm, 무게가 1,500g인 가상의 농어(perch) 데이터\n",
        "test_fish_l = [[50]]  # 특성 - 2차원 배열\n",
        "test_fish_w = [1_500]  # 레이블 - 1차원 배열\n",
        "plt.scatter(test_fish_l, test_fish_w, color='red', marker='v')\n",
        "\n",
        "plt.grid()\n",
        "plt.show()"
      ],
      "execution_count": 29,
      "outputs": [
        {
          "output_type": "display_data",
          "data": {
            "image/png": "[encoded data removed]",
            "text/plain": [
              "<Figure size 432x288 with 1 Axes>"
            ]
          },
          "metadata": {
            "needs_background": "light"
          }
        }
      ]
    },
    {
      "cell_type": "code",
      "metadata": {
        "colab": {
          "base_uri": "https://localhost:8080/"
        },
        "id": "e_h7KVdmxp9B",
        "outputId": "733e38ff-e2c0-4e1c-b351-a0e2e25659b7"
      },
      "source": [
        "# k=5인 KNN 회귀 모델로 가상의 물고기 데이터 예측값 계산\n",
        "test_fish_pred = knn_reg.predict(test_fish_l)\n",
        "test_fish_pred"
      ],
      "execution_count": 30,
      "outputs": [
        {
          "output_type": "execute_result",
          "data": {
            "text/plain": [
              "array([1010.])"
            ]
          },
          "metadata": {},
          "execution_count": 30
        }
      ]
    },
    {
      "cell_type": "code",
      "metadata": {
        "colab": {
          "base_uri": "https://localhost:8080/"
        },
        "id": "2ZLncEqGz7Yu",
        "outputId": "72f1c5a9-df89-4a5b-d348-41b3a6578c3e"
      },
      "source": [
        "# KNN 모델에서 가장 가까운 이웃 찾기\n",
        "neigh_indices = knn_reg.kneighbors(X=test_fish_l, return_distance=False)\n",
        "print(neigh_indices)     # 2d array\n",
        "print(neigh_indices[0])  # 1d array"
      ],
      "execution_count": 31,
      "outputs": [
        {
          "output_type": "stream",
          "text": [
            "[[34 14  8 40  6]]\n",
            "[34 14  8 40  6]\n"
          ],
          "name": "stdout"
        }
      ]
    },
    {
      "cell_type": "code",
      "metadata": {
        "colab": {
          "base_uri": "https://localhost:8080/"
        },
        "id": "Bx4WScLC0xXQ",
        "outputId": "98aac818-3607-4beb-d796-3ab04591abac"
      },
      "source": [
        "# 가장 가까운 이웃 5개 생선의 Length\n",
        "X_train[neigh_indices[0]]"
      ],
      "execution_count": 32,
      "outputs": [
        {
          "output_type": "execute_result",
          "data": {
            "text/plain": [
              "array([[44.],\n",
              "       [43.],\n",
              "       [43.],\n",
              "       [42.],\n",
              "       [40.]])"
            ]
          },
          "metadata": {},
          "execution_count": 32
        }
      ]
    },
    {
      "cell_type": "code",
      "metadata": {
        "colab": {
          "base_uri": "https://localhost:8080/"
        },
        "id": "2IKJ-K7j1d5C",
        "outputId": "2e3c68ce-2ce2-4e28-cc36-4f0e61f6cf04"
      },
      "source": [
        "# 가장 가까운 이웃 5개 생선의 Weight\n",
        "y_train[neigh_indices[0]]"
      ],
      "execution_count": 33,
      "outputs": [
        {
          "output_type": "execute_result",
          "data": {
            "text/plain": [
              "array([1000., 1100., 1000., 1100.,  850.])"
            ]
          },
          "metadata": {},
          "execution_count": 33
        }
      ]
    },
    {
      "cell_type": "markdown",
      "metadata": {
        "id": "GIvtrG123zg3"
      },
      "source": [
        "* 머신 러닝 알고리즘\n",
        "    * 사례 기반 학습(instance-based learning): KNN\n",
        "    * 모델 기반 학습(model-based learning): Linear Regression"
      ]
    },
    {
      "cell_type": "markdown",
      "metadata": {
        "id": "Gbv0hg9N4SkP"
      },
      "source": [
        "# Linear Regression"
      ]
    },
    {
      "cell_type": "code",
      "metadata": {
        "colab": {
          "base_uri": "https://localhost:8080/"
        },
        "id": "PdqkWGHr4UnH",
        "outputId": "9d6ed540-7e60-4a5f-88b1-48bc1aadf7fd"
      },
      "source": [
        "X_train[:5]"
      ],
      "execution_count": 34,
      "outputs": [
        {
          "output_type": "execute_result",
          "data": {
            "text/plain": [
              "array([[19.6],\n",
              "       [22. ],\n",
              "       [18.7],\n",
              "       [17.4],\n",
              "       [36. ]])"
            ]
          },
          "metadata": {},
          "execution_count": 34
        }
      ]
    },
    {
      "cell_type": "code",
      "metadata": {
        "colab": {
          "base_uri": "https://localhost:8080/"
        },
        "id": "__F6k31L9dFd",
        "outputId": "9acee98f-8057-4ce8-b0c0-f09d38e3439c"
      },
      "source": [
        "y_train[:5]"
      ],
      "execution_count": 35,
      "outputs": [
        {
          "output_type": "execute_result",
          "data": {
            "text/plain": [
              "array([ 85., 135.,  78.,  70., 700.])"
            ]
          },
          "metadata": {},
          "execution_count": 35
        }
      ]
    },
    {
      "cell_type": "code",
      "metadata": {
        "id": "fe5Si1b39h6F"
      },
      "source": [
        "lin_reg = LinearRegression()  # 선형 회귀 모델 생성"
      ],
      "execution_count": 36,
      "outputs": []
    },
    {
      "cell_type": "code",
      "metadata": {
        "colab": {
          "base_uri": "https://localhost:8080/"
        },
        "id": "R6X-1TyUAyUx",
        "outputId": "97f31d7b-1e10-443e-d20c-bdc6899fa3b5"
      },
      "source": [
        "lin_reg.fit(X_train, y_train)  # 선형 회귀 모델 훈련\n",
        "# y_hat = w_0 + w_1 * X 예측값과 실제값 y 사이의 오차(y - y_hat)를 최소화하는 w_0, w_1을 찾는 과정."
      ],
      "execution_count": 37,
      "outputs": [
        {
          "output_type": "execute_result",
          "data": {
            "text/plain": [
              "LinearRegression(copy_X=True, fit_intercept=True, n_jobs=None, normalize=False)"
            ]
          },
          "metadata": {},
          "execution_count": 37
        }
      ]
    },
    {
      "cell_type": "code",
      "metadata": {
        "colab": {
          "base_uri": "https://localhost:8080/"
        },
        "id": "gLvq92nTBFvK",
        "outputId": "c2204ab3-c697-4a07-b3b3-f937a97756f5"
      },
      "source": [
        "lin_reg.coef_  # w_1: 직선의 기울기(slope). 농어의 길이에 곱해주는 가중치(weight).\n",
        "#> 1차원 배열"
      ],
      "execution_count": 38,
      "outputs": [
        {
          "output_type": "execute_result",
          "data": {
            "text/plain": [
              "array([39.01714496])"
            ]
          },
          "metadata": {},
          "execution_count": 38
        }
      ]
    },
    {
      "cell_type": "code",
      "metadata": {
        "colab": {
          "base_uri": "https://localhost:8080/"
        },
        "id": "-N4k9xQmBMfK",
        "outputId": "c53a752e-097d-46a1-c3fe-dea7f2d1a06a"
      },
      "source": [
        "lin_reg.intercept_  # w_0: y 절편. 편향(bias).\n",
        "#> 숫자 1개"
      ],
      "execution_count": 39,
      "outputs": [
        {
          "output_type": "execute_result",
          "data": {
            "text/plain": [
              "-709.0186449535477"
            ]
          },
          "metadata": {},
          "execution_count": 39
        }
      ]
    },
    {
      "cell_type": "markdown",
      "metadata": {
        "id": "WZLX7K-qCcd6"
      },
      "source": [
        "$\n",
        "\\hat{y_i} = -709.01 + 39.01 \\times x_i \n",
        "$"
      ]
    },
    {
      "cell_type": "code",
      "metadata": {
        "colab": {
          "base_uri": "https://localhost:8080/",
          "height": 301
        },
        "id": "EAhqMj0RCKNb",
        "outputId": "48221ded-33a6-4c11-b7cc-d5cf362dd17b"
      },
      "source": [
        "# 훈련 셋과 직선의 방정식(선형 회귀식) 시각화\n",
        "plt.scatter(X_train, y_train)\n",
        "\n",
        "x = np.array([10, 50])\n",
        "y = lin_reg.intercept_ + lin_reg.coef_[0] * x  # y = w0 + w1 * x\n",
        "print(x)\n",
        "print(y)\n",
        "plt.plot(x, y, 'r')\n",
        "\n",
        "plt.grid()\n",
        "plt.show()"
      ],
      "execution_count": 40,
      "outputs": [
        {
          "output_type": "stream",
          "text": [
            "[10 50]\n",
            "[-318.84719532 1241.83860323]\n"
          ],
          "name": "stdout"
        },
        {
          "output_type": "display_data",
          "data": {
            "image/png": "[encoded data removed]",
            "text/plain": [
              "<Figure size 432x288 with 1 Axes>"
            ]
          },
          "metadata": {
            "needs_background": "light"
          }
        }
      ]
    },
    {
      "cell_type": "code",
      "metadata": {
        "colab": {
          "base_uri": "https://localhost:8080/"
        },
        "id": "tbXKBc4yDJSz",
        "outputId": "dd87385a-4ccc-4c00-dcb6-0cfd92a3b743"
      },
      "source": [
        "# 훈련 셋의 예측값\n",
        "train_pred = lin_reg.predict(X_train)\n",
        "train_pred"
      ],
      "execution_count": 41,
      "outputs": [
        {
          "output_type": "execute_result",
          "data": {
            "text/plain": [
              "array([  55.71739633,  149.35854425,   20.60196587,  -30.12032259,\n",
              "        695.59857374,  266.40997914,  851.66715359,  812.65000863,\n",
              "        968.71858848,  149.35854425,   71.32425432,  149.35854425,\n",
              "        227.39283417,  363.95284155,  968.71858848,  851.66715359,\n",
              "        227.39283417,  110.34139928,  363.95284155,  851.66715359,\n",
              "        570.74370985,  324.93569658,  715.10714622, -174.48375895,\n",
              "        176.67054572, -123.7614705 ,  734.6157187 ,  656.58142877,\n",
              "        410.7734155 ,  207.88426169,  812.65000863,  110.34139928,\n",
              "        188.37568921,  149.35854425, 1007.73573345,  168.86711673,\n",
              "         32.30710936,  734.6157187 ,  149.35854425,  289.82026612,\n",
              "        929.70144352,  637.07285629])"
            ]
          },
          "metadata": {},
          "execution_count": 41
        }
      ]
    },
    {
      "cell_type": "code",
      "metadata": {
        "colab": {
          "base_uri": "https://localhost:8080/"
        },
        "id": "jP7SIPWmYlSQ",
        "outputId": "124b199f-3690-4ee0-a3c8-e032206b0446"
      },
      "source": [
        "y_train  # 실젯값"
      ],
      "execution_count": 42,
      "outputs": [
        {
          "output_type": "execute_result",
          "data": {
            "text/plain": [
              "array([  85.,  135.,   78.,   70.,  700.,  180.,  850.,  820., 1000.,\n",
              "        120.,   85.,  130.,  225.,  260., 1100.,  900.,  145.,  115.,\n",
              "        265., 1015.,  514.,  218.,  685.,   32.,  145.,   40.,  690.,\n",
              "        840.,  300.,  170.,  650.,  110.,  150.,  110., 1000.,  150.,\n",
              "         80.,  700.,  120.,  197., 1100.,  556.])"
            ]
          },
          "metadata": {},
          "execution_count": 42
        }
      ]
    },
    {
      "cell_type": "code",
      "metadata": {
        "colab": {
          "base_uri": "https://localhost:8080/"
        },
        "id": "R6ICeY_qYycf",
        "outputId": "ba49e139-86ad-4d6e-8166-b324dcacaa47"
      },
      "source": [
        "# train set의 RMSE\n",
        "np.sqrt(mean_squared_error(y_train, train_pred))\n",
        "#> 86.16\n",
        "#> KNN Regressor의 RMSE 60.96와 비교해서 오차가 더 커졌음."
      ],
      "execution_count": 43,
      "outputs": [
        {
          "output_type": "execute_result",
          "data": {
            "text/plain": [
              "86.1565641875869"
            ]
          },
          "metadata": {},
          "execution_count": 43
        }
      ]
    },
    {
      "cell_type": "code",
      "metadata": {
        "colab": {
          "base_uri": "https://localhost:8080/"
        },
        "id": "F4QGV-v6ZJZY",
        "outputId": "f6648848-22da-4e07-bff3-2b366593e4f0"
      },
      "source": [
        "# train set의 결정 계수\n",
        "r2_score(y_train, train_pred)\n",
        "#> 0.94\n",
        "#> KNN Regressor의 결정 계수 0.97과 비교해서 더 작아졌음."
      ],
      "execution_count": 44,
      "outputs": [
        {
          "output_type": "execute_result",
          "data": {
            "text/plain": [
              "0.939846333997604"
            ]
          },
          "metadata": {},
          "execution_count": 44
        }
      ]
    },
    {
      "cell_type": "code",
      "metadata": {
        "colab": {
          "base_uri": "https://localhost:8080/"
        },
        "id": "C0NwyLhuZo7n",
        "outputId": "3902e963-84fe-4a1d-9737-380fc90b2940"
      },
      "source": [
        "# test set의 예측값\n",
        "test_pred = lin_reg.predict(X_test)\n",
        "test_pred"
      ],
      "execution_count": 45,
      "outputs": [
        {
          "output_type": "execute_result",
          "data": {
            "text/plain": [
              "array([-381.27462726,   -6.71003561,  363.95284155,  122.04654277,\n",
              "        168.86711673,  851.66715359,  461.49570396,  250.80312115,\n",
              "        812.65000863,  110.34139928,  988.22716096,  -76.94089654,\n",
              "        383.46141403,  356.14941255])"
            ]
          },
          "metadata": {},
          "execution_count": 45
        }
      ]
    },
    {
      "cell_type": "code",
      "metadata": {
        "colab": {
          "base_uri": "https://localhost:8080/"
        },
        "id": "FQzsET_laZXR",
        "outputId": "67bdc258-b2c7-4d06-df6c-82dc6361d85a"
      },
      "source": [
        "y_hat = lin_reg.intercept_ + lin_reg.coef_[0] * X_test\n",
        "y_hat[:5]"
      ],
      "execution_count": 46,
      "outputs": [
        {
          "output_type": "execute_result",
          "data": {
            "text/plain": [
              "array([[-381.27462726],\n",
              "       [  -6.71003561],\n",
              "       [ 363.95284155],\n",
              "       [ 122.04654277],\n",
              "       [ 168.86711673]])"
            ]
          },
          "metadata": {},
          "execution_count": 46
        }
      ]
    },
    {
      "cell_type": "code",
      "metadata": {
        "colab": {
          "base_uri": "https://localhost:8080/"
        },
        "id": "L6YK5daqaMxv",
        "outputId": "a85d9d1b-a90e-4d28-d509-adff609f99b9"
      },
      "source": [
        "# test set의 실젯값\n",
        "y_test"
      ],
      "execution_count": 47,
      "outputs": [
        {
          "output_type": "execute_result",
          "data": {
            "text/plain": [
              "array([   5.9,  100. ,  250. ,  130. ,  130. ,  820. ,  320. ,  188. ,\n",
              "        900. ,  125. , 1000. ,   51.5,  250. ,  300. ])"
            ]
          },
          "metadata": {},
          "execution_count": 47
        }
      ]
    },
    {
      "cell_type": "code",
      "metadata": {
        "colab": {
          "base_uri": "https://localhost:8080/"
        },
        "id": "-HUWW7IqaSQO",
        "outputId": "458a2d7a-043c-4b1e-e1f3-e374719f83dc"
      },
      "source": [
        "# test set의 RMSE\n",
        "np.sqrt(mean_squared_error(y_test, test_pred))"
      ],
      "execution_count": 48,
      "outputs": [
        {
          "output_type": "execute_result",
          "data": {
            "text/plain": [
              "132.6283000640858"
            ]
          },
          "metadata": {},
          "execution_count": 48
        }
      ]
    },
    {
      "cell_type": "code",
      "metadata": {
        "colab": {
          "base_uri": "https://localhost:8080/"
        },
        "id": "mPhGisYnbLyv",
        "outputId": "451ac0ba-727c-49bc-a785-85b12857d63e"
      },
      "source": [
        "# test set의 결정 계수\n",
        "r2_score(y_test, test_pred)  #> KNN보다 안 좋은 모델"
      ],
      "execution_count": 49,
      "outputs": [
        {
          "output_type": "execute_result",
          "data": {
            "text/plain": [
              "0.8247503123313558"
            ]
          },
          "metadata": {},
          "execution_count": 49
        }
      ]
    },
    {
      "cell_type": "code",
      "metadata": {
        "colab": {
          "base_uri": "https://localhost:8080/"
        },
        "id": "ufV0FgDvbeSO",
        "outputId": "d6d4dd16-38ca-4af0-ab36-0b454404831d"
      },
      "source": [
        "# 50cm, 1,500g 가상의 물고기 예측\n",
        "y_hat = lin_reg.intercept_ + lin_reg.coef_ * 50\n",
        "y_hat  #> 1,242g - KNN의 1,010g 예측값보다 좋은 결과."
      ],
      "execution_count": 50,
      "outputs": [
        {
          "output_type": "execute_result",
          "data": {
            "text/plain": [
              "array([1241.83860323])"
            ]
          },
          "metadata": {},
          "execution_count": 50
        }
      ]
    },
    {
      "cell_type": "markdown",
      "metadata": {
        "id": "hwZNVSbhcfX5"
      },
      "source": [
        "# 2차 항(polynomial)을 포함하는 선형 회귀"
      ]
    },
    {
      "cell_type": "code",
      "metadata": {
        "colab": {
          "base_uri": "https://localhost:8080/"
        },
        "id": "mDPYzF8cb72v",
        "outputId": "16f1e11a-6538-461f-8b87-d3f75732d608"
      },
      "source": [
        "X_train[:5]"
      ],
      "execution_count": 51,
      "outputs": [
        {
          "output_type": "execute_result",
          "data": {
            "text/plain": [
              "array([[19.6],\n",
              "       [22. ],\n",
              "       [18.7],\n",
              "       [17.4],\n",
              "       [36. ]])"
            ]
          },
          "metadata": {},
          "execution_count": 51
        }
      ]
    },
    {
      "cell_type": "code",
      "metadata": {
        "colab": {
          "base_uri": "https://localhost:8080/"
        },
        "id": "C9izopbPe2b-",
        "outputId": "c9fe0f07-fbca-4929-8ddf-6e79e5bfab73"
      },
      "source": [
        "X_train.shape"
      ],
      "execution_count": 52,
      "outputs": [
        {
          "output_type": "execute_result",
          "data": {
            "text/plain": [
              "(42, 1)"
            ]
          },
          "metadata": {},
          "execution_count": 52
        }
      ]
    },
    {
      "cell_type": "code",
      "metadata": {
        "colab": {
          "base_uri": "https://localhost:8080/"
        },
        "id": "jr7Yvc31eR9f",
        "outputId": "35870488-f38e-4ddb-f857-092c1f921f27"
      },
      "source": [
        "# x^2 항을 추가해서 (n_samples, 2) shape을 갖는 2차원 배열 만듦.\n",
        "X_train_poly = np.c_[X_train, X_train ** 2]\n",
        "X_train_poly[:5]"
      ],
      "execution_count": 53,
      "outputs": [
        {
          "output_type": "execute_result",
          "data": {
            "text/plain": [
              "array([[  19.6 ,  384.16],\n",
              "       [  22.  ,  484.  ],\n",
              "       [  18.7 ,  349.69],\n",
              "       [  17.4 ,  302.76],\n",
              "       [  36.  , 1296.  ]])"
            ]
          },
          "metadata": {},
          "execution_count": 53
        }
      ]
    },
    {
      "cell_type": "code",
      "metadata": {
        "colab": {
          "base_uri": "https://localhost:8080/"
        },
        "id": "LTU3v-cAewEF",
        "outputId": "ba7207d4-82e9-480a-cbf7-f8d4384d5b90"
      },
      "source": [
        "X_train_poly.shape"
      ],
      "execution_count": 54,
      "outputs": [
        {
          "output_type": "execute_result",
          "data": {
            "text/plain": [
              "(42, 2)"
            ]
          },
          "metadata": {},
          "execution_count": 54
        }
      ]
    },
    {
      "cell_type": "code",
      "metadata": {
        "id": "99NoP873e72l"
      },
      "source": [
        "lin_reg2 = LinearRegression()"
      ],
      "execution_count": 55,
      "outputs": []
    },
    {
      "cell_type": "code",
      "metadata": {
        "colab": {
          "base_uri": "https://localhost:8080/"
        },
        "id": "dxfLUAaJfTP1",
        "outputId": "33fe1e0d-3ff0-4576-aa8b-167e4c18a7a1"
      },
      "source": [
        "lin_reg2.fit(X_train_poly, y_train)\n",
        "# 2차 항이 포함된 train set을 학습시킴\n",
        "# -> 예측값 y_hat = w0 + w1 * x + w2 * x^2 과 실제값 y 사이의 오차가 최소가 되는 w0, w1, w2를 찾는 과정."
      ],
      "execution_count": 56,
      "outputs": [
        {
          "output_type": "execute_result",
          "data": {
            "text/plain": [
              "LinearRegression(copy_X=True, fit_intercept=True, n_jobs=None, normalize=False)"
            ]
          },
          "metadata": {},
          "execution_count": 56
        }
      ]
    },
    {
      "cell_type": "code",
      "metadata": {
        "colab": {
          "base_uri": "https://localhost:8080/"
        },
        "id": "g3_yjGu8fgbt",
        "outputId": "2881110d-ab4e-4c0c-f928-6f20d6314057"
      },
      "source": [
        "lin_reg2.coef_  #> [w1 w2]: 가중치 벡터(weights)"
      ],
      "execution_count": 57,
      "outputs": [
        {
          "output_type": "execute_result",
          "data": {
            "text/plain": [
              "array([-21.55792498,   1.01433211])"
            ]
          },
          "metadata": {},
          "execution_count": 57
        }
      ]
    },
    {
      "cell_type": "code",
      "metadata": {
        "colab": {
          "base_uri": "https://localhost:8080/"
        },
        "id": "vqDY5pX5fjYU",
        "outputId": "6b430686-39a7-4278-800a-860609a1af23"
      },
      "source": [
        "lin_reg2.intercept_  #> w0: 절편(intercept), 편향(bias)"
      ],
      "execution_count": 58,
      "outputs": [
        {
          "output_type": "execute_result",
          "data": {
            "text/plain": [
              "116.05021078278378"
            ]
          },
          "metadata": {},
          "execution_count": 58
        }
      ]
    },
    {
      "cell_type": "markdown",
      "metadata": {
        "id": "9m54UACIguYZ"
      },
      "source": [
        "$\n",
        "\\hat{y_i} = w_0 + w_1 * x_i + w_2 * x_i^2\n",
        "$"
      ]
    },
    {
      "cell_type": "code",
      "metadata": {
        "colab": {
          "base_uri": "https://localhost:8080/"
        },
        "id": "hVD03aQ3fo8U",
        "outputId": "4f04635d-8dc0-4b9d-8b20-fb3762b75ab6"
      },
      "source": [
        "# train set의 예측값, RMSE, R^2 score\n",
        "train_pred = lin_reg2.predict(X_train_poly)\n",
        "rmse = np.sqrt(mean_squared_error(y_train, train_pred))\n",
        "print('RMSE:', rmse)\n",
        "r2 = r2_score(y_train, train_pred)\n",
        "print('R^2:', r2)"
      ],
      "execution_count": 59,
      "outputs": [
        {
          "output_type": "stream",
          "text": [
            "RMSE: 60.149744308383944\n",
            "R^2: 0.9706807451768623\n"
          ],
          "name": "stdout"
        }
      ]
    },
    {
      "cell_type": "code",
      "metadata": {
        "colab": {
          "base_uri": "https://localhost:8080/"
        },
        "id": "kWSjpuXshR0W",
        "outputId": "bf379c19-a1b9-4e37-a638-f57bc19b2dc6"
      },
      "source": [
        "# 길이 50cm 농어의 무게 예측\n",
        "116.1 + (-21.6 * 50 + 1.0 * 50 ** 2)"
      ],
      "execution_count": 60,
      "outputs": [
        {
          "output_type": "execute_result",
          "data": {
            "text/plain": [
              "1536.1"
            ]
          },
          "metadata": {},
          "execution_count": 60
        }
      ]
    },
    {
      "cell_type": "code",
      "metadata": {
        "colab": {
          "base_uri": "https://localhost:8080/"
        },
        "id": "zsiyJPSuh-Cd",
        "outputId": "2cc969a0-0ef3-4aa6-f0ee-61b64dddb616"
      },
      "source": [
        "X_test[:5]"
      ],
      "execution_count": 61,
      "outputs": [
        {
          "output_type": "execute_result",
          "data": {
            "text/plain": [
              "array([[ 8.4],\n",
              "       [18. ],\n",
              "       [27.5],\n",
              "       [21.3],\n",
              "       [22.5]])"
            ]
          },
          "metadata": {},
          "execution_count": 61
        }
      ]
    },
    {
      "cell_type": "code",
      "metadata": {
        "colab": {
          "base_uri": "https://localhost:8080/"
        },
        "id": "5OdoCrFJmCrc",
        "outputId": "f9249c0d-bae7-4b55-d880-34bb50a6fad8"
      },
      "source": [
        "# X_test에 X_test의 2차항을 포함시킨 2차원 배열\n",
        "X_test_poly = np.c_[X_test, X_test ** 2]\n",
        "X_test_poly[:5]"
      ],
      "execution_count": 62,
      "outputs": [
        {
          "output_type": "execute_result",
          "data": {
            "text/plain": [
              "array([[  8.4 ,  70.56],\n",
              "       [ 18.  , 324.  ],\n",
              "       [ 27.5 , 756.25],\n",
              "       [ 21.3 , 453.69],\n",
              "       [ 22.5 , 506.25]])"
            ]
          },
          "metadata": {},
          "execution_count": 62
        }
      ]
    },
    {
      "cell_type": "code",
      "metadata": {
        "colab": {
          "base_uri": "https://localhost:8080/"
        },
        "id": "ll61niotmjGJ",
        "outputId": "9267fa82-5bf7-4b09-85d2-7d1f4bb6aa94"
      },
      "source": [
        "# test set의 예측값\n",
        "test_pred = lin_reg2.predict(X_test_poly)\n",
        "test_pred[:5]"
      ],
      "execution_count": 63,
      "outputs": [
        {
          "output_type": "execute_result",
          "data": {
            "text/plain": [
              "array([  6.5349146 ,  56.6511646 , 290.29593158, 117.05874344,\n",
              "       144.50252913])"
            ]
          },
          "metadata": {},
          "execution_count": 63
        }
      ]
    },
    {
      "cell_type": "code",
      "metadata": {
        "colab": {
          "base_uri": "https://localhost:8080/"
        },
        "id": "59b6_dHLnERZ",
        "outputId": "f447dee0-fa50-4113-cf9c-1ceae45b594f"
      },
      "source": [
        "# test set의 실젯값\n",
        "y_test[:5]"
      ],
      "execution_count": 64,
      "outputs": [
        {
          "output_type": "execute_result",
          "data": {
            "text/plain": [
              "array([  5.9, 100. , 250. , 130. , 130. ])"
            ]
          },
          "metadata": {},
          "execution_count": 64
        }
      ]
    },
    {
      "cell_type": "code",
      "metadata": {
        "colab": {
          "base_uri": "https://localhost:8080/"
        },
        "id": "BssnXLKHnPM6",
        "outputId": "470d9ada-b822-4171-e66a-0ea22ed7249e"
      },
      "source": [
        "# test set의 RMSE\n",
        "np.sqrt(mean_squared_error(y_test, test_pred))"
      ],
      "execution_count": 65,
      "outputs": [
        {
          "output_type": "execute_result",
          "data": {
            "text/plain": [
              "47.423596125128064"
            ]
          },
          "metadata": {},
          "execution_count": 65
        }
      ]
    },
    {
      "cell_type": "code",
      "metadata": {
        "colab": {
          "base_uri": "https://localhost:8080/"
        },
        "id": "ryBsTDCZnhZp",
        "outputId": "9e162f01-e2c0-4c10-a97a-28dc4c3592e4"
      },
      "source": [
        "# test set의 R^2 score\n",
        "r2_score(y_test, test_pred)"
      ],
      "execution_count": 66,
      "outputs": [
        {
          "output_type": "execute_result",
          "data": {
            "text/plain": [
              "0.9775935108325122"
            ]
          },
          "metadata": {},
          "execution_count": 66
        }
      ]
    },
    {
      "cell_type": "markdown",
      "metadata": {
        "id": "osdYekBsqchw"
      },
      "source": [
        "\n",
        "\n",
        "---\n",
        "\n",
        "배열의 dot product(행렬 곱셈, matrix multiplication): `(n, k) @ (k, m) = (n, m)`"
      ]
    },
    {
      "cell_type": "code",
      "metadata": {
        "colab": {
          "base_uri": "https://localhost:8080/"
        },
        "id": "BjyM7VJDotjh",
        "outputId": "898db21d-a65a-49a8-d135-632b0a6155ff"
      },
      "source": [
        "A = np.arange(6).reshape((3, 2))\n",
        "print(A)  # (3, 2) shape"
      ],
      "execution_count": 67,
      "outputs": [
        {
          "output_type": "stream",
          "text": [
            "[[0 1]\n",
            " [2 3]\n",
            " [4 5]]\n"
          ],
          "name": "stdout"
        }
      ]
    },
    {
      "cell_type": "code",
      "metadata": {
        "colab": {
          "base_uri": "https://localhost:8080/"
        },
        "id": "1rYExtumrDoR",
        "outputId": "ca419506-6813-4fc7-d772-e1db5cb5fc2f"
      },
      "source": [
        "B = np.array([[1],\n",
        "              [2]])  # (2, 1) shape\n",
        "print(B)"
      ],
      "execution_count": 68,
      "outputs": [
        {
          "output_type": "stream",
          "text": [
            "[[1]\n",
            " [2]]\n"
          ],
          "name": "stdout"
        }
      ]
    },
    {
      "cell_type": "code",
      "metadata": {
        "colab": {
          "base_uri": "https://localhost:8080/"
        },
        "id": "gzR_o8wmrQqp",
        "outputId": "a52f078b-387d-410a-9aa0-129e559eeb28"
      },
      "source": [
        "np.dot(A, B)  # (3, 2) @ (2, 1) = (3, 1) : 2d array"
      ],
      "execution_count": 69,
      "outputs": [
        {
          "output_type": "execute_result",
          "data": {
            "text/plain": [
              "array([[ 2],\n",
              "       [ 8],\n",
              "       [14]])"
            ]
          },
          "metadata": {},
          "execution_count": 69
        }
      ]
    },
    {
      "cell_type": "code",
      "metadata": {
        "colab": {
          "base_uri": "https://localhost:8080/"
        },
        "id": "A8KZIWM6sLx1",
        "outputId": "e99e2cd0-3fab-4d2e-b770-726cd855f6d2"
      },
      "source": [
        "b = np.array([1, 2])\n",
        "print(b)  # (2,) shape"
      ],
      "execution_count": 70,
      "outputs": [
        {
          "output_type": "stream",
          "text": [
            "[1 2]\n"
          ],
          "name": "stdout"
        }
      ]
    },
    {
      "cell_type": "code",
      "metadata": {
        "colab": {
          "base_uri": "https://localhost:8080/"
        },
        "id": "_UsPZjrHsR1P",
        "outputId": "f9be7d7a-26ad-4e2e-c64f-b91eae81c50c"
      },
      "source": [
        "np.dot(A, b)  # (3, 2) @ (2,) = (3,) : 1d array"
      ],
      "execution_count": 71,
      "outputs": [
        {
          "output_type": "execute_result",
          "data": {
            "text/plain": [
              "array([ 2,  8, 14])"
            ]
          },
          "metadata": {},
          "execution_count": 71
        }
      ]
    },
    {
      "cell_type": "code",
      "metadata": {
        "colab": {
          "base_uri": "https://localhost:8080/"
        },
        "id": "1sULPWkXskJ9",
        "outputId": "0fb7798c-4a94-47b0-ee8b-f50a13082512"
      },
      "source": [
        "# np.dot(a1, a2) 함수, a1.dot(a2) 메서드, @ 연산자\n",
        "A.dot(b)"
      ],
      "execution_count": 72,
      "outputs": [
        {
          "output_type": "execute_result",
          "data": {
            "text/plain": [
              "array([ 2,  8, 14])"
            ]
          },
          "metadata": {},
          "execution_count": 72
        }
      ]
    },
    {
      "cell_type": "code",
      "metadata": {
        "colab": {
          "base_uri": "https://localhost:8080/"
        },
        "id": "trPgnXSxs1pX",
        "outputId": "48455327-a548-4a39-f806-634854ec8426"
      },
      "source": [
        "A @ b"
      ],
      "execution_count": 73,
      "outputs": [
        {
          "output_type": "execute_result",
          "data": {
            "text/plain": [
              "array([ 2,  8, 14])"
            ]
          },
          "metadata": {},
          "execution_count": 73
        }
      ]
    },
    {
      "cell_type": "code",
      "metadata": {
        "colab": {
          "base_uri": "https://localhost:8080/"
        },
        "id": "W165FtUFtIEx",
        "outputId": "7001dc1f-c9f4-47c8-90f5-d62408a75c60"
      },
      "source": [
        "y_hat = lin_reg2.intercept_ + X_test_poly @ lin_reg2.coef_\n",
        "y_hat"
      ],
      "execution_count": 74,
      "outputs": [
        {
          "output_type": "execute_result",
          "data": {
            "text/plain": [
              "array([   6.5349146 ,   56.6511646 ,  290.29593158,  117.05874344,\n",
              "        144.50252913,  876.66458663,  382.21135986,  199.55847561,\n",
              "        818.09027497,  110.65424646, 1097.65040817,   33.01314491,\n",
              "        307.66468513,  283.49043666])"
            ]
          },
          "metadata": {},
          "execution_count": 74
        }
      ]
    },
    {
      "cell_type": "markdown",
      "metadata": {
        "id": "2UNeB8_bqd0E"
      },
      "source": [
        "\n",
        "\n",
        "---\n",
        "\n"
      ]
    },
    {
      "cell_type": "code",
      "metadata": {
        "colab": {
          "base_uri": "https://localhost:8080/",
          "height": 265
        },
        "id": "vg3OMxLbnuaa",
        "outputId": "f9c787e7-488e-42a0-8282-6bf3b7f28201"
      },
      "source": [
        "# train set 시각화 - scatter plot\n",
        "plt.scatter(X_train, y_train)\n",
        "\n",
        "# 2차항이 포함된 선형 회귀 곡선 시각화 - line plot\n",
        "x_values=np.arange(10,50,0.0001).reshape((-1,1)) # 컬럼개수가 1개인 2d array\n",
        "X_poly=np.c_[x_values,x_values**2] # x와 x^2 항을 갖는 2d array\n",
        "\n",
        "# y_values=lin_reg2.intercept_ + X_poly@ lin_reg2.coef_\n",
        "y_values=lin_reg2.predict(X_poly)\n",
        "plt.plot(x_values,y_values,color='red')\n",
        "plt.grid()\n",
        "plt.show()"
      ],
      "execution_count": 80,
      "outputs": [
        {
          "output_type": "display_data",
          "data": {
            "image/png": "[encoded data removed]",
            "text/plain": [
              "<Figure size 432x288 with 1 Axes>"
            ]
          },
          "metadata": {
            "needs_background": "light"
          }
        }
      ]
    },
    {
      "cell_type": "markdown",
      "metadata": {
        "id": "Jm-8dUNv2GmV"
      },
      "source": [
        "#PolynomialFeatures 변환기"
      ]
    },
    {
      "cell_type": "markdown",
      "metadata": {
        "id": "OoIL-NL32LCh"
      },
      "source": [
        "**scikit-learn** 클래스\n",
        "  * **Estimator**(추정기, 예측기) 클래스\n",
        "    * 머신 러닝 알고리즘을 구현한 클래스\n",
        "    * `fit`,`predict`메서드를 가지고 있음. \n",
        "    * 예: `KNeighborsClassifier`, `KNeighborRegressor`, `LinearRegression`\n",
        "  * **Transform**(변환기) 클래스\n",
        "    * 전처리 과정에서(모델을 학습시키기 전에), train/test set의 데이터들을 변환하는 클래스 \n",
        "    * `fit`,`transform`,`fit_transform` 메서드를 가지고 있음. \n",
        "    * 예: `StandardScaler`,`MinMaxScaler`,`PolynomialFeatures`"
      ]
    },
    {
      "cell_type": "code",
      "metadata": {
        "id": "6ILRFRihoSZh",
        "colab": {
          "base_uri": "https://localhost:8080/"
        },
        "outputId": "4d3c7b90-1294-404e-e88b-0a3e292760bf"
      },
      "source": [
        "# PolynomialFeatures 클래스 객체 생성\n",
        "poly=PolynomialFeatures()\n",
        "\n",
        "# train set X_train에 2차항을 추가한 2d array\n",
        "X_train_poly= poly.fit_transform(X_train)\n",
        "X_train_poly[:5]"
      ],
      "execution_count": 89,
      "outputs": [
        {
          "output_type": "execute_result",
          "data": {
            "text/plain": [
              "array([[1.0000e+00, 1.9600e+01, 3.8416e+02],\n",
              "       [1.0000e+00, 2.2000e+01, 4.8400e+02],\n",
              "       [1.0000e+00, 1.8700e+01, 3.4969e+02],\n",
              "       [1.0000e+00, 1.7400e+01, 3.0276e+02],\n",
              "       [1.0000e+00, 3.6000e+01, 1.2960e+03]])"
            ]
          },
          "metadata": {},
          "execution_count": 89
        }
      ]
    },
    {
      "cell_type": "code",
      "metadata": {
        "colab": {
          "base_uri": "https://localhost:8080/"
        },
        "id": "P0RiEP5d72Ab",
        "outputId": "02c644ee-f854-44eb-ea78-52e9074191ba"
      },
      "source": [
        "# test set X_test에 2차항을 추가한 2d array\n",
        "X_test_poly= poly.transform(X_test)\n",
        "X_test_poly[:5]"
      ],
      "execution_count": 88,
      "outputs": [
        {
          "output_type": "execute_result",
          "data": {
            "text/plain": [
              "array([[  1.  ,   8.4 ,  70.56],\n",
              "       [  1.  ,  18.  , 324.  ],\n",
              "       [  1.  ,  27.5 , 756.25],\n",
              "       [  1.  ,  21.3 , 453.69],\n",
              "       [  1.  ,  22.5 , 506.25]])"
            ]
          },
          "metadata": {},
          "execution_count": 88
        }
      ]
    },
    {
      "cell_type": "markdown",
      "metadata": {
        "id": "Fu3Mv5yjCurE"
      },
      "source": [
        "# PolynomialFeatures + StandardScaler\n",
        "\n",
        "* 선형 회귀에서 차수(degree)가 커질 수록, 고차항이 저차항에 비해 예측값을 계산할 때 더 큰 영향을 끼치게 됨.\n",
        "\n",
        "* 선형 회귀에서 고차항을 포함 시킬 때는 일반적으로 scaling을 함께 사용하는 경우가 많음."
      ]
    },
    {
      "cell_type": "code",
      "metadata": {
        "colab": {
          "base_uri": "https://localhost:8080/"
        },
        "id": "EsW0aZtDDQNq",
        "outputId": "8649dc8f-bd84-44e8-e887-d0b2f2d219c3"
      },
      "source": [
        "X_train[:5] # train set 원본 - 고차항이 포함되지 않았고, scaling 되지 않은 set"
      ],
      "execution_count": 93,
      "outputs": [
        {
          "output_type": "execute_result",
          "data": {
            "text/plain": [
              "array([[19.6],\n",
              "       [22. ],\n",
              "       [18.7],\n",
              "       [17.4],\n",
              "       [36. ]])"
            ]
          },
          "metadata": {},
          "execution_count": 93
        }
      ]
    },
    {
      "cell_type": "code",
      "metadata": {
        "id": "SKzMiqdODhuT"
      },
      "source": [
        "poly= PolynomialFeatures(degree=3,include_bias=False) # 다차항 변환기"
      ],
      "execution_count": 94,
      "outputs": []
    },
    {
      "cell_type": "code",
      "metadata": {
        "colab": {
          "base_uri": "https://localhost:8080/"
        },
        "id": "K7PSb_dGDvEi",
        "outputId": "c607fb67-89d7-4dd5-f19f-f734195881f8"
      },
      "source": [
        "X_train_poly=poly.fit_transform(X_train) # 3차항까지 추가\n",
        "X_train_poly[:5]"
      ],
      "execution_count": 97,
      "outputs": [
        {
          "output_type": "execute_result",
          "data": {
            "text/plain": [
              "array([[1.960000e+01, 3.841600e+02, 7.529536e+03],\n",
              "       [2.200000e+01, 4.840000e+02, 1.064800e+04],\n",
              "       [1.870000e+01, 3.496900e+02, 6.539203e+03],\n",
              "       [1.740000e+01, 3.027600e+02, 5.268024e+03],\n",
              "       [3.600000e+01, 1.296000e+03, 4.665600e+04]])"
            ]
          },
          "metadata": {},
          "execution_count": 97
        }
      ]
    },
    {
      "cell_type": "code",
      "metadata": {
        "id": "nmWWMq2-ErLq"
      },
      "source": [
        "std_scaler=StandardScaler() # 표준화 변환기 생성"
      ],
      "execution_count": 99,
      "outputs": []
    },
    {
      "cell_type": "code",
      "metadata": {
        "colab": {
          "base_uri": "https://localhost:8080/"
        },
        "id": "HRNUUrVqEndq",
        "outputId": "a5f85cf9-5732-498e-9c93-ac9424611e13"
      },
      "source": [
        "X_train_poly_scaled= std_scaler.fit_transform(X_train_poly)\n",
        "X_train_poly_scaled[:5]"
      ],
      "execution_count": 101,
      "outputs": [
        {
          "output_type": "execute_result",
          "data": {
            "text/plain": [
              "array([[-1.01339619, -0.9549757 , -0.88757122],\n",
              "       [-0.73842893, -0.76472563, -0.76291014],\n",
              "       [-1.11650891, -1.02065999, -0.92715994],\n",
              "       [-1.26544951, -1.11008743, -0.97797552],\n",
              "       [ 0.86554673,  0.78258063,  0.67651527]])"
            ]
          },
          "metadata": {},
          "execution_count": 101
        }
      ]
    },
    {
      "cell_type": "code",
      "metadata": {
        "colab": {
          "base_uri": "https://localhost:8080/"
        },
        "id": "uMmcv9NBE0w8",
        "outputId": "5c54dc1f-4c2b-483b-a1fc-327850da250d"
      },
      "source": [
        "# test set에서도 train set 과 마찬가지로 (1) polynomial (2) scaling을 적용\n",
        "X_test[:5]"
      ],
      "execution_count": 103,
      "outputs": [
        {
          "output_type": "execute_result",
          "data": {
            "text/plain": [
              "array([[ 8.4],\n",
              "       [18. ],\n",
              "       [27.5],\n",
              "       [21.3],\n",
              "       [22.5]])"
            ]
          },
          "metadata": {},
          "execution_count": 103
        }
      ]
    },
    {
      "cell_type": "code",
      "metadata": {
        "colab": {
          "base_uri": "https://localhost:8080/"
        },
        "id": "h21awARkFesB",
        "outputId": "02adb6f1-5531-4bf6-ee72-719c5cf5b6bd"
      },
      "source": [
        "X_test_poly= poly.transform(X_test) # 3차항까지 추가\n",
        "X_test_poly[:5]"
      ],
      "execution_count": 105,
      "outputs": [
        {
          "output_type": "execute_result",
          "data": {
            "text/plain": [
              "array([[8.4000000e+00, 7.0560000e+01, 5.9270400e+02],\n",
              "       [1.8000000e+01, 3.2400000e+02, 5.8320000e+03],\n",
              "       [2.7500000e+01, 7.5625000e+02, 2.0796875e+04],\n",
              "       [2.1300000e+01, 4.5369000e+02, 9.6635970e+03],\n",
              "       [2.2500000e+01, 5.0625000e+02, 1.1390625e+04]])"
            ]
          },
          "metadata": {},
          "execution_count": 105
        }
      ]
    },
    {
      "cell_type": "code",
      "metadata": {
        "colab": {
          "base_uri": "https://localhost:8080/"
        },
        "id": "y_c2KVGEFu9-",
        "outputId": "adcadae4-75c8-48f9-d793-d620dd5c631f"
      },
      "source": [
        "X_test_poly_scaled=std_scaler.transform(X_test_poly) # 고차항이 추가된 행렬을 표준화\n",
        "X_test_poly_scaled[:5]"
      ],
      "execution_count": 106,
      "outputs": [
        {
          "output_type": "execute_result",
          "data": {
            "text/plain": [
              "array([[-2.29657672, -1.55255604, -1.16487216],\n",
              "       [-1.1967077 , -1.06961356, -0.95543049],\n",
              "       [-0.10829564, -0.24593976, -0.35720728],\n",
              "       [-0.81862772, -0.82248284, -0.8022618 ],\n",
              "       [-0.68114409, -0.72232715, -0.73322359]])"
            ]
          },
          "metadata": {},
          "execution_count": 106
        }
      ]
    },
    {
      "cell_type": "code",
      "metadata": {
        "colab": {
          "base_uri": "https://localhost:8080/"
        },
        "id": "eIiay40nHUUo",
        "outputId": "2b464d85-a3f7-4775-c818-46563e6beb22"
      },
      "source": [
        "lin_reg3=LinearRegression() # 머신 러닝 모델 생성\n",
        "# 전처리가 끝난 train set으로 머신 러닝을 학습시킴.\n",
        "lin_reg3.fit(X_train_poly_scaled,y_train)\n",
        "# 훈련 셋의 예측값\n",
        "train_pred=lin_reg3.predict(X_train_poly_scaled)\n",
        "\n",
        "# R^2 score(결정 계수) 계산\n",
        "r2_score(y_train,train_pred)"
      ],
      "execution_count": 108,
      "outputs": [
        {
          "output_type": "execute_result",
          "data": {
            "text/plain": [
              "0.9729178478354534"
            ]
          },
          "metadata": {},
          "execution_count": 108
        }
      ]
    },
    {
      "cell_type": "code",
      "metadata": {
        "colab": {
          "base_uri": "https://localhost:8080/"
        },
        "id": "64XzcDpGIEZ5",
        "outputId": "2a46f372-9dde-4402-9275-594e7b3e3ea2"
      },
      "source": [
        "# 전처리가 끝난 test set의 예측값\n",
        "test_pred=lin_reg3.predict(X_test_poly_scaled)\n",
        "\n",
        "# R^2 score 계산\n",
        "r2_score(y_test,test_pred)"
      ],
      "execution_count": 109,
      "outputs": [
        {
          "output_type": "execute_result",
          "data": {
            "text/plain": [
              "0.9588363727422972"
            ]
          },
          "metadata": {},
          "execution_count": 109
        }
      ]
    },
    {
      "cell_type": "markdown",
      "metadata": {
        "id": "2fQuBeXSI7JN"
      },
      "source": [
        "trian set 에서는 score가 더 좋아짐 \n",
        "test set에서는 score가 많이 나빠짐\n",
        "\n",
        "overfitting(과대적합): 훈련 셋에서만 너무 맞춰진(fitted)모델 "
      ]
    }
  ]
}