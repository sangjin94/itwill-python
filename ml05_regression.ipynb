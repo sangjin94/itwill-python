{
  "nbformat": 4,
  "nbformat_minor": 0,
  "metadata": {
    "colab": {
      "name": "ml05_regression.ipynb",
      "provenance": [],
      "collapsed_sections": [],
      "include_colab_link": true
    },
    "kernelspec": {
      "name": "python3",
      "display_name": "Python 3"
    },
    "language_info": {
      "name": "python"
    }
  },
  "cells": [
    {
      "cell_type": "markdown",
      "metadata": {
        "id": "view-in-github",
        "colab_type": "text"
      },
      "source": [
        "<a href=\"https://colab.research.google.com/github/sangjin94/itwill-python/blob/main/ml05_regression.ipynb\" target=\"_parent\"><img src=\"https://colab.research.google.com/assets/colab-badge.svg\" alt=\"Open In Colab\"/></a>"
      ]
    },
    {
      "cell_type": "markdown",
      "metadata": {
        "id": "mxkq2Al751So"
      },
      "source": [
        "* Machine Learning(기계 학습)\n",
        "    * 지도학습(Superivised Learning): 레이블이 있는 데이터를 학습\n",
        "        * 분류(Classification): 클래스 분류\n",
        "        * 회귀(Regression): 숫자 예측\n",
        "    * 비지도학습(Unsupervised Learning): 레이블이 없는 데이터를 학습\n",
        "    * 강화학습(Reinforcement Learning): 보상/벌칙을 통해서 학습"
      ]
    },
    {
      "cell_type": "markdown",
      "metadata": {
        "id": "C-qIlAyRC4l9"
      },
      "source": [
        "# Objectives"
      ]
    },
    {
      "cell_type": "markdown",
      "metadata": {
        "id": "JqQiwGmT_0zv"
      },
      "source": [
        "Fish 데이터 셋에서 농어(Perch)의 무게(Weight)를 예측\n",
        "\n",
        "* 농어의 길이(Length)로만 무게 예측 - KNN, Linear Regression\n",
        "* 농어의 여러가지 특성들(Length, Diagonal, Height, Width)로 무게 예측 - Linear Regression"
      ]
    },
    {
      "cell_type": "markdown",
      "metadata": {
        "id": "USuE7cF8Ay1Z"
      },
      "source": [
        "# Imports"
      ]
    },
    {
      "cell_type": "code",
      "metadata": {
        "id": "FIWDgzR25sK7"
      },
      "source": [
        "import numpy as np\n",
        "import pandas as pd\n",
        "import matplotlib.pyplot as plt\n",
        "import seaborn as sns\n",
        "\n",
        "from sklearn.model_selection import train_test_split\n",
        "from sklearn.neighbors import KNeighborsRegressor  # ML 모델\n",
        "from sklearn.metrics import mean_absolute_error, mean_squared_error, r2_score"
      ],
      "execution_count": 59,
      "outputs": []
    },
    {
      "cell_type": "markdown",
      "metadata": {
        "id": "qauPZv_ZC1pQ"
      },
      "source": [
        "# 데이터 준비"
      ]
    },
    {
      "cell_type": "code",
      "metadata": {
        "id": "BYSyvs8pCxtT"
      },
      "source": [
        "fish_csv = 'https://github.com/rickiepark/hg-mldl/raw/master/fish.csv'"
      ],
      "execution_count": 60,
      "outputs": []
    },
    {
      "cell_type": "code",
      "metadata": {
        "id": "pBWov_rQDVC6"
      },
      "source": [
        "fish = pd.read_csv(fish_csv)"
      ],
      "execution_count": 61,
      "outputs": []
    },
    {
      "cell_type": "code",
      "metadata": {
        "colab": {
          "base_uri": "https://localhost:8080/",
          "height": 204
        },
        "id": "1gPbKKWbDXsx",
        "outputId": "928f750d-b894-4216-e9ef-7a1cd4064cfd"
      },
      "source": [
        "fish.tail()"
      ],
      "execution_count": 62,
      "outputs": [
        {
          "output_type": "execute_result",
          "data": {
            "text/html": [
              "<div>\n",
              "<style scoped>\n",
              "    .dataframe tbody tr th:only-of-type {\n",
              "        vertical-align: middle;\n",
              "    }\n",
              "\n",
              "    .dataframe tbody tr th {\n",
              "        vertical-align: top;\n",
              "    }\n",
              "\n",
              "    .dataframe thead th {\n",
              "        text-align: right;\n",
              "    }\n",
              "</style>\n",
              "<table border=\"1\" class=\"dataframe\">\n",
              "  <thead>\n",
              "    <tr style=\"text-align: right;\">\n",
              "      <th></th>\n",
              "      <th>Species</th>\n",
              "      <th>Weight</th>\n",
              "      <th>Length</th>\n",
              "      <th>Diagonal</th>\n",
              "      <th>Height</th>\n",
              "      <th>Width</th>\n",
              "    </tr>\n",
              "  </thead>\n",
              "  <tbody>\n",
              "    <tr>\n",
              "      <th>154</th>\n",
              "      <td>Smelt</td>\n",
              "      <td>12.2</td>\n",
              "      <td>12.2</td>\n",
              "      <td>13.4</td>\n",
              "      <td>2.0904</td>\n",
              "      <td>1.3936</td>\n",
              "    </tr>\n",
              "    <tr>\n",
              "      <th>155</th>\n",
              "      <td>Smelt</td>\n",
              "      <td>13.4</td>\n",
              "      <td>12.4</td>\n",
              "      <td>13.5</td>\n",
              "      <td>2.4300</td>\n",
              "      <td>1.2690</td>\n",
              "    </tr>\n",
              "    <tr>\n",
              "      <th>156</th>\n",
              "      <td>Smelt</td>\n",
              "      <td>12.2</td>\n",
              "      <td>13.0</td>\n",
              "      <td>13.8</td>\n",
              "      <td>2.2770</td>\n",
              "      <td>1.2558</td>\n",
              "    </tr>\n",
              "    <tr>\n",
              "      <th>157</th>\n",
              "      <td>Smelt</td>\n",
              "      <td>19.7</td>\n",
              "      <td>14.3</td>\n",
              "      <td>15.2</td>\n",
              "      <td>2.8728</td>\n",
              "      <td>2.0672</td>\n",
              "    </tr>\n",
              "    <tr>\n",
              "      <th>158</th>\n",
              "      <td>Smelt</td>\n",
              "      <td>19.9</td>\n",
              "      <td>15.0</td>\n",
              "      <td>16.2</td>\n",
              "      <td>2.9322</td>\n",
              "      <td>1.8792</td>\n",
              "    </tr>\n",
              "  </tbody>\n",
              "</table>\n",
              "</div>"
            ],
            "text/plain": [
              "    Species  Weight  Length  Diagonal  Height   Width\n",
              "154   Smelt    12.2    12.2      13.4  2.0904  1.3936\n",
              "155   Smelt    13.4    12.4      13.5  2.4300  1.2690\n",
              "156   Smelt    12.2    13.0      13.8  2.2770  1.2558\n",
              "157   Smelt    19.7    14.3      15.2  2.8728  2.0672\n",
              "158   Smelt    19.9    15.0      16.2  2.9322  1.8792"
            ]
          },
          "metadata": {},
          "execution_count": 62
        }
      ]
    },
    {
      "cell_type": "code",
      "metadata": {
        "id": "-Zr9pXzcDZTB"
      },
      "source": [
        "# fish DataFrame에서 'Perch'(농어) 어종만 선택\n",
        "perch = fish[fish.Species == 'Perch']"
      ],
      "execution_count": 63,
      "outputs": []
    },
    {
      "cell_type": "code",
      "metadata": {
        "colab": {
          "base_uri": "https://localhost:8080/",
          "height": 204
        },
        "id": "i3a5F_f0Dw8S",
        "outputId": "ea219cba-9c8e-430b-8b47-4c2256376010"
      },
      "source": [
        "perch.head()"
      ],
      "execution_count": 64,
      "outputs": [
        {
          "output_type": "execute_result",
          "data": {
            "text/html": [
              "<div>\n",
              "<style scoped>\n",
              "    .dataframe tbody tr th:only-of-type {\n",
              "        vertical-align: middle;\n",
              "    }\n",
              "\n",
              "    .dataframe tbody tr th {\n",
              "        vertical-align: top;\n",
              "    }\n",
              "\n",
              "    .dataframe thead th {\n",
              "        text-align: right;\n",
              "    }\n",
              "</style>\n",
              "<table border=\"1\" class=\"dataframe\">\n",
              "  <thead>\n",
              "    <tr style=\"text-align: right;\">\n",
              "      <th></th>\n",
              "      <th>Species</th>\n",
              "      <th>Weight</th>\n",
              "      <th>Length</th>\n",
              "      <th>Diagonal</th>\n",
              "      <th>Height</th>\n",
              "      <th>Width</th>\n",
              "    </tr>\n",
              "  </thead>\n",
              "  <tbody>\n",
              "    <tr>\n",
              "      <th>72</th>\n",
              "      <td>Perch</td>\n",
              "      <td>5.9</td>\n",
              "      <td>8.4</td>\n",
              "      <td>8.8</td>\n",
              "      <td>2.1120</td>\n",
              "      <td>1.4080</td>\n",
              "    </tr>\n",
              "    <tr>\n",
              "      <th>73</th>\n",
              "      <td>Perch</td>\n",
              "      <td>32.0</td>\n",
              "      <td>13.7</td>\n",
              "      <td>14.7</td>\n",
              "      <td>3.5280</td>\n",
              "      <td>1.9992</td>\n",
              "    </tr>\n",
              "    <tr>\n",
              "      <th>74</th>\n",
              "      <td>Perch</td>\n",
              "      <td>40.0</td>\n",
              "      <td>15.0</td>\n",
              "      <td>16.0</td>\n",
              "      <td>3.8240</td>\n",
              "      <td>2.4320</td>\n",
              "    </tr>\n",
              "    <tr>\n",
              "      <th>75</th>\n",
              "      <td>Perch</td>\n",
              "      <td>51.5</td>\n",
              "      <td>16.2</td>\n",
              "      <td>17.2</td>\n",
              "      <td>4.5924</td>\n",
              "      <td>2.6316</td>\n",
              "    </tr>\n",
              "    <tr>\n",
              "      <th>76</th>\n",
              "      <td>Perch</td>\n",
              "      <td>70.0</td>\n",
              "      <td>17.4</td>\n",
              "      <td>18.5</td>\n",
              "      <td>4.5880</td>\n",
              "      <td>2.9415</td>\n",
              "    </tr>\n",
              "  </tbody>\n",
              "</table>\n",
              "</div>"
            ],
            "text/plain": [
              "   Species  Weight  Length  Diagonal  Height   Width\n",
              "72   Perch     5.9     8.4       8.8  2.1120  1.4080\n",
              "73   Perch    32.0    13.7      14.7  3.5280  1.9992\n",
              "74   Perch    40.0    15.0      16.0  3.8240  2.4320\n",
              "75   Perch    51.5    16.2      17.2  4.5924  2.6316\n",
              "76   Perch    70.0    17.4      18.5  4.5880  2.9415"
            ]
          },
          "metadata": {},
          "execution_count": 64
        }
      ]
    },
    {
      "cell_type": "code",
      "metadata": {
        "colab": {
          "base_uri": "https://localhost:8080/"
        },
        "id": "GVOc58BHDyga",
        "outputId": "50333b33-2e9c-44f7-95a2-a027d1fed8da"
      },
      "source": [
        "perch.info()"
      ],
      "execution_count": 65,
      "outputs": [
        {
          "output_type": "stream",
          "text": [
            "<class 'pandas.core.frame.DataFrame'>\n",
            "Int64Index: 56 entries, 72 to 127\n",
            "Data columns (total 6 columns):\n",
            " #   Column    Non-Null Count  Dtype  \n",
            "---  ------    --------------  -----  \n",
            " 0   Species   56 non-null     object \n",
            " 1   Weight    56 non-null     float64\n",
            " 2   Length    56 non-null     float64\n",
            " 3   Diagonal  56 non-null     float64\n",
            " 4   Height    56 non-null     float64\n",
            " 5   Width     56 non-null     float64\n",
            "dtypes: float64(5), object(1)\n",
            "memory usage: 3.1+ KB\n"
          ],
          "name": "stdout"
        }
      ]
    },
    {
      "cell_type": "markdown",
      "metadata": {
        "id": "Ut-rFBw-EPPJ"
      },
      "source": [
        "농어의 길이(Length)를 알면 무게(Weight) 예측할 수 있을까?\n",
        "\n",
        "* 독립변수(feature) - Length\n",
        "* 종속변수(label, target) - Weight"
      ]
    },
    {
      "cell_type": "code",
      "metadata": {
        "colab": {
          "base_uri": "https://localhost:8080/"
        },
        "id": "bmL81pleD6aC",
        "outputId": "be4ba334-abba-4e74-9d87-5a52eb736081"
      },
      "source": [
        "# 종속변수\n",
        "perch_weight = perch['Weight'].values\n",
        "perch_weight  # label은 1d array"
      ],
      "execution_count": 66,
      "outputs": [
        {
          "output_type": "execute_result",
          "data": {
            "text/plain": [
              "array([   5.9,   32. ,   40. ,   51.5,   70. ,  100. ,   78. ,   80. ,\n",
              "         85. ,   85. ,  110. ,  115. ,  125. ,  130. ,  120. ,  120. ,\n",
              "        130. ,  135. ,  110. ,  130. ,  150. ,  145. ,  150. ,  170. ,\n",
              "        225. ,  145. ,  188. ,  180. ,  197. ,  218. ,  300. ,  260. ,\n",
              "        265. ,  250. ,  250. ,  300. ,  320. ,  514. ,  556. ,  840. ,\n",
              "        685. ,  700. ,  700. ,  690. ,  900. ,  650. ,  820. ,  850. ,\n",
              "        900. , 1015. ,  820. , 1100. , 1000. , 1100. , 1000. , 1000. ])"
            ]
          },
          "metadata": {},
          "execution_count": 66
        }
      ]
    },
    {
      "cell_type": "code",
      "metadata": {
        "colab": {
          "base_uri": "https://localhost:8080/"
        },
        "id": "LXkjwvNSEqOL",
        "outputId": "79bce5a1-2f41-4202-dece-1bca29630814"
      },
      "source": [
        "# 독립변수\n",
        "perch_length = perch[['Length']].values\n",
        "perch_length  # feature는 2d array"
      ],
      "execution_count": 67,
      "outputs": [
        {
          "output_type": "execute_result",
          "data": {
            "text/plain": [
              "array([[ 8.4],\n",
              "       [13.7],\n",
              "       [15. ],\n",
              "       [16.2],\n",
              "       [17.4],\n",
              "       [18. ],\n",
              "       [18.7],\n",
              "       [19. ],\n",
              "       [19.6],\n",
              "       [20. ],\n",
              "       [21. ],\n",
              "       [21. ],\n",
              "       [21. ],\n",
              "       [21.3],\n",
              "       [22. ],\n",
              "       [22. ],\n",
              "       [22. ],\n",
              "       [22. ],\n",
              "       [22. ],\n",
              "       [22.5],\n",
              "       [22.5],\n",
              "       [22.7],\n",
              "       [23. ],\n",
              "       [23.5],\n",
              "       [24. ],\n",
              "       [24. ],\n",
              "       [24.6],\n",
              "       [25. ],\n",
              "       [25.6],\n",
              "       [26.5],\n",
              "       [27.3],\n",
              "       [27.5],\n",
              "       [27.5],\n",
              "       [27.5],\n",
              "       [28. ],\n",
              "       [28.7],\n",
              "       [30. ],\n",
              "       [32.8],\n",
              "       [34.5],\n",
              "       [35. ],\n",
              "       [36.5],\n",
              "       [36. ],\n",
              "       [37. ],\n",
              "       [37. ],\n",
              "       [39. ],\n",
              "       [39. ],\n",
              "       [39. ],\n",
              "       [40. ],\n",
              "       [40. ],\n",
              "       [40. ],\n",
              "       [40. ],\n",
              "       [42. ],\n",
              "       [43. ],\n",
              "       [43. ],\n",
              "       [43.5],\n",
              "       [44. ]])"
            ]
          },
          "metadata": {},
          "execution_count": 67
        }
      ]
    },
    {
      "cell_type": "code",
      "metadata": {
        "colab": {
          "base_uri": "https://localhost:8080/",
          "height": 295
        },
        "id": "IhEkznV3GpKh",
        "outputId": "64b2c353-1458-4fca-8d82-c9129b105014"
      },
      "source": [
        "# Weight ~ Length scatter plot\n",
        "plt.scatter(perch_length, perch_weight, alpha=0.5)\n",
        "plt.title('Perch')\n",
        "plt.xlabel('Length (cm)')\n",
        "plt.ylabel('Weight (g)')\n",
        "plt.grid()\n",
        "plt.show()"
      ],
      "execution_count": 68,
      "outputs": [
        {
          "output_type": "display_data",
          "data": {
            "image/png": "[encoded data removed]",
            "text/plain": [
              "<Figure size 432x288 with 1 Axes>"
            ]
          },
          "metadata": {
            "needs_background": "light"
          }
        }
      ]
    },
    {
      "cell_type": "code",
      "metadata": {
        "id": "uHPzpMR2HAXU"
      },
      "source": [
        "# X: 특성 행렬(2d array), y: 타겟 벡터(1d array)\n",
        "X = perch_length.copy()\n",
        "y = perch_weight.copy()"
      ],
      "execution_count": 69,
      "outputs": []
    },
    {
      "cell_type": "code",
      "metadata": {
        "colab": {
          "base_uri": "https://localhost:8080/"
        },
        "id": "nNDdTAsjIEOD",
        "outputId": "bd7efc22-acd9-4387-ac74-792e1170f68f"
      },
      "source": [
        "X.shape, y.shape"
      ],
      "execution_count": 70,
      "outputs": [
        {
          "output_type": "execute_result",
          "data": {
            "text/plain": [
              "((56, 1), (56,))"
            ]
          },
          "metadata": {},
          "execution_count": 70
        }
      ]
    },
    {
      "cell_type": "markdown",
      "metadata": {
        "id": "o-i-awjZIXwj"
      },
      "source": [
        "# Train/test split"
      ]
    },
    {
      "cell_type": "code",
      "metadata": {
        "id": "kGpdWD8GIFZs"
      },
      "source": [
        "X_train, X_test, y_train, y_test = train_test_split(X, y,\n",
        "                                                    test_size=0.25,\n",
        "                                                    random_state=42)\n",
        "# shuffle=True(default): random sampling이 기본값"
      ],
      "execution_count": 71,
      "outputs": []
    },
    {
      "cell_type": "code",
      "metadata": {
        "colab": {
          "base_uri": "https://localhost:8080/"
        },
        "id": "Np6EuLx9NaJm",
        "outputId": "44321e61-5f2c-4151-fcc5-d6d84971fbfd"
      },
      "source": [
        "X_train.shape, X_test.shape, y_train.shape, y_test.shape"
      ],
      "execution_count": 72,
      "outputs": [
        {
          "output_type": "execute_result",
          "data": {
            "text/plain": [
              "((42, 1), (14, 1), (42,), (14,))"
            ]
          },
          "metadata": {},
          "execution_count": 72
        }
      ]
    },
    {
      "cell_type": "code",
      "metadata": {
        "colab": {
          "base_uri": "https://localhost:8080/",
          "height": 279
        },
        "id": "-eNZer4pNeD9",
        "outputId": "d25c43b7-eb1c-492c-b2a6-1e931f798872"
      },
      "source": [
        "# train/test set 시각화\n",
        "plt.scatter(X_train, y_train, label='Train set', alpha=0.5)\n",
        "plt.scatter(X_test, y_test, label='Test set', alpha=0.5, color='red')\n",
        "plt.xlabel('Length (cm)')\n",
        "plt.ylabel('Weight (g)')\n",
        "plt.legend()\n",
        "plt.show()"
      ],
      "execution_count": 73,
      "outputs": [
        {
          "output_type": "display_data",
          "data": {
            "image/png": "[encoded data removed]",
            "text/plain": [
              "<Figure size 432x288 with 1 Axes>"
            ]
          },
          "metadata": {
            "needs_background": "light"
          }
        }
      ]
    },
    {
      "cell_type": "markdown",
      "metadata": {
        "id": "joLrWPwZOqkt"
      },
      "source": [
        "# KNN Regressor 모델 훈련, 평가"
      ]
    },
    {
      "cell_type": "markdown",
      "metadata": {
        "id": "uMfzOcT_Q2b6"
      },
      "source": [
        "KNN Regressor: 가장 가까운 k개의 이웃들의 레이블(타겟)의 평균값으로 숫자를 예측."
      ]
    },
    {
      "cell_type": "code",
      "metadata": {
        "id": "1XFGHv7qRP8R"
      },
      "source": [
        "knn_reg = KNeighborsRegressor()  # k=5인 KNN 모델 생성"
      ],
      "execution_count": 74,
      "outputs": []
    },
    {
      "cell_type": "code",
      "metadata": {
        "colab": {
          "base_uri": "https://localhost:8080/"
        },
        "id": "A9BMvHN6RXCP",
        "outputId": "5f01a41a-f128-4d21-b753-7a15c359d6c0"
      },
      "source": [
        "knn_reg.fit(X_train, y_train)  # 모델 훈련"
      ],
      "execution_count": 75,
      "outputs": [
        {
          "output_type": "execute_result",
          "data": {
            "text/plain": [
              "KNeighborsRegressor(algorithm='auto', leaf_size=30, metric='minkowski',\n",
              "                    metric_params=None, n_jobs=None, n_neighbors=5, p=2,\n",
              "                    weights='uniform')"
            ]
          },
          "metadata": {},
          "execution_count": 75
        }
      ]
    },
    {
      "cell_type": "code",
      "metadata": {
        "colab": {
          "base_uri": "https://localhost:8080/"
        },
        "id": "4RJHYml0Rqan",
        "outputId": "d5da6712-9b95-4d04-92bd-52cdad088d25"
      },
      "source": [
        "train_pred = knn_reg.predict(X_train)  # train set의 예측값\n",
        "train_pred"
      ],
      "execution_count": 76,
      "outputs": [
        {
          "output_type": "execute_result",
          "data": {
            "text/plain": [
              "array([  88.6,  123. ,   79.6,   70.6,  723. ,  193. ,  847. ,  847. ,\n",
              "       1010. ,  123. ,   95. ,  123. ,  174. ,  248. , 1010. ,  847. ,\n",
              "        174. ,  113. ,  248. ,  847. ,  659. ,  224. ,  723. ,   60. ,\n",
              "        140. ,   60. ,  719. ,  694.2,  248. ,  167. ,  847. ,  113. ,\n",
              "        168. ,  123. , 1010. ,  136. ,   79.6,  719. ,  123. ,  193. ,\n",
              "        990. ,  659. ])"
            ]
          },
          "metadata": {},
          "execution_count": 76
        }
      ]
    },
    {
      "cell_type": "code",
      "metadata": {
        "colab": {
          "base_uri": "https://localhost:8080/"
        },
        "id": "QoGDeB2GSLQA",
        "outputId": "2334f05f-29b5-4061-eb19-d6cf90648068"
      },
      "source": [
        "y_train  # train set의 실젯값"
      ],
      "execution_count": 77,
      "outputs": [
        {
          "output_type": "execute_result",
          "data": {
            "text/plain": [
              "array([  85.,  135.,   78.,   70.,  700.,  180.,  850.,  820., 1000.,\n",
              "        120.,   85.,  130.,  225.,  260., 1100.,  900.,  145.,  115.,\n",
              "        265., 1015.,  514.,  218.,  685.,   32.,  145.,   40.,  690.,\n",
              "        840.,  300.,  170.,  650.,  110.,  150.,  110., 1000.,  150.,\n",
              "         80.,  700.,  120.,  197., 1100.,  556.])"
            ]
          },
          "metadata": {},
          "execution_count": 77
        }
      ]
    },
    {
      "cell_type": "code",
      "metadata": {
        "colab": {
          "base_uri": "https://localhost:8080/"
        },
        "id": "oYJ63VqMSVEB",
        "outputId": "86449c2d-35c4-4835-da38-fc73bb8022d7"
      },
      "source": [
        "# MSE(Mean Squared Errors): 오차 제곱의 평균\n",
        "# RMSE(Root Mean Squared Errors): 오차 제곱의 평균의 제곱근\n",
        "print('MSE:', mean_squared_error(y_train, train_pred))\n",
        "print('RMSE:', np.sqrt(mean_squared_error(y_train, train_pred)))"
      ],
      "execution_count": 78,
      "outputs": [
        {
          "output_type": "stream",
          "text": [
            "MSE: 3716.5161904761903\n",
            "RMSE: 60.96323638453089\n"
          ],
          "name": "stdout"
        }
      ]
    },
    {
      "cell_type": "code",
      "metadata": {
        "colab": {
          "base_uri": "https://localhost:8080/"
        },
        "id": "0VL6WxNlVAl6",
        "outputId": "9b6ad2cf-ebfa-44a7-8df9-6be6c46ab84d"
      },
      "source": [
        "# MAE(Mean Absolute Errors): 오차 절대값의 평균\n",
        "mean_absolute_error(y_train, train_pred)"
      ],
      "execution_count": 79,
      "outputs": [
        {
          "output_type": "execute_result",
          "data": {
            "text/plain": [
              "35.76190476190476"
            ]
          },
          "metadata": {},
          "execution_count": 79
        }
      ]
    },
    {
      "cell_type": "markdown",
      "metadata": {
        "id": "oqIV_R3aWwCe"
      },
      "source": [
        "일반적인 평가 지표는 점수가 높을 수록 좋은 모델, 점수가 낮을 수록 나쁜 모델.\n",
        "\n",
        "그런데, 회귀 문제에서는 오차는 작을 수록 좋은 모델이고, 오차가 클 수록 나쁜 모델.\n",
        "\n",
        "회귀에서도 점수가 높을 수록(1에 가까울 수록) 좋은 모델이고, 점수 낮을 수록 나쁜 모델로 평가할 수 있는 지표 개발 ---> $R^2$ score"
      ]
    },
    {
      "cell_type": "code",
      "metadata": {
        "colab": {
          "base_uri": "https://localhost:8080/"
        },
        "id": "VI-1bttvVR3S",
        "outputId": "11278c1a-b0f5-40bf-a703-84b3fcc8a12a"
      },
      "source": [
        "# R^2 score(결정 계수): 1에 가까울 수록 오차가 적은 모델, 더 좋은 모델.\n",
        "r2_score(y_train, train_pred)"
      ],
      "execution_count": 80,
      "outputs": [
        {
          "output_type": "execute_result",
          "data": {
            "text/plain": [
              "0.9698823289099254"
            ]
          },
          "metadata": {},
          "execution_count": 80
        }
      ]
    },
    {
      "cell_type": "markdown",
      "metadata": {
        "id": "mLCqrJ-Iaggb"
      },
      "source": [
        "\n",
        "* $ y_i $ : $i$번째 샘플의 실젯값(label)\n",
        "* $ \\hat{y_i} $ : $i$번째 샘플의 예측값\n",
        "* $ \\bar{y} $ : 타겟의 평균값\n",
        "* $ n $ : 샘플 개수\n",
        "\n",
        "* MAE(Mean Absolute Errors)\n",
        "$$\n",
        "MAE = \\frac{1}{n} \\sum_{i=1}^{n} \\lvert y_i - \\hat{y_i} \\rvert\n",
        "$$\n",
        "\n",
        "* MSE(Mean Squared Errors)\n",
        "$$\n",
        "MSE = \\frac{1}{n} \\sum_{i=1}^{n} ( y_i - \\hat{y_i} )^2\n",
        "$$\n",
        "\n",
        "* RMSE(Root Mean Squared Errors)\n",
        "$$\n",
        "RMSE = \\sqrt{ \\frac{1}{n} \\sum_{i=1}^{n} ( y_i - \\hat{y_i} )^2 }\n",
        "$$\n",
        "\n",
        "* $ R^2 $ score(Coefficient of determinant, 결정 계수)\n",
        "$$\n",
        "R^2 = 1 - \\dfrac{ \\sum_{i=1}^{n} (y_i - \\hat{y_i})^2 }\n",
        "                { \\sum_{i=1}^{n} (y_i - \\bar{y})^2 }\n",
        "$$\n",
        "    * 결정 계수는 최댓값이 1이 되도록 만든 평가 지표.\n",
        "    * 모델이 타겟을 오차없이 정확하게 예측하면, 실제값 - 예측값 = 0 이므로, 결정 계수는 최댓값 1이 됨.\n",
        "    * 모델이 타겟을 매우 비슷하게 예측하면, 오차가 매우 작으면 분자가 0에 가까운 값이 되므로, 결정 계수는 1보다는 작지만 1에 가까운 값이 됨.\n",
        "    * 모델이 타겟의 평균으로만 예측하는 정도라면, (분자) = (분모) 이므로, 결정 계수는 0이 됨.\n",
        "    * 모델이 타겟의 평균 정도도 예측하지 못하면(오차가 매우 크면), (분자) > (분모)일 수 있고, 그런 경우 결정 계수는 음수가 될 수 있음."
      ]
    },
    {
      "cell_type": "code",
      "metadata": {
        "colab": {
          "base_uri": "https://localhost:8080/"
        },
        "id": "IjYFCK27VdL5",
        "outputId": "1cdd96c0-9c45-45c9-d7a3-5d7a0020267a"
      },
      "source": [
        "# 테스트 셋의 결정 계수(R^2 score)\n",
        "test_pred = knn_reg.predict(X_test)\n",
        "r2_score(y_test, test_pred)\n",
        "#> train set R^2 < test set R^2: 과소적합(underfitting)"
      ],
      "execution_count": 81,
      "outputs": [
        {
          "output_type": "execute_result",
          "data": {
            "text/plain": [
              "0.992809406101064"
            ]
          },
          "metadata": {},
          "execution_count": 81
        }
      ]
    },
    {
      "cell_type": "markdown",
      "metadata": {
        "id": "jjsvVC1rj7DI"
      },
      "source": [
        "# k값에 따른 $R^2$ 시각화"
      ]
    },
    {
      "cell_type": "code",
      "metadata": {
        "id": "dGl5ZSMWjk8o"
      },
      "source": [
        "train_scores = []  # train set의 결정 계수들을 저장할 리스트\n",
        "test_scores = []  # test set의 결정 계수들을 저장할 리스트\n",
        "\n",
        "k_values = np.arange(1, 15)\n",
        "# 1 ~ 14까지 k값에 따라서 반복\n",
        "    # 모델 생성\n",
        "for k in range(1,15):\n",
        "  knn= KNeighborsRegressor(n_neighbors=k)\n",
        "    # 모델 훈련\n",
        "  knn.fit(X_train, y_train)\n",
        "    # 훈련 셋 평가 점수 계산, 저장\n",
        "  train_pred = knn.predict(X_train)\n",
        "  train_scores.append(r2_score(y_train, train_pred))\n",
        "  # 테스트 셋 평가 점수 계산, 저장\n",
        "  test_pred = knn.predict(X_test)\n",
        "  test_scores.append(r2_score(y_test, test_pred))\n",
        "# 평가 점수 시각화"
      ],
      "execution_count": 82,
      "outputs": []
    },
    {
      "cell_type": "code",
      "metadata": {
        "colab": {
          "base_uri": "https://localhost:8080/"
        },
        "id": "5g3wicMWk3Rl",
        "outputId": "4b3a19e4-189e-4399-8444-3e8b5007a520"
      },
      "source": [
        "k_values"
      ],
      "execution_count": 83,
      "outputs": [
        {
          "output_type": "execute_result",
          "data": {
            "text/plain": [
              "array([ 1,  2,  3,  4,  5,  6,  7,  8,  9, 10, 11, 12, 13, 14])"
            ]
          },
          "metadata": {},
          "execution_count": 83
        }
      ]
    },
    {
      "cell_type": "code",
      "metadata": {
        "id": "-new2UCYkU8s",
        "colab": {
          "base_uri": "https://localhost:8080/"
        },
        "outputId": "d50f5e4f-d733-4e8e-bd73-cee00a9d2cce"
      },
      "source": [
        "train_scores"
      ],
      "execution_count": 84,
      "outputs": [
        {
          "output_type": "execute_result",
          "data": {
            "text/plain": [
              "[0.9852830341215901,\n",
              " 0.9828437127041165,\n",
              " 0.9804899950518966,\n",
              " 0.978211389719245,\n",
              " 0.9698823289099254,\n",
              " 0.9757140960298665,\n",
              " 0.9761170732051527,\n",
              " 0.9697604397763201,\n",
              " 0.9693310367551284,\n",
              " 0.96164569026043,\n",
              " 0.9515761381539326,\n",
              " 0.9467103631225754,\n",
              " 0.9413423450130075,\n",
              " 0.9429470576557883]"
            ]
          },
          "metadata": {},
          "execution_count": 84
        }
      ]
    },
    {
      "cell_type": "code",
      "metadata": {
        "id": "o9GCGOpSkWVo",
        "colab": {
          "base_uri": "https://localhost:8080/"
        },
        "outputId": "22b9707e-d00b-4cf4-de97-555975672525"
      },
      "source": [
        "test_scores"
      ],
      "execution_count": 85,
      "outputs": [
        {
          "output_type": "execute_result",
          "data": {
            "text/plain": [
              "[0.991309195814175,\n",
              " 0.9725010241788556,\n",
              " 0.9746459963987609,\n",
              " 0.9840231023848637,\n",
              " 0.992809406101064,\n",
              " 0.9855001139899048,\n",
              " 0.9781383949643516,\n",
              " 0.9780541148735824,\n",
              " 0.9692647749722698,\n",
              " 0.9737908255822255,\n",
              " 0.970279643030474,\n",
              " 0.967703620310643,\n",
              " 0.9639044643206888,\n",
              " 0.9615046463124021]"
            ]
          },
          "metadata": {},
          "execution_count": 85
        }
      ]
    },
    {
      "cell_type": "code",
      "metadata": {
        "colab": {
          "base_uri": "https://localhost:8080/",
          "height": 279
        },
        "id": "oYOHi1z7vVIo",
        "outputId": "5a1a0610-69c5-4090-c141-86af7ee07750"
      },
      "source": [
        "plt.plot(k_values,train_scores,'bo-',label='Train score')\n",
        "plt.plot(k_values,test_scores,'ro:', label='Test score')\n",
        "plt.grid()\n",
        "plt.xlabel('k')\n",
        "plt.ylabel('R^2 score')\n",
        "plt.legend()\n",
        "plt.show()"
      ],
      "execution_count": 86,
      "outputs": [
        {
          "output_type": "display_data",
          "data": {
            "image/png": "[encoded data removed]",
            "text/plain": [
              "<Figure size 432x288 with 1 Axes>"
            ]
          },
          "metadata": {
            "needs_background": "light"
          }
        }
      ]
    }
  ]
}